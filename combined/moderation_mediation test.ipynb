{
 "cells": [
  {
   "cell_type": "markdown",
   "id": "d8bd8ca1",
   "metadata": {},
   "source": [
    "## Prep"
   ]
  },
  {
   "cell_type": "code",
   "execution_count": null,
   "id": "d1ff5a90",
   "metadata": {},
   "outputs": [],
   "source": [
    "import pandas as pd\n",
    "import numpy as np\n",
    "import matplotlib.pyplot as plt\n",
    "import random\n",
    "import seaborn as sns\n",
    "\n",
    "import statsmodels.api as sm\n",
    "from scipy import stats\n",
    "import statsmodels.tools as tools\n",
    "from scipy.stats import bootstrap\n",
    "\n",
    "\n",
    "import warnings\n",
    "warnings.filterwarnings('ignore')\n",
    "\n",
    "pd.set_option('max_columns', None)\n",
    "pd.set_option('max_rows', 100)\n",
    "\n",
    "# Set a seed for NumPy\n",
    "np.random.seed(0)\n",
    "\n",
    "# Set a seed for Python's built-in random module\n",
    "random.seed(0)"
   ]
  },
  {
   "cell_type": "markdown",
   "id": "a30358e0",
   "metadata": {},
   "source": [
    "### Raw data"
   ]
  },
  {
   "cell_type": "code",
   "execution_count": null,
   "id": "9d6fcc45",
   "metadata": {},
   "outputs": [],
   "source": [
    "mesa_raw = pd.read_csv('../mesa/data_processed/Y_BaselineX_raw_full.csv')\n",
    "\n",
    "mesa_raw = mesa_raw.rename(columns = {'cvda': 'Y_tot', \n",
    "                                     'F1_PC2': 'nSES',\n",
    "                                    'S1FAV': 'nFavFood',\n",
    "                                    'S1PAI': 'nPhysFac', \n",
    "                                    'G_bla_rk': 'nRS', \n",
    "                                    'chdiet': 'nutrition', \n",
    "                                    'chphysact': 'PhysAct',\n",
    "                                    'income': 'FamIncome',\n",
    "                                    'cig':'currentSmoker',\n",
    "                                    'cural':'alc',\n",
    "                                      'diabet': 'Diabetes',\n",
    "                                      'chol':'totchol'})\n",
    "\n",
    "diet_phys_map = {0:1, 1:2, 2:3}\n",
    "mesa_raw['nutrition'] = mesa_raw['nutrition'].replace(diet_phys_map)\n",
    "mesa_raw['PhysAct'] = mesa_raw['PhysAct'].replace(diet_phys_map)\n",
    "\n",
    "mesa = mesa_raw.copy()\n",
    "mesa = mesa.dropna()\n",
    "\n",
    "mesa_bla = mesa[mesa['race'] == 3]\n"
   ]
  },
  {
   "cell_type": "code",
   "execution_count": null,
   "id": "0bd7715f",
   "metadata": {},
   "outputs": [],
   "source": [
    "jhs_outcome_full = pd.read_csv('../jhs/data/processed/jhs_cox_base.csv')\n",
    "jhs_outcome = jhs_outcome_full[['subjid','event','time']].copy()\n",
    "\n",
    "jhs_covar = pd.read_csv('../jhs/data/processed/jhs_raw_full.csv')\n",
    "jhs_covar = jhs_covar[jhs_covar['visit'] == 1]\n",
    "\n",
    "jhs_raw = pd.merge(jhs_outcome, jhs_covar, on=['subjid'], how='left')\n",
    "\n",
    "jhs_raw = jhs_raw.drop(jhs_raw.columns[4], axis=1)\n",
    "\n",
    "jhs_raw = jhs_raw.rename(columns = {'event': 'Y_tot', \n",
    "                             'nbSESpc2score': 'nSES',\n",
    "                            'S1FAV': 'nFavFood',\n",
    "                            'S1PAI': 'nPhysFac', \n",
    "                            'G_bla_rk': 'nRS', \n",
    "                            'nutrition3cat': 'nutrition', \n",
    "                            'PA3cat': 'PhysAct',\n",
    "                            'fmlyinc': 'FamIncome'})\n",
    "jhs_raw['nutrition'] = jhs_raw['nutrition'].replace(diet_phys_map)\n",
    "jhs_raw['PhysAct'] = jhs_raw['PhysAct'].replace(diet_phys_map)\n",
    "\n",
    "jhs = jhs_raw.copy()\n",
    "jhs = jhs.dropna()"
   ]
  },
  {
   "cell_type": "markdown",
   "id": "1df75dd4",
   "metadata": {},
   "source": [
    "### Raw data with missing imputed "
   ]
  },
  {
   "cell_type": "code",
   "execution_count": null,
   "id": "94a7149b",
   "metadata": {},
   "outputs": [],
   "source": [
    "def fillna_cat(df,cat_feat):\n",
    "    for feat in cat_feat:\n",
    "        df[feat].fillna(df[feat].mode()[0], inplace=True)\n",
    "    return df\n",
    "\n",
    "def fillna_cont(df,cont_feat):\n",
    "    df= df.fillna((df[cont_feat].mean()))\n",
    "    return df\n",
    "\n",
    "cat_feat = ['FamIncome', 'nutrition', 'PhysAct',\n",
    "           'currentSmoker','alc','Diabetes']\n",
    "cont_feat = ['nSES','nFavFood','nPhysFac', 'nRS',\n",
    "           'hdl','totchol','sbp']"
   ]
  },
  {
   "cell_type": "code",
   "execution_count": null,
   "id": "fd4ef2e6",
   "metadata": {},
   "outputs": [],
   "source": [
    "mesa = fillna_cat(mesa_raw,cat_feat)  \n",
    "mesa = fillna_cat(mesa_raw,cont_feat)  \n",
    "\n",
    "mesa_bla = mesa[mesa['race'] == 3]"
   ]
  },
  {
   "cell_type": "code",
   "execution_count": null,
   "id": "f38bc169",
   "metadata": {},
   "outputs": [],
   "source": [
    "jhs = fillna_cat(jhs_raw,cat_feat)  \n",
    "jhs = fillna_cat(jhs_raw,cont_feat)  "
   ]
  },
  {
   "cell_type": "markdown",
   "id": "ca3d6044",
   "metadata": {},
   "source": [
    "### Processed data"
   ]
  },
  {
   "cell_type": "code",
   "execution_count": null,
   "id": "9146c744",
   "metadata": {},
   "outputs": [],
   "source": [
    "mesa = pd.read_csv('../mesa/data_processed/Y_BaselineX_processed_full.csv')\n",
    "\n",
    "mesa = mesa.rename(columns = {'cvda': 'Y_tot', \n",
    "                             'F1_PC2': 'nSES',\n",
    "                            'S1FAV': 'nFavFood',\n",
    "                            'S1PAI': 'nPhysFac', \n",
    "                            'G_bla_rk': 'nRS', \n",
    "                            'chdiet': 'nutrition', \n",
    "                            'chphysact': 'PhysAct',\n",
    "                            'income': 'FamIncome',\n",
    "                             'cig':'currentSmoker',\n",
    "                            'cural':'alc',\n",
    "                              'diabet': 'Diabetes',\n",
    "                              'chol':'totchol'})\n",
    "\n",
    "diet_phys_map = {0:1, 1:2, 2:3}\n",
    "mesa['nutrition'] = mesa['nutrition'].replace(diet_phys_map)\n",
    "mesa['PhysAct'] = mesa['PhysAct'].replace(diet_phys_map)\n",
    "\n",
    "mesa_bla = mesa[mesa['race'] == 3]"
   ]
  },
  {
   "cell_type": "code",
   "execution_count": null,
   "id": "dc1f56ce",
   "metadata": {},
   "outputs": [],
   "source": [
    "jhs = pd.read_csv('../jhs/data/processed/jhs_cox_base.csv')\n",
    "jhs = jhs.drop(\"nSES\", axis=1)\n",
    "\n",
    "jhs = jhs.rename(columns = {'event': 'Y_tot', \n",
    "                             'nbSESpc2score': 'nSES',\n",
    "                            'S1FAV': 'nFavFood',\n",
    "                            'S1PAI': 'nPhysFac', \n",
    "                            'G_bla_rk': 'nRS', \n",
    "                            'nutrition3cat': 'nutrition', \n",
    "                            'PA3cat': 'PhysAct',\n",
    "                            'fmlyinc': 'FamIncome'})\n",
    "\n",
    "jhs['nutrition'] = jhs['nutrition'].replace(diet_phys_map)\n",
    "jhs['PhysAct'] = jhs['PhysAct'].replace(diet_phys_map)"
   ]
  },
  {
   "cell_type": "markdown",
   "id": "d528148e",
   "metadata": {},
   "source": [
    "## Moderation test"
   ]
  },
  {
   "cell_type": "markdown",
   "id": "b4e58d26",
   "metadata": {},
   "source": [
    "### Mesa"
   ]
  },
  {
   "cell_type": "code",
   "execution_count": null,
   "id": "15bc61f7",
   "metadata": {},
   "outputs": [],
   "source": [
    "y = mesa['Y_tot']\n",
    "\n",
    "X = mesa[['nSES','nFavFood','nPhysFac', 'nRS',\n",
    "          'FamIncome','nutrition', 'PhysAct',\n",
    "          'age','gender','race','currentSmoker','alc','Diabetes','hdl','totchol','sbp']]\n",
    "\n",
    "X = pd.get_dummies(X, columns=['gender','race','currentSmoker','alc','Diabetes'], \n",
    "                    drop_first=True)\n",
    "\n",
    "X1 = X.copy()\n",
    "X2 = X.copy()\n",
    "X3 = X.copy()\n",
    "X4 = X.copy()\n",
    "X5 = X.copy()\n",
    "X6 = X.copy()\n",
    "\n",
    "X1['nSES_FamIncome'] = X['nSES'] * X['FamIncome']\n",
    "X2['nFavFood_FamIncome'] = X['nFavFood'] * X['FamIncome']\n",
    "X3['nPhysFac_FamIncome'] = X['nPhysFac'] * X['FamIncome']\n",
    "X4['nRS_FamIncome'] = X['nRS'] * X['FamIncome']\n",
    "X5['nFavFood_nutrition'] = X['nFavFood'] * X['nutrition']\n",
    "X6['nPhysFac_PhysAct'] = X['nPhysFac'] * X['PhysAct']"
   ]
  },
  {
   "cell_type": "code",
   "execution_count": null,
   "id": "fc0d2a4c",
   "metadata": {},
   "outputs": [],
   "source": [
    "logistic_model_with_moderation = sm.Logit(y, sm.add_constant(X6)).fit()\n",
    "print(logistic_model_with_moderation.summary())"
   ]
  },
  {
   "cell_type": "code",
   "execution_count": null,
   "id": "4cd9336c",
   "metadata": {},
   "outputs": [],
   "source": []
  },
  {
   "cell_type": "markdown",
   "id": "fdb53454",
   "metadata": {},
   "source": [
    "### MESA BLACK"
   ]
  },
  {
   "cell_type": "code",
   "execution_count": null,
   "id": "7da8cdf9",
   "metadata": {},
   "outputs": [],
   "source": [
    "y = mesa_bla['Y_tot']\n",
    "\n",
    "X = mesa_bla[['nSES','nFavFood','nPhysFac', 'nRS',\n",
    "          'FamIncome','nutrition', 'PhysAct',\n",
    "          'age','gender','race','currentSmoker','alc','Diabetes','hdl','totchol','sbp']]\n",
    "\n",
    "X = pd.get_dummies(X, columns=['gender','race','currentSmoker','alc','Diabetes'], \n",
    "                    drop_first=True)\n",
    "\n",
    "X1 = X.copy()\n",
    "X2 = X.copy()\n",
    "X3 = X.copy()\n",
    "X4 = X.copy()\n",
    "X5 = X.copy()\n",
    "X6 = X.copy()\n",
    "\n",
    "X1['nSES_FamIncome'] = X['nSES'] * X['FamIncome']\n",
    "X2['nFavFood_FamIncome'] = X['nFavFood'] * X['FamIncome']\n",
    "X3['nPhysFac_FamIncome'] = X['nPhysFac'] * X['FamIncome']\n",
    "X4['nRS_FamIncome'] = X['nRS'] * X['FamIncome']\n",
    "X5['nFavFood_nutrition'] = X['nFavFood'] * X['nutrition']\n",
    "X6['nPhysFac_PhysAct'] = X['nPhysFac'] * X['PhysAct']"
   ]
  },
  {
   "cell_type": "code",
   "execution_count": null,
   "id": "34f6fc08",
   "metadata": {},
   "outputs": [],
   "source": [
    "logistic_model_with_moderation = sm.Logit(y, sm.add_constant(X6)).fit()\n",
    "print(logistic_model_with_moderation.summary())"
   ]
  },
  {
   "cell_type": "markdown",
   "id": "ee7ddc1f",
   "metadata": {},
   "source": [
    "### JHS"
   ]
  },
  {
   "cell_type": "code",
   "execution_count": null,
   "id": "390e1714",
   "metadata": {},
   "outputs": [],
   "source": [
    "y = jhs['Y_tot']\n",
    "\n",
    "X = jhs[['nSES','nFavFood','nPhysFac', 'nRS',\n",
    "          'FamIncome','nutrition', 'PhysAct',\n",
    "          'age','gender','currentSmoker','alc','Diabetes','hdl','totchol','sbp']]\n",
    "X = pd.get_dummies(X, columns=['gender','currentSmoker','alc','Diabetes'], \n",
    "                    drop_first=True)\n",
    "\n",
    "X1 = X.copy()\n",
    "X2 = X.copy()\n",
    "X3 = X.copy()\n",
    "X4 = X.copy()\n",
    "X5 = X.copy()\n",
    "X6 = X.copy()\n",
    "\n",
    "X1['nSES_FamIncome'] = X['nSES'] * X['FamIncome']\n",
    "X2['nFavFood_FamIncome'] = X['nFavFood'] * X['FamIncome']\n",
    "X3['nPhysFac_FamIncome'] = X['nPhysFac'] * X['FamIncome']\n",
    "X4['nRS_FamIncome'] = X['nRS'] * X['FamIncome']\n",
    "X5['nFavFood_nutrition'] = X['nFavFood'] * X['nutrition']\n",
    "X6['nPhysFac_PhysAct'] = X['nPhysFac'] * X['PhysAct']"
   ]
  },
  {
   "cell_type": "code",
   "execution_count": null,
   "id": "4d4e69ef",
   "metadata": {},
   "outputs": [],
   "source": [
    "logistic_model_with_moderation = sm.Logit(y, sm.add_constant(X6)).fit()\n",
    "print(logistic_model_with_moderation.summary())"
   ]
  },
  {
   "cell_type": "code",
   "execution_count": null,
   "id": "a0684b86",
   "metadata": {},
   "outputs": [],
   "source": []
  },
  {
   "cell_type": "markdown",
   "id": "33afc9e9",
   "metadata": {},
   "source": [
    "## Mediation Test"
   ]
  },
  {
   "cell_type": "code",
   "execution_count": null,
   "id": "77c6fdb4",
   "metadata": {},
   "outputs": [],
   "source": [
    "df = mesa_bla\n",
    "Y = 'Y_tot'\n",
    "X = 'nSES'\n",
    "M = 'FamIncome'"
   ]
  },
  {
   "cell_type": "code",
   "execution_count": null,
   "id": "8d258c78",
   "metadata": {},
   "outputs": [],
   "source": [
    "### estimate the indirect effect on original sample\n",
    "\n",
    "# Step 1: Regression of M on X\n",
    "model_mediator = sm.OLS(df[M], sm.add_constant(df[X])).fit()\n",
    "\n",
    "# Step 2: Regression of Y on X; total effect\n",
    "model_outcome = sm.Logit(df[Y], sm.add_constant(df[X])).fit(disp=0)\n",
    "\n",
    "# Step 3: Regression of Y on both X and M\n",
    "model_combined = sm.Logit(df[Y], sm.add_constant(df[[X, M]])).fit(disp=0)\n",
    "\n",
    "# Calculate the indirect effect for the original sample\n",
    "indirect_effect_original = model_combined.params[M] * model_outcome.params[X]\n",
    "\n",
    "\n",
    "### estimate CI using bootstrapping\n",
    "\n",
    "num_bootstrap_samples = 1000\n",
    "bootstrap_results = []\n",
    "\n",
    "for _ in range(num_bootstrap_samples):\n",
    "    # Step 1: Draw a bootstrap sample\n",
    "    bootstrap_sample = df.sample(frac=1, replace=True)\n",
    "\n",
    "    # Step 2: Regression of M on X\n",
    "    model_mediator = sm.OLS(bootstrap_sample[M], sm.add_constant(bootstrap_sample[X])).fit()\n",
    "\n",
    "    # Step 3: Regression of Y on X\n",
    "    model_outcome = sm.Logit(bootstrap_sample[Y], sm.add_constant(bootstrap_sample[X])).fit(disp=0)\n",
    "\n",
    "    # Step 4: Regression of Y on both X and M\n",
    "    model_combined = sm.Logit(bootstrap_sample[Y], sm.add_constant(bootstrap_sample[[X, M]])).fit(disp=0)\n",
    "\n",
    "    # Calculate the indirect effect for this bootstrap sample\n",
    "    indirect_effect_bootstrap = model_combined.params[M] * model_outcome.params[X]\n",
    "    \n",
    "    # Store the result\n",
    "    bootstrap_results.append(indirect_effect_bootstrap)\n",
    "\n",
    "# Calculate the confidence interval\n",
    "ci_lower = round(np.percentile(bootstrap_results, 2.5),4)\n",
    "ci_upper = round(np.percentile(bootstrap_results, 97.5),4)\n",
    "\n",
    "\n",
    "### report result\n",
    "\n",
    "# Print results\n",
    "print(\"Step 1 - Coefficient for X in M model:\", round(model_mediator.params[X],4), \n",
    "      \"p-value:\", round(model_mediator.pvalues[X],4))\n",
    "\n",
    "print(\"Step 2 - Coefficient for X in Y model:\", round(model_outcome.params[X],4), \n",
    "      \"p-value:\", round(model_outcome.pvalues[X],4))\n",
    "\n",
    "print(\"Step 3 - Coefficient for M in Y model (controlling for X):\", round(model_combined.params[M],4), \n",
    "      \"p-value:\", round(model_combined.pvalues[M],4))\n",
    "\n",
    "print(\"\\nIndirect Effect (original sample):\", round(indirect_effect_original,4))\n",
    "print(\"Bootstrapped 95% Confidence Interval:\", (ci_lower, ci_upper))"
   ]
  },
  {
   "cell_type": "code",
   "execution_count": null,
   "id": "af69389f",
   "metadata": {},
   "outputs": [],
   "source": [
    "# model_mediator = sm.Logit(df[Y], sm.add_constant(df[X])).fit()\n"
   ]
  }
 ],
 "metadata": {
  "kernelspec": {
   "display_name": "Python 3",
   "language": "python",
   "name": "python3"
  },
  "language_info": {
   "codemirror_mode": {
    "name": "ipython",
    "version": 3
   },
   "file_extension": ".py",
   "mimetype": "text/x-python",
   "name": "python",
   "nbconvert_exporter": "python",
   "pygments_lexer": "ipython3",
   "version": "3.8.3"
  }
 },
 "nbformat": 4,
 "nbformat_minor": 5
}
