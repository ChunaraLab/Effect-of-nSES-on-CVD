{
 "cells": [
  {
   "cell_type": "markdown",
   "id": "369427e9",
   "metadata": {},
   "source": [
    "## Prep"
   ]
  },
  {
   "cell_type": "code",
   "execution_count": null,
   "id": "2e786abb",
   "metadata": {},
   "outputs": [],
   "source": [
    "import pandas as pd\n",
    "import numpy as np\n",
    "import matplotlib.pyplot as plt\n",
    "import random\n",
    "import seaborn as sns\n",
    "\n",
    "import statsmodels.api as sm\n",
    "from scipy import stats\n",
    "import statsmodels.tools as tools\n",
    "\n",
    "import warnings\n",
    "warnings.filterwarnings('ignore')\n",
    "\n",
    "pd.set_option('max_columns', None)\n",
    "pd.set_option('max_rows', 100)"
   ]
  },
  {
   "cell_type": "markdown",
   "id": "4d5ca83b",
   "metadata": {},
   "source": [
    "### Raw data"
   ]
  },
  {
   "cell_type": "code",
   "execution_count": null,
   "id": "aa92a608",
   "metadata": {},
   "outputs": [],
   "source": [
    "mesa_raw = pd.read_csv('../mesa/data_processed/Y_BaselineX_raw_full.csv')\n",
    "\n",
    "mesa_raw = mesa_raw.rename(columns = {'cvda': 'Y_tot', \n",
    "                                     'F1_PC2': 'nSES',\n",
    "                                    'S1FAV': 'nFavFood',\n",
    "                                    'S1PAI': 'nPhysFac', \n",
    "                                    'G_bla_rk': 'nRS', \n",
    "                                    'chdiet': 'nutrition', \n",
    "                                    'chphysact': 'PhysAct',\n",
    "                                    'income': 'FamIncome',\n",
    "                                    'cig':'currentSmoker',\n",
    "                                    'cural':'alc',\n",
    "                                      'diabet': 'Diabetes',\n",
    "                                      'chol':'totchol'})\n",
    "\n",
    "diet_phys_map = {0:1, 1:2, 2:3}\n",
    "mesa_raw['nutrition'] = mesa_raw['nutrition'].replace(diet_phys_map)\n",
    "mesa_raw['PhysAct'] = mesa_raw['PhysAct'].replace(diet_phys_map)\n",
    "\n",
    "mesa = mesa_raw.copy()\n",
    "mesa = mesa.dropna()\n",
    "\n",
    "mesa_bla = mesa[mesa['race'] == 3]\n"
   ]
  },
  {
   "cell_type": "code",
   "execution_count": null,
   "id": "3278bc10",
   "metadata": {},
   "outputs": [],
   "source": [
    "jhs_outcome_full = pd.read_csv('../jhs/data/processed/jhs_cox_base.csv')\n",
    "jhs_outcome = jhs_outcome_full[['subjid','event','time']].copy()\n",
    "\n",
    "jhs_covar = pd.read_csv('../jhs/data/processed/jhs_raw_full.csv')\n",
    "jhs_covar = jhs_covar[jhs_covar['visit'] == 1]\n",
    "\n",
    "jhs_raw = pd.merge(jhs_outcome, jhs_covar, on=['subjid'], how='left')\n",
    "\n",
    "jhs_raw = jhs_raw.drop(jhs_raw.columns[4], axis=1)\n",
    "\n",
    "jhs_raw = jhs_raw.rename(columns = {'event': 'Y_tot', \n",
    "                             'nbSESpc2score': 'nSES',\n",
    "                            'S1FAV': 'nFavFood',\n",
    "                            'S1PAI': 'nPhysFac', \n",
    "                            'G_bla_rk': 'nRS', \n",
    "                            'nutrition3cat': 'nutrition', \n",
    "                            'PA3cat': 'PhysAct',\n",
    "                            'fmlyinc': 'FamIncome'})\n",
    "jhs_raw['nutrition'] = jhs_raw['nutrition'].replace(diet_phys_map)\n",
    "jhs_raw['PhysAct'] = jhs_raw['PhysAct'].replace(diet_phys_map)\n",
    "\n",
    "jhs = jhs_raw.copy()\n",
    "jhs = jhs.dropna()"
   ]
  },
  {
   "cell_type": "markdown",
   "id": "9317d6e9",
   "metadata": {},
   "source": [
    "### Raw data with missing imputed "
   ]
  },
  {
   "cell_type": "code",
   "execution_count": null,
   "id": "a0ac87d8",
   "metadata": {},
   "outputs": [],
   "source": [
    "def fillna_cat(df,cat_feat):\n",
    "    for feat in cat_feat:\n",
    "        df[feat].fillna(df[feat].mode()[0], inplace=True)\n",
    "    return df\n",
    "\n",
    "def fillna_cont(df,cont_feat):\n",
    "    df= df.fillna((df[cont_feat].mean()))\n",
    "    return df\n",
    "\n",
    "cat_feat = ['FamIncome', 'nutrition', 'PhysAct',\n",
    "           'currentSmoker','alc','Diabetes']\n",
    "cont_feat = ['nSES','nFavFood','nPhysFac', 'nRS',\n",
    "           'hdl','totchol','sbp']"
   ]
  },
  {
   "cell_type": "code",
   "execution_count": null,
   "id": "4fa3be28",
   "metadata": {},
   "outputs": [],
   "source": [
    "mesa = fillna_cat(mesa_raw,cat_feat)  \n",
    "mesa = fillna_cat(mesa_raw,cont_feat)  \n",
    "\n",
    "mesa_bla = mesa[mesa['race'] == 3]"
   ]
  },
  {
   "cell_type": "code",
   "execution_count": null,
   "id": "a12319dd",
   "metadata": {},
   "outputs": [],
   "source": [
    "jhs = fillna_cat(jhs_raw,cat_feat)  \n",
    "jhs = fillna_cat(jhs_raw,cont_feat)  "
   ]
  },
  {
   "cell_type": "markdown",
   "id": "453d334c",
   "metadata": {},
   "source": [
    "### Processed data"
   ]
  },
  {
   "cell_type": "code",
   "execution_count": null,
   "id": "b24ba21d",
   "metadata": {},
   "outputs": [],
   "source": [
    "mesa = pd.read_csv('../mesa/data_processed/Y_BaselineX_processed_full.csv')\n",
    "\n",
    "mesa = mesa.rename(columns = {'cvda': 'Y_tot', \n",
    "                             'F1_PC2': 'nSES',\n",
    "                            'S1FAV': 'nFavFood',\n",
    "                            'S1PAI': 'nPhysFac', \n",
    "                            'G_bla_rk': 'nRS', \n",
    "                            'chdiet': 'nutrition', \n",
    "                            'chphysact': 'PhysAct',\n",
    "                            'income': 'FamIncome',\n",
    "                             'cig':'currentSmoker',\n",
    "                            'cural':'alc',\n",
    "                              'diabet': 'Diabetes',\n",
    "                              'chol':'totchol'})\n",
    "\n",
    "diet_phys_map = {0:1, 1:2, 2:3}\n",
    "mesa['nutrition'] = mesa['nutrition'].replace(diet_phys_map)\n",
    "mesa['PhysAct'] = mesa['PhysAct'].replace(diet_phys_map)\n",
    "\n",
    "mesa_bla = mesa[mesa['race'] == 3]"
   ]
  },
  {
   "cell_type": "code",
   "execution_count": null,
   "id": "aae5c044",
   "metadata": {},
   "outputs": [],
   "source": [
    "jhs = pd.read_csv('../jhs/data/processed/jhs_cox_base.csv')\n",
    "jhs = jhs.drop(\"nSES\", axis=1)\n",
    "\n",
    "jhs = jhs.rename(columns = {'event': 'Y_tot', \n",
    "                             'nbSESpc2score': 'nSES',\n",
    "                            'S1FAV': 'nFavFood',\n",
    "                            'S1PAI': 'nPhysFac', \n",
    "                            'G_bla_rk': 'nRS', \n",
    "                            'nutrition3cat': 'nutrition', \n",
    "                            'PA3cat': 'PhysAct',\n",
    "                            'fmlyinc': 'FamIncome'})\n",
    "\n",
    "jhs['nutrition'] = jhs['nutrition'].replace(diet_phys_map)\n",
    "jhs['PhysAct'] = jhs['PhysAct'].replace(diet_phys_map)"
   ]
  },
  {
   "cell_type": "markdown",
   "id": "aac1a9d7",
   "metadata": {},
   "source": [
    "## Mesa"
   ]
  },
  {
   "cell_type": "code",
   "execution_count": null,
   "id": "5db04ca5",
   "metadata": {},
   "outputs": [],
   "source": [
    "y = mesa['Y_tot']\n",
    "\n",
    "X = mesa[['nSES','nFavFood','nPhysFac', 'nRS',\n",
    "          'FamIncome','nutrition', 'PhysAct',\n",
    "          'age','gender','race','currentSmoker','alc','Diabetes','hdl','totchol','sbp']]\n",
    "\n",
    "X = pd.get_dummies(X, columns=['gender','race','currentSmoker','alc','Diabetes'], \n",
    "                    drop_first=True)\n",
    "\n",
    "X1 = X.copy()\n",
    "X2 = X.copy()\n",
    "X3 = X.copy()\n",
    "X4 = X.copy()\n",
    "X5 = X.copy()\n",
    "X6 = X.copy()\n",
    "\n",
    "X1['nSES_FamIncome'] = X['nSES'] * X['FamIncome']\n",
    "X2['nFavFood_FamIncome'] = X['nFavFood'] * X['FamIncome']\n",
    "X3['nPhysFac_FamIncome'] = X['nPhysFac'] * X['FamIncome']\n",
    "X4['nRS_FamIncome'] = X['nRS'] * X['FamIncome']\n",
    "X5['nFavFood_nutrition'] = X['nFavFood'] * X['nutrition']\n",
    "X6['nPhysFac_PhysAct'] = X['nPhysFac'] * X['PhysAct']"
   ]
  },
  {
   "cell_type": "code",
   "execution_count": null,
   "id": "64bc4660",
   "metadata": {},
   "outputs": [],
   "source": [
    "logistic_model_with_moderation = sm.Logit(y, sm.add_constant(X6)).fit()\n",
    "print(logistic_model_with_moderation.summary())"
   ]
  },
  {
   "cell_type": "code",
   "execution_count": null,
   "id": "8b8ca96e",
   "metadata": {},
   "outputs": [],
   "source": []
  },
  {
   "cell_type": "markdown",
   "id": "ae52f725",
   "metadata": {},
   "source": [
    "## MESA BLACK"
   ]
  },
  {
   "cell_type": "code",
   "execution_count": null,
   "id": "bcf3bce5",
   "metadata": {},
   "outputs": [],
   "source": [
    "y = mesa_bla['Y_tot']\n",
    "\n",
    "X = mesa_bla[['nSES','nFavFood','nPhysFac', 'nRS',\n",
    "          'FamIncome','nutrition', 'PhysAct',\n",
    "          'age','gender','race','currentSmoker','alc','Diabetes','hdl','totchol','sbp']]\n",
    "\n",
    "X = pd.get_dummies(X, columns=['gender','race','currentSmoker','alc','Diabetes'], \n",
    "                    drop_first=True)\n",
    "\n",
    "X1 = X.copy()\n",
    "X2 = X.copy()\n",
    "X3 = X.copy()\n",
    "X4 = X.copy()\n",
    "X5 = X.copy()\n",
    "X6 = X.copy()\n",
    "\n",
    "X1['nSES_FamIncome'] = X['nSES'] * X['FamIncome']\n",
    "X2['nFavFood_FamIncome'] = X['nFavFood'] * X['FamIncome']\n",
    "X3['nPhysFac_FamIncome'] = X['nPhysFac'] * X['FamIncome']\n",
    "X4['nRS_FamIncome'] = X['nRS'] * X['FamIncome']\n",
    "X5['nFavFood_nutrition'] = X['nFavFood'] * X['nutrition']\n",
    "X6['nPhysFac_PhysAct'] = X['nPhysFac'] * X['PhysAct']"
   ]
  },
  {
   "cell_type": "code",
   "execution_count": null,
   "id": "833f9d9c",
   "metadata": {},
   "outputs": [],
   "source": [
    "logistic_model_with_moderation = sm.Logit(y, sm.add_constant(X6)).fit()\n",
    "print(logistic_model_with_moderation.summary())"
   ]
  },
  {
   "cell_type": "markdown",
   "id": "68f787f0",
   "metadata": {},
   "source": [
    "## JHS"
   ]
  },
  {
   "cell_type": "code",
   "execution_count": null,
   "id": "15f77857",
   "metadata": {},
   "outputs": [],
   "source": [
    "y = jhs['Y_tot']\n",
    "\n",
    "X = jhs[['nSES','nFavFood','nPhysFac', 'nRS',\n",
    "          'FamIncome','nutrition', 'PhysAct',\n",
    "          'age','gender','currentSmoker','alc','Diabetes','hdl','totchol','sbp']]\n",
    "X = pd.get_dummies(X, columns=['gender','currentSmoker','alc','Diabetes'], \n",
    "                    drop_first=True)\n",
    "\n",
    "X1 = X.copy()\n",
    "X2 = X.copy()\n",
    "X3 = X.copy()\n",
    "X4 = X.copy()\n",
    "X5 = X.copy()\n",
    "X6 = X.copy()\n",
    "\n",
    "X1['nSES_FamIncome'] = X['nSES'] * X['FamIncome']\n",
    "X2['nFavFood_FamIncome'] = X['nFavFood'] * X['FamIncome']\n",
    "X3['nPhysFac_FamIncome'] = X['nPhysFac'] * X['FamIncome']\n",
    "X4['nRS_FamIncome'] = X['nRS'] * X['FamIncome']\n",
    "X5['nFavFood_nutrition'] = X['nFavFood'] * X['nutrition']\n",
    "X6['nPhysFac_PhysAct'] = X['nPhysFac'] * X['PhysAct']"
   ]
  },
  {
   "cell_type": "code",
   "execution_count": null,
   "id": "84daa3c0",
   "metadata": {},
   "outputs": [],
   "source": [
    "logistic_model_with_moderation = sm.Logit(y, sm.add_constant(X6)).fit()\n",
    "print(logistic_model_with_moderation.summary())"
   ]
  },
  {
   "cell_type": "code",
   "execution_count": null,
   "id": "26892b1e",
   "metadata": {},
   "outputs": [],
   "source": []
  },
  {
   "cell_type": "markdown",
   "id": "fe55c25f",
   "metadata": {},
   "source": [
    "## Mediation Test"
   ]
  },
  {
   "cell_type": "markdown",
   "id": "ce005bac",
   "metadata": {},
   "source": [
    "on the significant moderation interactions:\n",
    "    MESA_Black: n_Phys_Fac*FamIncome, RS*FamIncome, n_Fav_Food*nutrition\n",
    "    JHS: n_Phys_Fac*physical_act"
   ]
  },
  {
   "cell_type": "code",
   "execution_count": null,
   "id": "6e55fe23",
   "metadata": {
    "scrolled": true
   },
   "outputs": [],
   "source": [
    "# Step 1: Y ~ X\n",
    "model_Y_tot = sm.Logit(jhs['Y_tot'], sm.add_constant(jhs['nPhysFac'])).fit()\n",
    "\n",
    "# Step 2: Mediator ~ X\n",
    "model_PhysAct = sm.OLS(jhs['PhysAct'], sm.add_constant(jhs['nPhysFac'])).fit()\n",
    "\n",
    "# Step 3: Y ~ X + Mediator\n",
    "model_combined = sm.Logit(jhs['Y_tot'], sm.add_constant(jhs[['nPhysFac', 'PhysAct']])).fit()\n",
    "\n",
    "# Step 4: Calculate the indirect effect and its confidence interval\n",
    "indirect_effect = model_combined.params['PhysAct'] * model_Y_tot.params['nPhysFac']\n",
    "indirect_effect_se = indirect_effect * (model_PhysAct.HC0_se['nPhysFac'] / model_Y_tot.params['nPhysFac'])\n",
    "\n",
    "# Step 5: Summarize results\n",
    "print(\"Indirect Effect:\", round(indirect_effect, 4))\n",
    "print(\"95% Confidence Interval for Indirect Effect:\", \n",
    "      (round(indirect_effect - 1.96 * indirect_effect_se, 4), round(indirect_effect + 1.96 * indirect_effect_se,4)))"
   ]
  }
 ],
 "metadata": {
  "kernelspec": {
   "display_name": "Python 3",
   "language": "python",
   "name": "python3"
  },
  "language_info": {
   "codemirror_mode": {
    "name": "ipython",
    "version": 3
   },
   "file_extension": ".py",
   "mimetype": "text/x-python",
   "name": "python",
   "nbconvert_exporter": "python",
   "pygments_lexer": "ipython3",
   "version": "3.8.3"
  }
 },
 "nbformat": 4,
 "nbformat_minor": 5
}
