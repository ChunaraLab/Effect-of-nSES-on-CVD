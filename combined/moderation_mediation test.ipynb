{
 "cells": [
  {
   "cell_type": "markdown",
   "id": "e13cbd96",
   "metadata": {},
   "source": [
    "## Prep"
   ]
  },
  {
   "cell_type": "code",
   "execution_count": 1,
   "id": "514ba91b",
   "metadata": {},
   "outputs": [],
   "source": [
    "import pandas as pd\n",
    "import numpy as np\n",
    "import matplotlib.pyplot as plt\n",
    "import random\n",
    "import seaborn as sns\n",
    "\n",
    "import statsmodels.api as sm\n",
    "from scipy import stats\n",
    "import statsmodels.tools as tools\n",
    "\n",
    "import warnings\n",
    "warnings.filterwarnings('ignore')\n",
    "\n",
    "pd.set_option('max_columns', None)\n",
    "pd.set_option('max_rows', 100)"
   ]
  },
  {
   "cell_type": "markdown",
   "id": "52697c61",
   "metadata": {},
   "source": [
    "### Raw data"
   ]
  },
  {
   "cell_type": "code",
   "execution_count": 2,
   "id": "f59da90a",
   "metadata": {},
   "outputs": [],
   "source": [
    "mesa_raw = pd.read_csv('../mesa/data_processed/Y_BaselineX_raw_full.csv')\n",
    "\n",
    "mesa_raw = mesa_raw.rename(columns = {'cvda': 'Y_tot', \n",
    "                                     'F1_PC2': 'nSES',\n",
    "                                    'S1FAV': 'nFavFood',\n",
    "                                    'S1PAI': 'nPhysFac', \n",
    "                                    'G_bla_rk': 'nRS', \n",
    "                                    'chdiet': 'nutrition', \n",
    "                                    'chphysact': 'PhysAct',\n",
    "                                    'income': 'FamIncome',\n",
    "                                    'cig':'currentSmoker',\n",
    "                                    'cural':'alc',\n",
    "                                      'diabet': 'Diabetes',\n",
    "                                      'chol':'totchol'})\n",
    "\n",
    "diet_phys_map = {0:1, 1:2, 2:3}\n",
    "mesa_raw['nutrition'] = mesa_raw['nutrition'].replace(diet_phys_map)\n",
    "mesa_raw['PhysAct'] = mesa_raw['PhysAct'].replace(diet_phys_map)\n",
    "\n",
    "mesa = mesa_raw.copy()\n",
    "mesa = mesa.dropna()\n",
    "\n",
    "mesa_bla = mesa[mesa['race'] == 3]\n"
   ]
  },
  {
   "cell_type": "code",
   "execution_count": 3,
   "id": "eb08666b",
   "metadata": {},
   "outputs": [],
   "source": [
    "jhs_outcome_full = pd.read_csv('../jhs/data/processed/jhs_cox_base.csv')\n",
    "jhs_outcome = jhs_outcome_full[['subjid','event','time']].copy()\n",
    "\n",
    "jhs_covar = pd.read_csv('../jhs/data/processed/jhs_raw_full.csv')\n",
    "jhs_covar = jhs_covar[jhs_covar['visit'] == 1]\n",
    "\n",
    "jhs_raw = pd.merge(jhs_outcome, jhs_covar, on=['subjid'], how='left')\n",
    "\n",
    "jhs_raw = jhs_raw.drop(jhs_raw.columns[4], axis=1)\n",
    "\n",
    "jhs_raw = jhs_raw.rename(columns = {'event': 'Y_tot', \n",
    "                             'nbSESpc2score': 'nSES',\n",
    "                            'S1FAV': 'nFavFood',\n",
    "                            'S1PAI': 'nPhysFac', \n",
    "                            'G_bla_rk': 'nRS', \n",
    "                            'nutrition3cat': 'nutrition', \n",
    "                            'PA3cat': 'PhysAct',\n",
    "                            'fmlyinc': 'FamIncome'})\n",
    "jhs_raw['nutrition'] = jhs_raw['nutrition'].replace(diet_phys_map)\n",
    "jhs_raw['PhysAct'] = jhs_raw['PhysAct'].replace(diet_phys_map)\n",
    "\n",
    "jhs = jhs_raw.copy()\n",
    "jhs = jhs.dropna()"
   ]
  },
  {
   "cell_type": "markdown",
   "id": "f5b10ceb",
   "metadata": {},
   "source": [
    "### Raw data with missing imputed "
   ]
  },
  {
   "cell_type": "code",
   "execution_count": null,
   "id": "437fe357",
   "metadata": {},
   "outputs": [],
   "source": [
    "def fillna_cat(df,cat_feat):\n",
    "    for feat in cat_feat:\n",
    "        df[feat].fillna(df[feat].mode()[0], inplace=True)\n",
    "    return df\n",
    "\n",
    "def fillna_cont(df,cont_feat):\n",
    "    df= df.fillna((df[cont_feat].mean()))\n",
    "    return df\n",
    "\n",
    "cat_feat = ['FamIncome', 'nutrition', 'PhysAct',\n",
    "           'currentSmoker','alc','Diabetes']\n",
    "cont_feat = ['nSES','nFavFood','nPhysFac', 'nRS',\n",
    "           'hdl','totchol','sbp']"
   ]
  },
  {
   "cell_type": "code",
   "execution_count": null,
   "id": "7d031c7f",
   "metadata": {},
   "outputs": [],
   "source": [
    "mesa = fillna_cat(mesa_raw,cat_feat)  \n",
    "mesa = fillna_cat(mesa_raw,cont_feat)  \n",
    "\n",
    "mesa_bla = mesa[mesa['race'] == 3]"
   ]
  },
  {
   "cell_type": "code",
   "execution_count": null,
   "id": "e77b3fbb",
   "metadata": {},
   "outputs": [],
   "source": [
    "jhs = fillna_cat(jhs_raw,cat_feat)  \n",
    "jhs = fillna_cat(jhs_raw,cont_feat)  "
   ]
  },
  {
   "cell_type": "markdown",
   "id": "fa495f5b",
   "metadata": {},
   "source": [
    "### Processed data"
   ]
  },
  {
   "cell_type": "code",
   "execution_count": null,
   "id": "50a2be4c",
   "metadata": {},
   "outputs": [],
   "source": [
    "mesa = pd.read_csv('../mesa/data_processed/Y_BaselineX_processed_full.csv')\n",
    "\n",
    "mesa = mesa.rename(columns = {'cvda': 'Y_tot', \n",
    "                             'F1_PC2': 'nSES',\n",
    "                            'S1FAV': 'nFavFood',\n",
    "                            'S1PAI': 'nPhysFac', \n",
    "                            'G_bla_rk': 'nRS', \n",
    "                            'chdiet': 'nutrition', \n",
    "                            'chphysact': 'PhysAct',\n",
    "                            'income': 'FamIncome',\n",
    "                             'cig':'currentSmoker',\n",
    "                            'cural':'alc',\n",
    "                              'diabet': 'Diabetes',\n",
    "                              'chol':'totchol'})\n",
    "\n",
    "diet_phys_map = {0:1, 1:2, 2:3}\n",
    "mesa['nutrition'] = mesa['nutrition'].replace(diet_phys_map)\n",
    "mesa['PhysAct'] = mesa['PhysAct'].replace(diet_phys_map)\n",
    "\n",
    "mesa_bla = mesa[mesa['race'] == 3]"
   ]
  },
  {
   "cell_type": "code",
   "execution_count": null,
   "id": "5e51b2f5",
   "metadata": {},
   "outputs": [],
   "source": [
    "jhs = pd.read_csv('../jhs/data/processed/jhs_cox_base.csv')\n",
    "jhs = jhs.drop(\"nSES\", axis=1)\n",
    "\n",
    "jhs = jhs.rename(columns = {'event': 'Y_tot', \n",
    "                             'nbSESpc2score': 'nSES',\n",
    "                            'S1FAV': 'nFavFood',\n",
    "                            'S1PAI': 'nPhysFac', \n",
    "                            'G_bla_rk': 'nRS', \n",
    "                            'nutrition3cat': 'nutrition', \n",
    "                            'PA3cat': 'PhysAct',\n",
    "                            'fmlyinc': 'FamIncome'})\n",
    "\n",
    "jhs['nutrition'] = jhs['nutrition'].replace(diet_phys_map)\n",
    "jhs['PhysAct'] = jhs['PhysAct'].replace(diet_phys_map)"
   ]
  },
  {
   "cell_type": "markdown",
   "id": "fb23b781",
   "metadata": {},
   "source": [
    "## Mesa"
   ]
  },
  {
   "cell_type": "code",
   "execution_count": null,
   "id": "8bee1d9f",
   "metadata": {},
   "outputs": [],
   "source": [
    "y = mesa['Y_tot']\n",
    "\n",
    "X = mesa[['nSES','nFavFood','nPhysFac', 'nRS',\n",
    "          'FamIncome','nutrition', 'PhysAct',\n",
    "          'age','gender','race','currentSmoker','alc','Diabetes','hdl','totchol','sbp']]\n",
    "\n",
    "X = pd.get_dummies(X, columns=['gender','race','currentSmoker','alc','Diabetes'], \n",
    "                    drop_first=True)\n",
    "\n",
    "X1 = X.copy()\n",
    "X2 = X.copy()\n",
    "X3 = X.copy()\n",
    "X4 = X.copy()\n",
    "X5 = X.copy()\n",
    "X6 = X.copy()\n",
    "\n",
    "X1['nSES_FamIncome'] = X['nSES'] * X['FamIncome']\n",
    "X2['nFavFood_FamIncome'] = X['nFavFood'] * X['FamIncome']\n",
    "X3['nPhysFac_FamIncome'] = X['nPhysFac'] * X['FamIncome']\n",
    "X4['nRS_FamIncome'] = X['nRS'] * X['FamIncome']\n",
    "X5['nFavFood_nutrition'] = X['nFavFood'] * X['nutrition']\n",
    "X6['nPhysFac_PhysAct'] = X['nPhysFac'] * X['PhysAct']"
   ]
  },
  {
   "cell_type": "code",
   "execution_count": null,
   "id": "77d68836",
   "metadata": {},
   "outputs": [],
   "source": [
    "logistic_model_with_moderation = sm.Logit(y, sm.add_constant(X6)).fit()\n",
    "print(logistic_model_with_moderation.summary())"
   ]
  },
  {
   "cell_type": "code",
   "execution_count": null,
   "id": "279da541",
   "metadata": {},
   "outputs": [],
   "source": []
  },
  {
   "cell_type": "markdown",
   "id": "cadd64d6",
   "metadata": {},
   "source": [
    "## MESA BLACK"
   ]
  },
  {
   "cell_type": "code",
   "execution_count": null,
   "id": "6d7ee257",
   "metadata": {},
   "outputs": [],
   "source": [
    "y = mesa_bla['Y_tot']\n",
    "\n",
    "X = mesa_bla[['nSES','nFavFood','nPhysFac', 'nRS',\n",
    "          'FamIncome','nutrition', 'PhysAct',\n",
    "          'age','gender','race','currentSmoker','alc','Diabetes','hdl','totchol','sbp']]\n",
    "\n",
    "X = pd.get_dummies(X, columns=['gender','race','currentSmoker','alc','Diabetes'], \n",
    "                    drop_first=True)\n",
    "\n",
    "X1 = X.copy()\n",
    "X2 = X.copy()\n",
    "X3 = X.copy()\n",
    "X4 = X.copy()\n",
    "X5 = X.copy()\n",
    "X6 = X.copy()\n",
    "\n",
    "X1['nSES_FamIncome'] = X['nSES'] * X['FamIncome']\n",
    "X2['nFavFood_FamIncome'] = X['nFavFood'] * X['FamIncome']\n",
    "X3['nPhysFac_FamIncome'] = X['nPhysFac'] * X['FamIncome']\n",
    "X4['nRS_FamIncome'] = X['nRS'] * X['FamIncome']\n",
    "X5['nFavFood_nutrition'] = X['nFavFood'] * X['nutrition']\n",
    "X6['nPhysFac_PhysAct'] = X['nPhysFac'] * X['PhysAct']"
   ]
  },
  {
   "cell_type": "code",
   "execution_count": null,
   "id": "2943cd9b",
   "metadata": {},
   "outputs": [],
   "source": [
    "logistic_model_with_moderation = sm.Logit(y, sm.add_constant(X6)).fit()\n",
    "print(logistic_model_with_moderation.summary())"
   ]
  },
  {
   "cell_type": "markdown",
   "id": "46454d13",
   "metadata": {},
   "source": [
    "## JHS"
   ]
  },
  {
   "cell_type": "code",
   "execution_count": null,
   "id": "158292e4",
   "metadata": {},
   "outputs": [],
   "source": [
    "y = jhs['Y_tot']\n",
    "\n",
    "X = jhs[['nSES','nFavFood','nPhysFac', 'nRS',\n",
    "          'FamIncome','nutrition', 'PhysAct',\n",
    "          'age','gender','currentSmoker','alc','Diabetes','hdl','totchol','sbp']]\n",
    "X = pd.get_dummies(X, columns=['gender','currentSmoker','alc','Diabetes'], \n",
    "                    drop_first=True)\n",
    "\n",
    "X1 = X.copy()\n",
    "X2 = X.copy()\n",
    "X3 = X.copy()\n",
    "X4 = X.copy()\n",
    "X5 = X.copy()\n",
    "X6 = X.copy()\n",
    "\n",
    "X1['nSES_FamIncome'] = X['nSES'] * X['FamIncome']\n",
    "X2['nFavFood_FamIncome'] = X['nFavFood'] * X['FamIncome']\n",
    "X3['nPhysFac_FamIncome'] = X['nPhysFac'] * X['FamIncome']\n",
    "X4['nRS_FamIncome'] = X['nRS'] * X['FamIncome']\n",
    "X5['nFavFood_nutrition'] = X['nFavFood'] * X['nutrition']\n",
    "X6['nPhysFac_PhysAct'] = X['nPhysFac'] * X['PhysAct']"
   ]
  },
  {
   "cell_type": "code",
   "execution_count": null,
   "id": "56f1ccf6",
   "metadata": {},
   "outputs": [],
   "source": [
    "logistic_model_with_moderation = sm.Logit(y, sm.add_constant(X6)).fit()\n",
    "print(logistic_model_with_moderation.summary())"
   ]
  },
  {
   "cell_type": "code",
   "execution_count": null,
   "id": "4de4e7cf",
   "metadata": {},
   "outputs": [],
   "source": []
  },
  {
   "cell_type": "markdown",
   "id": "f3f4c3b5",
   "metadata": {},
   "source": [
    "## Mediation Test"
   ]
  },
  {
   "cell_type": "markdown",
   "id": "d6994f83",
   "metadata": {},
   "source": [
    "on the significant moderation interactions:\n",
    "    MESA_Black: n_Phys_Fac*FamIncome, RS*FamIncome, n_Fav_Food*nutrition\n",
    "    JHS: n_Phys_Fac*physical_act"
   ]
  },
  {
   "cell_type": "code",
   "execution_count": null,
   "id": "baa7dcf6",
   "metadata": {
    "scrolled": true
   },
   "outputs": [],
   "source": [
    "# Step 1: Y ~ X\n",
    "model_Y_tot = sm.Logit(jhs['Y_tot'], sm.add_constant(jhs['nPhysFac'])).fit()\n",
    "\n",
    "# Step 2: Mediator ~ X\n",
    "model_PhysAct = sm.OLS(jhs['PhysAct'], sm.add_constant(jhs['nPhysFac'])).fit()\n",
    "\n",
    "# Step 3: Y ~ X + Mediator\n",
    "model_combined = sm.Logit(jhs['Y_tot'], sm.add_constant(jhs[['nPhysFac', 'PhysAct']])).fit()\n",
    "\n",
    "# Step 4: Calculate the indirect effect and its confidence interval\n",
    "indirect_effect = model_combined.params['PhysAct'] * model_Y_tot.params['nPhysFac']\n",
    "indirect_effect_se = indirect_effect * (model_PhysAct.HC0_se['nPhysFac'] / model_Y_tot.params['nPhysFac'])\n",
    "\n",
    "# Step 5: Summarize results\n",
    "print(\"Indirect Effect:\", round(indirect_effect, 4))\n",
    "print(\"95% Confidence Interval for Indirect Effect:\", \n",
    "      (round(indirect_effect - 1.96 * indirect_effect_se, 4), round(indirect_effect + 1.96 * indirect_effect_se,4)))"
   ]
  },
  {
   "cell_type": "code",
   "execution_count": 5,
   "id": "818173e7",
   "metadata": {},
   "outputs": [],
   "source": [
    "df = mesa_bla\n",
    "Y = 'Y_tot'\n",
    "X = 'nPhysFac'\n",
    "M = 'FamIncome'"
   ]
  },
  {
   "cell_type": "code",
   "execution_count": 14,
   "id": "8a8b8e8c",
   "metadata": {},
   "outputs": [
    {
     "name": "stdout",
     "output_type": "stream",
     "text": [
      "Step 1 - Coefficient for X in M model: -0.0626\n",
      "Step 2 - Coefficient for X in Y model: 0.0039\n",
      "Step 3 - Coefficient for M in Y model (controlling for X): -0.0114\n",
      "\n",
      "Indirect Effect (original sample): -4.095474125635014e-05\n",
      "Bootstrapped 95% Confidence Interval: (-0.0001, 0.0)\n"
     ]
    }
   ],
   "source": [
    "### estimate the indirect effect on original sample\n",
    "\n",
    "# Step 1: Regression of M on X\n",
    "model_mediator = sm.OLS(df[M], sm.add_constant(df[X])).fit()\n",
    "\n",
    "# Step 2: Regression of Y on X\n",
    "model_outcome = sm.OLS(df[Y], sm.add_constant(df[X])).fit()\n",
    "\n",
    "# Step 3: Regression of Y on both X and M\n",
    "model_combined = sm.OLS(df[Y], sm.add_constant(df[[X, M]])).fit()\n",
    "\n",
    "# Calculate the indirect effect for the original sample\n",
    "indirect_effect_original = model_combined.params[M] * model_outcome.params[X]\n",
    "\n",
    "\n",
    "### estimate CI using bootstrapping\n",
    "\n",
    "num_bootstrap_samples = 1000\n",
    "bootstrap_results = []\n",
    "\n",
    "for _ in range(num_bootstrap_samples):\n",
    "    # Step 1: Draw a bootstrap sample\n",
    "    bootstrap_sample = df.sample(frac=1, replace=True)\n",
    "\n",
    "    # Step 2: Regression of M on X\n",
    "    model_mediator = sm.OLS(bootstrap_sample[M], sm.add_constant(bootstrap_sample[X])).fit()\n",
    "\n",
    "    # Step 3: Regression of Y on X\n",
    "    model_outcome = sm.OLS(bootstrap_sample[Y], sm.add_constant(bootstrap_sample[X])).fit()\n",
    "\n",
    "    # Step 4: Regression of Y on both X and M\n",
    "    model_combined = sm.OLS(bootstrap_sample[Y], sm.add_constant(bootstrap_sample[[X, M]])).fit()\n",
    "\n",
    "    # Calculate the indirect effect for this bootstrap sample\n",
    "    indirect_effect_bootstrap = model_combined.params[M] * model_outcome.params[X]\n",
    "    \n",
    "    # Store the result\n",
    "    bootstrap_results.append(indirect_effect_bootstrap)\n",
    "\n",
    "# Calculate the confidence interval\n",
    "ci_lower = round(np.percentile(bootstrap_results, 2.5),4)\n",
    "ci_upper = round(np.percentile(bootstrap_results, 97.5),4)\n",
    "\n",
    "\n",
    "### report result\n",
    "\n",
    "# Print results\n",
    "print(\"Step 1 - Coefficient for X in M model:\", round(model_mediator.params[X],4))\n",
    "print(\"Step 2 - Coefficient for X in Y model:\", round(model_outcome.params[X],4))\n",
    "print(\"Step 3 - Coefficient for M in Y model (controlling for X):\", round(model_combined.params[M],4))\n",
    "print(\"\\nIndirect Effect (original sample):\", indirect_effect_original)\n",
    "print(\"Bootstrapped 95% Confidence Interval:\", (ci_lower, ci_upper))"
   ]
  }
 ],
 "metadata": {
  "kernelspec": {
   "display_name": "Python 3",
   "language": "python",
   "name": "python3"
  },
  "language_info": {
   "codemirror_mode": {
    "name": "ipython",
    "version": 3
   },
   "file_extension": ".py",
   "mimetype": "text/x-python",
   "name": "python",
   "nbconvert_exporter": "python",
   "pygments_lexer": "ipython3",
   "version": "3.8.3"
  }
 },
 "nbformat": 4,
 "nbformat_minor": 5
}
