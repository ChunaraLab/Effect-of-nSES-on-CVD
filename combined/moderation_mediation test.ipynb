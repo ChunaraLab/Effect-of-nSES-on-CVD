{
 "cells": [
  {
   "cell_type": "markdown",
   "id": "86b5753f",
   "metadata": {},
   "source": [
    "## Prep"
   ]
  },
  {
   "cell_type": "code",
   "execution_count": 1,
   "id": "0a4b4fb3",
   "metadata": {},
   "outputs": [],
   "source": [
    "import pandas as pd\n",
    "import numpy as np\n",
    "import matplotlib.pyplot as plt\n",
    "import random\n",
    "import seaborn as sns\n",
    "\n",
    "import statsmodels.api as sm\n",
    "from scipy import stats\n",
    "import statsmodels.tools as tools\n",
    "from scipy.stats import bootstrap\n",
    "\n",
    "\n",
    "import warnings\n",
    "warnings.filterwarnings('ignore')\n",
    "\n",
    "pd.set_option('max_columns', None)\n",
    "pd.set_option('max_rows', 100)\n",
    "\n",
    "# Set a seed for NumPy\n",
    "np.random.seed(0)\n",
    "\n",
    "# Set a seed for Python's built-in random module\n",
    "random.seed(0)"
   ]
  },
  {
   "cell_type": "markdown",
   "id": "c1f8e919",
   "metadata": {},
   "source": [
    "### Raw data"
   ]
  },
  {
   "cell_type": "code",
   "execution_count": 2,
   "id": "2988eec1",
   "metadata": {},
   "outputs": [],
   "source": [
    "mesa_raw = pd.read_csv('../mesa/data_processed/Y_BaselineX_raw_full.csv')\n",
    "\n",
    "mesa_raw = mesa_raw.rename(columns = {'cvda': 'Y_tot', \n",
    "                                     'F1_PC2': 'nSES',\n",
    "                                    'S1FAV': 'nFavFood',\n",
    "                                    'S1PAI': 'nPhysFac', \n",
    "                                    'G_bla_rk': 'nRS', \n",
    "                                    'chdiet': 'nutrition', \n",
    "                                    'chphysact': 'PhysAct',\n",
    "                                    'income': 'FamIncome',\n",
    "                                    'cig':'currentSmoker',\n",
    "                                    'cural':'alc',\n",
    "                                      'diabet': 'Diabetes',\n",
    "                                      'chol':'totchol'})\n",
    "\n",
    "diet_phys_map = {0:1, 1:2, 2:3}\n",
    "mesa_raw['nutrition'] = mesa_raw['nutrition'].replace(diet_phys_map)\n",
    "mesa_raw['PhysAct'] = mesa_raw['PhysAct'].replace(diet_phys_map)\n",
    "\n",
    "mesa_impute = mesa_raw.copy()\n",
    "\n",
    "mesa_raw = mesa_raw.dropna()\n",
    "\n",
    "mesa_raw = mesa_raw[mesa_raw['race'] == 3]\n"
   ]
  },
  {
   "cell_type": "code",
   "execution_count": 3,
   "id": "b2d65ec1",
   "metadata": {},
   "outputs": [],
   "source": [
    "jhs_outcome_full = pd.read_csv('../jhs/data/processed/jhs_cox_base.csv')\n",
    "jhs_outcome = jhs_outcome_full[['subjid','event','time']].copy()\n",
    "\n",
    "jhs_covar = pd.read_csv('../jhs/data/processed/jhs_raw_full.csv')\n",
    "jhs_covar = jhs_covar[jhs_covar['visit'] == 1]\n",
    "\n",
    "jhs_raw = pd.merge(jhs_outcome, jhs_covar, on=['subjid'], how='left')\n",
    "\n",
    "jhs_raw = jhs_raw.drop(jhs_raw.columns[4], axis=1)\n",
    "\n",
    "jhs_raw = jhs_raw.rename(columns = {'event': 'Y_tot', \n",
    "                             'nbSESpc2score': 'nSES',\n",
    "                            'S1FAV': 'nFavFood',\n",
    "                            'S1PAI': 'nPhysFac', \n",
    "                            'G_bla_rk': 'nRS', \n",
    "                            'nutrition3cat': 'nutrition', \n",
    "                            'PA3cat': 'PhysAct',\n",
    "                            'fmlyinc': 'FamIncome'})\n",
    "jhs_raw['nutrition'] = jhs_raw['nutrition'].replace(diet_phys_map)\n",
    "jhs_raw['PhysAct'] = jhs_raw['PhysAct'].replace(diet_phys_map)\n",
    "\n",
    "jhs_impute = jhs_raw.copy()\n",
    "\n",
    "jhs_raw = jhs_raw.dropna()"
   ]
  },
  {
   "cell_type": "markdown",
   "id": "3a8d081b",
   "metadata": {},
   "source": [
    "### Raw data with missing imputed "
   ]
  },
  {
   "cell_type": "code",
   "execution_count": 4,
   "id": "f1bccba0",
   "metadata": {},
   "outputs": [],
   "source": [
    "def fillna_cat(df,cat_feat):\n",
    "    for feat in cat_feat:\n",
    "        df[feat].fillna(df[feat].mode()[0], inplace=True)\n",
    "    return df\n",
    "\n",
    "def fillna_cont(df,cont_feat):\n",
    "    df= df.fillna((df[cont_feat].mean()))\n",
    "    return df\n",
    "\n",
    "cat_feat = ['FamIncome', 'nutrition', 'PhysAct',\n",
    "           'currentSmoker','alc','Diabetes']\n",
    "cont_feat = ['nSES','nFavFood','nPhysFac', 'nRS',\n",
    "           'hdl','totchol','sbp']"
   ]
  },
  {
   "cell_type": "code",
   "execution_count": 5,
   "id": "8a5323e4",
   "metadata": {},
   "outputs": [],
   "source": [
    "mesa_impute = fillna_cat(mesa_impute,cat_feat)  \n",
    "mesa_impute = fillna_cont(mesa_impute,cont_feat)  \n",
    "\n",
    "mesa_bla_impute = mesa_impute[mesa_impute['race'] == 3]"
   ]
  },
  {
   "cell_type": "code",
   "execution_count": 6,
   "id": "b5239e3f",
   "metadata": {},
   "outputs": [],
   "source": [
    "jhs_impute = fillna_cat(jhs_impute,cat_feat)  \n",
    "jhs_impute = fillna_cont(jhs_impute,cont_feat)  "
   ]
  },
  {
   "cell_type": "markdown",
   "id": "c3102095",
   "metadata": {},
   "source": [
    "### Processed data"
   ]
  },
  {
   "cell_type": "code",
   "execution_count": 7,
   "id": "0b47d895",
   "metadata": {},
   "outputs": [],
   "source": [
    "mesa_pre = pd.read_csv('../mesa/data_processed/Y_BaselineX_processed_full.csv')\n",
    "\n",
    "mesa_pre = mesa_pre.rename(columns = {'cvda': 'Y_tot', \n",
    "                             'F1_PC2': 'nSES',\n",
    "                            'S1FAV': 'nFavFood',\n",
    "                            'S1PAI': 'nPhysFac', \n",
    "                            'G_bla_rk': 'nRS', \n",
    "                            'chdiet': 'nutrition', \n",
    "                            'chphysact': 'PhysAct',\n",
    "                            'income': 'FamIncome',\n",
    "                             'cig':'currentSmoker',\n",
    "                            'cural':'alc',\n",
    "                              'diabet': 'Diabetes',\n",
    "                              'chol':'totchol'})\n",
    "\n",
    "diet_phys_map = {0:1, 1:2, 2:3}\n",
    "mesa_pre['nutrition'] = mesa_pre['nutrition'].replace(diet_phys_map)\n",
    "mesa_pre['PhysAct'] = mesa_pre['PhysAct'].replace(diet_phys_map)\n",
    "\n",
    "mesa_bla_pre = mesa_pre[mesa_pre['race'] == 3]"
   ]
  },
  {
   "cell_type": "code",
   "execution_count": 8,
   "id": "df2f80d1",
   "metadata": {},
   "outputs": [],
   "source": [
    "jhs_pre = pd.read_csv('../jhs/data/processed/jhs_cox_base.csv')\n",
    "jhs_pre = jhs_pre.drop(\"nSES\", axis=1)\n",
    "\n",
    "jhs_pre = jhs_pre.rename(columns = {'event': 'Y_tot', \n",
    "                             'nbSESpc2score': 'nSES',\n",
    "                            'S1FAV': 'nFavFood',\n",
    "                            'S1PAI': 'nPhysFac', \n",
    "                            'G_bla_rk': 'nRS', \n",
    "                            'nutrition3cat': 'nutrition', \n",
    "                            'PA3cat': 'PhysAct',\n",
    "                            'fmlyinc': 'FamIncome'})\n",
    "\n",
    "jhs_pre['nutrition'] = jhs_pre['nutrition'].replace(diet_phys_map)\n",
    "jhs_pre['PhysAct'] = jhs_pre['PhysAct'].replace(diet_phys_map)"
   ]
  },
  {
   "cell_type": "markdown",
   "id": "87ca5133",
   "metadata": {},
   "source": [
    "## Moderation test"
   ]
  },
  {
   "cell_type": "markdown",
   "id": "4b0826f3",
   "metadata": {},
   "source": [
    "### Mesa"
   ]
  },
  {
   "cell_type": "code",
   "execution_count": null,
   "id": "7715d64c",
   "metadata": {},
   "outputs": [],
   "source": [
    "y = mesa['Y_tot']\n",
    "\n",
    "X = mesa[['nSES','nFavFood','nPhysFac', 'nRS',\n",
    "          'FamIncome','nutrition', 'PhysAct',\n",
    "          'age','gender','race','currentSmoker','alc','Diabetes','hdl','totchol','sbp']]\n",
    "\n",
    "X = pd.get_dummies(X, columns=['gender','race','currentSmoker','alc','Diabetes'], \n",
    "                    drop_first=True)\n",
    "\n",
    "X1 = X.copy()\n",
    "X2 = X.copy()\n",
    "X3 = X.copy()\n",
    "X4 = X.copy()\n",
    "X5 = X.copy()\n",
    "X6 = X.copy()\n",
    "\n",
    "X1['nSES_FamIncome'] = X['nSES'] * X['FamIncome']\n",
    "X2['nFavFood_FamIncome'] = X['nFavFood'] * X['FamIncome']\n",
    "X3['nPhysFac_FamIncome'] = X['nPhysFac'] * X['FamIncome']\n",
    "X4['nRS_FamIncome'] = X['nRS'] * X['FamIncome']\n",
    "X5['nFavFood_nutrition'] = X['nFavFood'] * X['nutrition']\n",
    "X6['nPhysFac_PhysAct'] = X['nPhysFac'] * X['PhysAct']"
   ]
  },
  {
   "cell_type": "code",
   "execution_count": null,
   "id": "4010b0d0",
   "metadata": {},
   "outputs": [],
   "source": [
    "logistic_model_with_moderation = sm.Logit(y, sm.add_constant(X6)).fit()\n",
    "print(logistic_model_with_moderation.summary())"
   ]
  },
  {
   "cell_type": "code",
   "execution_count": null,
   "id": "27bd19e5",
   "metadata": {},
   "outputs": [],
   "source": []
  },
  {
   "cell_type": "markdown",
   "id": "b1bb2d11",
   "metadata": {},
   "source": [
    "### MESA BLACK"
   ]
  },
  {
   "cell_type": "code",
   "execution_count": null,
   "id": "dfaa7b67",
   "metadata": {},
   "outputs": [],
   "source": [
    "y = mesa_bla['Y_tot']\n",
    "\n",
    "X = mesa_bla[['nSES','nFavFood','nPhysFac', 'nRS',\n",
    "          'FamIncome','nutrition', 'PhysAct',\n",
    "          'age','gender','race','currentSmoker','alc','Diabetes','hdl','totchol','sbp']]\n",
    "\n",
    "X = pd.get_dummies(X, columns=['gender','race','currentSmoker','alc','Diabetes'], \n",
    "                    drop_first=True)\n",
    "\n",
    "X1 = X.copy()\n",
    "X2 = X.copy()\n",
    "X3 = X.copy()\n",
    "X4 = X.copy()\n",
    "X5 = X.copy()\n",
    "X6 = X.copy()\n",
    "\n",
    "X1['nSES_FamIncome'] = X['nSES'] * X['FamIncome']\n",
    "X2['nFavFood_FamIncome'] = X['nFavFood'] * X['FamIncome']\n",
    "X3['nPhysFac_FamIncome'] = X['nPhysFac'] * X['FamIncome']\n",
    "X4['nRS_FamIncome'] = X['nRS'] * X['FamIncome']\n",
    "X5['nFavFood_nutrition'] = X['nFavFood'] * X['nutrition']\n",
    "X6['nPhysFac_PhysAct'] = X['nPhysFac'] * X['PhysAct']"
   ]
  },
  {
   "cell_type": "code",
   "execution_count": null,
   "id": "1c74e49d",
   "metadata": {},
   "outputs": [],
   "source": [
    "logistic_model_with_moderation = sm.Logit(y, sm.add_constant(X6)).fit()\n",
    "print(logistic_model_with_moderation.summary())"
   ]
  },
  {
   "cell_type": "markdown",
   "id": "51eceeb7",
   "metadata": {},
   "source": [
    "### JHS"
   ]
  },
  {
   "cell_type": "code",
   "execution_count": null,
   "id": "74cc1880",
   "metadata": {},
   "outputs": [],
   "source": [
    "y = jhs['Y_tot']\n",
    "\n",
    "X = jhs[['nSES','nFavFood','nPhysFac', 'nRS',\n",
    "          'FamIncome','nutrition', 'PhysAct',\n",
    "          'age','gender','currentSmoker','alc','Diabetes','hdl','totchol','sbp']]\n",
    "X = pd.get_dummies(X, columns=['gender','currentSmoker','alc','Diabetes'], \n",
    "                    drop_first=True)\n",
    "\n",
    "X1 = X.copy()\n",
    "X2 = X.copy()\n",
    "X3 = X.copy()\n",
    "X4 = X.copy()\n",
    "X5 = X.copy()\n",
    "X6 = X.copy()\n",
    "\n",
    "X1['nSES_FamIncome'] = X['nSES'] * X['FamIncome']\n",
    "X2['nFavFood_FamIncome'] = X['nFavFood'] * X['FamIncome']\n",
    "X3['nPhysFac_FamIncome'] = X['nPhysFac'] * X['FamIncome']\n",
    "X4['nRS_FamIncome'] = X['nRS'] * X['FamIncome']\n",
    "X5['nFavFood_nutrition'] = X['nFavFood'] * X['nutrition']\n",
    "X6['nPhysFac_PhysAct'] = X['nPhysFac'] * X['PhysAct']"
   ]
  },
  {
   "cell_type": "code",
   "execution_count": null,
   "id": "8d08e140",
   "metadata": {},
   "outputs": [],
   "source": [
    "logistic_model_with_moderation = sm.Logit(y, sm.add_constant(X6)).fit()\n",
    "print(logistic_model_with_moderation.summary())"
   ]
  },
  {
   "cell_type": "code",
   "execution_count": null,
   "id": "66e3a538",
   "metadata": {},
   "outputs": [],
   "source": []
  },
  {
   "cell_type": "markdown",
   "id": "11c0b10d",
   "metadata": {},
   "source": [
    "## Mediation Test"
   ]
  },
  {
   "cell_type": "code",
   "execution_count": null,
   "id": "8c186fda",
   "metadata": {},
   "outputs": [],
   "source": [
    "named_df_list = [('jhs_raw', jhs_raw), ('jhs_impute', jhs_impute), ('jhs_pre', jhs_pre)]\n",
    "\n",
    "Y = 'Y_tot'\n",
    "X = 'nRS'\n",
    "M = 'PhysAct'\n",
    "\n",
    "\n",
    "for df_name, df in named_df_list:\n",
    "\n",
    "    # Step 1: Regression of M on X\n",
    "    model_mediator = sm.OLS(df[M], sm.add_constant(df[X])).fit()\n",
    "\n",
    "    # Step 2: Regression of Y on X; total effect\n",
    "    model_outcome = sm.Logit(df[Y], sm.add_constant(df[X])).fit(disp=0)\n",
    "\n",
    "    # Step 3: Regression of Y on both X and M\n",
    "    model_combined = sm.Logit(df[Y], sm.add_constant(df[[X, M]])).fit(disp=0)\n",
    "\n",
    "    # Calculate the indirect effect for the original sample\n",
    "    indirect_effect_original = model_combined.params[M] * model_outcome.params[X]\n",
    "\n",
    "\n",
    "    ### estimate CI using bootstrapping\n",
    "\n",
    "    num_bootstrap_samples = 1000\n",
    "    bootstrap_results = []\n",
    "\n",
    "    for _ in range(num_bootstrap_samples):\n",
    "        # Step 1: Draw a bootstrap sample\n",
    "        bootstrap_sample = df.sample(frac=1, replace=True)\n",
    "\n",
    "        # Step 2: Regression of M on X\n",
    "        model_mediator = sm.OLS(bootstrap_sample[M], sm.add_constant(bootstrap_sample[X])).fit()\n",
    "\n",
    "        # Step 3: Regression of Y on X\n",
    "        model_outcome = sm.Logit(bootstrap_sample[Y], sm.add_constant(bootstrap_sample[X])).fit(disp=0)\n",
    "\n",
    "        # Step 4: Regression of Y on both X and M\n",
    "        model_combined = sm.Logit(bootstrap_sample[Y], sm.add_constant(bootstrap_sample[[X, M]])).fit(disp=0)\n",
    "\n",
    "        # Calculate the indirect effect for this bootstrap sample\n",
    "        indirect_effect_bootstrap = model_combined.params[M] * model_outcome.params[X]\n",
    "\n",
    "        # Store the result\n",
    "        bootstrap_results.append(indirect_effect_bootstrap)\n",
    "\n",
    "    # Calculate the confidence interval\n",
    "    ci_lower = round(np.percentile(bootstrap_results, 2.5),4)\n",
    "    ci_upper = round(np.percentile(bootstrap_results, 97.5),4)\n",
    "\n",
    "\n",
    "    ### report result\n",
    "\n",
    "    print(f\"Mediation results using: {df_name}\\n\")\n",
    "    \n",
    "    print(\"Step 1 - Coefficient for X in M model:\", round(model_mediator.params[X],4), \n",
    "          \"p-value:\", round(model_mediator.pvalues[X],4))\n",
    "\n",
    "    print(\"Step 2 - Coefficient for X in Y model:\", round(model_outcome.params[X],4), \n",
    "          \"p-value:\", round(model_outcome.pvalues[X],4))\n",
    "\n",
    "    print(\"Step 3 - Coefficient for M in Y model (controlling for X):\", round(model_combined.params[M],4), \n",
    "          \"p-value:\", round(model_combined.pvalues[M],4))\n",
    "\n",
    "    print(\"\\nIndirect Effect (original sample):\", round(indirect_effect_original,4))\n",
    "    print(\"Bootstrapped 95% Confidence Interval:\", (ci_lower, ci_upper))\n",
    "    \n",
    "    print(\"\\n\" + \"=\"*50 + \"\\n\")  \n"
   ]
  },
  {
   "cell_type": "code",
   "execution_count": null,
   "id": "ec40a70f",
   "metadata": {},
   "outputs": [],
   "source": [
    "# model_mediator = sm.Logit(df[Y], sm.add_constant(df[X])).fit()\n"
   ]
  }
 ],
 "metadata": {
  "kernelspec": {
   "display_name": "Python 3",
   "language": "python",
   "name": "python3"
  },
  "language_info": {
   "codemirror_mode": {
    "name": "ipython",
    "version": 3
   },
   "file_extension": ".py",
   "mimetype": "text/x-python",
   "name": "python",
   "nbconvert_exporter": "python",
   "pygments_lexer": "ipython3",
   "version": "3.8.3"
  }
 },
 "nbformat": 4,
 "nbformat_minor": 5
}
