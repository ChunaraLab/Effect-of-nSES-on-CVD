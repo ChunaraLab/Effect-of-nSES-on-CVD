{
 "cells": [
  {
   "cell_type": "markdown",
   "id": "ddebad83",
   "metadata": {},
   "source": [
    "## Prep"
   ]
  },
  {
   "cell_type": "code",
   "execution_count": 1,
   "id": "35c114fa",
   "metadata": {},
   "outputs": [],
   "source": [
    "import pandas as pd\n",
    "import numpy as np\n",
    "import matplotlib.pyplot as plt\n",
    "import random\n",
    "import seaborn as sns\n",
    "\n",
    "import statsmodels.api as sm\n",
    "from scipy import stats\n",
    "import statsmodels.tools as tools\n",
    "\n",
    "import warnings\n",
    "warnings.filterwarnings('ignore')\n",
    "\n",
    "pd.set_option('max_columns', None)\n",
    "pd.set_option('max_rows', 100)"
   ]
  },
  {
   "cell_type": "code",
   "execution_count": 2,
   "id": "d9d58cf9",
   "metadata": {},
   "outputs": [],
   "source": [
    "mesa = pd.read_csv('../mesa/data_processed/Y_BaselineX_processed_full.csv')\n",
    "\n",
    "mesa = mesa.rename(columns = {'cvda': 'Y_tot', \n",
    "                             'F1_PC2': 'nSES',\n",
    "                            'S1FAV': 'nFavFood',\n",
    "                            'S1PAI': 'nPhysFac', \n",
    "                            'G_bla_rk': 'nRS', \n",
    "                            'chdiet': 'nutrition', \n",
    "                            'chphysact': 'PhysAct',\n",
    "                            'income': 'FamIncome'})\n",
    "\n",
    "diet_phys_map = {0:1, 1:2, 2:3}\n",
    "mesa['nutrition'] = mesa['nutrition'].replace(diet_phys_map)\n",
    "mesa['PhysAct'] = mesa['PhysAct'].replace(diet_phys_map)\n",
    "\n",
    "mesa_bla = mesa[mesa['race'] == 3]"
   ]
  },
  {
   "cell_type": "code",
   "execution_count": 3,
   "id": "af1a1265",
   "metadata": {},
   "outputs": [],
   "source": [
    "jhs = pd.read_csv('../jhs/data/processed/jhs_cox_base.csv')\n",
    "\n",
    "jhs = jhs.rename(columns = {'event': 'Y_tot', \n",
    "                             'nbSESpc2score': 'nSES',\n",
    "                            'S1FAV': 'nFavFood',\n",
    "                            'S1PAI': 'nPhysFac', \n",
    "                            'G_bla_rk': 'nRS', \n",
    "                            'nutrition3cat': 'nutrition', \n",
    "                            'PA3cat': 'PhysAct',\n",
    "                            'fmlyinc': 'FamIncome'})\n",
    "jhs['nutrition'] = jhs['nutrition'].replace(diet_phys_map)\n",
    "jhs['PhysAct'] = jhs['PhysAct'].replace(diet_phys_map)"
   ]
  },
  {
   "cell_type": "markdown",
   "id": "9370e6de",
   "metadata": {},
   "source": [
    "## Mesa"
   ]
  },
  {
   "cell_type": "code",
   "execution_count": 7,
   "id": "ee1feaaf",
   "metadata": {},
   "outputs": [],
   "source": [
    "y = mesa['Y_tot']\n",
    "\n",
    "X = mesa[['nSES','nFavFood','nPhysFac', 'nRS',\n",
    "          'FamIncome','nutrition', 'PhysAct',\n",
    "          'age','gender','race','cig','cural','diabet','hdl','chol','sbp']]\n",
    "\n",
    "X1 = X.copy()\n",
    "X2 = X.copy()\n",
    "X3 = X.copy()\n",
    "X4 = X.copy()\n",
    "X5 = X.copy()\n",
    "X6 = X.copy()\n",
    "\n",
    "X1['nSES_FamIncome'] = X['nSES'] * X['FamIncome']\n",
    "X1 = pd.get_dummies(X1, columns=['nSES','nFavFood','nPhysFac', 'nRS',\n",
    "                                 'FamIncome','nutrition', 'PhysAct',\n",
    "                                 'gender','race','cig','cural','diabet','nSES_FamIncome'], \n",
    "                    drop_first=True)\n",
    "\n",
    "X2['nFavFood_FamIncome'] = X['nFavFood'] * X['FamIncome']\n",
    "X3['nPhysFac_FamIncome'] = X['nPhysFac'] * X['FamIncome']\n",
    "X4['nRS_FamIncome'] = X['nRS'] * X['FamIncome']\n",
    "X5['nFavFood_nutrition'] = X['nFavFood'] * X['nutrition']\n",
    "X6['nPhysFac_PhysAct'] = X['nPhysFac'] * X['PhysAct']"
   ]
  },
  {
   "cell_type": "code",
   "execution_count": 8,
   "id": "7829150f",
   "metadata": {},
   "outputs": [
    {
     "name": "stdout",
     "output_type": "stream",
     "text": [
      "Optimization terminated successfully.\n",
      "         Current function value: 0.409347\n",
      "         Iterations 7\n",
      "                           Logit Regression Results                           \n",
      "==============================================================================\n",
      "Dep. Variable:                  Y_tot   No. Observations:                 6787\n",
      "Model:                          Logit   Df Residuals:                     6749\n",
      "Method:                           MLE   Df Model:                           37\n",
      "Date:                Sat, 04 Nov 2023   Pseudo R-squ.:                 0.09941\n",
      "Time:                        17:16:53   Log-Likelihood:                -2778.2\n",
      "converged:                       True   LL-Null:                       -3084.9\n",
      "Covariance Type:            nonrobust   LLR p-value:                1.523e-105\n",
      "=======================================================================================\n",
      "                          coef    std err          z      P>|z|      [0.025      0.975]\n",
      "---------------------------------------------------------------------------------------\n",
      "const                  -5.2108      0.409    -12.744      0.000      -6.012      -4.409\n",
      "age                     0.0485      0.004     12.368      0.000       0.041       0.056\n",
      "hdl                    -0.1964      0.041     -4.743      0.000      -0.278      -0.115\n",
      "chol                    0.0922      0.035      2.638      0.008       0.024       0.161\n",
      "sbp                     0.2974      0.036      8.332      0.000       0.227       0.367\n",
      "nSES_2                 -0.0419      0.107     -0.390      0.696      -0.252       0.168\n",
      "nSES_3                  0.2306   3.61e+06   6.39e-08      1.000   -7.07e+06    7.07e+06\n",
      "nSES_4                  0.3830      0.073      5.249      0.000       0.240       0.526\n",
      "nFavFood_2              0.1448      0.103      1.406      0.160      -0.057       0.347\n",
      "nFavFood_3             -0.0273      0.120     -0.228      0.820      -0.262       0.208\n",
      "nFavFood_4             -0.1777      0.156     -1.138      0.255      -0.484       0.128\n",
      "nPhysFac_2              0.1151      0.104      1.110      0.267      -0.088       0.318\n",
      "nPhysFac_3              0.3470      0.119      2.919      0.004       0.114       0.580\n",
      "nPhysFac_4              0.2985      0.159      1.882      0.060      -0.012       0.609\n",
      "nRS_2                   0.0873      0.103      0.847      0.397      -0.115       0.289\n",
      "nRS_3                   0.0268      0.111      0.242      0.809      -0.190       0.244\n",
      "nRS_4                   0.0534      0.122      0.437      0.662      -0.186       0.293\n",
      "FamIncome_2.0          -0.0847      0.119     -0.711      0.477      -0.318       0.149\n",
      "FamIncome_3.0          -0.0577   3.61e+06   -1.6e-08      1.000   -7.07e+06    7.07e+06\n",
      "FamIncome_4.0           0.0114        nan        nan        nan         nan         nan\n",
      "nutrition_2.0          -0.1124      0.075     -1.500      0.134      -0.259       0.034\n",
      "nutrition_3.0          -1.6043      1.058     -1.517      0.129      -3.677       0.469\n",
      "PhysAct_2.0             0.0339      0.109      0.313      0.755      -0.179       0.247\n",
      "PhysAct_3.0             0.0273      0.085      0.319      0.749      -0.140       0.195\n",
      "gender_1.0              0.4886      0.079      6.215      0.000       0.334       0.643\n",
      "race_2.0               -0.3932      0.135     -2.918      0.004      -0.657      -0.129\n",
      "race_3.0               -0.3292      0.108     -3.055      0.002      -0.540      -0.118\n",
      "race_4.0               -0.3156      0.105     -2.996      0.003      -0.522      -0.109\n",
      "cig_1.0                 0.0848      0.077      1.106      0.269      -0.065       0.235\n",
      "cig_2.0                 0.3250      0.109      2.979      0.003       0.111       0.539\n",
      "cural_1.0              -0.1568      0.078     -2.004      0.045      -0.310      -0.003\n",
      "diabet_1.0              0.7555      0.094      8.010      0.000       0.571       0.940\n",
      "nSES_FamIncome_2.0      0.4134      0.239      1.729      0.084      -0.055       0.882\n",
      "nSES_FamIncome_3.0      0.0929   3.61e+06   2.57e-08      1.000   -7.07e+06    7.07e+06\n",
      "nSES_FamIncome_4.0     -0.1085      0.067     -1.617      0.106      -0.240       0.023\n",
      "nSES_FamIncome_6.0      0.1513   1.56e+06   9.69e-08      1.000   -3.06e+06    3.06e+06\n",
      "nSES_FamIncome_8.0     -0.0105        nan        nan        nan         nan         nan\n",
      "nSES_FamIncome_9.0      0.0176   7.22e+06   2.44e-09      1.000   -1.41e+07    1.41e+07\n",
      "nSES_FamIncome_12.0    -0.1065        nan        nan        nan         nan         nan\n",
      "nSES_FamIncome_16.0     0.1397         -0       -inf      0.000       0.140       0.140\n",
      "=======================================================================================\n"
     ]
    }
   ],
   "source": [
    "logistic_model_with_moderation = sm.Logit(y, sm.add_constant(X1)).fit()\n",
    "print(logistic_model_with_moderation.summary())"
   ]
  },
  {
   "cell_type": "code",
   "execution_count": null,
   "id": "03ff46d9",
   "metadata": {},
   "outputs": [],
   "source": [
    "## issues:\n",
    "## 2*3 = 3*2; inconsistent significance across dif subgroups"
   ]
  }
 ],
 "metadata": {
  "kernelspec": {
   "display_name": "Python 3",
   "language": "python",
   "name": "python3"
  },
  "language_info": {
   "codemirror_mode": {
    "name": "ipython",
    "version": 3
   },
   "file_extension": ".py",
   "mimetype": "text/x-python",
   "name": "python",
   "nbconvert_exporter": "python",
   "pygments_lexer": "ipython3",
   "version": "3.8.3"
  }
 },
 "nbformat": 4,
 "nbformat_minor": 5
}
