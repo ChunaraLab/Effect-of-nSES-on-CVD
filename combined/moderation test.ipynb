{
 "cells": [
  {
   "cell_type": "markdown",
   "id": "dc3a03d2",
   "metadata": {},
   "source": [
    "## Prep"
   ]
  },
  {
   "cell_type": "code",
   "execution_count": null,
   "id": "f99d6113",
   "metadata": {},
   "outputs": [],
   "source": [
    "import pandas as pd\n",
    "import numpy as np\n",
    "import matplotlib.pyplot as plt\n",
    "import random\n",
    "import seaborn as sns\n",
    "\n",
    "import statsmodels.api as sm\n",
    "from scipy import stats\n",
    "import statsmodels.tools as tools\n",
    "\n",
    "import warnings\n",
    "warnings.filterwarnings('ignore')\n",
    "\n",
    "pd.set_option('max_columns', None)\n",
    "pd.set_option('max_rows', 100)"
   ]
  },
  {
   "cell_type": "code",
   "execution_count": null,
   "id": "dd2605fa",
   "metadata": {},
   "outputs": [],
   "source": [
    "mesa = pd.read_csv('../mesa/data_processed/Y_BaselineX_processed_full.csv')\n",
    "\n",
    "mesa = mesa.rename(columns = {'cvda': 'Y_tot', \n",
    "                             'F1_PC2': 'nSES',\n",
    "                            'S1FAV': 'nFavFood',\n",
    "                            'S1PAI': 'nPhysFac', \n",
    "                            'G_bla_rk': 'nRS', \n",
    "                            'chdiet': 'nutrition', \n",
    "                            'chphysact': 'PhysAct',\n",
    "                            'income': 'FamIncome'})\n",
    "\n",
    "diet_phys_map = {0:1, 1:2, 2:3}\n",
    "mesa['nutrition'] = mesa['nutrition'].replace(diet_phys_map)\n",
    "mesa['PhysAct'] = mesa['PhysAct'].replace(diet_phys_map)\n",
    "\n",
    "mesa_bla = mesa[mesa['race'] == 3]"
   ]
  },
  {
   "cell_type": "code",
   "execution_count": null,
   "id": "bed271f7",
   "metadata": {},
   "outputs": [],
   "source": [
    "jhs = pd.read_csv('../jhs/data/processed/jhs_cox_base.csv')\n",
    "jhs = jhs.drop(\"nSES\", axis=1)\n",
    "\n",
    "jhs = jhs.rename(columns = {'event': 'Y_tot', \n",
    "                             'nbSESpc2score': 'nSES',\n",
    "                            'S1FAV': 'nFavFood',\n",
    "                            'S1PAI': 'nPhysFac', \n",
    "                            'G_bla_rk': 'nRS', \n",
    "                            'nutrition3cat': 'nutrition', \n",
    "                            'PA3cat': 'PhysAct',\n",
    "                            'fmlyinc': 'FamIncome'})\n",
    "jhs['nutrition'] = jhs['nutrition'].replace(diet_phys_map)\n",
    "jhs['PhysAct'] = jhs['PhysAct'].replace(diet_phys_map)"
   ]
  },
  {
   "cell_type": "markdown",
   "id": "7ac92f5b",
   "metadata": {},
   "source": [
    "## Mesa"
   ]
  },
  {
   "cell_type": "code",
   "execution_count": null,
   "id": "ab74a013",
   "metadata": {},
   "outputs": [],
   "source": [
    "y = mesa['Y_tot']\n",
    "\n",
    "X = mesa[['nSES','nFavFood','nPhysFac', 'nRS',\n",
    "          'FamIncome','nutrition', 'PhysAct',\n",
    "          'age','gender','race','cig','cural','diabet','hdl','chol','sbp']]\n",
    "\n",
    "X1 = X.copy()\n",
    "X2 = X.copy()\n",
    "X3 = X.copy()\n",
    "X4 = X.copy()\n",
    "X5 = X.copy()\n",
    "X6 = X.copy()\n",
    "\n",
    "X1['nSES_FamIncome'] = X['nSES'] * X['FamIncome']\n",
    "X1 = pd.get_dummies(X1, columns=['gender','race','cig','cural','diabet'], \n",
    "                    drop_first=True)\n",
    "\n",
    "X2['nFavFood_FamIncome'] = X['nFavFood'] * X['FamIncome']\n",
    "X3['nPhysFac_FamIncome'] = X['nPhysFac'] * X['FamIncome']\n",
    "X4['nRS_FamIncome'] = X['nRS'] * X['FamIncome']\n",
    "X5['nFavFood_nutrition'] = X['nFavFood'] * X['nutrition']\n",
    "X6['nPhysFac_PhysAct'] = X['nPhysFac'] * X['PhysAct']"
   ]
  },
  {
   "cell_type": "code",
   "execution_count": null,
   "id": "7028fbb2",
   "metadata": {},
   "outputs": [],
   "source": [
    "logistic_model_with_moderation = sm.Logit(y, sm.add_constant(X1)).fit()\n",
    "print(logistic_model_with_moderation.summary())"
   ]
  },
  {
   "cell_type": "code",
   "execution_count": null,
   "id": "c9fcc85e",
   "metadata": {},
   "outputs": [],
   "source": []
  },
  {
   "cell_type": "markdown",
   "id": "9184b9e1",
   "metadata": {},
   "source": [
    "## MESA BLACK"
   ]
  },
  {
   "cell_type": "code",
   "execution_count": null,
   "id": "038aff0a",
   "metadata": {},
   "outputs": [],
   "source": [
    "y = mesa_bla['Y_tot']\n",
    "\n",
    "X = mesa_bla[['nSES','nFavFood','nPhysFac', 'nRS',\n",
    "          'FamIncome','nutrition', 'PhysAct',\n",
    "          'age','gender','race','cig','cural','diabet','hdl','chol','sbp']]\n",
    "\n",
    "X1 = X.copy()\n",
    "X2 = X.copy()\n",
    "X3 = X.copy()\n",
    "X4 = X.copy()\n",
    "X5 = X.copy()\n",
    "X6 = X.copy()\n",
    "\n",
    "X1['nSES_FamIncome'] = X['nSES'] * X['FamIncome']\n",
    "# X1 = pd.get_dummies(X1, columns=['gender','race','cig','cural','diabet'], \n",
    "#                     drop_first=True)\n",
    "X1 = pd.get_dummies(X1, columns=['nSES','nFavFood','nPhysFac', 'nRS',\n",
    "                                 'FamIncome','nutrition', 'PhysAct',\n",
    "                                 'gender','race','cig','cural','diabet','nSES_FamIncome'], \n",
    "                    drop_first=True)\n",
    "\n",
    "X2['nFavFood_FamIncome'] = X['nFavFood'] * X['FamIncome']\n",
    "X3['nPhysFac_FamIncome'] = X['nPhysFac'] * X['FamIncome']\n",
    "X4['nRS_FamIncome'] = X['nRS'] * X['FamIncome']\n",
    "X5['nFavFood_nutrition'] = X['nFavFood'] * X['nutrition']\n",
    "X6['nPhysFac_PhysAct'] = X['nPhysFac'] * X['PhysAct']"
   ]
  },
  {
   "cell_type": "code",
   "execution_count": null,
   "id": "11a3db6f",
   "metadata": {},
   "outputs": [],
   "source": [
    "logistic_model_with_moderation = sm.Logit(y, sm.add_constant(X1)).fit()\n",
    "print(logistic_model_with_moderation.summary())"
   ]
  },
  {
   "cell_type": "markdown",
   "id": "b52e4278",
   "metadata": {},
   "source": [
    "## JHS"
   ]
  },
  {
   "cell_type": "code",
   "execution_count": null,
   "id": "6d0c3229",
   "metadata": {},
   "outputs": [],
   "source": [
    "y = jhs['Y_tot']\n",
    "\n",
    "X = jhs[['nSES','nFavFood','nPhysFac', 'nRS',\n",
    "          'FamIncome','nutrition', 'PhysAct',\n",
    "          'age','gender','currentSmoker','alc','Diabetes','hdl','totchol','sbp']]\n",
    "\n",
    "X1 = X.copy()\n",
    "X2 = X.copy()\n",
    "X3 = X.copy()\n",
    "X4 = X.copy()\n",
    "X5 = X.copy()\n",
    "X6 = X.copy()\n",
    "\n",
    "X1['nSES_FamIncome'] = X['nSES'] * X['FamIncome']\n",
    "# X1 = pd.get_dummies(X1, columns=['gender','currentSmoker','alc','Diabetes'], \n",
    "#                     drop_first=True)\n",
    "X1 = pd.get_dummies(X1, columns=['nSES','nFavFood','nPhysFac', 'nRS',\n",
    "                                 'FamIncome','nutrition', 'PhysAct',\n",
    "                                 'gender','currentSmoker','alc','Diabetes','nSES_FamIncome'], \n",
    "                    drop_first=True)\n",
    "\n",
    "\n",
    "X2['nFavFood_FamIncome'] = X['nFavFood'] * X['FamIncome']\n",
    "X3['nPhysFac_FamIncome'] = X['nPhysFac'] * X['FamIncome']\n",
    "X4['nRS_FamIncome'] = X['nRS'] * X['FamIncome']\n",
    "X5['nFavFood_nutrition'] = X['nFavFood'] * X['nutrition']\n",
    "X6['nPhysFac_PhysAct'] = X['nPhysFac'] * X['PhysAct']"
   ]
  },
  {
   "cell_type": "code",
   "execution_count": null,
   "id": "6d8c67b6",
   "metadata": {},
   "outputs": [],
   "source": [
    "logistic_model_with_moderation = sm.Logit(y, sm.add_constant(X1)).fit()\n",
    "print(logistic_model_with_moderation.summary())"
   ]
  },
  {
   "cell_type": "code",
   "execution_count": null,
   "id": "821558d2",
   "metadata": {},
   "outputs": [],
   "source": []
  }
 ],
 "metadata": {
  "kernelspec": {
   "display_name": "Python 3",
   "language": "python",
   "name": "python3"
  },
  "language_info": {
   "codemirror_mode": {
    "name": "ipython",
    "version": 3
   },
   "file_extension": ".py",
   "mimetype": "text/x-python",
   "name": "python",
   "nbconvert_exporter": "python",
   "pygments_lexer": "ipython3",
   "version": "3.8.3"
  }
 },
 "nbformat": 4,
 "nbformat_minor": 5
}
