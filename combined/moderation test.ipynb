{
 "cells": [
  {
   "cell_type": "markdown",
   "id": "53909e44",
   "metadata": {},
   "source": [
    "## Prep"
   ]
  },
  {
   "cell_type": "code",
   "execution_count": 1,
   "id": "d43cf637",
   "metadata": {},
   "outputs": [],
   "source": [
    "import pandas as pd\n",
    "import numpy as np\n",
    "import matplotlib.pyplot as plt\n",
    "import random\n",
    "import seaborn as sns\n",
    "\n",
    "import statsmodels.api as sm\n",
    "from scipy import stats\n",
    "import statsmodels.tools as tools\n",
    "\n",
    "import warnings\n",
    "warnings.filterwarnings('ignore')\n",
    "\n",
    "pd.set_option('max_columns', None)\n",
    "pd.set_option('max_rows', 100)"
   ]
  },
  {
   "cell_type": "code",
   "execution_count": 2,
   "id": "e0e19375",
   "metadata": {},
   "outputs": [],
   "source": [
    "mesa = pd.read_csv('../mesa/data_processed/Y_BaselineX_processed_full.csv')"
   ]
  },
  {
   "cell_type": "code",
   "execution_count": 3,
   "id": "eb4c0692",
   "metadata": {},
   "outputs": [],
   "source": [
    "jhs = pd.read_csv('../jhs/data/processed/jhs_cox_base.csv')"
   ]
  },
  {
   "cell_type": "code",
   "execution_count": 4,
   "id": "2bcf711d",
   "metadata": {},
   "outputs": [],
   "source": [
    "# standardize var names\n",
    "\n",
    "jhs = jhs.rename(columns = {'event': 'Y_tot', \n",
    "                             'nbSESpc2score': 'nSES',\n",
    "                            'S1FAV': 'nFavFood',\n",
    "                            'S1PAI': 'nPhysFac', \n",
    "                            'G_bla_rk': 'nRS', \n",
    "                            'nutrition3cat': 'nutrition', \n",
    "                            'PA3cat': 'PhysAct',\n",
    "                            'fmlyinc': 'FamIncome'})\n",
    "mesa = mesa.rename(columns = {'cvda': 'Y_tot', \n",
    "                             'F1_PC2': 'nSES',\n",
    "                            'S1FAV': 'nFavFood',\n",
    "                            'S1PAI': 'nPhysFac', \n",
    "                            'G_bla_rk': 'nRS', \n",
    "                            'chdiet': 'nutrition', \n",
    "                            'chphysact': 'PhysAct',\n",
    "                            'income': 'FamIncome'})"
   ]
  },
  {
   "cell_type": "markdown",
   "id": "faa1328d",
   "metadata": {},
   "source": [
    "## Mesa"
   ]
  },
  {
   "cell_type": "code",
   "execution_count": 7,
   "id": "a49a6152",
   "metadata": {},
   "outputs": [],
   "source": [
    "y = mesa['Y_tot']\n",
    "\n",
    "X = mesa[['nSES','nFavFood','nPhysFac', 'nRS',\n",
    "          'FamIncome','nutrition', 'PhysAct',\n",
    "          'age','gender','race','cig','cural','diabet','hdl','chol','sbp']]\n",
    "\n",
    "X1 = X.copy()\n",
    "X2 = X.copy()\n",
    "X3 = X.copy()\n",
    "X4 = X.copy()\n",
    "X5 = X.copy()\n",
    "X6 = X.copy()\n",
    "\n",
    "X1['nSES_FamIncome'] = X['nSES'] * X['FamIncome']\n",
    "X1 = X1.get_dummies(X1, columns=['nSES','nFavFood','nPhysFac', 'nRS',\n",
    "                                 'FamIncome','nutrition', 'PhysAct',\n",
    "                                 'gender','race','cig','cural','diabet'，\n",
    "                                'nSES_FamIncome'], \n",
    "                    drop_first=True)\n",
    "\n",
    "X2['nFavFood_FamIncome'] = X['nFavFood'] * X['FamIncome']\n",
    "X3['nPhysFac_FamIncome'] = X['nPhysFac'] * X['FamIncome']\n",
    "X4['nRS_FamIncome'] = X['nRS'] * X['FamIncome']\n",
    "X5['nFavFood_nutrition'] = X['nFavFood'] * X['nutrition']\n",
    "X6['nPhysFac_PhysAct'] = X['nPhysFac'] * X['PhysAct']"
   ]
  },
  {
   "cell_type": "code",
   "execution_count": 8,
   "id": "6f23f4d3",
   "metadata": {},
   "outputs": [
    {
     "name": "stdout",
     "output_type": "stream",
     "text": [
      "Optimization terminated successfully.\n",
      "         Current function value: 0.411655\n",
      "         Iterations 6\n",
      "                           Logit Regression Results                           \n",
      "==============================================================================\n",
      "Dep. Variable:                  Y_tot   No. Observations:                 6787\n",
      "Model:                          Logit   Df Residuals:                     6769\n",
      "Method:                           MLE   Df Model:                           17\n",
      "Date:                Fri, 03 Nov 2023   Pseudo R-squ.:                 0.09433\n",
      "Time:                        16:45:08   Log-Likelihood:                -2793.9\n",
      "converged:                       True   LL-Null:                       -3084.9\n",
      "Covariance Type:            nonrobust   LLR p-value:                9.221e-113\n",
      "==================================================================================\n",
      "                     coef    std err          z      P>|z|      [0.025      0.975]\n",
      "----------------------------------------------------------------------------------\n",
      "const             -4.8350      0.442    -10.934      0.000      -5.702      -3.968\n",
      "nSES               0.0344      0.099      0.348      0.728      -0.159       0.228\n",
      "nFavFood          -0.0801      0.047     -1.686      0.092      -0.173       0.013\n",
      "nPhysFac           0.1120      0.048      2.326      0.020       0.018       0.206\n",
      "nRS                0.0055      0.033      0.170      0.865      -0.058       0.069\n",
      "FamIncome         -0.0905      0.094     -0.958      0.338      -0.276       0.095\n",
      "nutrition         -0.1641      0.072     -2.279      0.023      -0.305      -0.023\n",
      "PhysAct            0.0105      0.042      0.251      0.802      -0.071       0.092\n",
      "age                0.0483      0.004     12.519      0.000       0.041       0.056\n",
      "gender             0.4643      0.077      6.012      0.000       0.313       0.616\n",
      "race              -0.1110      0.033     -3.323      0.001      -0.176      -0.046\n",
      "cig                0.1471      0.050      2.931      0.003       0.049       0.245\n",
      "cural             -0.1421      0.077     -1.848      0.065      -0.293       0.009\n",
      "diabet             0.7466      0.094      7.973      0.000       0.563       0.930\n",
      "hdl               -0.2039      0.041     -4.982      0.000      -0.284      -0.124\n",
      "chol               0.1009      0.035      2.917      0.004       0.033       0.169\n",
      "sbp                0.2808      0.035      7.985      0.000       0.212       0.350\n",
      "nSES_FamIncome     0.0182      0.034      0.533      0.594      -0.049       0.085\n",
      "==================================================================================\n"
     ]
    }
   ],
   "source": [
    "logistic_model_with_moderation = sm.Logit(y, sm.add_constant(X1)).fit()\n",
    "print(logistic_model_with_moderation.summary())"
   ]
  },
  {
   "cell_type": "code",
   "execution_count": null,
   "id": "74fbc7d4",
   "metadata": {},
   "outputs": [],
   "source": [
    "## issues:\n",
    "## mesa nutrition and PhysAct have value of 0\n",
    "## then do dummy and run model"
   ]
  }
 ],
 "metadata": {
  "kernelspec": {
   "display_name": "Python 3",
   "language": "python",
   "name": "python3"
  },
  "language_info": {
   "codemirror_mode": {
    "name": "ipython",
    "version": 3
   },
   "file_extension": ".py",
   "mimetype": "text/x-python",
   "name": "python",
   "nbconvert_exporter": "python",
   "pygments_lexer": "ipython3",
   "version": "3.8.3"
  }
 },
 "nbformat": 4,
 "nbformat_minor": 5
}
