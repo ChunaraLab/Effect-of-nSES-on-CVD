{
 "cells": [
  {
   "cell_type": "markdown",
   "id": "35a7b177",
   "metadata": {},
   "source": [
    "## Prep"
   ]
  },
  {
   "cell_type": "code",
   "execution_count": null,
   "id": "9157c7b9",
   "metadata": {},
   "outputs": [],
   "source": [
    "import pandas as pd\n",
    "import matplotlib.pyplot as plt\n",
    "import numpy as np\n",
    "import seaborn as sns\n",
    "\n",
    "pd.options.display.max_rows = None"
   ]
  },
  {
   "cell_type": "code",
   "execution_count": null,
   "id": "75f2bc8e",
   "metadata": {},
   "outputs": [],
   "source": [
    "mesa = pd.read_csv('../mesa/data_processed/Y_BaselineX_raw_full.csv')\n",
    "income_mapping = {1:1,2:1,3:1,\n",
    "                 4:2,5:2,6:2,\n",
    "                 7:3,8:3,9:3,10:3, 11:3,\n",
    "                 12:4,13:4}\n",
    "mesa['income'] = mesa['income'].replace(income_mapping)\n",
    "\n",
    "gender_mapping = {0: 'Female', 1: 'Male'}\n",
    "mesa['gender'] = mesa['gender'].replace(gender_mapping)\n",
    "mesa = mesa.rename(columns={'gender':'sex'})\n",
    "\n",
    "mesa_bla = mesa[mesa['race'] == 3]"
   ]
  },
  {
   "cell_type": "code",
   "execution_count": null,
   "id": "65e20dd7",
   "metadata": {},
   "outputs": [],
   "source": [
    "jhs_outcome = pd.read_csv('../jhs/data/processed/jhs_cox_base.csv')\n",
    "jhs_covar = pd.read_csv('../jhs/data/processed/jhs_raw_full.csv')"
   ]
  },
  {
   "cell_type": "markdown",
   "id": "7859a62b",
   "metadata": {},
   "source": [
    "## Outcome"
   ]
  },
  {
   "cell_type": "code",
   "execution_count": null,
   "id": "6d7ae29e",
   "metadata": {},
   "outputs": [],
   "source": [
    "mesa_outcome = mesa[['cvda','cvdatt']]\n",
    "\n",
    "mesa_bla_outcome = mesa_bla[['cvda','cvdatt']]\n",
    "\n",
    "jhs_outcome = jhs_outcome[['event','time']]"
   ]
  },
  {
   "cell_type": "code",
   "execution_count": null,
   "id": "96ad90c0",
   "metadata": {},
   "outputs": [],
   "source": [
    "plt.hist(jhs_outcome['time'][jhs_outcome['event'] == 1], bins=10, alpha=0.5, label='JHS Event Time')\n",
    "plt.hist(mesa_outcome['cvdatt'][mesa_outcome['cvda'] == 1], bins=10, alpha=0.5, label='MESA Event Time')\n",
    "plt.hist(mesa_bla_outcome['cvdatt'][mesa_bla_outcome['cvda'] == 1], bins=10, alpha=0.5, label='MESA_bla Event Time')\n",
    "\n",
    "# Set axis labels and legend\n",
    "plt.xlabel('Time')\n",
    "plt.ylabel('Frequency of Events')\n",
    "plt.legend()\n",
    "\n",
    "# Show the plot\n",
    "plt.title('Distribution of Event Times for JHS and MESA')\n",
    "plt.show()"
   ]
  },
  {
   "cell_type": "code",
   "execution_count": null,
   "id": "22a9c515",
   "metadata": {},
   "outputs": [],
   "source": [
    "sns.kdeplot(jhs_outcome['time'][jhs_outcome['event'] == 1], label='JHS', color='blue')\n",
    "sns.kdeplot(mesa_outcome['cvdatt'][mesa_outcome['cvda'] == 1], label='MESA', color='red')\n",
    "sns.kdeplot(mesa_bla_outcome['cvdatt'][mesa_bla_outcome['cvda'] == 1], label='MESA_bla', color='green')\n",
    "\n",
    "# Set axis labels and legend\n",
    "plt.xlabel('Value')\n",
    "plt.ylabel('Density')\n",
    "plt.legend()\n",
    "\n",
    "# Show the plot\n",
    "plt.title('Density Plot of Event Time')\n",
    "plt.show()\n"
   ]
  },
  {
   "cell_type": "markdown",
   "id": "baa130b1",
   "metadata": {},
   "source": [
    "## nb features"
   ]
  },
  {
   "cell_type": "code",
   "execution_count": null,
   "id": "2b9777c1",
   "metadata": {},
   "outputs": [],
   "source": [
    "sns.kdeplot(jhs_covar['G_bla_rk'], label='JHS', color='blue')\n",
    "sns.kdeplot(mesa['G_bla_rk'], label='MESA', color='red')\n",
    "sns.kdeplot(mesa_bla['G_bla_rk'], label='MESA_bla', color='green')\n",
    "\n",
    "# Set axis labels and legend\n",
    "plt.xlabel('Value')\n",
    "plt.ylabel('Density')\n",
    "plt.legend()\n",
    "\n",
    "# Show the plot\n",
    "plt.title('Density Plot of G_bla_rk')\n",
    "plt.show()\n"
   ]
  },
  {
   "cell_type": "markdown",
   "id": "8f1ac778",
   "metadata": {},
   "source": [
    "## ind exposures"
   ]
  },
  {
   "cell_type": "code",
   "execution_count": null,
   "id": "61398fff",
   "metadata": {},
   "outputs": [],
   "source": [
    "plt.hist([jhs_covar['PA3cat'], mesa['chphysact'], mesa_bla['chphysact']], bins=[0, 1, 2, 3], alpha=0.5, label=['JHS', 'MESA', 'MESA Bla'])\n",
    "\n",
    "# Set axis labels and legend\n",
    "plt.xlabel('Categorization')\n",
    "plt.ylabel('Frequency')\n",
    "plt.legend()\n",
    "\n",
    "tick_positions = [0, 1, 2]\n",
    "tick_labels = ['poor', 'intermediate', 'ideal']\n",
    "plt.xticks([pos + 0.5 for pos in tick_positions], tick_labels)\n",
    "\n",
    "\n",
    "# Show the plot\n",
    "plt.title('physical Activity')\n",
    "plt.show()"
   ]
  },
  {
   "cell_type": "code",
   "execution_count": null,
   "id": "a4bb95b5",
   "metadata": {},
   "outputs": [],
   "source": [
    "## income\n",
    "\n",
    "plt.hist([jhs_covar['fmlyinc'], mesa['income'], mesa_bla['income']], bins=[ 1, 2, 3,4,5], alpha=0.5, label=['JHS', 'MESA', 'MESA Bla'])\n",
    "\n",
    "# Set axis labels and legend\n",
    "plt.ylabel('Frequency')\n",
    "plt.legend()\n",
    "\n",
    "tick_positions = [ 1, 2,3,4]\n",
    "tick_labels = ['$0-11,999', '$12,000-24,999', '$25,000-74,999','$75,000+']\n",
    "plt.xticks([pos + 0.5 for pos in tick_positions], tick_labels)\n",
    "\n",
    "\n",
    "# Show the plot\n",
    "plt.title('Family Income')\n",
    "plt.show()"
   ]
  },
  {
   "cell_type": "markdown",
   "id": "16112f5b",
   "metadata": {},
   "source": [
    "## Covariates"
   ]
  },
  {
   "cell_type": "code",
   "execution_count": null,
   "id": "463bbb9f",
   "metadata": {},
   "outputs": [],
   "source": [
    "# continuous covariates\n",
    "\n",
    "sns.kdeplot(jhs_covar['sbp'], label='JHS', color='blue')\n",
    "sns.kdeplot(mesa['sbp'], label='MESA', color='red')\n",
    "sns.kdeplot(mesa_bla['sbp'], label='MESA bla', color='green')\n",
    "\n",
    "# Set axis labels and legend\n",
    "plt.xlabel('Value')\n",
    "plt.ylabel('Density')\n",
    "plt.legend()\n",
    "\n",
    "# Show the plot\n",
    "plt.title('Density Plot of Baseline sbp')\n",
    "plt.show()\n"
   ]
  },
  {
   "cell_type": "code",
   "execution_count": null,
   "id": "c48ee13c",
   "metadata": {},
   "outputs": [],
   "source": [
    "# race\n",
    "\n",
    "mesa['race'].value_counts()"
   ]
  },
  {
   "cell_type": "code",
   "execution_count": null,
   "id": "8a2a18da",
   "metadata": {},
   "outputs": [],
   "source": [
    "# gender\n",
    "\n",
    "plt.hist([jhs_covar['sex'], mesa['sex'], mesa_bla['sex']], bins=[0, 1, 2, 3], alpha=0.5, label=['JHS', 'MESA', 'MESA Bla'])\n",
    "\n",
    "# Set axis labels and legend\n",
    "plt.xlabel('Sex')\n",
    "plt.ylabel('Frequency')\n",
    "plt.legend()\n",
    "\n",
    "# Move the x-axis labels towards the right\n",
    "tick_positions = [0.5, 1.5]\n",
    "tick_labels = ['female', 'male']\n",
    "plt.xticks(tick_positions, tick_labels)\n",
    "\n",
    "# Show the plot\n",
    "plt.title('Histogram of Sex')\n",
    "plt.show()"
   ]
  },
  {
   "cell_type": "code",
   "execution_count": null,
   "id": "8094882b",
   "metadata": {},
   "outputs": [],
   "source": [
    "# binary covariates\n",
    "\n",
    "plt.hist([jhs_covar['Diabetes'], mesa['diabet'], mesa_bla['diabet']], bins=[0, 1, 2, 3], alpha=0.5, \n",
    "         label=['JHS', 'MESA', 'MESA Bla'])\n",
    "\n",
    "# Set axis labels and legend\n",
    "plt.xlabel('Diabetes status')\n",
    "plt.ylabel('Frequency')\n",
    "plt.legend()\n",
    "\n",
    "# Move the x-axis labels towards the right\n",
    "tick_positions = [0.5, 1.5]\n",
    "tick_labels = ['1', '0']\n",
    "plt.xticks(tick_positions, tick_labels)\n",
    "\n",
    "# Show the plot\n",
    "plt.title('Histogram of Diabetes Status')\n",
    "plt.show()"
   ]
  }
 ],
 "metadata": {
  "kernelspec": {
   "display_name": "Python 3",
   "language": "python",
   "name": "python3"
  },
  "language_info": {
   "codemirror_mode": {
    "name": "ipython",
    "version": 3
   },
   "file_extension": ".py",
   "mimetype": "text/x-python",
   "name": "python",
   "nbconvert_exporter": "python",
   "pygments_lexer": "ipython3",
   "version": "3.8.3"
  }
 },
 "nbformat": 4,
 "nbformat_minor": 5
}
