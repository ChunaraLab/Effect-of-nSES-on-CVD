{
 "cells": [
  {
   "cell_type": "markdown",
   "id": "b8a6c98a",
   "metadata": {},
   "source": [
    "## Prep"
   ]
  },
  {
   "cell_type": "code",
   "execution_count": null,
   "id": "6ffa2170",
   "metadata": {},
   "outputs": [],
   "source": [
    "import pandas as pd\n",
    "import matplotlib.pyplot as plt\n",
    "import numpy as np\n",
    "import seaborn as sns\n",
    "\n",
    "pd.options.display.max_rows = None"
   ]
  },
  {
   "cell_type": "code",
   "execution_count": null,
   "id": "56d27bcb",
   "metadata": {},
   "outputs": [],
   "source": [
    "mesa = pd.read_csv('../mesa/data_processed/Y_BaselineX_raw_full.csv')\n",
    "\n",
    "jhs_outcome = pd.read_csv('../jhs/data/processed/jhs_cox_base.csv')\n",
    "jhs_covar = pd.read_csv('../jhs/data/processed/jhs_raw_full.csv')"
   ]
  },
  {
   "cell_type": "markdown",
   "id": "45600ea0",
   "metadata": {},
   "source": [
    "## Outcome"
   ]
  },
  {
   "cell_type": "code",
   "execution_count": null,
   "id": "8f533e83",
   "metadata": {},
   "outputs": [],
   "source": [
    "mesa_outcome = mesa[['cvda','cvdatt']]\n",
    "\n",
    "jhs_outcome = jhs_outcome[['event','time']]"
   ]
  },
  {
   "cell_type": "code",
   "execution_count": null,
   "id": "7380afe3",
   "metadata": {},
   "outputs": [],
   "source": [
    "plt.hist(jhs_outcome['time'][jhs_outcome['event'] == 1], bins=10, alpha=0.5, label='JHS Event Time')\n",
    "plt.hist(mesa_outcome['cvdatt'][mesa_outcome['cvda'] == 1], bins=10, alpha=0.5, label='MESA Event Time')\n",
    "\n",
    "# Set axis labels and legend\n",
    "plt.xlabel('Time')\n",
    "plt.ylabel('Frequency of Events')\n",
    "plt.legend()\n",
    "\n",
    "# Show the plot\n",
    "plt.title('Distribution of Event Times for JHS and MESA')\n",
    "plt.show()"
   ]
  },
  {
   "cell_type": "code",
   "execution_count": null,
   "id": "523608a4",
   "metadata": {},
   "outputs": [],
   "source": [
    "sns.kdeplot(jhs_outcome['time'][jhs_outcome['event'] == 1], label='JHS', color='blue')\n",
    "sns.kdeplot(mesa_outcome['cvdatt'][mesa_outcome['cvda'] == 1], label='MESA', color='red')\n",
    "\n",
    "# Set axis labels and legend\n",
    "plt.xlabel('Value')\n",
    "plt.ylabel('Density')\n",
    "plt.legend()\n",
    "\n",
    "# Show the plot\n",
    "plt.title('Density Plot of Event Time')\n",
    "plt.show()\n"
   ]
  },
  {
   "cell_type": "markdown",
   "id": "b9b1200e",
   "metadata": {},
   "source": [
    "## nSES"
   ]
  },
  {
   "cell_type": "code",
   "execution_count": null,
   "id": "6b5f5c85",
   "metadata": {},
   "outputs": [],
   "source": [
    "sns.kdeplot(jhs_covar['nbSESpc2score'], label='JHS', color='blue')\n",
    "sns.kdeplot(mesa['F1_PC2'], label='MESA', color='red')\n",
    "\n",
    "# Set axis labels and legend\n",
    "plt.xlabel('Value')\n",
    "plt.ylabel('Density')\n",
    "plt.legend()\n",
    "\n",
    "# Show the plot\n",
    "plt.title('Density Plot of nSES')\n",
    "plt.show()\n"
   ]
  },
  {
   "cell_type": "markdown",
   "id": "8cb11ace",
   "metadata": {},
   "source": [
    "## Covariates"
   ]
  },
  {
   "cell_type": "code",
   "execution_count": null,
   "id": "b5ad8571",
   "metadata": {},
   "outputs": [],
   "source": [
    "sns.kdeplot(jhs_covar['age'], label='JHS', color='blue')\n",
    "sns.kdeplot(mesa['age'], label='MESA', color='red')\n",
    "\n",
    "# Set axis labels and legend\n",
    "plt.xlabel('Value')\n",
    "plt.ylabel('Density')\n",
    "plt.legend()\n",
    "\n",
    "# Show the plot\n",
    "plt.title('Density Plot of Baseline Age')\n",
    "plt.show()\n"
   ]
  },
  {
   "cell_type": "code",
   "execution_count": null,
   "id": "8911eaac",
   "metadata": {},
   "outputs": [],
   "source": [
    "mesa['race'].value_counts()"
   ]
  },
  {
   "cell_type": "code",
   "execution_count": null,
   "id": "fe131283",
   "metadata": {},
   "outputs": [],
   "source": []
  }
 ],
 "metadata": {
  "kernelspec": {
   "display_name": "Python 3",
   "language": "python",
   "name": "python3"
  },
  "language_info": {
   "codemirror_mode": {
    "name": "ipython",
    "version": 3
   },
   "file_extension": ".py",
   "mimetype": "text/x-python",
   "name": "python",
   "nbconvert_exporter": "python",
   "pygments_lexer": "ipython3",
   "version": "3.8.3"
  }
 },
 "nbformat": 4,
 "nbformat_minor": 5
}
