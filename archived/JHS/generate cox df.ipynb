{
 "cells": [
  {
   "cell_type": "code",
   "execution_count": null,
   "id": "7b8527f9",
   "metadata": {},
   "outputs": [],
   "source": [
    "import pandas as pd\n",
    "import numpy as np\n",
    "import os\n",
    "\n",
    "import warnings\n",
    "warnings.filterwarnings('ignore')\n",
    "pd.set_option('max_columns', None)\n",
    "pd.set_option('max_rows', 100)\n",
    "\n",
    "\n",
    "# calculate outcome y\n",
    "def get_outcome(df):\n",
    "    df['y'] = 0\n",
    "    df.loc[\n",
    "       (df['MIHx']==1.0) |\n",
    "       (df['strokeHx']==1.0) |\n",
    "       (df['CHDHx']==1.0)|\n",
    "       (df['CVDHx']==1.0),\n",
    "       'y'] = 1\n",
    "    return df"
   ]
  },
  {
   "cell_type": "code",
   "execution_count": null,
   "id": "75b45a29",
   "metadata": {},
   "outputs": [],
   "source": [
    "# data of predictors\n",
    "df = pd.read_csv('data/common_data_jhs.csv')\n",
    "df"
   ]
  },
  {
   "cell_type": "code",
   "execution_count": null,
   "id": "1bafee45",
   "metadata": {},
   "outputs": [],
   "source": [
    "sex_mapping = {'Female':0,'Male':1}\n",
    "df = df.assign(gender  = df.sex.map(sex_mapping))\n",
    "df = df[['subjid','visit','age', 'gender', 'currentSmoker', 'sbp', 'Diabetes', 'hdl', 'totchol','nSES', 'nbSESpc2score']]\n",
    "common_subj_index = df['subjid'].tolist()\n",
    "df"
   ]
  },
  {
   "cell_type": "code",
   "execution_count": null,
   "id": "9e7e2bc2",
   "metadata": {},
   "outputs": [],
   "source": [
    "# data of outcome\n",
    "df_raw = pd.read_csv('data/jhs_data.csv')\n",
    "df_y_v1 = df_raw[df_raw[\"visit\"] == 1]\n",
    "df_y_v1 = df_y_v1.loc[df_y_v1['subjid'].isin(common_subj_index),:]  # subset subjects with data across 3 visits\n",
    "df_y_v1 = get_outcome(df_y_v1)\n",
    "df_y_v1 = df_y_v1[['subjid','y']]\n",
    "df_y_v1 = df_y_v1.rename(columns={\"y\": \"y1\"})\n",
    "\n",
    "df_y_v2 = df_raw[df_raw[\"visit\"] == 2]\n",
    "df_y_v2 = df_y_v2.loc[df_y_v2['subjid'].isin(common_subj_index),:] \n",
    "df_y_v2 = get_outcome(df_y_v2)\n",
    "df_y_v2 = df_y_v2[['subjid','y']]\n",
    "df_y_v2 = df_y_v2.rename(columns={\"y\": \"y2\"})\n",
    "\n",
    "df_y_v3 = df_raw[df_raw[\"visit\"] == 3]\n",
    "df_y_v3 = df_y_v3.loc[df_y_v3['subjid'].isin(common_subj_index),:] \n",
    "df_y_v3 = get_outcome(df_y_v3)\n",
    "df_y_v3 = df_y_v3[['subjid','y']]\n",
    "df_y_v3 = df_y_v3.rename(columns={\"y\": \"y3\"})"
   ]
  },
  {
   "cell_type": "code",
   "execution_count": null,
   "id": "d7a6a083",
   "metadata": {},
   "outputs": [],
   "source": [
    "# merge predictors and outcome\n",
    "df_y1 = df.merge(df_y_v1, on = 'subjid', how = 'left', suffixes=(False, False))\n",
    "df_y2 = df_y1.merge(df_y_v2, on = 'subjid', how = 'left', suffixes=(False, False))\n",
    "df_y123 = df_y2.merge(df_y_v3, on = 'subjid', how = 'left', suffixes=(False, False))\n",
    "df_y123"
   ]
  },
  {
   "cell_type": "code",
   "execution_count": null,
   "id": "eb82d13d",
   "metadata": {},
   "outputs": [],
   "source": [
    "# recode event and time\n",
    "\n",
    "df_event = df_y123[df_y123[\"visit\"] == 1]\n",
    "df_event['event'] = 0\n",
    "df_event['time'] = 3\n",
    "\n",
    "\n",
    "## incidence in V1\n",
    "df_event.loc[df_event['y1'] == 1,'event'] = 1\n",
    "df_event.loc[df_event['y1'] == 1,'time'] = 1\n",
    "\n",
    "## incidence in V2\n",
    "v2_index = (df_event['y2'] == 1) & (df_event['y1'] == 0)\n",
    "df_event.loc[v2_index,'event'] = 1\n",
    "df_event.loc[v2_index,'time'] = 2\n",
    "\n",
    "## incidence in V1\n",
    "v3_index = (df_event['y3'] == 1) & (df_event['y1'] == 0) & (df_event['y2'] == 0)\n",
    "df_event.loc[v3_index,'event'] = 1\n",
    "\n",
    "df_event.head(100)"
   ]
  },
  {
   "cell_type": "code",
   "execution_count": null,
   "id": "b10c3fb9",
   "metadata": {},
   "outputs": [],
   "source": [
    "# prepare df for cox\n",
    "\n",
    "cox_df = df_event.loc[:, ~df_event.columns.isin(['subjid','visit','y1','y2','y3'])]\n",
    "\n",
    "cate_index = ['gender', 'currentSmoker', 'Diabetes', 'nSES']\n",
    "cox_df.loc[:, cate_index] = pd.get_dummies(cox_df.loc[:, cate_index], drop_first=True)\n",
    "\n",
    "# fill nan\n",
    "mean_score=cox_df['nbSESpc2score'].mean()\n",
    "cox_df['nbSESpc2score'].fillna(value=mean_score, inplace=True)\n",
    "mean_sbp=cox_df['sbp'].mean()\n",
    "cox_df['sbp'].fillna(value=mean_sbp, inplace=True)\n",
    "mean_hdl=cox_df['hdl'].mean()\n",
    "cox_df['hdl'].fillna(value=mean_hdl, inplace=True)\n",
    "mean_chol=cox_df['totchol'].mean()\n",
    "cox_df['totchol'].fillna(value=mean_chol, inplace=True)\n",
    "cox_df = cox_df.apply(lambda x: x.fillna(x.value_counts().index[0]))\n",
    "\n",
    "cox_df"
   ]
  },
  {
   "cell_type": "code",
   "execution_count": null,
   "id": "06e1a69e",
   "metadata": {},
   "outputs": [],
   "source": [
    "# store df\n",
    "cox_df.to_csv('data/cox_df.csv', index = False)  "
   ]
  },
  {
   "cell_type": "code",
   "execution_count": null,
   "id": "934e842c",
   "metadata": {},
   "outputs": [],
   "source": [
    "# cox df with y1-y3\n",
    "\n",
    "cox_df_full = df_event.loc[:, ~df_event.columns.isin(['subjid','visit'])]\n",
    "\n",
    "cate_index = ['gender', 'currentSmoker', 'Diabetes', 'nSES']\n",
    "cox_df_full.loc[:, cate_index] = pd.get_dummies(cox_df_full.loc[:, cate_index], drop_first=True)\n",
    "\n",
    "# fill nan\n",
    "mean_score=cox_df_full['nbSESpc2score'].mean()\n",
    "cox_df_full['nbSESpc2score'].fillna(value=mean_score, inplace=True)\n",
    "mean_sbp=cox_df_full['sbp'].mean()\n",
    "cox_df_full['sbp'].fillna(value=mean_sbp, inplace=True)\n",
    "mean_hdl=cox_df_full['hdl'].mean()\n",
    "cox_df_full['hdl'].fillna(value=mean_hdl, inplace=True)\n",
    "mean_chol=cox_df_full['totchol'].mean()\n",
    "cox_df_full['totchol'].fillna(value=mean_chol, inplace=True)\n",
    "cox_df_full = cox_df_full.apply(lambda x: x.fillna(x.value_counts().index[0]))\n",
    "\n",
    "cox_df_full"
   ]
  },
  {
   "cell_type": "code",
   "execution_count": null,
   "id": "b0b208ee",
   "metadata": {},
   "outputs": [],
   "source": [
    "# store df\n",
    "cox_df_full.to_csv('data/cox_df_full.csv', index = False)  "
   ]
  },
  {
   "cell_type": "code",
   "execution_count": null,
   "id": "92402e01",
   "metadata": {},
   "outputs": [],
   "source": [
    "# os.remove('data/cox_df.csv')"
   ]
  }
 ],
 "metadata": {
  "kernelspec": {
   "display_name": "Python 3",
   "language": "python",
   "name": "python3"
  },
  "language_info": {
   "codemirror_mode": {
    "name": "ipython",
    "version": 3
   },
   "file_extension": ".py",
   "mimetype": "text/x-python",
   "name": "python",
   "nbconvert_exporter": "python",
   "pygments_lexer": "ipython3",
   "version": "3.8.3"
  }
 },
 "nbformat": 4,
 "nbformat_minor": 5
}
