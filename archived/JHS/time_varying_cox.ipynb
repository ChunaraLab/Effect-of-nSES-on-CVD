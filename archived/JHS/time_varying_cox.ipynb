{
 "cells": [
  {
   "cell_type": "code",
   "execution_count": null,
   "id": "95806fca",
   "metadata": {},
   "outputs": [],
   "source": [
    "import pandas as pd\n",
    "import numpy as np\n",
    "from lifelines.utils import to_long_format\n",
    "from sklearn.model_selection import train_test_split\n",
    "from lifelines import CoxTimeVaryingFitter\n",
    "import random\n",
    "import matplotlib.pyplot as plt\n",
    "\n",
    "import warnings\n",
    "warnings.filterwarnings('ignore')\n",
    "pd.set_option('max_columns', None)\n",
    "pd.set_option('max_rows', 100)\n",
    "\n",
    "# calculate outcome y\n",
    "def get_outcome(df):\n",
    "    df['y'] = 0\n",
    "    df.loc[\n",
    "       (df['MIHx']==1.0) |\n",
    "       (df['strokeHx']==1.0) |\n",
    "       (df['CHDHx']==1.0)|\n",
    "       (df['CVDHx']==1.0),\n",
    "       'y'] = 1\n",
    "    return df"
   ]
  },
  {
   "cell_type": "code",
   "execution_count": null,
   "id": "211930a3",
   "metadata": {},
   "outputs": [],
   "source": [
    "##### get the df of all the covariates and outcome #####"
   ]
  },
  {
   "cell_type": "code",
   "execution_count": null,
   "id": "62f8f939",
   "metadata": {},
   "outputs": [],
   "source": [
    "# data of predictors\n",
    "df = pd.read_csv('data/common_data_jhs.csv')\n",
    "sex_mapping = {'Female':0,'Male':1}\n",
    "df = df.assign(gender  = df.sex.map(sex_mapping))\n",
    "df = df[['subjid','visit','age', 'gender', 'currentSmoker', 'sbp', 'Diabetes', 'hdl', 'totchol','nSES', 'nbSESpc2score']]\n",
    "common_subj_index = df['subjid'].tolist()\n",
    "df"
   ]
  },
  {
   "cell_type": "code",
   "execution_count": null,
   "id": "e2eaf846",
   "metadata": {},
   "outputs": [],
   "source": [
    "# data of outcome\n",
    "df_raw = pd.read_csv('data/jhs_data.csv')\n",
    "df_y_v1 = df_raw[df_raw[\"visit\"] == 1]\n",
    "df_y_v1 = df_y_v1.loc[df_y_v1['subjid'].isin(common_subj_index),:]  # subset subjects with data across 3 visits\n",
    "df_y_v1 = get_outcome(df_y_v1)\n",
    "df_y_v1 = df_y_v1[['subjid','y']]\n",
    "df_y_v1 = df_y_v1.rename(columns={\"y\": \"y1\"})\n",
    "\n",
    "df_y_v2 = df_raw[df_raw[\"visit\"] == 2]\n",
    "df_y_v2 = df_y_v2.loc[df_y_v2['subjid'].isin(common_subj_index),:] \n",
    "df_y_v2 = get_outcome(df_y_v2)\n",
    "df_y_v2 = df_y_v2[['subjid','y']]\n",
    "df_y_v2 = df_y_v2.rename(columns={\"y\": \"y2\"})\n",
    "\n",
    "df_y_v3 = df_raw[df_raw[\"visit\"] == 3]\n",
    "df_y_v3 = df_y_v3.loc[df_y_v3['subjid'].isin(common_subj_index),:] \n",
    "df_y_v3 = get_outcome(df_y_v3)\n",
    "df_y_v3 = df_y_v3[['subjid','y']]\n",
    "df_y_v3 = df_y_v3.rename(columns={\"y\": \"y3\"})"
   ]
  },
  {
   "cell_type": "code",
   "execution_count": null,
   "id": "bc970c1c",
   "metadata": {},
   "outputs": [],
   "source": [
    "# merge predictors and outcome\n",
    "df_y1 = df.merge(df_y_v1, on = 'subjid', how = 'left', suffixes=(False, False))\n",
    "df_y2 = df_y1.merge(df_y_v2, on = 'subjid', how = 'left', suffixes=(False, False))\n",
    "df_y123 = df_y2.merge(df_y_v3, on = 'subjid', how = 'left', suffixes=(False, False))\n",
    "df_y123"
   ]
  },
  {
   "cell_type": "code",
   "execution_count": null,
   "id": "34b8b987",
   "metadata": {},
   "outputs": [],
   "source": [
    "# counts of CVD events in each visit\n",
    "\n",
    "df_1 = df_y123[df_y123[\"visit\"] == 1]\n",
    "df_2 = df_y123[df_y123[\"visit\"] == 2]\n",
    "df_3 = df_y123[df_y123[\"visit\"] == 3]\n",
    "print(\"y1 = \",df_1[df_1[\"y1\"] == 1].shape[0])\n",
    "print(\"y2 = \",df_2[df_2[\"y2\"] == 1].shape[0])\n",
    "print(\"y3 = \",df_3[df_3[\"y3\"] == 1].shape[0])"
   ]
  },
  {
   "cell_type": "code",
   "execution_count": null,
   "id": "2f2a7267",
   "metadata": {},
   "outputs": [],
   "source": [
    "##### create df in long format #####"
   ]
  },
  {
   "cell_type": "code",
   "execution_count": null,
   "id": "12c062ae",
   "metadata": {},
   "outputs": [],
   "source": [
    "# deal with df_1 nan\n",
    "\n",
    "def FillNan(df):\n",
    "    # replace na with mean (continuous predictor)\n",
    "    mean_score=df['nbSESpc2score'].mean()\n",
    "    df['nbSESpc2score'].fillna(value=mean_score, inplace=True)\n",
    "    mean_sbp=df['sbp'].mean()\n",
    "    df['sbp'].fillna(value=mean_sbp, inplace=True)\n",
    "    mean_hdl=df['hdl'].mean()\n",
    "    df['hdl'].fillna(value=mean_hdl, inplace=True)\n",
    "    mean_chol=df['totchol'].mean()\n",
    "    df['totchol'].fillna(value=mean_chol, inplace=True)\n",
    "\n",
    "    # filling na with most common class (categorical predictor)\n",
    "    df = df.apply(lambda x: x.fillna(x.value_counts().index[0]))\n",
    "    \n",
    "    return df\n",
    "\n",
    "df_1 = FillNan(df_1)\n",
    "print(df_1.isnull().sum())"
   ]
  },
  {
   "cell_type": "code",
   "execution_count": null,
   "id": "ccaa04ed",
   "metadata": {},
   "outputs": [],
   "source": [
    "base_df = df_1[['subjid', 'visit', 'age','gender', 'currentSmoker','sbp', 'Diabetes','hdl','totchol', 'nSES', 'nbSESpc2score','y1']]\n",
    "base_df = to_long_format(base_df, duration_col=\"visit\")\n",
    "base_df = base_df.rename(columns={'y1': 'event'})\n",
    "base_df"
   ]
  },
  {
   "cell_type": "code",
   "execution_count": null,
   "id": "f9c844ae",
   "metadata": {},
   "outputs": [],
   "source": [
    "# extract V2 covariates and y2\n",
    "sec_df = df_2[['subjid','visit', 'age', 'sbp', 'Diabetes','y2']]\n",
    "sec_df = sec_df.rename(columns={'y2': 'event', 'visit':'stop'})\n",
    "\n",
    "# deal with nan\n",
    "def FillNan2(df):\n",
    "    # replace na with mean (continuous predictor)\n",
    "    mean_sbp=df['sbp'].mean()\n",
    "    df['sbp'].fillna(value=mean_sbp, inplace=True)\n",
    "    # filling na with most common class (categorical predictor)\n",
    "    df = df.apply(lambda x: x.fillna(x.value_counts().index[0]))\n",
    "    return df\n",
    "\n",
    "sec_df = FillNan2(sec_df)\n",
    "print(sec_df.isnull().sum())\n",
    "\n",
    "# get value from V1 if covariates not available at V2\n",
    "covar_from_V1 = df_1[['subjid', 'gender', 'currentSmoker', 'hdl','totchol', 'nSES','nbSESpc2score']]\n",
    "sec_df = sec_df.merge(covar_from_V1, on = 'subjid', how = 'left', suffixes=(False, False))\n",
    "\n",
    "# manually add \"start\" col\n",
    "sec_df['start'] = 1"
   ]
  },
  {
   "cell_type": "code",
   "execution_count": null,
   "id": "12e68452",
   "metadata": {},
   "outputs": [],
   "source": [
    "# combine base_df and sec_df\n",
    "com_12 = pd.concat([base_df, sec_df])\n",
    "com_12 = com_12.sort_values(by=['subjid'])\n",
    "com_12"
   ]
  },
  {
   "cell_type": "code",
   "execution_count": null,
   "id": "556f9c6e",
   "metadata": {},
   "outputs": [],
   "source": [
    "# df for V3\n",
    "third_df = df_3[['subjid','visit', 'age', 'sbp', 'Diabetes','hdl','y3']]\n",
    "third_df = third_df.rename(columns={'y3': 'event', 'visit':'stop'})\n",
    "\n",
    "# deal with nan\n",
    "def FillNan3(df):\n",
    "    # replace na with mean (continuous predictor)\n",
    "    mean_sbp=df['sbp'].mean()\n",
    "    df['sbp'].fillna(value=mean_sbp, inplace=True)\n",
    "    mean_hdl=df['hdl'].mean()\n",
    "    df['hdl'].fillna(value=mean_hdl, inplace=True)\n",
    "    # filling na with most common class (categorical predictor)\n",
    "    df = df.apply(lambda x: x.fillna(x.value_counts().index[0]))\n",
    "    return df\n",
    "\n",
    "third_df = FillNan3(third_df)\n",
    "print(third_df.isnull().sum())\n",
    "\n",
    "# get value from V1 if covariates not available at V2\n",
    "covar_from_V1 = df_1[['subjid', 'gender', 'currentSmoker','totchol', 'nSES','nbSESpc2score']]\n",
    "third_df = third_df.merge(covar_from_V1, on = 'subjid', how = 'left', suffixes=(False, False))\n",
    "\n",
    "# manually add \"start\" col\n",
    "third_df['start'] = 2"
   ]
  },
  {
   "cell_type": "code",
   "execution_count": null,
   "id": "e767d56f",
   "metadata": {},
   "outputs": [],
   "source": [
    "# combine df\n",
    "cox_df = pd.concat([com_12, third_df])\n",
    "cox_df = cox_df.sort_values(by=['subjid'])\n",
    "\n",
    "# dummy coding\n",
    "cate_index = ['gender', 'currentSmoker', 'Diabetes', 'nSES']\n",
    "cox_df.loc[:, cate_index] = pd.get_dummies(cox_df.loc[:, cate_index], drop_first=True)\n",
    "\n",
    "cox_df"
   ]
  },
  {
   "cell_type": "code",
   "execution_count": null,
   "id": "0af81bed",
   "metadata": {},
   "outputs": [],
   "source": [
    "##### model fitting #####"
   ]
  },
  {
   "cell_type": "code",
   "execution_count": null,
   "id": "703283c1",
   "metadata": {},
   "outputs": [],
   "source": [
    "# split train and test set\n",
    "\n",
    "random.seed(1)\n",
    "\n",
    "tot = np.arange(0,3568).tolist()\n",
    "n_tr = int(3568 * 0.8)\n",
    "tr_index = random.sample(tot, k=n_tr) \n",
    "cox_tr = cox_df.loc[tr_index,:]\n",
    "\n",
    "tr_index = cox_df.index.isin(tr_index)\n",
    "cox_te = cox_df.loc[~tr_index]"
   ]
  },
  {
   "cell_type": "code",
   "execution_count": null,
   "id": "c6768ca8",
   "metadata": {},
   "outputs": [],
   "source": [
    "# model without nses"
   ]
  },
  {
   "cell_type": "code",
   "execution_count": null,
   "id": "3e6d2f58",
   "metadata": {},
   "outputs": [],
   "source": [
    "ctv_no_nses = CoxTimeVaryingFitter(penalizer=0.1)\n",
    "ctv_no_nses.fit(cox_tr.loc[:, ~cox_tr.columns.isin(['nSES', 'nbSESpc2score'])], id_col=\"subjid\", event_col=\"event\", start_col=\"start\", stop_col=\"stop\", show_progress=False)\n"
   ]
  },
  {
   "cell_type": "code",
   "execution_count": null,
   "id": "ddbc7d1e",
   "metadata": {},
   "outputs": [],
   "source": [
    "ctv_no_nses.print_summary()"
   ]
  },
  {
   "cell_type": "code",
   "execution_count": null,
   "id": "f15bb1ba",
   "metadata": {},
   "outputs": [],
   "source": [
    "# model with binary nses\n",
    "ctv_nses = CoxTimeVaryingFitter(penalizer=0.1)\n",
    "ctv_nses.fit(cox_tr.loc[:, cox_tr.columns!='nbSESpc2score'], id_col=\"subjid\", event_col=\"event\", start_col=\"start\", stop_col=\"stop\", show_progress=False)"
   ]
  },
  {
   "cell_type": "code",
   "execution_count": null,
   "id": "748af8ca",
   "metadata": {},
   "outputs": [],
   "source": [
    "ctv_nses.print_summary()"
   ]
  },
  {
   "cell_type": "code",
   "execution_count": null,
   "id": "17fff324",
   "metadata": {},
   "outputs": [],
   "source": [
    "# model with continuous nSES"
   ]
  },
  {
   "cell_type": "code",
   "execution_count": null,
   "id": "71225b10",
   "metadata": {},
   "outputs": [],
   "source": [
    "ctv_con_nses = CoxTimeVaryingFitter(penalizer=0.1)\n",
    "ctv_con_nses.fit(cox_tr.loc[:, cox_tr.columns!='nSES'], id_col=\"subjid\", event_col=\"event\", start_col=\"start\", stop_col=\"stop\", show_progress=False)"
   ]
  },
  {
   "cell_type": "code",
   "execution_count": null,
   "id": "96defdbc",
   "metadata": {},
   "outputs": [],
   "source": [
    "ctv_con_nses.print_summary()"
   ]
  },
  {
   "cell_type": "code",
   "execution_count": null,
   "id": "aeffdfe4",
   "metadata": {},
   "outputs": [],
   "source": [
    "ctv_con_nses.plot"
   ]
  },
  {
   "cell_type": "code",
   "execution_count": null,
   "id": "03f860de",
   "metadata": {},
   "outputs": [],
   "source": [
    "##### model performance #####"
   ]
  },
  {
   "cell_type": "code",
   "execution_count": null,
   "id": "e27a3857",
   "metadata": {},
   "outputs": [],
   "source": [
    "# predictions?\n",
    "par_hazard = ctv_con_nses.predict_partial_hazard(cox_te.loc[:, ~cox_te.columns.isin(['nSES', 'event'])])"
   ]
  },
  {
   "cell_type": "code",
   "execution_count": null,
   "id": "95d6f22d",
   "metadata": {},
   "outputs": [],
   "source": [
    "cox_te.loc[:, ~cox_te.columns.isin(['nSES'])]"
   ]
  },
  {
   "cell_type": "code",
   "execution_count": null,
   "id": "0b61df46",
   "metadata": {},
   "outputs": [],
   "source": [
    "print(par_hazard)"
   ]
  },
  {
   "cell_type": "code",
   "execution_count": null,
   "id": "e6797a12",
   "metadata": {},
   "outputs": [],
   "source": [
    "dir(par_hazard)"
   ]
  },
  {
   "cell_type": "code",
   "execution_count": null,
   "id": "9952e012",
   "metadata": {},
   "outputs": [],
   "source": [
    "# density plot of nses score\n",
    "import statistics\n",
    "\n",
    "# matplotlib histogram\n",
    "plt.hist(par_hazard, color = '#1f77b4', edgecolor = 'black',\n",
    "         bins = 50)\n",
    "\n",
    "# Add labels\n",
    "plt.title('Histogram of predicted hazards')\n",
    "plt.xlabel('hazards')\n",
    "plt.ylabel('Frequency')\n",
    "plt.show()"
   ]
  },
  {
   "cell_type": "code",
   "execution_count": null,
   "id": "c6c7d92e",
   "metadata": {},
   "outputs": [],
   "source": [
    "[ctv_con_nses.baseline_cumulative_hazard_]"
   ]
  },
  {
   "cell_type": "code",
   "execution_count": null,
   "id": "626442a2",
   "metadata": {},
   "outputs": [],
   "source": [
    "cox_te"
   ]
  },
  {
   "cell_type": "code",
   "execution_count": null,
   "id": "4a90d253",
   "metadata": {},
   "outputs": [],
   "source": [
    "ctv_con_nses.baseline_survival_"
   ]
  },
  {
   "cell_type": "code",
   "execution_count": null,
   "id": "763473c1",
   "metadata": {},
   "outputs": [],
   "source": [
    "ctv_con_nses.plot_covariate_groups"
   ]
  },
  {
   "cell_type": "code",
   "execution_count": null,
   "id": "fcb89d4c",
   "metadata": {},
   "outputs": [],
   "source": [
    "ctv_con_nses.plot"
   ]
  },
  {
   "cell_type": "code",
   "execution_count": null,
   "id": "c7db5e32",
   "metadata": {},
   "outputs": [],
   "source": [
    "ctv_con_nses.formula"
   ]
  },
  {
   "cell_type": "code",
   "execution_count": null,
   "id": "1454f599",
   "metadata": {},
   "outputs": [],
   "source": [
    "dir(ctv_con_nses)"
   ]
  },
  {
   "cell_type": "code",
   "execution_count": null,
   "id": "af737b9b",
   "metadata": {},
   "outputs": [],
   "source": []
  }
 ],
 "metadata": {
  "kernelspec": {
   "display_name": "Python 3",
   "language": "python",
   "name": "python3"
  },
  "language_info": {
   "codemirror_mode": {
    "name": "ipython",
    "version": 3
   },
   "file_extension": ".py",
   "mimetype": "text/x-python",
   "name": "python",
   "nbconvert_exporter": "python",
   "pygments_lexer": "ipython3",
   "version": "3.8.3"
  }
 },
 "nbformat": 4,
 "nbformat_minor": 5
}
