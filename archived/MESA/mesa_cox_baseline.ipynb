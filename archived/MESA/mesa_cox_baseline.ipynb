{
 "cells": [
  {
   "cell_type": "code",
   "execution_count": null,
   "id": "913164a7",
   "metadata": {},
   "outputs": [],
   "source": [
    "# Import libraries\n",
    "import pandas as pd\n",
    "import numpy as np\n",
    "import os\n",
    " \n",
    "from lifelines.fitters.coxph_fitter import CoxPHFitter\n",
    "from lifelines.statistics import proportional_hazard_test\n",
    "from lifelines import KaplanMeierFitter\n",
    "\n",
    "\n",
    "from lifelines import CoxTimeVaryingFitter"
   ]
  },
  {
   "cell_type": "code",
   "execution_count": null,
   "id": "d5b234c8",
   "metadata": {},
   "outputs": [],
   "source": [
    "mesa=pd.read_csv(\"../../code/thesis_code/mesa_preprocess_entire.csv\")"
   ]
  },
  {
   "cell_type": "markdown",
   "id": "9dd32f4f",
   "metadata": {},
   "source": [
    "### model 1 - no interaction no nSES"
   ]
  },
  {
   "cell_type": "code",
   "execution_count": null,
   "id": "53795176",
   "metadata": {},
   "outputs": [],
   "source": [
    "cox1 = mesa[['gender1','cig1c','diabet1','race_2','age1c','chol1','hdl1','sbp1c','fuptt','y']]\n",
    "\n",
    "cph1 = CoxPHFitter(alpha=0.05)\n",
    "cph1.fit(cox1, 'fuptt', 'y')\n",
    "\n",
    "cph1.print_summary()"
   ]
  },
  {
   "cell_type": "markdown",
   "id": "8d49bf96",
   "metadata": {},
   "source": [
    "### model 2 - no interaction with nSES"
   ]
  },
  {
   "cell_type": "code",
   "execution_count": null,
   "id": "94748f31",
   "metadata": {},
   "outputs": [],
   "source": [
    "cox1_nSES = mesa[['gender1','cig1c','diabet1','race_2','age1c','nSES','chol1','hdl1','sbp1c','fuptt','y']]\n",
    "\n",
    "cph2 = CoxPHFitter(alpha=0.05)\n",
    "cph2.fit(cox1_nSES, 'fuptt', 'y')\n",
    "\n",
    "cph2.print_summary()"
   ]
  },
  {
   "cell_type": "markdown",
   "id": "0285157b",
   "metadata": {},
   "source": [
    "### model 3 - with interaction no nSES"
   ]
  },
  {
   "cell_type": "code",
   "execution_count": null,
   "id": "f3474b41",
   "metadata": {},
   "outputs": [],
   "source": [
    "cox1_in = mesa[['gender1','cig1c','diabet1','race_2','age1c','chol1','hdl1','sbp1c','fuptt','gender_race','y']]\n",
    "\n",
    "cph3 = CoxPHFitter(alpha=0.05)\n",
    "cph3.fit(cox1_in, 'fuptt', 'y')\n",
    "\n",
    "cph3.print_summary()"
   ]
  },
  {
   "cell_type": "markdown",
   "id": "d961dd21",
   "metadata": {},
   "source": [
    "### model 4 - with interaction with nSES"
   ]
  },
  {
   "cell_type": "code",
   "execution_count": null,
   "id": "f2139770",
   "metadata": {},
   "outputs": [],
   "source": [
    "cox1_in_nSES = mesa[['gender1','cig1c','diabet1','race_2','age1c','chol1','hdl1','nSES','sbp1c','fuptt','gender_race','y']]\n",
    "\n",
    "cph4 = CoxPHFitter(alpha=0.05)\n",
    "cph4.fit(cox1_in_nSES, 'fuptt', 'y')\n",
    "\n",
    "cph4.print_summary()"
   ]
  },
  {
   "cell_type": "code",
   "execution_count": null,
   "id": "b94ba5b1",
   "metadata": {},
   "outputs": [],
   "source": []
  }
 ],
 "metadata": {
  "kernelspec": {
   "display_name": "Python 3",
   "language": "python",
   "name": "python3"
  },
  "language_info": {
   "codemirror_mode": {
    "name": "ipython",
    "version": 3
   },
   "file_extension": ".py",
   "mimetype": "text/x-python",
   "name": "python",
   "nbconvert_exporter": "python",
   "pygments_lexer": "ipython3",
   "version": "3.8.3"
  }
 },
 "nbformat": 4,
 "nbformat_minor": 5
}
