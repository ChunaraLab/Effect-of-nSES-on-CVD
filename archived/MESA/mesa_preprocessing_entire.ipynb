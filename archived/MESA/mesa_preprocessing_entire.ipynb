{
 "cells": [
  {
   "cell_type": "code",
   "execution_count": null,
   "id": "9b389e69",
   "metadata": {},
   "outputs": [],
   "source": [
    "# Import libraries\n",
    "import pandas as pd\n",
    "import numpy as np\n",
    "import os"
   ]
  },
  {
   "cell_type": "code",
   "execution_count": null,
   "id": "aa7c651f",
   "metadata": {},
   "outputs": [],
   "source": [
    "#import the dataset and selected the useful variables\n",
    "\n",
    "data=pd.read_csv(\"../../data/exam_1_with_outcome_nses.csv\")\n",
    "select_exam_1=data[['idno','site1c','gender1','race1c','age1c','cig1c','chol1','hdl1','sbp1c','diabet1','nSES','F3_PC2','y']]\n",
    "select_exam_1['race_2']=np.where(select_exam_1['race1c']==3,1,0)\n",
    "\n",
    "#join the dataset with diagnosis day \"fuptt\"\n",
    "data_event=pd.read_csv(\"../../data/outcomes/event.csv\")\n",
    "select_data_event=data_event[['idno','fuptt']]\n",
    "\n",
    "event_exam_1=pd.merge(select_exam_1,select_data_event, how=\"left\",on=['idno'])\n",
    "event_exam_1.count()"
   ]
  },
  {
   "cell_type": "code",
   "execution_count": null,
   "id": "f75a6a95",
   "metadata": {},
   "outputs": [],
   "source": [
    "#step2: filling in the missing data in train set\n",
    "\n",
    "event_exam_1['diabet1'] = event_exam_1['diabet1'].replace(9,0) #fill DK as 0\n",
    "event_exam_1['diabet1'] = event_exam_1['diabet1'].fillna(value=0)\n",
    "\n",
    "event_exam_1['cig1c'] = event_exam_1['cig1c'].replace(2,1) #group former and current somker together\n",
    "event_exam_1['cig1c'] = event_exam_1['cig1c'].fillna(value=0) \n",
    "\n",
    "\n",
    "#use mean value to fill in the missing value in continuous variables\n",
    "\n",
    "ave_hdl1 = event_exam_1.mean()['hdl1']\n",
    "event_exam_1.loc[pd.isna(event_exam_1['hdl1']),'hdl1'] = ave_hdl1\n",
    "\n",
    "ave_chol1 = event_exam_1.mean()['chol1']\n",
    "event_exam_1.loc[pd.isna(event_exam_1['chol1']),'chol1'] = ave_chol1\n",
    "\n",
    "ave_sbp1c = event_exam_1.mean()['sbp1c']\n",
    "event_exam_1.loc[pd.isna(event_exam_1['sbp1c']),'sbp1c'] = ave_sbp1c\n",
    "\n",
    "ave_fuptt = event_exam_1.mean()['fuptt']\n",
    "event_exam_1.loc[pd.isna(event_exam_1['fuptt']),'fuptt'] = ave_fuptt\n",
    "\n",
    "event_exam_1 = event_exam_1.drop([\"race1c\"], axis = 1)\n",
    "event_exam_1.count()"
   ]
  },
  {
   "cell_type": "code",
   "execution_count": null,
   "id": "969ba494",
   "metadata": {},
   "outputs": [],
   "source": [
    "#add interaction term to the dataset\n",
    "event_exam_1['gender_race'] = event_exam_1['gender1']*event_exam_1['race_2'] \n",
    "event_exam_1.count()"
   ]
  },
  {
   "cell_type": "code",
   "execution_count": null,
   "id": "cb0b5f29",
   "metadata": {},
   "outputs": [],
   "source": [
    "#standiazed\n",
    "\n",
    "from sklearn.preprocessing import StandardScaler\n",
    "scaler = StandardScaler()\n",
    "\n",
    "scaler_index = scaler.fit(event_exam_1[['age1c','chol1','hdl1','sbp1c','F3_PC2']],) #scaler index\n",
    "scaler_index\n",
    "\n",
    "df_index = event_exam_1[['age1c','chol1','hdl1','sbp1c','F3_PC2']].index\n",
    "df_cols = event_exam_1[['age1c','chol1','hdl1','sbp1c','F3_PC2']].columns\n",
    "\n",
    "X_con = scaler_index.transform(event_exam_1[['age1c','chol1','hdl1','sbp1c','F3_PC2']], copy = True) #standiazed\n",
    "X_con = pd.DataFrame(X_con, index=df_index, columns=df_cols)\n",
    "\n",
    "X_cate = event_exam_1.loc[:,~event_exam_1.columns.isin(df_cols)]\n",
    "X_scale = X_cate.join(X_con)\n",
    "\n",
    "mesa_scale=pd.DataFrame(data=X_scale) #standiazed dataset\n",
    "mesa_scale"
   ]
  },
  {
   "cell_type": "code",
   "execution_count": null,
   "id": "6f660da9",
   "metadata": {},
   "outputs": [],
   "source": [
    "#output the preprocessed entire dataset\n",
    "mesa_scale.to_csv(\"mesa_preprocess_entire.csv\",index=False,sep=',')"
   ]
  },
  {
   "cell_type": "code",
   "execution_count": null,
   "id": "2408d56b",
   "metadata": {},
   "outputs": [],
   "source": []
  },
  {
   "cell_type": "code",
   "execution_count": null,
   "id": "1769d32c",
   "metadata": {},
   "outputs": [],
   "source": []
  }
 ],
 "metadata": {
  "kernelspec": {
   "display_name": "Python 3",
   "language": "python",
   "name": "python3"
  },
  "language_info": {
   "codemirror_mode": {
    "name": "ipython",
    "version": 3
   },
   "file_extension": ".py",
   "mimetype": "text/x-python",
   "name": "python",
   "nbconvert_exporter": "python",
   "pygments_lexer": "ipython3",
   "version": "3.8.3"
  }
 },
 "nbformat": 4,
 "nbformat_minor": 5
}
