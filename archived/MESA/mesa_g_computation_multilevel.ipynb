{
 "cells": [
  {
   "cell_type": "code",
   "execution_count": null,
   "id": "c99fd592",
   "metadata": {},
   "outputs": [],
   "source": [
    "%matplotlib inline\n",
    "\n",
    "# Importing libraries \n",
    "import numpy as np\n",
    "import pandas as pd\n",
    "import statsmodels.api as sm\n",
    "import statsmodels.formula.api as smf\n",
    "import matplotlib\n",
    "import matplotlib.pyplot as plt\n",
    "import warnings\n",
    "import random\n",
    "\n",
    "\n",
    "\n",
    "np.random.seed(987)\n",
    "\n",
    "print(\"numpy      \", np.__version__)\n",
    "print(\"pandas     \", pd.__version__)\n",
    "print(\"statsmodels\", sm.__version__)\n",
    "print(\"matplotlib \", matplotlib.__version__)"
   ]
  },
  {
   "cell_type": "markdown",
   "id": "69010021",
   "metadata": {},
   "source": [
    "## Functions"
   ]
  },
  {
   "cell_type": "code",
   "execution_count": null,
   "id": "f95f8130",
   "metadata": {},
   "outputs": [],
   "source": [
    "def get_causal_effect(treatment, formula, data, var):\n",
    "    '''\n",
    "    Input: treatment - column_name\n",
    "           formula - Regression formula\n",
    "           data - dataframe\n",
    "    Output: ate - average causal effect\n",
    "    \n",
    "    The main idea is to have two separate models for those with treatment=1 and treatment =0\n",
    "    According to this we sample our data based on the treatment and fit two models\n",
    "    \n",
    "    We then predict the outcome for the entire data based on our fitted models and\n",
    "    then evaluate the expected difference in the outcome which is our causal effect.\n",
    "    '''\n",
    "    \n",
    "    f = sm.families.family.Binomial()\n",
    "    \n",
    "    fm_a1 = smf.mixedlm(formula, \n",
    "                    data.loc[data[treatment] == 1],groups = data.loc[data[treatment]==1][var]).fit()\n",
    "    print(fm_a1.summary())\n",
    "    fm_a0 = smf.mixedlm(formula, \n",
    "                data.loc[data[treatment] == 0], groups = data.loc[data[treatment]==0][var]).fit()\n",
    "    \n",
    "    print(fm_a0.summary())\n",
    "    y_a1 = fm_a1.predict(data)\n",
    "    y_a0 = fm_a0.predict(data)\n",
    "    ate = np.mean(y_a1 - y_a0)\n",
    "    return ate"
   ]
  },
  {
   "cell_type": "code",
   "execution_count": null,
   "id": "95afd8ab",
   "metadata": {},
   "outputs": [],
   "source": [
    "'''\n",
    "Bootstrapping to get confidence intervals for the causal effect\n",
    "'''\n",
    "def bootstrap_ci(treatment, formula, data, nb, ate,var):\n",
    "    ate_rs = []\n",
    "    #random.seed(1)\n",
    "    #seeds = []\n",
    "\n",
    "    for i in range(nb):  # Drawing nb bootstrapped samples, can simply start with 10 samples\n",
    "        d_star = data.sample(n=data.shape[0], # Same size as input data\n",
    "                             replace=True, random_state = 29*i)  # Draw with replacement\n",
    "        f = sm.families.family.Binomial()\n",
    "        #multilevel model using mixedlm\n",
    "        fm_a1 = smf.mixedlm(formula, \n",
    "                        d_star.loc[d_star[treatment] == 1],groups = d_star.loc[d_star[treatment]==1][var]).fit()\n",
    "        fm_a0 = smf.mixedlm(formula,\n",
    "                    d_star.loc[d_star[treatment] == 0], groups = d_star.loc[d_star[treatment]==0][var]).fit()\n",
    "        y_a1 = fm_a1.predict(d_star)\n",
    "        y_a0 = fm_a0.predict(d_star)\n",
    "        ate_rs.append(np.mean(y_a1 - y_a0))\n",
    "\n",
    "    print(\"95% Confidence limits for the ATE\")\n",
    "    ci_perc = np.percentile(ate_rs, q=[2.5, 97.5])\n",
    "    ate_se = np.std(ate_rs, ddof=1)\n",
    "    ci_approx = np.round([ate - 1.96*ate_se,\n",
    "                          ate + 1.96*ate_se],6)\n",
    "    return ci_perc, ci_approx"
   ]
  },
  {
   "cell_type": "markdown",
   "id": "69a7af2c",
   "metadata": {},
   "source": [
    "## Data Import"
   ]
  },
  {
   "cell_type": "code",
   "execution_count": null,
   "id": "12ad149a",
   "metadata": {},
   "outputs": [],
   "source": [
    "mesa=pd.read_csv(\"../../code/thesis_code/mesa_preprocess_entire.csv\")\n",
    "\n",
    "'''\n",
    "Select appropriate columns. If additional columns such as lifestyle changes or behaviors need to be added, update here.\n",
    "For now we can restrict to the columns used in case of logistic regression. \n",
    "'''\n",
    "data = mesa[['site1c','nSES','y','cig1c','diabet1','age1c','sbp1c','hdl1','chol1','gender1','race_2','gender_race']].copy()\n",
    "data.head()"
   ]
  },
  {
   "cell_type": "markdown",
   "id": "f9c8d841",
   "metadata": {},
   "source": [
    "## By Gender\n",
    "\n",
    "### Overall "
   ]
  },
  {
   "cell_type": "code",
   "execution_count": null,
   "id": "06c7d290",
   "metadata": {},
   "outputs": [],
   "source": [
    "'''\n",
    "This formula is based on the columns selected above. Note that we do not include nSES here as data is subsampled based on nSES in the analysis.\n",
    "'''\n",
    "formula = \"y ~  age1c + sbp1c + hdl1 + chol1 + C(cig1c) + C(diabet1) + C(race_2)\"\n",
    "treatment = 'nSES'\n",
    "\n",
    "'''\n",
    "Here we obtain the causal effect.\n",
    "'''\n",
    "warnings.filterwarnings('ignore')\n",
    "var = 'gender1'\n",
    "ate = get_causal_effect(treatment,formula,data,var)\n",
    "print(\"ATE\", np.round(ate, 10))\n",
    "\n",
    "ci_perc, ci_approx = bootstrap_ci(treatment, formula, data, 10, ate, var)\n",
    "print(\"Percentile method:   \", ci_perc)\n",
    "print(\"Normal approx method:\", ci_approx)\n"
   ]
  },
  {
   "cell_type": "markdown",
   "id": "7a7f3910",
   "metadata": {},
   "source": [
    "### Site 3"
   ]
  },
  {
   "cell_type": "code",
   "execution_count": null,
   "id": "e002f6df",
   "metadata": {},
   "outputs": [],
   "source": [
    "select_exam_2 = mesa.loc[(mesa['site1c'] == 3)]\n",
    "data = select_exam_2[['nSES','y','cig1c','diabet1','age1c','sbp1c','hdl1','chol1','gender1','race_2']].copy()\n",
    "\n",
    "formula = \"y ~  age1c + sbp1c + hdl1 + chol1 + C(cig1c) + C(diabet1) + C(race_2)\"\n",
    "treatment = 'nSES'\n",
    "var = 'gender1'\n",
    "\n",
    "'''\n",
    "Here we obtain the causal effect.\n",
    "'''\n",
    "\n",
    "ate3 = get_causal_effect(treatment,formula,data,var)\n",
    "print(\"ATE\", np.round(ate3, 10))\n",
    "\n",
    "ci_perc_3, ci_approx_3 = bootstrap_ci(treatment, formula, data, 10, ate3,var)\n",
    "print(\"Percentile method:   \", ci_perc_3)\n",
    "print(\"Normal approx method:\", ci_approx_3)"
   ]
  },
  {
   "cell_type": "markdown",
   "id": "add874bd",
   "metadata": {},
   "source": [
    "### Site 4"
   ]
  },
  {
   "cell_type": "code",
   "execution_count": null,
   "id": "7b89feb5",
   "metadata": {},
   "outputs": [],
   "source": [
    "select_exam_2 = mesa.loc[(mesa['site1c'] == 4)]\n",
    "data = select_exam_2[['nSES','y','cig1c','diabet1','age1c','sbp1c','hdl1','chol1','gender1','race_2']].copy()\n",
    "\n",
    "formula = \"y ~  age1c + sbp1c + hdl1 + chol1 + C(cig1c) + C(diabet1) + C(race_2)\"\n",
    "treatment = 'nSES'\n",
    "var = 'gender1'\n",
    "\n",
    "'''\n",
    "Here we obtain the causal effect.\n",
    "'''\n",
    "ate4 = get_causal_effect(treatment,formula,data,var)\n",
    "print(\"ATE\", np.round(ate4, 10))\n",
    "\n",
    "ci_perc_4, ci_approx_4 = bootstrap_ci(treatment, formula, data, 10, ate4, var)\n",
    "print(\"Percentile method:   \", ci_perc_4)\n",
    "print(\"Normal approx method:\", ci_approx_4)"
   ]
  },
  {
   "cell_type": "markdown",
   "id": "d71bc9d1",
   "metadata": {},
   "source": [
    "### Site 5"
   ]
  },
  {
   "cell_type": "code",
   "execution_count": null,
   "id": "9a9ee82e",
   "metadata": {},
   "outputs": [],
   "source": [
    "select_exam_2 = mesa.loc[(mesa['site1c'] == 5)]\n",
    "data = select_exam_2[['nSES','y','cig1c','diabet1','age1c','sbp1c','hdl1','chol1','gender1','race_2']].copy()\n",
    "\n",
    "formula = \"y ~  age1c + sbp1c + hdl1 + chol1 + C(cig1c) + C(diabet1) + C(race_2)\"\n",
    "treatment = 'nSES'\n",
    "var = 'gender1'\n",
    "\n",
    "'''\n",
    "Here we obtain the causal effect.\n",
    "'''\n",
    "ate5 = get_causal_effect(treatment,formula,data, var)\n",
    "print(\"ATE\", np.round(ate5, 10))\n",
    "\n",
    "ci_perc_5, ci_approx_5 = bootstrap_ci(treatment, formula, data, 10, ate5, var)\n",
    "print(\"Percentile method:   \", ci_perc_5)\n",
    "print(\"Normal approx method:\", ci_approx_5)"
   ]
  },
  {
   "cell_type": "markdown",
   "id": "40dd2627",
   "metadata": {},
   "source": [
    "### Site 7"
   ]
  },
  {
   "cell_type": "code",
   "execution_count": null,
   "id": "0d56dc5e",
   "metadata": {},
   "outputs": [],
   "source": [
    "select_exam_2 = mesa.loc[(mesa['site1c'] == 7)]\n",
    "data = select_exam_2[['nSES','y','cig1c','diabet1','age1c','sbp1c','hdl1','chol1','gender1','race_2']].copy()\n",
    "\n",
    "formula = \"y ~  age1c + sbp1c + hdl1 + chol1 + C(cig1c) + C(diabet1) + C(race_2)\"\n",
    "treatment = 'nSES'\n",
    "var = 'gender1'\n",
    "\n",
    "'''\n",
    "Here we obtain the causal effect.\n",
    "'''\n",
    "ate7 = get_causal_effect(treatment,formula,data, var)\n",
    "print(\"ATE\", np.round(ate7, 10))\n",
    "\n",
    "ci_perc_7, ci_approx_7 = bootstrap_ci(treatment, formula, data, 10, ate7, var)\n",
    "print(\"Percentile method:   \", ci_perc_7)\n",
    "print(\"Normal approx method:\", ci_approx_7)"
   ]
  },
  {
   "cell_type": "markdown",
   "id": "9380994f",
   "metadata": {},
   "source": [
    "### Site 8"
   ]
  },
  {
   "cell_type": "code",
   "execution_count": null,
   "id": "8ce719e3",
   "metadata": {},
   "outputs": [],
   "source": [
    "select_exam_2 = mesa.loc[(mesa['site1c'] == 8)]\n",
    "data = select_exam_2[['nSES','y','cig1c','diabet1','age1c','sbp1c','hdl1','chol1','gender1','race_2']].copy()\n",
    "\n",
    "formula = \"y ~  age1c + sbp1c + hdl1 + chol1 + C(cig1c) + C(diabet1) + C(race_2)\"\n",
    "treatment = 'nSES'\n",
    "var = 'gender1'\n",
    "\n",
    "'''\n",
    "Here we obtain the causal effect.\n",
    "'''\n",
    "ate8 = get_causal_effect(treatment,formula,data, var)\n",
    "print(\"ATE\", np.round(ate8, 10))\n",
    "\n",
    "ci_perc_8, ci_approx_8 = bootstrap_ci(treatment, formula, data, 10, ate8, var)\n",
    "print(\"Percentile method:   \", ci_perc_8)\n",
    "print(\"Normal approx method:\", ci_approx_8)"
   ]
  },
  {
   "cell_type": "markdown",
   "id": "e2f7ec85",
   "metadata": {},
   "source": [
    "## By Race\n",
    "\n",
    "### Overall "
   ]
  },
  {
   "cell_type": "code",
   "execution_count": null,
   "id": "131af607",
   "metadata": {},
   "outputs": [],
   "source": [
    "'''\n",
    "This formula is based on the columns selected above. Note that we do not include nSES here as data is subsampled based on nSES in the analysis.\n",
    "'''\n",
    "formula = \"y ~  age1c + sbp1c + hdl1 + chol1 + C(cig1c) + C(diabet1) + C(gender1)\"\n",
    "treatment = 'nSES'\n",
    "\n",
    "'''\n",
    "Here we obtain the causal effect.\n",
    "'''\n",
    "warnings.filterwarnings('ignore')\n",
    "var = 'race_2'\n",
    "ate = get_causal_effect(treatment,formula,data,var)\n",
    "print(\"ATE\", np.round(ate, 10))\n",
    "\n",
    "ci_perc, ci_approx = bootstrap_ci(treatment, formula, data, 10, ate, var)\n",
    "print(\"Percentile method:   \", ci_perc)\n",
    "print(\"Normal approx method:\", ci_approx)\n"
   ]
  },
  {
   "cell_type": "markdown",
   "id": "eca35e92",
   "metadata": {},
   "source": [
    "### Site 3"
   ]
  },
  {
   "cell_type": "code",
   "execution_count": null,
   "id": "5424f6f7",
   "metadata": {
    "scrolled": false
   },
   "outputs": [],
   "source": [
    "select_exam_2 = mesa.loc[(mesa['site1c'] == 3)]\n",
    "data = select_exam_2[['nSES','y','cig1c','diabet1','age1c','sbp1c','hdl1','chol1','gender1','race_2']].copy()\n",
    "\n",
    "formula = \"y ~  age1c + sbp1c + hdl1 + chol1 + C(cig1c) + C(diabet1) + C(gender1)\"\n",
    "treatment = 'nSES'\n",
    "var = 'race_2'\n",
    "\n",
    "'''\n",
    "Here we obtain the causal effect.\n",
    "'''\n",
    "\n",
    "ate3 = get_causal_effect(treatment,formula,data,var)\n",
    "print(\"ATE\", np.round(ate3, 10))\n",
    "\n",
    "ci_perc_3, ci_approx_3 = bootstrap_ci(treatment, formula, data, 10, ate3,var)\n",
    "print(\"Percentile method:   \", ci_perc_3)\n",
    "print(\"Normal approx method:\", ci_approx_3)"
   ]
  },
  {
   "cell_type": "markdown",
   "id": "25a5e99d",
   "metadata": {},
   "source": [
    "### Site 4"
   ]
  },
  {
   "cell_type": "code",
   "execution_count": null,
   "id": "5255182a",
   "metadata": {},
   "outputs": [],
   "source": [
    "select_exam_2 = mesa.loc[(mesa['site1c'] == 4)]\n",
    "data = select_exam_2[['nSES','y','cig1c','diabet1','age1c','sbp1c','hdl1','chol1','gender1','race_2']].copy()\n",
    "\n",
    "formula = \"y ~  age1c + sbp1c + hdl1 + chol1 + C(cig1c) + C(diabet1) + C(gender1)\"\n",
    "treatment = 'nSES'\n",
    "var = 'race_2'\n",
    "\n",
    "'''\n",
    "Here we obtain the causal effect.\n",
    "'''\n",
    "ate4 = get_causal_effect(treatment,formula,data,var)\n",
    "print(\"ATE\", np.round(ate4, 10))\n",
    "\n",
    "ci_perc_4, ci_approx_4 = bootstrap_ci(treatment, formula, data, 10, ate4, var)\n",
    "print(\"Percentile method:   \", ci_perc_4)\n",
    "print(\"Normal approx method:\", ci_approx_4)"
   ]
  },
  {
   "cell_type": "markdown",
   "id": "c9a17eba",
   "metadata": {},
   "source": [
    "### Site 5"
   ]
  },
  {
   "cell_type": "code",
   "execution_count": null,
   "id": "c8c7d0d1",
   "metadata": {},
   "outputs": [],
   "source": [
    "select_exam_2 = mesa.loc[(mesa['site1c'] == 5)]\n",
    "data = select_exam_2[['nSES','y','cig1c','diabet1','age1c','sbp1c','hdl1','chol1','gender1','race_2']].copy()\n",
    "\n",
    "formula = \"y ~  age1c + sbp1c + hdl1 + chol1 + C(cig1c) + C(diabet1) + C(gender1)\"\n",
    "treatment = 'nSES'\n",
    "var = 'race_2'\n",
    "\n",
    "'''\n",
    "Here we obtain the causal effect.\n",
    "'''\n",
    "ate5 = get_causal_effect(treatment,formula,data, var)\n",
    "print(\"ATE\", np.round(ate5, 10))\n",
    "\n",
    "ci_perc_5, ci_approx_5 = bootstrap_ci(treatment, formula, data, 10, ate5, var)\n",
    "print(\"Percentile method:   \", ci_perc_5)\n",
    "print(\"Normal approx method:\", ci_approx_5)"
   ]
  },
  {
   "cell_type": "markdown",
   "id": "571e2ad8",
   "metadata": {},
   "source": [
    "### Site 7"
   ]
  },
  {
   "cell_type": "code",
   "execution_count": null,
   "id": "8b9f7e12",
   "metadata": {},
   "outputs": [],
   "source": [
    "select_exam_2 = mesa.loc[(mesa['site1c'] == 7)]\n",
    "data = select_exam_2[['nSES','y','cig1c','diabet1','age1c','sbp1c','hdl1','chol1','gender1','race_2']].copy()\n",
    "\n",
    "formula = \"y ~  age1c + sbp1c + hdl1 + chol1 + C(cig1c) + C(diabet1) + C(gender1)\"\n",
    "treatment = 'nSES'\n",
    "var = 'race_2'\n",
    "\n",
    "'''\n",
    "Here we obtain the causal effect.\n",
    "'''\n",
    "ate7 = get_causal_effect(treatment,formula,data, var)\n",
    "print(\"ATE\", np.round(ate7, 10))\n",
    "\n",
    "ci_perc_7, ci_approx_7 = bootstrap_ci(treatment, formula, data, 10, ate7, var)\n",
    "print(\"Percentile method:   \", ci_perc_7)\n",
    "print(\"Normal approx method:\", ci_approx_7)"
   ]
  },
  {
   "cell_type": "markdown",
   "id": "3c5c3376",
   "metadata": {},
   "source": [
    "### Site 8"
   ]
  },
  {
   "cell_type": "code",
   "execution_count": null,
   "id": "e09a486c",
   "metadata": {},
   "outputs": [],
   "source": [
    "select_exam_2 = mesa.loc[(mesa['site1c'] == 8)]\n",
    "data = select_exam_2[['nSES','y','cig1c','diabet1','age1c','sbp1c','hdl1','chol1','gender1','race_2']].copy()\n",
    "\n",
    "formula = \"y ~  age1c + sbp1c + hdl1 + chol1 + C(cig1c) + C(diabet1) + C(gender1)\"\n",
    "treatment = 'nSES'\n",
    "var = 'race_2'\n",
    "\n",
    "'''\n",
    "Here we obtain the causal effect.\n",
    "'''\n",
    "ate8 = get_causal_effect(treatment,formula,data, var)\n",
    "print(\"ATE\", np.round(ate8, 10))\n",
    "\n",
    "ci_perc_8, ci_approx_8 = bootstrap_ci(treatment, formula, data, 10, ate8, var)\n",
    "print(\"Percentile method:   \", ci_perc_8)\n",
    "print(\"Normal approx method:\", ci_approx_8)"
   ]
  },
  {
   "cell_type": "markdown",
   "id": "3285ab05",
   "metadata": {},
   "source": [
    "## By Site\n",
    "\n",
    "### Overall"
   ]
  },
  {
   "cell_type": "code",
   "execution_count": null,
   "id": "2d35d886",
   "metadata": {},
   "outputs": [],
   "source": [
    "'''\n",
    "This formula is based on the columns selected above. Note that we do not include nSES here as data is subsampled based on nSES in the analysis.\n",
    "'''\n",
    "data = mesa[['site1c','nSES','y','cig1c','diabet1','age1c','sbp1c','hdl1','chol1','gender1','race_2','gender_race']].copy()\n",
    "\n",
    "formula = \"y ~  age1c + sbp1c + hdl1 + chol1 + C(cig1c) + C(diabet1) + C(race_2) + C(gender1)\"\n",
    "treatment = 'nSES'\n",
    "\n",
    "'''\n",
    "Here we obtain the causal effect.\n",
    "'''\n",
    "warnings.filterwarnings('ignore')\n",
    "var = 'site1c'\n",
    "ate = get_causal_effect(treatment,formula,data,var)\n",
    "print(\"ATE\", np.round(ate, 10))\n",
    "\n",
    "ci_perc, ci_approx = bootstrap_ci(treatment, formula, data, 10, ate, var)\n",
    "print(\"Percentile method:   \", ci_perc)\n",
    "print(\"Normal approx method:\", ci_approx)\n"
   ]
  },
  {
   "cell_type": "markdown",
   "id": "1aaed955",
   "metadata": {},
   "source": [
    "## By gender_race interaction term\n",
    "\n",
    "### Overall"
   ]
  },
  {
   "cell_type": "code",
   "execution_count": null,
   "id": "91d48be7",
   "metadata": {},
   "outputs": [],
   "source": [
    "'''\n",
    "This formula is based on the columns selected above. Note that we do not include nSES here as data is subsampled based on nSES in the analysis.\n",
    "'''\n",
    "data = mesa[['site1c','nSES','y','cig1c','diabet1','age1c','sbp1c','hdl1','chol1','gender1','race_2','gender_race']].copy()\n",
    "\n",
    "formula = \"y ~  age1c + sbp1c + hdl1 + chol1 + C(cig1c) + C(diabet1) + C(race_2) + C(gender1)\"\n",
    "treatment = 'nSES'\n",
    "\n",
    "'''\n",
    "Here we obtain the causal effect.\n",
    "'''\n",
    "warnings.filterwarnings('ignore')\n",
    "var = 'gender_race'\n",
    "ate = get_causal_effect(treatment,formula,data,var)\n",
    "print(\"ATE\", np.round(ate, 10))\n",
    "\n",
    "ci_perc, ci_approx = bootstrap_ci(treatment, formula, data, 10, ate, var)\n",
    "print(\"Percentile method:   \", ci_perc)\n",
    "print(\"Normal approx method:\", ci_approx)\n"
   ]
  },
  {
   "cell_type": "markdown",
   "id": "eb31dc2c",
   "metadata": {},
   "source": [
    "### Site 3"
   ]
  },
  {
   "cell_type": "code",
   "execution_count": null,
   "id": "126362d6",
   "metadata": {},
   "outputs": [],
   "source": [
    "select_exam_2 = mesa.loc[(mesa['site1c'] == 3)]\n",
    "data = select_exam_2[['nSES','y','cig1c','diabet1','age1c','sbp1c','hdl1','chol1','gender1','race_2','gender_race']].copy()\n",
    "\n",
    "formula = \"y ~  age1c + sbp1c + hdl1 + chol1 + C(cig1c) + C(diabet1) + C(gender1) +C(race_2)\"\n",
    "treatment = 'nSES'\n",
    "var = 'gender_race'\n",
    "\n",
    "'''\n",
    "Here we obtain the causal effect.\n",
    "'''\n",
    "\n",
    "ate3 = get_causal_effect(treatment,formula,data,var)\n",
    "print(\"ATE\", np.round(ate3, 10))\n",
    "\n",
    "ci_perc_3, ci_approx_3 = bootstrap_ci(treatment, formula, data, 10, ate3,var)\n",
    "print(\"Percentile method:   \", ci_perc_3)\n",
    "print(\"Normal approx method:\", ci_approx_3)"
   ]
  },
  {
   "cell_type": "markdown",
   "id": "e818f141",
   "metadata": {},
   "source": [
    "### Site 4"
   ]
  },
  {
   "cell_type": "code",
   "execution_count": null,
   "id": "d4ad8aaa",
   "metadata": {},
   "outputs": [],
   "source": [
    "select_exam_2 = mesa.loc[(mesa['site1c'] == 4)]\n",
    "data = select_exam_2[['nSES','y','cig1c','diabet1','age1c','sbp1c','hdl1','chol1','gender1','race_2','gender_race']].copy()\n",
    "\n",
    "formula = \"y ~  age1c + sbp1c + hdl1 + chol1 + C(cig1c) + C(diabet1) + C(gender1) +C(race_2)\"\n",
    "treatment = 'nSES'\n",
    "var = 'gender_race'\n",
    "\n",
    "'''\n",
    "Here we obtain the causal effect.\n",
    "'''\n",
    "\n",
    "ate4 = get_causal_effect(treatment,formula,data,var)\n",
    "print(\"ATE\", np.round(ate4, 10))\n",
    "\n",
    "ci_perc_4, ci_approx_4 = bootstrap_ci(treatment, formula, data, 10, ate4,var)\n",
    "print(\"Percentile method:   \", ci_perc_4)\n",
    "print(\"Normal approx method:\", ci_approx_4)\n"
   ]
  },
  {
   "cell_type": "markdown",
   "id": "34522c92",
   "metadata": {},
   "source": [
    "### Site 5"
   ]
  },
  {
   "cell_type": "code",
   "execution_count": null,
   "id": "5f8f99bf",
   "metadata": {},
   "outputs": [],
   "source": [
    "select_exam_2 = mesa.loc[(mesa['site1c'] == 5)]\n",
    "data = select_exam_2[['nSES','y','cig1c','diabet1','age1c','sbp1c','hdl1','chol1','gender1','race_2','gender_race']].copy()\n",
    "\n",
    "formula = \"y ~  age1c + sbp1c + hdl1 + chol1 + C(cig1c) + C(diabet1) + C(gender1) + C(race_2)\"\n",
    "treatment = 'nSES'\n",
    "var = 'gender_race'\n",
    "\n",
    "'''\n",
    "Here we obtain the causal effect.\n",
    "'''\n",
    "ate5 = get_causal_effect(treatment,formula,data, var)\n",
    "print(\"ATE\", np.round(ate5, 10))\n",
    "\n",
    "ci_perc_5, ci_approx_5 = bootstrap_ci(treatment, formula, data, 10, ate5, var)\n",
    "print(\"Percentile method:   \", ci_perc_5)\n",
    "print(\"Normal approx method:\", ci_approx_5)"
   ]
  },
  {
   "cell_type": "markdown",
   "id": "627a1464",
   "metadata": {},
   "source": [
    "### Site 7"
   ]
  },
  {
   "cell_type": "code",
   "execution_count": null,
   "id": "a1abb2f5",
   "metadata": {},
   "outputs": [],
   "source": [
    "select_exam_2 = mesa.loc[(mesa['site1c'] == 7)]\n",
    "data = select_exam_2[['nSES','y','cig1c','diabet1','age1c','sbp1c','hdl1','chol1','gender1','race_2','gender_race']].copy()\n",
    "\n",
    "formula = \"y ~  age1c + sbp1c + hdl1 + chol1 + C(cig1c) + C(diabet1) + C(gender1) + C(race_2)\"\n",
    "treatment = 'nSES'\n",
    "var = 'gender_race'\n",
    "\n",
    "'''\n",
    "Here we obtain the causal effect.\n",
    "'''\n",
    "ate7 = get_causal_effect(treatment,formula,data, var)\n",
    "print(\"ATE\", np.round(ate7, 10))\n",
    "\n",
    "ci_perc_7, ci_approx_7 = bootstrap_ci(treatment, formula, data, 10, ate7, var)\n",
    "print(\"Percentile method:   \", ci_perc_7)\n",
    "print(\"Normal approx method:\", ci_approx_7)"
   ]
  },
  {
   "cell_type": "markdown",
   "id": "595c3542",
   "metadata": {},
   "source": [
    "### Site 8"
   ]
  },
  {
   "cell_type": "code",
   "execution_count": null,
   "id": "e201088f",
   "metadata": {},
   "outputs": [],
   "source": [
    "select_exam_2 = mesa.loc[(mesa['site1c'] == 8)]\n",
    "data = select_exam_2[['nSES','y','cig1c','diabet1','age1c','sbp1c','hdl1','chol1','gender1','race_2','gender_race']].copy()\n",
    "\n",
    "formula = \"y ~  age1c + sbp1c + hdl1 + chol1 + C(cig1c) + C(diabet1) + C(gender1) + C(race_2)\"\n",
    "treatment = 'nSES'\n",
    "var = 'gender_race'\n",
    "\n",
    "'''\n",
    "Here we obtain the causal effect.\n",
    "'''\n",
    "ate8 = get_causal_effect(treatment,formula,data, var)\n",
    "print(\"ATE\", np.round(ate8, 10))\n",
    "\n",
    "ci_perc_8, ci_approx_8 = bootstrap_ci(treatment, formula, data, 10, ate8, var)\n",
    "print(\"Percentile method:   \", ci_perc_8)\n",
    "print(\"Normal approx method:\", ci_approx_8)"
   ]
  }
 ],
 "metadata": {
  "kernelspec": {
   "display_name": "Python 3",
   "language": "python",
   "name": "python3"
  },
  "language_info": {
   "codemirror_mode": {
    "name": "ipython",
    "version": 3
   },
   "file_extension": ".py",
   "mimetype": "text/x-python",
   "name": "python",
   "nbconvert_exporter": "python",
   "pygments_lexer": "ipython3",
   "version": "3.8.3"
  }
 },
 "nbformat": 4,
 "nbformat_minor": 5
}
