{
 "cells": [
  {
   "cell_type": "code",
   "execution_count": null,
   "id": "7871494a-d162-4e3a-a40f-440c2e879e38",
   "metadata": {},
   "outputs": [],
   "source": [
    "import pandas as pd\n",
    "from collections import defaultdict\n",
    "import matplotlib.pyplot as plt\n",
    "import numpy as np\n",
    "import os\n",
    "from sklearn.preprocessing import StandardScaler"
   ]
  },
  {
   "cell_type": "code",
   "execution_count": null,
   "id": "173f7ed5-caa2-4bbc-8a48-7e002acccee4",
   "metadata": {},
   "outputs": [],
   "source": [
    "import warnings\n",
    "warnings.filterwarnings('ignore')\n"
   ]
  },
  {
   "cell_type": "code",
   "execution_count": null,
   "id": "e5520708-4195-46b7-bbff-f25584279e2a",
   "metadata": {},
   "outputs": [],
   "source": [
    "def get_outcome(df):\n",
    "    df['y'] = 0\n",
    "    df.loc[\n",
    "       (df['MIHx']==1.0) |\n",
    "       (df['strokeHx']==1.0) |\n",
    "       (df['CHDHx']==1.0)|\n",
    "       (df['CVDHx']==1.0),\n",
    "       'y'] = 1\n",
    "    return df"
   ]
  },
  {
   "cell_type": "code",
   "execution_count": null,
   "id": "e25c4266-dc47-4805-97f4-7b51e90c6985",
   "metadata": {},
   "outputs": [],
   "source": [
    "def fillna_cat(df,cat_feat):\n",
    "    for feat in cat_feat:\n",
    "        df[feat].fillna(df[feat].mode()[0], inplace=True)\n",
    "    return df\n"
   ]
  },
  {
   "cell_type": "code",
   "execution_count": null,
   "id": "b4927b7f-f3fe-4b58-856f-30d6330c577e",
   "metadata": {},
   "outputs": [],
   "source": [
    "def fillna_cont(df,cont_feat):\n",
    "    df= df.fillna((df[cont_feat].mean()))\n",
    "    return df"
   ]
  },
  {
   "cell_type": "code",
   "execution_count": null,
   "id": "4b100546-a677-4371-9f47-6ad41672babc",
   "metadata": {},
   "outputs": [],
   "source": [
    "def process_binary(df,bin_feat):\n",
    "    gender_mapping = {'Female':0,'Male':1}\n",
    "    df = df.assign(gender = df['sex'].map(gender_mapping))\n",
    "    return df"
   ]
  },
  {
   "cell_type": "code",
   "execution_count": null,
   "id": "10c8ef7d-69ea-49a4-9dad-01244f6a9b4f",
   "metadata": {},
   "outputs": [],
   "source": [
    "def dichotomize_nb(df,nb_feat):\n",
    "    for feat in nb_feat:\n",
    "        median_feat = np.nanmedian(df[feat])\n",
    "        df[feat] = [1 if x >= median_feat else 0 for x in df[feat].tolist()]\n",
    "        df[feat] = pd.to_numeric(data[feat])\n",
    "    return df"
   ]
  },
  {
   "cell_type": "code",
   "execution_count": null,
   "id": "0b6969b3-b020-4c40-88af-4cf2c7741a5f",
   "metadata": {},
   "outputs": [],
   "source": [
    "def standardize(df,con_index):\n",
    "    scaler = StandardScaler()\n",
    "    scaler.fit(df[con_index],) \n",
    "    df[con_index] = scaler.transform(df[con_index], copy = True)\n",
    "    return df"
   ]
  },
  {
   "cell_type": "code",
   "execution_count": null,
   "id": "66036e09-4dba-4a9d-99e5-cd8ac65faf1e",
   "metadata": {},
   "outputs": [],
   "source": [
    "def process(df,bin_feat,cont_feat,cat_feat,nb_feat,consider_all_exams = False):\n",
    "    df = get_outcome(df)\n",
    "    df = process_binary(df,bin_feat)\n",
    "    df = fillna_cat(df,cat_feat)\n",
    "    df = fillna_cont(df,cont_feat)\n",
    "    df = dichotomize_nb(df,nb_feat)\n",
    "#     df = standardize(df,cont_feat)\n",
    "\n",
    "    if consider_all_exams:\n",
    "        data = df\n",
    "    else:\n",
    "        data = df[df['visit']==1]\n",
    "    \n",
    "    return data\n",
    "    "
   ]
  },
  {
   "cell_type": "code",
   "execution_count": null,
   "id": "89df4c21-a071-4682-b684-128436896182",
   "metadata": {},
   "outputs": [],
   "source": [
    "# filename_ = \"../../CVD_data/JHS/common_data_jhs.csv\"\n",
    "filename_ = \"../../CVD_data/JHS/jhs_data.csv\"\n",
    "\n",
    "data = pd.read_csv(filename_)\n",
    "data[data.columns[~data.columns.isin(['VisitDate'])]]\n",
    "data"
   ]
  },
  {
   "cell_type": "code",
   "execution_count": null,
   "id": "e1c84d79-038e-4d18-a87a-7984adb12040",
   "metadata": {},
   "outputs": [],
   "source": [
    "bin_feat = ['sex']\n",
    "nb_feat = ['nbSESanascore',\n",
    "           'nbProblems',\n",
    "           'nbCohesion',\n",
    "           'nbViolence',\n",
    "           'nbK3FavorFoodstore',\n",
    "           'nbK3paFacilities']\n",
    "cont_feat = ['sportIndex','hyIndex','activeIndex', #physical activity factors\n",
    "             'darkgrnVeg','eggs','fish','idealHealthNutrition', #diet factors\n",
    "             'age', 'sbp', 'hdl', 'totchol' #individual health factors \n",
    "            ]\n",
    "\n",
    "cat_feat = ['idealHealthPA', #physical activity factors\n",
    "            'idealHealthNutrition', #diet factors\n",
    "            'currentSmoker','Diabetes', #behaviors and conditions\n",
    "            'Income' #income information\n",
    "           ]\n"
   ]
  },
  {
   "cell_type": "code",
   "execution_count": null,
   "id": "98c4d8c2-1f50-4ada-bcb2-acebae59bc54",
   "metadata": {},
   "outputs": [],
   "source": [
    "data_processed = process(data,bin_feat,cont_feat,cat_feat,nb_feat,consider_all_exams = False)"
   ]
  },
  {
   "cell_type": "code",
   "execution_count": null,
   "id": "5270cee6-a7c9-4d13-b06b-c51d3e7704ec",
   "metadata": {},
   "outputs": [],
   "source": [
    "data_processed"
   ]
  },
  {
   "cell_type": "code",
   "execution_count": null,
   "id": "5e7058f3-7bdf-484d-be9c-c133faf5b170",
   "metadata": {},
   "outputs": [],
   "source": [
    "data_processed.to_csv(\"../../CVD_data/JHS/processed_visit1_jhs_data.csv\",index=False)"
   ]
  },
  {
   "cell_type": "code",
   "execution_count": null,
   "id": "1bbffdf5-1fc1-4fed-b603-7ee2ca99e62e",
   "metadata": {},
   "outputs": [],
   "source": []
  }
 ],
 "metadata": {
  "kernelspec": {
   "display_name": "Python 3 (ipykernel)",
   "language": "python",
   "name": "python3"
  },
  "language_info": {
   "codemirror_mode": {
    "name": "ipython",
    "version": 3
   },
   "file_extension": ".py",
   "mimetype": "text/x-python",
   "name": "python",
   "nbconvert_exporter": "python",
   "pygments_lexer": "ipython3",
   "version": "3.9.7"
  }
 },
 "nbformat": 4,
 "nbformat_minor": 5
}
