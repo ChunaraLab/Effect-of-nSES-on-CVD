{
 "cells": [
  {
   "cell_type": "markdown",
   "id": "9fab3be1",
   "metadata": {},
   "source": [
    "## Prep"
   ]
  },
  {
   "cell_type": "code",
   "execution_count": 1,
   "id": "de08d8fe",
   "metadata": {},
   "outputs": [],
   "source": [
    "import pandas as pd\n",
    "import matplotlib.pyplot as plt\n",
    "import numpy as np\n",
    "import seaborn as sns\n",
    "\n",
    "pd.options.display.max_rows = 100"
   ]
  },
  {
   "cell_type": "code",
   "execution_count": 2,
   "id": "a3b097c1",
   "metadata": {},
   "outputs": [],
   "source": [
    "mesa = pd.read_csv('../data_processed/MESA/mesa_raw.csv')"
   ]
  },
  {
   "cell_type": "code",
   "execution_count": 3,
   "id": "d2948621",
   "metadata": {},
   "outputs": [],
   "source": [
    "mesa_bla = mesa[mesa['race'] == 3]"
   ]
  },
  {
   "cell_type": "code",
   "execution_count": 4,
   "id": "f9606371",
   "metadata": {},
   "outputs": [],
   "source": [
    "jhs_raw = pd.read_csv('../data_processed/JHS/jhs_raw.csv')"
   ]
  },
  {
   "cell_type": "markdown",
   "id": "56fdb40c",
   "metadata": {},
   "source": [
    "## Missing values"
   ]
  },
  {
   "cell_type": "code",
   "execution_count": null,
   "id": "82f7499c",
   "metadata": {},
   "outputs": [],
   "source": [
    "mesa "
   ]
  },
  {
   "cell_type": "code",
   "execution_count": null,
   "id": "ee137ee7",
   "metadata": {},
   "outputs": [],
   "source": [
    "mesa.isnull().sum()"
   ]
  },
  {
   "cell_type": "markdown",
   "id": "fbcced9b",
   "metadata": {},
   "source": [
    "## Outcome"
   ]
  },
  {
   "cell_type": "code",
   "execution_count": null,
   "id": "160fb10c",
   "metadata": {},
   "outputs": [],
   "source": [
    "mesa_outcome = mesa[['cvda','cvdatt']]\n",
    "\n",
    "mesa_bla_outcome = mesa_bla[['cvda','cvdatt']]\n",
    "\n",
    "jhs_outcome = jhs_outcome_full[['event','time']].copy()"
   ]
  },
  {
   "cell_type": "code",
   "execution_count": null,
   "id": "42097342",
   "metadata": {},
   "outputs": [],
   "source": [
    "plt.hist(jhs_outcome['time'][jhs_outcome['event'] == 1], bins=10, alpha=0.5, label='JHS Event Time')\n",
    "plt.hist(mesa_outcome['cvdatt'][mesa_outcome['cvda'] == 1], bins=10, alpha=0.5, label='MESA Event Time')\n",
    "plt.hist(mesa_bla_outcome['cvdatt'][mesa_bla_outcome['cvda'] == 1], bins=10, alpha=0.5, label='MESA_bla Event Time')\n",
    "\n",
    "# Set axis labels and legend\n",
    "plt.xlabel('Time')\n",
    "plt.ylabel('Frequency of Events')\n",
    "plt.legend()\n",
    "\n",
    "# Show the plot\n",
    "plt.title('Distribution of Event Times for JHS and MESA')\n",
    "plt.show()"
   ]
  },
  {
   "cell_type": "code",
   "execution_count": null,
   "id": "75742b33",
   "metadata": {},
   "outputs": [],
   "source": [
    "sns.kdeplot(jhs_outcome['time'][jhs_outcome['event'] == 1], label='JHS', color='blue')\n",
    "sns.kdeplot(mesa_outcome['cvdatt'][mesa_outcome['cvda'] == 1], label='MESA', color='red')\n",
    "sns.kdeplot(mesa_bla_outcome['cvdatt'][mesa_bla_outcome['cvda'] == 1], label='MESA_bla', color='green')\n",
    "\n",
    "# Set axis labels and legend\n",
    "plt.xlabel('Value')\n",
    "plt.ylabel('Density')\n",
    "plt.legend()\n",
    "\n",
    "# Show the plot\n",
    "plt.title('Density Plot of Event Time')\n",
    "plt.show()\n"
   ]
  },
  {
   "cell_type": "code",
   "execution_count": null,
   "id": "64e99382",
   "metadata": {},
   "outputs": [],
   "source": [
    "plt.hist(jhs_outcome_full['time_12'], bins=10, alpha=0.5, label='V2 time')\n",
    "plt.hist(jhs_outcome_full['time_13'], bins=10, alpha=0.5, label='V3 time')\n",
    "\n",
    "\n",
    "# Set axis labels and legend\n",
    "plt.xlabel('Time')\n",
    "plt.ylabel('Frequency of Events')\n",
    "plt.legend()\n",
    "\n",
    "# Show the plot\n",
    "plt.title('Distribution of JHS Visit time')\n",
    "plt.show()"
   ]
  },
  {
   "cell_type": "markdown",
   "id": "e9f914fa",
   "metadata": {},
   "source": [
    "### by dif time period"
   ]
  },
  {
   "cell_type": "code",
   "execution_count": null,
   "id": "d57810df",
   "metadata": {},
   "outputs": [],
   "source": [
    "jhs_in_5y = jhs_outcome_full[jhs_outcome_full['time_12'] <= 365*5]\n",
    "\n",
    "# retrieve subjects with time_12>365*5 & y2=0\n",
    "# recode as y=0 at t=365*5\n",
    "sub = jhs_outcome_full[(jhs_outcome_full['time_12'] > 365*5) & (jhs_outcome_full['y2']==0)]  ## n=770\n",
    "\n",
    "# how to deal w subjects with time_12>365*5 & y3=1?\n",
    "sub2 = jhs_outcome_full[(jhs_outcome_full['time_12'] > 365*6.6) & (jhs_outcome_full['y2']==1)] "
   ]
  },
  {
   "cell_type": "markdown",
   "id": "8c9caf58",
   "metadata": {},
   "source": [
    "## nb features"
   ]
  },
  {
   "cell_type": "code",
   "execution_count": 5,
   "id": "984ace97",
   "metadata": {},
   "outputs": [
    {
     "data": {
      "image/png": "[encoded data removed]",
      "text/plain": [
       "<Figure size 432x288 with 1 Axes>"
      ]
     },
     "metadata": {
      "needs_background": "light"
     },
     "output_type": "display_data"
    }
   ],
   "source": [
    "sns.kdeplot(jhs_raw['nSES'], label='JHS', color='blue')\n",
    "sns.kdeplot(mesa['nSES'], label='MESA', color='red')\n",
    "sns.kdeplot(mesa_bla['nSES'], label='MESA_bla', color='green')\n",
    "\n",
    "# Set axis labels and legend\n",
    "plt.xlabel('Value')\n",
    "plt.ylabel('Density')\n",
    "plt.legend()\n",
    "\n",
    "# Show the plot\n",
    "plt.title('Density Plot of nSES')\n",
    "plt.show()\n"
   ]
  },
  {
   "cell_type": "code",
   "execution_count": 7,
   "id": "3fefc91d",
   "metadata": {},
   "outputs": [
    {
     "name": "stdout",
     "output_type": "stream",
     "text": [
      "-0.285556644967502\n",
      "1.8596374058927758\n"
     ]
    }
   ],
   "source": [
    "print(mesa['nSES'].mean())\n",
    "print(mesa['nSES'].var())"
   ]
  },
  {
   "cell_type": "code",
   "execution_count": 8,
   "id": "b096575c",
   "metadata": {},
   "outputs": [
    {
     "name": "stdout",
     "output_type": "stream",
     "text": [
      "0.09213842453750752\n",
      "1.0315340504987316\n"
     ]
    }
   ],
   "source": [
    "print(mesa_bla['nSES'].mean())\n",
    "print(mesa_bla['nSES'].var())"
   ]
  },
  {
   "cell_type": "code",
   "execution_count": 9,
   "id": "dec0639d",
   "metadata": {},
   "outputs": [
    {
     "name": "stdout",
     "output_type": "stream",
     "text": [
      "0.63529527559055\n",
      "0.4237912102946651\n"
     ]
    }
   ],
   "source": [
    "print(jhs_raw['nSES'].mean())\n",
    "print(jhs_raw['nSES'].var())"
   ]
  },
  {
   "cell_type": "markdown",
   "id": "c1314402",
   "metadata": {},
   "source": [
    "## ind exposures"
   ]
  },
  {
   "cell_type": "code",
   "execution_count": null,
   "id": "37b1fdb8",
   "metadata": {},
   "outputs": [],
   "source": [
    "plt.hist([jhs_covar['nutrition3cat'], mesa['chdiet'], mesa_bla['chdiet']], bins=[0, 1, 2, 3], alpha=0.5,\n",
    "         label=['JHS', 'MESA', 'MESA Bla'])\n",
    "\n",
    "# Set axis labels and legend\n",
    "plt.xlabel('Categorization')\n",
    "plt.ylabel('Frequency')\n",
    "plt.legend()\n",
    "\n",
    "tick_positions = [0, 1, 2]\n",
    "tick_labels = ['poor', 'intermediate', 'ideal']\n",
    "plt.xticks([pos + 0.5 for pos in tick_positions], tick_labels)\n",
    "\n",
    "\n",
    "# Show the plot\n",
    "plt.title('Nutrition')\n",
    "plt.show()"
   ]
  },
  {
   "cell_type": "code",
   "execution_count": null,
   "id": "bb5b0df2",
   "metadata": {},
   "outputs": [],
   "source": [
    "## income\n",
    "\n",
    "plt.hist([jhs_covar['fmlyinc'], mesa['income'], mesa_bla['income']], bins=[ 1, 2, 3,4,5], alpha=0.5, label=['JHS', 'MESA', 'MESA Bla'])\n",
    "\n",
    "# Set axis labels and legend\n",
    "plt.ylabel('Frequency')\n",
    "plt.legend()\n",
    "\n",
    "tick_positions = [ 1, 2,3,4]\n",
    "tick_labels = ['$0-11,999', '$12,000-24,999', '$25,000-74,999','$75,000+']\n",
    "plt.xticks([pos + 0.5 for pos in tick_positions], tick_labels)\n",
    "\n",
    "\n",
    "# Show the plot\n",
    "plt.title('Family Income')\n",
    "plt.show()"
   ]
  },
  {
   "cell_type": "markdown",
   "id": "2a180483",
   "metadata": {},
   "source": [
    "## Covariates"
   ]
  },
  {
   "cell_type": "code",
   "execution_count": null,
   "id": "cf2e9e48",
   "metadata": {},
   "outputs": [],
   "source": [
    "# continuous covariates\n",
    "\n",
    "sns.kdeplot(jhs_covar['age'], label='JHS', color='blue')\n",
    "sns.kdeplot(mesa['age'], label='MESA', color='red')\n",
    "sns.kdeplot(mesa_bla['age'], label='MESA bla', color='green')\n",
    "\n",
    "# Set axis labels and legend\n",
    "plt.xlabel('Value')\n",
    "plt.ylabel('Density')\n",
    "plt.legend()\n",
    "\n",
    "# Show the plot\n",
    "plt.title('Density Plot of Baseline age')\n",
    "plt.show()\n"
   ]
  },
  {
   "cell_type": "code",
   "execution_count": null,
   "id": "14ecc78a",
   "metadata": {},
   "outputs": [],
   "source": [
    "# race\n",
    "\n",
    "mesa['race'].value_counts()"
   ]
  },
  {
   "cell_type": "code",
   "execution_count": null,
   "id": "ec7b1cf4",
   "metadata": {},
   "outputs": [],
   "source": [
    "# gender\n",
    "\n",
    "plt.hist([jhs_covar['sex'], mesa['sex'], mesa_bla['sex']], bins=[0, 1, 2, 3], alpha=0.5, \n",
    "         label=['JHS', 'MESA', 'MESA Bla'])\n",
    "\n",
    "# Set axis labels and legend\n",
    "plt.xlabel('Sex')\n",
    "plt.ylabel('Frequency')\n",
    "plt.legend()\n",
    "\n",
    "# Move the x-axis labels towards the right\n",
    "tick_positions = [0.5, 1.5]\n",
    "tick_labels = ['female', 'male']\n",
    "plt.xticks(tick_positions, tick_labels)\n",
    "\n",
    "# Show the plot\n",
    "plt.title('Histogram of Sex')\n",
    "plt.show()"
   ]
  },
  {
   "cell_type": "code",
   "execution_count": null,
   "id": "04934b9a",
   "metadata": {},
   "outputs": [],
   "source": [
    "# binary covariates\n",
    "\n",
    "plt.hist([jhs_covar['alc'], mesa['cural'], mesa_bla['cural']], bins=[0, 1, 2, 3], alpha=0.5, \n",
    "         label=['JHS', 'MESA', 'MESA Bla'])\n",
    "\n",
    "# Set axis labels and legend\n",
    "plt.xlabel('Diabetes status')\n",
    "plt.ylabel('Frequency')\n",
    "plt.legend()\n",
    "\n",
    "# Move the x-axis labels towards the right\n",
    "tick_positions = [0.5, 1.5]\n",
    "tick_labels = ['1', '0']\n",
    "plt.xticks(tick_positions, tick_labels)\n",
    "\n",
    "# Show the plot\n",
    "plt.title('Histogram of Alcohol Status')\n",
    "plt.show()"
   ]
  }
 ],
 "metadata": {
  "kernelspec": {
   "display_name": "Python 3 (ipykernel)",
   "language": "python",
   "name": "python3"
  },
  "language_info": {
   "codemirror_mode": {
    "name": "ipython",
    "version": 3
   },
   "file_extension": ".py",
   "mimetype": "text/x-python",
   "name": "python",
   "nbconvert_exporter": "python",
   "pygments_lexer": "ipython3",
   "version": "3.9.12"
  }
 },
 "nbformat": 4,
 "nbformat_minor": 5
}
