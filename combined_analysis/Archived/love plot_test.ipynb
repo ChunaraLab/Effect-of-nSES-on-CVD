{
 "cells": [
  {
   "cell_type": "code",
   "execution_count": null,
   "id": "6c7df48d",
   "metadata": {},
   "outputs": [],
   "source": [
    "import pandas as pd\n",
    "import numpy as np\n",
    "import matplotlib.pyplot as plt"
   ]
  },
  {
   "cell_type": "code",
   "execution_count": null,
   "id": "06bb760e",
   "metadata": {},
   "outputs": [],
   "source": [
    "def calculate_smd(df, columns, treatment_col, weight_col=None):\n",
    "    \"\"\"\n",
    "    Calculate Standardized Mean Differences (SMD) for a list of columns.\n",
    "    \n",
    "    Args:\n",
    "    - df: DataFrame containing the data.\n",
    "    - columns: List of column names to calculate SMD for.\n",
    "    - treatment_col: Column name for the treatment indicator (1 for treated, 0 for control).\n",
    "    - weight_col: Column name for the weights. If None, unweighted SMD will be calculated.\n",
    "    \n",
    "    Returns:\n",
    "    - A DataFrame with the SMDs.\n",
    "    \"\"\"\n",
    "    smds = []\n",
    "    for column in columns:\n",
    "        if weight_col:\n",
    "            treated_mean = np.average(df.loc[df[treatment_col] == 1, column], weights=df.loc[df[treatment_col] == 1, weight_col])\n",
    "            control_mean = np.average(df.loc[df[treatment_col] == 0, column], weights=df.loc[df[treatment_col] == 0, weight_col])\n",
    "        else:\n",
    "            treated_mean = df.loc[df[treatment_col] == 1, column].mean()\n",
    "            control_mean = df.loc[df[treatment_col] == 0, column].mean()\n",
    "        \n",
    "        pooled_std = np.sqrt(((df.loc[df[treatment_col] == 1, column].var() + df.loc[df[treatment_col] == 0, column].var()) / 2))\n",
    "        smd = (treated_mean - control_mean) / pooled_std\n",
    "        smds.append(smd)\n",
    "    \n",
    "    return pd.DataFrame({'Variable': columns, 'SMD': smds})\n",
    "\n",
    "def plot_love(df_pre, df_post, title='Love Plot for Covariate Balance'):\n",
    "    \"\"\"\n",
    "    Generate a Love plot using pre- and post-weighting SMDs.\n",
    "    \n",
    "    Args:\n",
    "    - df_pre: DataFrame with pre-weighting SMDs.\n",
    "    - df_post: DataFrame with post-weighting SMDs.\n",
    "    - title: Title of the plot.\n",
    "    \"\"\"\n",
    "    fig, ax = plt.subplots(figsize=(10, 6))\n",
    "    ax.scatter(df_pre['SMD'], df_pre['Variable'], label='Pre-weighting', color='red')\n",
    "    ax.scatter(df_post['SMD'], df_post['Variable'], label='Post-weighting', color='blue')\n",
    "    ax.axvline(x=0.1, color='grey', linestyle='--', label='SMD = 0.1 threshold')\n",
    "    ax.axvline(x=-0.1, color='grey', linestyle='--')\n",
    "    ax.set_xlabel('Standardized Mean Difference (SMD)')\n",
    "    ax.set_title(title)\n",
    "    plt.legend()\n",
    "    plt.grid(True)\n",
    "    plt.show()"
   ]
  },
  {
   "cell_type": "code",
   "execution_count": null,
   "id": "3b1f7962",
   "metadata": {},
   "outputs": [],
   "source": [
    "\n",
    "# Assuming 'df' is your DataFrame, 'treatment' is the treatment indicator column,\n",
    "# and 'weights' is the weights column. Replace 'covariates' with your list of covariate column names.\n",
    "covariates = ['covariate1', 'covariate2']  # Example covariate column names\n",
    "df_pre_smd = calculate_smd(df, covariates, 'treatment')\n",
    "df_post_smd = calculate_smd(df, covariates, 'treatment', 'weights')\n",
    "\n",
    "plot_love(df_pre_smd, df_post_smd)\n"
   ]
  }
 ],
 "metadata": {
  "kernelspec": {
   "display_name": "Python 3 (ipykernel)",
   "language": "python",
   "name": "python3"
  },
  "language_info": {
   "codemirror_mode": {
    "name": "ipython",
    "version": 3
   },
   "file_extension": ".py",
   "mimetype": "text/x-python",
   "name": "python",
   "nbconvert_exporter": "python",
   "pygments_lexer": "ipython3",
   "version": "3.9.12"
  }
 },
 "nbformat": 4,
 "nbformat_minor": 5
}
