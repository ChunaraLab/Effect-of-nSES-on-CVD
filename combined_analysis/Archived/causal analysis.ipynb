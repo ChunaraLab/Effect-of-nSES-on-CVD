{
 "cells": [
  {
   "cell_type": "markdown",
   "id": "36b5e24b",
   "metadata": {},
   "source": [
    "## Prep"
   ]
  },
  {
   "cell_type": "markdown",
   "id": "3cb8e170",
   "metadata": {},
   "source": [
    "### import and function"
   ]
  },
  {
   "cell_type": "code",
   "execution_count": null,
   "id": "d6ddc034",
   "metadata": {},
   "outputs": [],
   "source": [
    "%matplotlib inline\n",
    "\n",
    "# Importing libraries \n",
    "import numpy as np\n",
    "import pandas as pd\n",
    "import statsmodels.api as sm\n",
    "import statsmodels.formula.api as smf\n",
    "import matplotlib\n",
    "import matplotlib.pyplot as plt\n",
    "import seaborn as sns\n",
    "import random\n",
    "from sklearn.preprocessing import StandardScaler\n",
    "\n",
    "print(\"numpy      \", np.__version__)\n",
    "print(\"pandas     \", pd.__version__)\n",
    "print(\"statsmodels\", sm.__version__)\n",
    "print(\"matplotlib \", matplotlib.__version__)\n",
    "import warnings\n",
    "warnings.filterwarnings('ignore')\n",
    "pd.options.display.max_rows = 100\n",
    "pd.options.display.max_columns = None\n",
    "\n",
    "np.random.seed(0)\n",
    "random.seed(0)"
   ]
  },
  {
   "cell_type": "code",
   "execution_count": null,
   "id": "fecaaa00",
   "metadata": {},
   "outputs": [],
   "source": [
    "## CI function\n",
    "\n",
    "def bootstrap_ci(treatment, formula_ps, formula_outcome, data, nb, ate, method,multilevel):\n",
    "    '''\n",
    "    Input: \n",
    "    treatment - column_name\n",
    "    formula_ps - Regression formula for the propensity score model\n",
    "    formula_outcome - Regression formula for the outcome model\n",
    "    data - dataframe\n",
    "    nb - number of bootstrapped samples\n",
    "    ate -  ate obtained prioring to obtaining the confidence intervals\n",
    "    method - \"ipw\" or \"gcomputation\"\n",
    "    Output: ate - average causal effect\n",
    "    \n",
    "    We first obtain the propensity of the each instance to receive the treatment.\n",
    "    Following this we fit the outcome model and weight the outcomes based on their propensity weights\n",
    "    '''\n",
    "    ate_rs = []\n",
    "    for i in range(nb):  # Drawing nb bootstrapped samples\n",
    "        d_star = data.sample(n=data.shape[0], # Same size as input data\n",
    "                             replace=True)  # Draw with replacement\n",
    "\n",
    "        if method == \"gcomputation\":\n",
    "            ate_ci = get_causal_effect_gcomputation(treatment,formula_outcome,d_star,multilevel=True)\n",
    "            ate_rs.append(ate_ci)\n",
    "\n",
    "        elif method == \"ipw\":\n",
    "            ate_ci = get_causal_effect_ipw(treatment,d_star,formula_ps,formula_outcome,multilevel)\n",
    "            ate_rs.append(ate_ci)\n",
    "            \n",
    "        # print(i)\n",
    "\n",
    "    ci_perc = np.percentile(ate_rs, q=[2.5, 97.5])\n",
    "    return ci_perc"
   ]
  },
  {
   "cell_type": "markdown",
   "id": "d7e890ae",
   "metadata": {},
   "source": [
    "### data prep"
   ]
  },
  {
   "cell_type": "markdown",
   "id": "948f5ce6",
   "metadata": {},
   "source": [
    "#### read in data"
   ]
  },
  {
   "cell_type": "code",
   "execution_count": null,
   "id": "b62ec96d",
   "metadata": {},
   "outputs": [],
   "source": [
    "mesa_cate = pd.read_csv('../data_processed/MESA/Y_BaselineX_cate_full.csv')\n",
    "mesa_cate = mesa_cate.dropna()\n",
    "\n",
    "mesa_pre = pd.read_csv('../data_processed/MESA/Y_BaselineX_processed_full.csv')\n",
    "\n",
    "## Select appropriate columns. \n",
    "analysis_feature = ['Y_10y','nSES','nFavFood','nPhysFac', 'nRS', \n",
    "                    'FamIncome', 'nutrition', 'PhysAct', 'currentSmoker', 'alc',\n",
    "                    'age', 'race','gender', 'Diabetes', 'hdl', 'totchol', 'sbp']\n",
    "\n",
    "mesa_cate = mesa_cate[analysis_feature]\n",
    "mesa_pre = mesa_pre[analysis_feature]"
   ]
  },
  {
   "cell_type": "markdown",
   "id": "7da20124",
   "metadata": {},
   "source": [
    "#### recode nutrition and PhysAct"
   ]
  },
  {
   "cell_type": "code",
   "execution_count": null,
   "id": "2a25f0af",
   "metadata": {},
   "outputs": [],
   "source": [
    "# change value to 1/4 to use the function\n",
    "# combine \"intermediate\" and \"ideal\", versus \"poor\"\n",
    "\n",
    "mesa_cate.loc[mesa_cate['PhysAct']==0,'PhysAct'] = 1\n",
    "mesa_cate.loc[mesa_cate['PhysAct']==1,'PhysAct'] = 4\n",
    "mesa_cate.loc[mesa_cate['PhysAct']==2,'PhysAct'] = 4\n",
    "\n",
    "# upon checking the distribution, most ppl are in cate \"0\" and \"1\", thus combine \"1\" and \"2\"\n",
    "mesa_cate.loc[mesa_cate['nutrition']==1,'nutrition'] = 4\n",
    "mesa_cate.loc[mesa_cate['nutrition']==2,'nutrition'] = 4\n",
    "mesa_cate.loc[mesa_cate['nutrition']==0,'nutrition'] = 1"
   ]
  },
  {
   "cell_type": "code",
   "execution_count": null,
   "id": "83ce7cd4",
   "metadata": {},
   "outputs": [],
   "source": [
    "mesa_pre.loc[mesa_pre['PhysAct']==0,'PhysAct'] = 1\n",
    "mesa_pre.loc[mesa_pre['PhysAct']==1,'PhysAct'] = 4\n",
    "mesa_pre.loc[mesa_pre['PhysAct']==2,'PhysAct'] = 4\n",
    "\n",
    "mesa_pre.loc[mesa_pre['nutrition']==1,'nutrition'] = 4\n",
    "mesa_pre.loc[mesa_pre['nutrition']==2,'nutrition'] = 4\n",
    "mesa_pre.loc[mesa_pre['nutrition']==0,'nutrition'] = 1"
   ]
  },
  {
   "cell_type": "markdown",
   "id": "d3db1425",
   "metadata": {},
   "source": [
    "#### subset mea_bla"
   ]
  },
  {
   "cell_type": "code",
   "execution_count": null,
   "id": "18cd5702",
   "metadata": {},
   "outputs": [],
   "source": [
    "mesa_bla_cate = mesa_cate[mesa_cate['race'] == 3]\n",
    "mesa_bla_pre = mesa_pre[mesa_pre['race'] == 3]"
   ]
  },
  {
   "cell_type": "markdown",
   "id": "d99b2075",
   "metadata": {},
   "source": [
    "## G-computation"
   ]
  },
  {
   "cell_type": "code",
   "execution_count": null,
   "id": "828c9213",
   "metadata": {},
   "outputs": [],
   "source": [
    "def get_causal_effect_gcomputation(treatment, formula, data,multilevel=True, outcome_dis=False):\n",
    "    '''\n",
    "    Input: treatment - column_name\n",
    "           formula - Regression formula\n",
    "           data - dataframe\n",
    "           multilevel - specify if to use multilevel model for gcomputation\n",
    "    Output: ate - average causal effect\n",
    "    \n",
    "    The main idea is to have two separate models for those with treatment=1 and treatment =0\n",
    "    According to this we sample our data based on the treatment and fit two models\n",
    "    \n",
    "    We then predict the outcome for the entire data based on our fitted models and\n",
    "    then evaluate the expected difference in the outcome which is our causal effect.\n",
    "    '''\n",
    "    if multilevel:\n",
    "        fm_a4 = smf.mixedlm(formula, \n",
    "                        data.loc[data[treatment] == 4],groups = data.loc[data[treatment]==4]['gender']).fit()\n",
    "        fm_a1 = smf.mixedlm(formula, \n",
    "                    data.loc[data[treatment] == 1], groups = data.loc[data[treatment]==1]['gender']).fit()\n",
    "\n",
    "    else:\n",
    "        f = sm.families.family.Binomial()\n",
    "        fm_a4 = smf.glm(formula, \n",
    "                        data.loc[data[treatment] == 4], family=f).fit()\n",
    "        fm_a1 = smf.glm(formula, \n",
    "                    data.loc[data[treatment] == 1], family=f).fit()\n",
    "\n",
    "    y_a4 = fm_a4.predict(data)\n",
    "    y_a1 = fm_a1.predict(data)\n",
    "    ate = np.mean(y_a4 - y_a1)\n",
    "    \n",
    "    if outcome_dis:\n",
    "        plt_data = {'Group': np.concatenate([['Exp_4']*len(y_a4), ['Exp_1']*len(y_a1)]),\n",
    "                'Value': np.concatenate([y_a4, y_a1]) }\n",
    "        plt_df = pd.DataFrame(plt_data)\n",
    "        sns.kdeplot(data=plt_df, x='Value', hue='Group', fill=True, common_norm=False)\n",
    "        plt.xlabel('Value')\n",
    "        plt.ylabel('Density')\n",
    "        plt.title(f\"Outcome distribution for exposure {treatment}\")\n",
    "        return ate,plt\n",
    "    \n",
    "    else: \n",
    "        return ate"
   ]
  },
  {
   "cell_type": "code",
   "execution_count": null,
   "id": "98c146a6",
   "metadata": {},
   "outputs": [],
   "source": [
    "data = mesa_pre.copy()\n",
    "\n",
    "treatment = \"nSES\"\n",
    "formula_g = \"Y_10y ~ C(nFavFood)+C(nPhysFac)+C(nRS)\\\n",
    "                 +C(FamIncome)+C(nutrition)+C(PhysAct)+C(currentSmoker)+C(alc)+\\\n",
    "                age + sbp + hdl + totchol + C(Diabetes) + C(race)\"\n",
    "\n",
    "## formula_ps only for the ci function, not used in gcomputation\n",
    "formula_ps = \"nSES ~ C(nFavFood)+C(nPhysFac)+C(nRS)\\\n",
    "                 +FamIncome+C(nutrition)+C(PhysAct)+C(currentSmoker)+C(alc)+\\\n",
    "                age + sbp + hdl + totchol + C(Diabetes) + C(race)\""
   ]
  },
  {
   "cell_type": "markdown",
   "id": "b3a889f6",
   "metadata": {},
   "source": [
    "### single neighborhood exposure"
   ]
  },
  {
   "cell_type": "code",
   "execution_count": null,
   "id": "ef042909",
   "metadata": {},
   "outputs": [],
   "source": [
    "print(\"Obtaining causal effect using gcomputation multilevel\")\n",
    "\n",
    "effect_g = get_causal_effect_gcomputation(treatment,formula_g,data,multilevel=True, outcome_dis=False)\n",
    "ci_g = bootstrap_ci(treatment,formula_ps,formula_g,data,100,effect_g,\"gcomputation\",multilevel=True)\n",
    "print(\"ATE from Gcomputation is {} with confidence interval {}\".format(np.round(effect_g,10),ci_g))\n"
   ]
  },
  {
   "cell_type": "code",
   "execution_count": null,
   "id": "2a260fb5",
   "metadata": {},
   "outputs": [],
   "source": [
    "print(\"Obtaining outcome distribution\")\n",
    "\n",
    "ate_g, plt_g = get_causal_effect_gcomputation(treatment,formula_g,data,multilevel=True, outcome_dis=True)\n",
    "plt_g\n"
   ]
  },
  {
   "cell_type": "markdown",
   "id": "73747063",
   "metadata": {},
   "source": [
    "### individual exposure"
   ]
  },
  {
   "cell_type": "code",
   "execution_count": null,
   "id": "858ec5fa",
   "metadata": {},
   "outputs": [],
   "source": [
    "print(\"Obtaining causal effect using gcomputation multilevel\")\n",
    "\n",
    "effect_g = get_causal_effect_gcomputation(treatment,formula_g,data_ind,multilevel=True, outcome_dis=False)\n",
    "effect_g\n",
    "ci_g = bootstrap_ci(treatment,formula_ps,formula_g,data_ind,100,effect_g,\"gcomputation\",multilevel=True)\n",
    "print(\"ATE from Gcomputation is {} with confidence interval {}\".format(np.round(effect_g,10),ci_g))\n"
   ]
  },
  {
   "cell_type": "code",
   "execution_count": null,
   "id": "58c1533f",
   "metadata": {},
   "outputs": [],
   "source": []
  },
  {
   "cell_type": "markdown",
   "id": "6d972d19",
   "metadata": {},
   "source": [
    "## IPW"
   ]
  },
  {
   "cell_type": "code",
   "execution_count": null,
   "id": "f984007d",
   "metadata": {},
   "outputs": [],
   "source": [
    "def get_causal_effect_ipw(treatment,data,formula_ps,formula_outcome,multilevel=False, outcome_dis=False):\n",
    "    '''\n",
    "    Input: \n",
    "    treatment - column_name\n",
    "    data - dataframe\n",
    "    formula_ps - Regression formula for the propensity score model\n",
    "    formula_outcome - Regression formula for the outcome model\n",
    "    multilevel - specify if to use a multilevel model for estimating propensity scores\n",
    "    Output: ate - average causal effect\n",
    "    \n",
    "    We first obtain the propensity of the each instance to receive the treatment.\n",
    "    Following this we fit the outcome model and weight the outcomes based on their propensity weights\n",
    "    '''\n",
    "    data['gender'] = pd.to_numeric(data['gender'])\n",
    "    f = sm.families.family.Binomial()\n",
    "    if multilevel:\n",
    "        ps_model = smf.mixedlm(formula_ps, \n",
    "                        data,groups = data['gender']).fit()\n",
    "    else:\n",
    "        ps_model = smf.glm(formula_ps,data,family=f).fit()\n",
    "    \n",
    "    ps_scores = ps_model.predict(data)\n",
    "        \n",
    "    outcome_model = smf.glm(formula_outcome,data,family=f).fit()\n",
    "    predicted_outcomes = outcome_model.predict(data)\n",
    "    \n",
    "    treatment_4 = np.where(data[treatment] == 4, 1, 0)\n",
    "    treatment_1 = np.where(data[treatment] == 1, 1, 0)\n",
    "    \n",
    "    potential_outcome4 = treatment_4*predicted_outcomes/ps_scores / sum(data[treatment]/ps_scores)\n",
    "    potential_outcome1 = treatment_1*predicted_outcomes/(1-ps_scores) / sum((1-data[treatment])/(1-ps_scores))\n",
    "    ate = potential_outcome4.sum() - potential_outcome1.sum()\n",
    "    \n",
    "    if outcome_dis:\n",
    "        plt_data = {'Group': np.concatenate([['Exp_4']*len(potential_outcome4), ['Exp_1']*len(potential_outcome1)]),\n",
    "                    'Value': np.concatenate([potential_outcome4, potential_outcome1]) }\n",
    "        plt_df = pd.DataFrame(plt_data)\n",
    "        sns.kdeplot(data=plt_df, x='Value', hue='Group', fill=True, common_norm=False)\n",
    "        plt.xlabel('Value')\n",
    "        plt.ylabel('Density')\n",
    "        plt.title(f\"Outcome distribution for exposure {treatment}\")\n",
    "        return ate,plt\n",
    "    \n",
    "    else: \n",
    "        return ate"
   ]
  },
  {
   "cell_type": "code",
   "execution_count": null,
   "id": "7fa76e61",
   "metadata": {},
   "outputs": [],
   "source": [
    "treatment = 'nbSESpc2score'\n",
    "outcome = 'y3'\n",
    "formula_outcome = \"y3 ~ 1+ C(nbSESpc2score)\"\n",
    "formula_ps = \"nbSESpc2score ~ C(nbK3paFacilities)+C(N_UNFAV_CT00)+C(G_bla_rk)+\\\n",
    "                C(PA3cat)+C(nutrition3cat)+\\\n",
    "                age + sbp + hdl + totchol + C(currentSmoker) + C(Diabetes)+C(alc)+C(fmlyinc)\"\n"
   ]
  },
  {
   "cell_type": "markdown",
   "id": "552a7c8c",
   "metadata": {},
   "source": [
    "### single exposure"
   ]
  },
  {
   "cell_type": "code",
   "execution_count": null,
   "id": "9678f3e3",
   "metadata": {
    "scrolled": true
   },
   "outputs": [],
   "source": [
    "print(\"Obtaining causal effect using IPW multilevel\")\n",
    "effect_ipw= get_causal_effect_ipw(treatment,dat_over_5y,formula_ps,formula_outcome,multilevel=True, outcome_dis=False)\n",
    "ci_ipw = bootstrap_ci(treatment,formula_ps,formula_outcome,dat_over_5y,100,effect_ipw,\"ipw\",multilevel=True)\n",
    "print(\"ATE from multilevel IPW is {} with confidence interval {}\".format(np.round(effect_ipw,10),ci_ipw))"
   ]
  },
  {
   "cell_type": "code",
   "execution_count": null,
   "id": "1a33581a",
   "metadata": {},
   "outputs": [],
   "source": [
    "print(\"Obtaining outcome distribution for combined effects\")\n",
    "\n",
    "ate_ipw, plt_ipw = get_causal_effect_ipw(treatment,data,formula_ps,formula_outcome,multilevel=True, outcome_dis=True)\n",
    "plt_ipw"
   ]
  },
  {
   "cell_type": "markdown",
   "id": "598a3512",
   "metadata": {},
   "source": [
    "### individual exposure"
   ]
  },
  {
   "cell_type": "code",
   "execution_count": null,
   "id": "139a48a0",
   "metadata": {},
   "outputs": [],
   "source": [
    "## data_ind, dat_phy\n",
    "print(\"Obtaining causal effect using IPW multilevel\")\n",
    "effect_ipw= get_causal_effect_ipw(treatment,data_ind,formula_ps,formula_outcome,multilevel=True)\n",
    "ci_ipw = bootstrap_ci(treatment,formula_ps,formula_outcome,data_ind,100,effect_ipw,\"ipw\",multilevel=True)\n",
    "print(\"ATE from multilevel IPW is {} with confidence interval {}\".format(np.round(effect_ipw,10),ci_ipw))"
   ]
  },
  {
   "cell_type": "markdown",
   "id": "96062e97",
   "metadata": {},
   "source": [
    "## others"
   ]
  },
  {
   "cell_type": "markdown",
   "id": "42e2f465",
   "metadata": {},
   "source": [
    "### extreme values for ipw rs"
   ]
  },
  {
   "cell_type": "code",
   "execution_count": null,
   "id": "9d17c9bb",
   "metadata": {},
   "outputs": [],
   "source": [
    "# data = data.sample(n=data.shape[0], replace=True)\n",
    "\n",
    "data['gender'] = pd.to_numeric(data['gender'])\n",
    "f = sm.families.family.Binomial()\n",
    "formula_ps = \"G_bla_rk ~ C(N_UNFAV_CT00)+C(nbK3paFacilities)+C(nbSESpc2score)+\\\n",
    "                C(sportIndex)+C(hyIndex)+C(activeIndex)+ C(darkgrnVeg)+C(eggs)+C(fish)+\\\n",
    "                age + sbp + hdl + totchol + C(currentSmoker) + C(Diabetes)\"\n",
    "ps_model = smf.mixedlm(formula_ps, data,groups = data['gender']).fit()\n",
    "\n",
    "ps_scores = ps_model.predict(data)\n",
    "\n",
    "formula_outcome = \"y ~ 1+ C(G_bla_rk)\"\n",
    "outcome_model = smf.glm(formula_outcome,data,family=f).fit()\n",
    "predicted_outcomes = outcome_model.predict(data)\n",
    "\n",
    "treatment = 'G_bla_rk' \n",
    "treatment_4 = np.where(data[treatment] == 4, 1, 0)\n",
    "treatment_1 = np.where(data[treatment] == 1, 1, 0)\n",
    "    \n",
    "potential_outcome4 = treatment_4*predicted_outcomes/ps_scores / sum(data[treatment]/ps_scores)\n",
    "potential_outcome1 = treatment_1*predicted_outcomes/(1-ps_scores) / sum((1-data[treatment])/(1-ps_scores))\n",
    "ate = potential_outcome4.sum() - potential_outcome1.sum()\n",
    "ate"
   ]
  },
  {
   "cell_type": "code",
   "execution_count": null,
   "id": "a1f13ef7",
   "metadata": {},
   "outputs": [],
   "source": [
    "def check_extreme(data_array):\n",
    "\n",
    "    # Check for extreme values based on threshold\n",
    "    z_scores = (data_array - np.mean(data_array)) / np.std(data_array)\n",
    "    threshold = 3\n",
    "    extreme_value_index = np.where(abs(z_scores) > threshold)[0]\n",
    "    \n",
    "    return extreme_value_index\n",
    "\n",
    "ind = check_extreme(potential_outcome4)\n",
    "print(ind)"
   ]
  },
  {
   "cell_type": "code",
   "execution_count": null,
   "id": "61843615",
   "metadata": {},
   "outputs": [],
   "source": [
    "## new ipw function excluding extreme value\n",
    "\n",
    "def ipw_drop_extreme(treatment,data,formula_ps,formula_outcome,multilevel=False, outcome_dis=False):\n",
    "    \n",
    "    data['gender'] = pd.to_numeric(data['gender'])\n",
    "    f = sm.families.family.Binomial()\n",
    "    if multilevel:\n",
    "        ps_model = smf.mixedlm(formula_ps, \n",
    "                        data,groups = data['gender']).fit()\n",
    "    else:\n",
    "        ps_model = smf.glm(formula_ps,data,family=f).fit()\n",
    "    \n",
    "    ps_scores = ps_model.predict(data)\n",
    "        \n",
    "    outcome_model = smf.glm(formula_outcome,data,family=f).fit()\n",
    "    predicted_outcomes = outcome_model.predict(data)\n",
    "    \n",
    "    treatment_4 = np.where(data[treatment] == 4, 1, 0)\n",
    "    treatment_1 = np.where(data[treatment] == 1, 1, 0)\n",
    "    \n",
    "    potential_outcome4 = treatment_4*predicted_outcomes/ps_scores / sum(data[treatment]/ps_scores)\n",
    "    potential_outcome1 = treatment_1*predicted_outcomes/(1-ps_scores) / sum((1-data[treatment])/(1-ps_scores))\n",
    "    \n",
    "    # drop extreme predicted values\n",
    "    ind_4 = check_extreme(potential_outcome4)\n",
    "    potential_outcome4_drop = np.delete(np.array(potential_outcome4), ind_4)\n",
    "    ind_1 = check_extreme(potential_outcome1)\n",
    "    potential_outcome1_drop = np.delete(np.array(potential_outcome1), ind_1)\n",
    "    ate = potential_outcome4_drop.sum() - potential_outcome1_drop.sum()\n",
    "    \n",
    "    if outcome_dis:\n",
    "        plt_data = {'Group': np.concatenate([['Exp_4']*len(potential_outcome4_drop), ['Exp_1']*len(potential_outcome1_drop)]),\n",
    "                    'Value': np.concatenate([potential_outcome4_drop, potential_outcome1_drop]) }\n",
    "        plt_df = pd.DataFrame(plt_data)\n",
    "        sns.kdeplot(data=plt_df, x='Value', hue='Group', fill=True, common_norm=False)\n",
    "        plt.xlabel('Value')\n",
    "        plt.ylabel('Density')\n",
    "        plt.title(f\"Outcome distribution for exposure {treatment}\")\n",
    "        return ate,plt\n",
    "    \n",
    "    else: \n",
    "        return ate"
   ]
  },
  {
   "cell_type": "code",
   "execution_count": null,
   "id": "003d8ea4",
   "metadata": {},
   "outputs": [],
   "source": [
    "## CI function with extreme value drop\n",
    "\n",
    "def bootstrap_ci(treatment, formula_ps, formula_outcome, data, nb, ate, method,multilevel):\n",
    "\n",
    "    ate_rs = []\n",
    "    for i in range(nb):  # Drawing nb bootstrapped samples, can simply start with 10 samples\n",
    "        d_star = data.sample(n=data.shape[0], # Same size as input data\n",
    "                             replace=True)  # Draw with replacement\n",
    "\n",
    "        if method == \"gcomputation\":\n",
    "            ate_ci = get_causal_effect_gcomputation(treatment,formula_outcome,d_star,multilevel)\n",
    "            ate_rs.append(ate_ci)\n",
    "\n",
    "        elif method == \"ipw\":\n",
    "            ate_ci = ipw_drop_extreme(treatment,d_star,formula_ps,formula_outcome,multilevel)\n",
    "            ate_rs.append(ate_ci)\n",
    "\n",
    "    ci_perc = np.percentile(ate_rs, q=[2.5, 97.5])\n",
    "    return ci_perc"
   ]
  },
  {
   "cell_type": "code",
   "execution_count": null,
   "id": "b8a6f56d",
   "metadata": {},
   "outputs": [],
   "source": [
    "treatment = 'G_bla_rk'\n",
    "outcome = 'y'\n",
    "formula_outcome = \"y ~ 1+ C(G_bla_rk)\"\n",
    "formula_ps = \"G_bla_rk ~ C(N_UNFAV_CT00)+C(nbK3paFacilities)+C(nbSESpc2score)+\\\n",
    "                C(sportIndex)+C(hyIndex)+C(activeIndex)+ C(darkgrnVeg)+C(eggs)+C(fish)+\\\n",
    "                age + sbp + hdl + totchol + C(currentSmoker) + C(Diabetes)\""
   ]
  },
  {
   "cell_type": "code",
   "execution_count": null,
   "id": "1a4d99e5",
   "metadata": {},
   "outputs": [],
   "source": [
    "print(\"Obtaining causal effect using IPW multilevel\")\n",
    "effect_ipw= ipw_drop_extreme(treatment,data,formula_ps,formula_outcome,multilevel=True, outcome_dis=False)\n",
    "ci_ipw = bootstrap_ci(treatment,formula_ps,formula_outcome,data,100,effect_ipw,\"ipw\",multilevel=True)\n",
    "print(\"ATE from multilevel IPW is {} with confidence interval {}\".format(np.round(effect_ipw,10),ci_ipw))"
   ]
  },
  {
   "cell_type": "code",
   "execution_count": null,
   "id": "38e19f2d",
   "metadata": {},
   "outputs": [],
   "source": [
    "print(\"Obtaining outcome distribution for combined effects\")\n",
    "\n",
    "ate_ipw, plt_ipw = ipw_drop_extreme(treatment,data,formula_ps,formula_outcome,multilevel=True, outcome_dis=True)\n",
    "plt_ipw"
   ]
  }
 ],
 "metadata": {
  "kernelspec": {
   "display_name": "Python 3 (ipykernel)",
   "language": "python",
   "name": "python3"
  },
  "language_info": {
   "codemirror_mode": {
    "name": "ipython",
    "version": 3
   },
   "file_extension": ".py",
   "mimetype": "text/x-python",
   "name": "python",
   "nbconvert_exporter": "python",
   "pygments_lexer": "ipython3",
   "version": "3.9.12"
  }
 },
 "nbformat": 4,
 "nbformat_minor": 5
}
