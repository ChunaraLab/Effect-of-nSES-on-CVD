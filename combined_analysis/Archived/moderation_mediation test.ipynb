{
 "cells": [
  {
   "cell_type": "markdown",
   "id": "ae38d27f",
   "metadata": {},
   "source": [
    "## Prep"
   ]
  },
  {
   "cell_type": "code",
   "execution_count": null,
   "id": "2e9b63cf",
   "metadata": {},
   "outputs": [],
   "source": [
    "import pandas as pd\n",
    "import numpy as np\n",
    "import matplotlib.pyplot as plt\n",
    "import random\n",
    "import seaborn as sns\n",
    "\n",
    "import statsmodels.api as sm\n",
    "from scipy import stats\n",
    "import statsmodels.tools as tools\n",
    "from scipy.stats import bootstrap\n",
    "\n",
    "from sklearn.preprocessing import StandardScaler\n",
    "\n",
    "\n",
    "import warnings\n",
    "warnings.filterwarnings('ignore')\n",
    "\n",
    "pd.options.display.max_rows = 100\n",
    "pd.options.display.max_columns = None\n",
    "\n",
    "# Set a seed for NumPy\n",
    "np.random.seed(0)\n",
    "\n",
    "# Set a seed for Python's built-in random module\n",
    "random.seed(0)"
   ]
  },
  {
   "cell_type": "code",
   "execution_count": null,
   "id": "0fb2db4f",
   "metadata": {},
   "outputs": [],
   "source": [
    "def case_when(Z):\n",
    "    if 'race' in Z and 'site' in Z:\n",
    "        return 'race_site'\n",
    "    elif 'race' in Z:\n",
    "        return 'race'\n",
    "    elif 'site' in Z:\n",
    "        return 'site'\n",
    "    else:\n",
    "        return None  # Or any default value"
   ]
  },
  {
   "cell_type": "code",
   "execution_count": null,
   "id": "1a4bf7e7",
   "metadata": {},
   "outputs": [],
   "source": [
    "def generate_combinations(Y, X, M, data):\n",
    "    # Initialize additional_Z based on the 'data' argument\n",
    "    base_Z = ['age', 'gender', 'Diabetes', 'hdl', 'totchol', 'sbp']  # Common variables\n",
    "    \n",
    "    # Define different settings based on the dataset\n",
    "    if data == \"mesa\":\n",
    "        settings = [\n",
    "            base_Z + ['race', 'site'],\n",
    "            base_Z + ['race'],\n",
    "            base_Z + ['site'],\n",
    "            base_Z\n",
    "        ]\n",
    "    elif data == \"mesa_bla\":\n",
    "        settings = [\n",
    "            base_Z + ['site'],\n",
    "            base_Z\n",
    "        ]\n",
    "    elif data == \"jhs\":\n",
    "        settings = [base_Z]  # No 'race' or 'site'\n",
    "    else:\n",
    "        settings = [base_Z]  # Default setting, can be modified as needed\n",
    "    \n",
    "    combinations = []\n",
    "    for setting in settings:\n",
    "        for x in X:\n",
    "            for m in M:\n",
    "                Y = Y  \n",
    "                Z = set(setting) - {x, m}  # Adjust Z based on the current setting\n",
    "                combination = {'Y': Y, 'X': x, 'M': m, 'Z': list(Z)}\n",
    "                combinations.append(combination)\n",
    "    return combinations"
   ]
  },
  {
   "cell_type": "markdown",
   "id": "5d842a18",
   "metadata": {},
   "source": [
    "### Read data"
   ]
  },
  {
   "cell_type": "code",
   "execution_count": null,
   "id": "e0ad6a06",
   "metadata": {},
   "outputs": [],
   "source": [
    "mesa_std = pd.read_csv('../data_processed/MESA/mesa_std.csv')\n",
    "mesa_std = mesa_std.dropna()\n",
    "\n",
    "# recode nutrition and PhysAct\n",
    "diet_phys_map = {0:1, 1:2, 2:3}\n",
    "mesa_std['nutrition'] = mesa_std['nutrition'].replace(diet_phys_map)\n",
    "mesa_std['PhysAct'] = mesa_std['PhysAct'].replace(diet_phys_map)\n",
    "\n",
    "mesa_bla_std = mesa_std[mesa_std['race'] == 1]"
   ]
  },
  {
   "cell_type": "code",
   "execution_count": null,
   "id": "041fcd2a",
   "metadata": {},
   "outputs": [],
   "source": [
    "jhs_std = pd.read_csv('../data_processed/JHS/jhs_std.csv')\n",
    "\n",
    "jhs_std = jhs_std.dropna()\n",
    "\n",
    "# recode nutrition and PhysAct\n",
    "diet_phys_map = {0:1, 1:2, 2:3}\n",
    "jhs_std['nutrition'] = jhs_std['nutrition'].replace(diet_phys_map)\n",
    "jhs_std['PhysAct'] = jhs_std['PhysAct'].replace(diet_phys_map)"
   ]
  },
  {
   "cell_type": "code",
   "execution_count": null,
   "id": "ff27bdf8",
   "metadata": {},
   "outputs": [],
   "source": []
  },
  {
   "cell_type": "markdown",
   "id": "0ebeff7a",
   "metadata": {},
   "source": [
    "## Moderation test"
   ]
  },
  {
   "cell_type": "markdown",
   "id": "96fff49f",
   "metadata": {},
   "source": [
    "### continuous variable standardized\n",
    "### ordinal categorical and treat as continuous variable\n",
    "### bootstrap to report CI for the interaction coefficient "
   ]
  },
  {
   "cell_type": "code",
   "execution_count": null,
   "id": "19ad9f3a",
   "metadata": {},
   "outputs": [],
   "source": [
    "named_df_list = [('jhs_std', jhs_std)]\n",
    "data_option = \"jhs\"\n",
    "\n",
    "Y_var = 'cvd_10y_noHF'\n",
    "X_var = ['nSES','nFavFood','nPhysFac', 'nRS']\n",
    "M_var = ['FamIncome','nutrition', 'PhysAct','currentSmoker','alc']\n",
    "\n",
    "iteration = 1000"
   ]
  },
  {
   "cell_type": "code",
   "execution_count": null,
   "id": "087d5b2e",
   "metadata": {},
   "outputs": [],
   "source": [
    "combinations = generate_combinations(Y_var, X_var, M_var, data_option)"
   ]
  },
  {
   "cell_type": "code",
   "execution_count": null,
   "id": "cc471427",
   "metadata": {},
   "outputs": [],
   "source": [
    "report_df = pd.DataFrame(columns=['Data','Y','X','moderator', 'other','mean_coef', 'ci_lower','ci_upper' ])\n",
    "\n",
    "\n",
    "for df_name, df in named_df_list:\n",
    "    \n",
    "    for combo in combinations:\n",
    "        Y = combo['Y']  # The outcome variable\n",
    "        X = combo['X']  # The treatment or main independent variable\n",
    "        M = combo['M']  # The moderator variable\n",
    "        Z = combo['Z']  # The control variables\n",
    "        \n",
    "        interaction_coef = []\n",
    "        \n",
    "        for i in range(iteration):\n",
    "            bootstrap_sample = df.sample(n=df.shape[0], replace=True)\n",
    "            \n",
    "            # add interaction term\n",
    "            bootstrap_sample[f'{X}_{M}_interaction'] = bootstrap_sample[X] * bootstrap_sample[M]\n",
    "\n",
    "            # Define the model formula by combining lists of variables and adding a constant\n",
    "            model_vars = [X, M] + Z + [f'{X}_{M}_interaction']\n",
    "            X_model = sm.add_constant(bootstrap_sample[model_vars])\n",
    "\n",
    "            # Fit the model\n",
    "            model = sm.Logit(bootstrap_sample[Y], X_model).fit(disp=0)\n",
    "            \n",
    "            # store interaction term coef\n",
    "            interaction_coef.append(model.params[f'{X}_{M}_interaction'])\n",
    "            \n",
    "        # store result to report_df\n",
    "        \n",
    "        mean_coef = np.round(np.mean(interaction_coef), 5)\n",
    "        ci_lower = np.round(np.percentile(interaction_coef, q=2.5), 5)\n",
    "        ci_upper = np.round(np.percentile(interaction_coef, q=97.5), 5)\n",
    "        \n",
    "        new_df = pd.DataFrame(\n",
    "            {'Data': df_name,\n",
    "             'Y': Y,\n",
    "             'X': X,\n",
    "             'moderator': M, \n",
    "             'other': case_when(Z),\n",
    "             'mean_coef':mean_coef,\n",
    "             'ci_lower': ci_lower,\n",
    "             'ci_upper':ci_upper \n",
    "            }, index=[0])\n",
    "        \n",
    "        # append to the complete dataset\n",
    "        report_df = pd.concat([report_df, new_df], ignore_index=True) \n",
    "\n",
    "\n",
    "export_path = f\"../results/moderation_noHF_con/{df_name}_moderation.csv\"\n",
    "report_df.to_csv(export_path)\n"
   ]
  },
  {
   "cell_type": "code",
   "execution_count": null,
   "id": "5076685a",
   "metadata": {},
   "outputs": [],
   "source": []
  },
  {
   "cell_type": "markdown",
   "id": "bfef5505",
   "metadata": {},
   "source": [
    "## Mediation Test"
   ]
  },
  {
   "cell_type": "markdown",
   "id": "38f9a862",
   "metadata": {},
   "source": [
    "### Y = b0 + b1X + bZ + e (Z represents all the other covariates)\n",
    "### M = b0 + b2X + e\n",
    "### Y = b0 + b3X + b4M + bZ + e"
   ]
  },
  {
   "cell_type": "code",
   "execution_count": null,
   "id": "2331e374",
   "metadata": {},
   "outputs": [],
   "source": [
    "# define the data\n",
    "\n",
    "named_df_list = [('jhs_std', jhs_std)]"
   ]
  },
  {
   "cell_type": "code",
   "execution_count": null,
   "id": "986f85d9",
   "metadata": {},
   "outputs": [],
   "source": [
    "# Define the variables\n",
    "\n",
    "Y = 'cvd_10y_noHF'\n",
    "X = ['nSES', 'nFavFood', 'nPhysFac', 'nRS']\n",
    "M = ['FamIncome', 'nutrition', 'PhysAct', 'currentSmoker', 'alc']\n",
    "\n",
    "data_option = \"jhs\" \n",
    "combinations = generate_combinations(Y, X, M, data_option)\n"
   ]
  },
  {
   "cell_type": "code",
   "execution_count": null,
   "id": "b69ef2c3",
   "metadata": {},
   "outputs": [],
   "source": [
    "### df to store result\n",
    "report_df = pd.DataFrame(columns = ['Data','X','M','other',\n",
    "                                    'Effect','Estimate','95_CI_Lower','95_CI_Upper'])\n",
    "\n",
    "for df_name, df in named_df_list:\n",
    "    \n",
    "    for combo in combinations:\n",
    "        Y = combo['Y']  # The outcome variable\n",
    "        X = combo['X']  # The treatment or main independent variable\n",
    "        M = combo['M']  # The mediator variable\n",
    "        Z = combo['Z']  # The control variables\n",
    "    \n",
    "        ### list to store bootstrapping result\n",
    "        num_bootstrap_samples = 1000   ######\n",
    "        bootstrap_result_b1 = []\n",
    "        bootstrap_result_b2 = []\n",
    "        bootstrap_result_b3 = []\n",
    "        bootstrap_result_b4 = []\n",
    "    \n",
    "        for _ in range(num_bootstrap_samples):\n",
    "\n",
    "            if _ % 100 == 0 and _ != 0: \n",
    "                print(_)\n",
    "\n",
    "            # Draw bootstrap sample\n",
    "            bootstrap_sample = df.sample(frac=1, replace=True)\n",
    "\n",
    "            # Y ~ X + Z\n",
    "            model_1 = sm.Logit(bootstrap_sample[Y], sm.add_constant(bootstrap_sample[[X]+Z])).fit(disp=0)  ## +Z\n",
    "            bootstrap_result_b1.append(model_1.params[X])\n",
    "\n",
    "            # M ~ X\n",
    "            model_2 = sm.OLS(bootstrap_sample[M], sm.add_constant(bootstrap_sample[X])).fit()\n",
    "            bootstrap_result_b2.append(model_2.params[X])\n",
    "\n",
    "            # Y ~ X + M +Z\n",
    "            model_3 = sm.Logit(bootstrap_sample[Y], sm.add_constant(bootstrap_sample[[X]+[M]+Z])).fit(disp=0)\n",
    "            bootstrap_result_b3.append(model_3.params[X])\n",
    "            bootstrap_result_b4.append(model_3.params[M])\n",
    "\n",
    "\n",
    "        ### report result\n",
    "\n",
    "        print(f\"Mediation results using: {df_name}\\n\")\n",
    "        print(f\"Neighborhood exposure variable: {X}\\n\")\n",
    "        print(f\"Individual level potential mediator tested: {M}\\n\")\n",
    "\n",
    "        # result for a each dataset and each variable combo\n",
    "        new_df = pd.DataFrame(\n",
    "            {'Data': [df_name, df_name,df_name,df_name],\n",
    "             'X': [X,X,X,X],\n",
    "             'M': [M,M,M,M],\n",
    "             'other': case_when(Z),\n",
    "             'Effect': ['ACME', 'ADE', 'Total Effect', 'Prop. Mediated'], \n",
    "             'Estimate': [round((np.mean(bootstrap_result_b2)*np.mean(bootstrap_result_b3)), 5),\n",
    "                          round(np.mean(bootstrap_result_b3), 5),\n",
    "                          round(np.mean(bootstrap_result_b1), 5),\n",
    "                          round(np.mean(bootstrap_result_b2)*np.mean(bootstrap_result_b3)/np.mean(bootstrap_result_b1), 5)],\n",
    "             '95_CI_Lower': [round(np.percentile(np.array(bootstrap_result_b2)*np.array(bootstrap_result_b3), 2.5),5),\n",
    "                             round(np.percentile(bootstrap_result_b3, 2.5),5),\n",
    "                             round(np.percentile(bootstrap_result_b1, 2.5),5),\n",
    "                             round(np.percentile(np.array(bootstrap_result_b2)*np.array(bootstrap_result_b3)/np.array(bootstrap_result_b1), 2.5),5)],\n",
    "             '95_CI_Upper': [round(np.percentile(np.array(bootstrap_result_b2)*np.array(bootstrap_result_b3), 97.5),5),\n",
    "                             round(np.percentile(bootstrap_result_b3, 97.5),5),\n",
    "                             round(np.percentile(bootstrap_result_b1, 97.5),5),\n",
    "                             round(np.percentile(np.array(bootstrap_result_b2)*np.array(bootstrap_result_b3)/np.array(bootstrap_result_b1), 97.5),5)]\n",
    "            })\n",
    "\n",
    "        # append to the complete dataset\n",
    "        report_df = pd.concat([report_df, new_df], ignore_index=True)\n",
    "\n",
    "        # print(report_df)\n",
    "\n",
    "        print(\"\\n\" + \"=\"*50 + \"\\n\")  \n",
    "        \n",
    "export_path = f\"../results/mediation_noHF_con/{df_name}_mediation.csv\"\n",
    "report_df.to_csv(export_path)"
   ]
  },
  {
   "cell_type": "code",
   "execution_count": null,
   "id": "47013cad",
   "metadata": {},
   "outputs": [],
   "source": [
    "    "
   ]
  }
 ],
 "metadata": {
  "kernelspec": {
   "display_name": "Python 3 (ipykernel)",
   "language": "python",
   "name": "python3"
  },
  "language_info": {
   "codemirror_mode": {
    "name": "ipython",
    "version": 3
   },
   "file_extension": ".py",
   "mimetype": "text/x-python",
   "name": "python",
   "nbconvert_exporter": "python",
   "pygments_lexer": "ipython3",
   "version": "3.9.12"
  }
 },
 "nbformat": 4,
 "nbformat_minor": 5
}
