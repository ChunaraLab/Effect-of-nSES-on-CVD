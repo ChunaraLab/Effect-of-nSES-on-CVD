{
 "cells": [
  {
   "cell_type": "code",
   "execution_count": null,
   "id": "91cde1e6",
   "metadata": {},
   "outputs": [],
   "source": [
    "import numpy as np\n",
    "import pandas as pd\n",
    "import statsmodels.api as sm \n",
    "import statsmodels.formula.api as smf\n",
    "import matplotlib.pyplot as plt\n",
    "from scipy import stats\n",
    "import warnings\n",
    "\n",
    "with warnings.catch_warnings():\n",
    "    warnings.simplefilter(\"ignore\")"
   ]
  },
  {
   "cell_type": "code",
   "execution_count": null,
   "id": "37a7c4f7",
   "metadata": {},
   "outputs": [],
   "source": [
    "# function for calculating pdf\n",
    "\n",
    "def conditional_densities(data,formula_ps_no_con,formula_ps_con, use_confounders=True):\n",
    "    \n",
    "    formula = formula_ps_con if use_confounders else formula_ps_no_con\n",
    "        \n",
    "    model = sm.formula.ols(formula, data=data).fit()\n",
    "    density = stats.norm( \n",
    "        loc=model.fittedvalues,\n",
    "        scale=model.resid.std(),\n",
    "    )  \n",
    "    densities = density.pdf(data[\"nSES\"])\n",
    "    densities = pd.Series(densities, index=model.fittedvalues.index)\n",
    "    return densities\n"
   ]
  },
  {
   "cell_type": "markdown",
   "id": "4e16b4ed",
   "metadata": {},
   "source": [
    "## data"
   ]
  },
  {
   "cell_type": "code",
   "execution_count": null,
   "id": "e96057b6",
   "metadata": {},
   "outputs": [],
   "source": [
    "mesa_std = pd.read_csv('../data_processed/MESA/mesa_std.csv', index_col=False)\n",
    "mesa_std = mesa_std.dropna()\n",
    "\n",
    "analysis_feature = ['cvd_10y_HF', 'cvd_10y_noHF',\n",
    "                    'nSES','nFavFood','nPhysFac', 'nRS', \n",
    "                    'FamIncome', 'nutrition', 'PhysAct', 'currentSmoker', 'alc',\n",
    "                    'age', 'gender', 'Diabetes', 'hdl', 'totchol', 'sbp',\n",
    "                   'site', 'race']\n",
    "\n",
    "mesa_std = mesa_std[analysis_feature]\n",
    "\n",
    "mesa_bla_std = mesa_std[mesa_std['race'] == 1]\n"
   ]
  },
  {
   "cell_type": "code",
   "execution_count": null,
   "id": "d965a8c9",
   "metadata": {},
   "outputs": [],
   "source": [
    "jhs_std = pd.read_csv('../data_processed/JHS/jhs_std.csv', index_col=False)\n",
    "jhs_std = jhs_std.dropna()\n",
    "\n",
    "analysis_feature = ['cvd_10y_HF', 'cvd_10y_noHF',\n",
    "                    'nSES','nFavFood','nPhysFac', 'nRS', \n",
    "                    'FamIncome', 'nutrition', 'PhysAct', 'currentSmoker', 'alc',\n",
    "                    'age','gender', 'Diabetes', 'hdl', 'totchol', 'sbp']\n",
    "\n",
    "jhs_std = jhs_std[analysis_feature]"
   ]
  },
  {
   "cell_type": "code",
   "execution_count": null,
   "id": "42f8aa9c",
   "metadata": {},
   "outputs": [],
   "source": [
    "# check nSES distribution\n",
    "\n",
    "# jhs_std['nSES'].plot.kde()\n",
    "\n",
    "# plt.title('Density Plot for nSES')\n",
    "# plt.xlabel('nSES Values')\n",
    "# plt.ylabel('Density')\n",
    "\n",
    "# plt.show()"
   ]
  },
  {
   "cell_type": "markdown",
   "id": "24e009e0",
   "metadata": {},
   "source": [
    "## Generalized IPW for single estimate"
   ]
  },
  {
   "cell_type": "code",
   "execution_count": null,
   "id": "591fa87f",
   "metadata": {},
   "outputs": [],
   "source": [
    "# Step 1: estimate propensity density\n",
    "\n",
    "denominator = conditional_densities(data, formula_ps_no_con,formula_ps_con, use_confounders=True)\n",
    "numerator = conditional_densities(data, formula_ps_no_con,formula_ps_con, use_confounders=False)\n",
    "generalized_ipw = numerator / denominator"
   ]
  },
  {
   "cell_type": "code",
   "execution_count": null,
   "id": "e824ebf6",
   "metadata": {},
   "outputs": [],
   "source": [
    "# check balance??\n",
    "\n",
    "# love plot displays standardized mean differences, but only works for binary treatment\n"
   ]
  },
  {
   "cell_type": "code",
   "execution_count": null,
   "id": "05a256ec",
   "metadata": {},
   "outputs": [],
   "source": [
    "# Step 2: Weighted Logistic regression \n",
    "\n",
    "formula_outcome = 'Y_10y ~ 1 + nSES'\n",
    "\n",
    "model = smf.logit(formula=formula_outcome, data=data, weights=generalized_ipw).fit()\n",
    "print(model.summary())"
   ]
  },
  {
   "cell_type": "code",
   "execution_count": null,
   "id": "e7fa8b1c",
   "metadata": {},
   "outputs": [],
   "source": [
    "# visualize the predictions\n",
    "\n",
    "dosage = list(range(-10,10))  # hypothesized dosage value for plotting\n",
    "dosage = pd.DataFrame(\n",
    "    data={\"nSES\": dosage},\n",
    "    index=dosage,\n",
    ")\n",
    "response = model.predict(dosage)\n",
    "ax = response.plot(\n",
    "    kind=\"line\",\n",
    "    xlabel=\"nSES value\",\n",
    "    ylabel=\"Prediction of 10-year CVD risk\"\n",
    ")\n"
   ]
  },
  {
   "cell_type": "code",
   "execution_count": null,
   "id": "79fe53df",
   "metadata": {},
   "outputs": [],
   "source": [
    "# check logistic regression assumption \n",
    "\n",
    "import pygam\n",
    "from pygam import LogisticGAM, s\n",
    "\n",
    "X = data['nSES']  # Predictor variables\n",
    "y = data['Y_10y']  # Response variable\n",
    "\n",
    "# Fit a GAM with a spline for each predictor variable\n",
    "gam = LogisticGAM(s(0)).fit(X, y)\n",
    "\n",
    "# Plot the partial dependence for each predictor to inspect linearity\n",
    "for i, term in enumerate(gam.terms):\n",
    "    if term.isintercept:\n",
    "        continue\n",
    "    XX = gam.generate_X_grid(term=i)\n",
    "    pdep, confi = gam.partial_dependence(term=i, X=XX, width=0.95)\n",
    "    plt.figure()\n",
    "    plt.plot(XX[:, i], pdep)\n",
    "    plt.plot(XX[:, i], confi, c='r', ls='--')\n",
    "    plt.title(f'Partial Dependence')\n",
    "    plt.show()\n",
    "\n",
    "## roughly linear, assumption holds"
   ]
  },
  {
   "cell_type": "markdown",
   "id": "128e8d7c",
   "metadata": {},
   "source": [
    "### bootstrap for CI"
   ]
  },
  {
   "cell_type": "code",
   "execution_count": null,
   "id": "dd9bed33",
   "metadata": {},
   "outputs": [],
   "source": [
    "def generate_formula(X_vars, M_vars,additional_vars, data):\n",
    "    \n",
    "    # Define different settings based on the dataset\n",
    "    if data == \"mesa\":\n",
    "        settings = [\n",
    "            additional_vars + ['race', 'site'],\n",
    "            additional_vars + ['race'],\n",
    "            additional_vars + ['site'],\n",
    "            additional_vars\n",
    "        ]\n",
    "    elif data == \"mesa_bla\":\n",
    "        settings = [\n",
    "            additional_vars + ['site'],\n",
    "            additional_vars\n",
    "        ]\n",
    "    elif data == \"jhs\":\n",
    "        settings = [additional_vars]  # No 'race' or 'site'\n",
    "    else:\n",
    "        settings = [additional_vars]  # Default setting, can be modified as needed\n",
    "    \n",
    "    formula_combinations = []\n",
    "\n",
    "    # Generate combinations\n",
    "    for setting in settings:\n",
    "        \n",
    "        Z = set(setting)  # Adjust Z based on the current setting\n",
    "        \n",
    "        for i in range(len(X_vars)):\n",
    "        \n",
    "            # Rotate X variables so a different one is in the first position\n",
    "            rotated_X_vars = X_vars[i:] + X_vars[:i]\n",
    "            \n",
    "            X = rotated_X_vars[0]\n",
    "\n",
    "            # Create the three formulas based on the current rotation\n",
    "            formula_ps_no_con = f\"{rotated_X_vars[0]} ~ 1\"\n",
    "            formula_ps_con = f\"{rotated_X_vars[0]} ~ 1 + {' + '.join(rotated_X_vars[1:])} + \" + \\\n",
    "                             \" + \".join([f\"C({m})\" for m in M_vars]) + \" + \" + \\\n",
    "                             \" + \".join(Z)\n",
    "            formula_outcome = f'cvd_10y_noHF ~ 1 + {rotated_X_vars[0]}'   ###### noHF Y\n",
    "\n",
    "            # Add the set of formulas to the list\n",
    "            formula_combinations.append({\n",
    "                'X': [X],\n",
    "                'Z': list(Z),\n",
    "                'formula_ps_no_con': formula_ps_no_con,\n",
    "                'formula_ps_con': formula_ps_con,\n",
    "                'formula_outcome': formula_outcome\n",
    "            })\n",
    "            \n",
    "    return formula_combinations"
   ]
  },
  {
   "cell_type": "code",
   "execution_count": null,
   "id": "fc019dc4",
   "metadata": {},
   "outputs": [],
   "source": [
    "def case_when(Z):\n",
    "    if 'race' in Z and 'site' in Z:\n",
    "        return 'race_site'\n",
    "    elif 'race' in Z:\n",
    "        return 'race'\n",
    "    elif 'site' in Z:\n",
    "        return 'site'\n",
    "    else:\n",
    "        return None  # Or any default value"
   ]
  },
  {
   "cell_type": "code",
   "execution_count": null,
   "id": "fa388afd",
   "metadata": {},
   "outputs": [],
   "source": [
    "# generate combination\n",
    "\n",
    "# Define the variables\n",
    "X_vars = ['nSES', 'nFavFood', 'nPhysFac', 'nRS']\n",
    "M_vars = ['FamIncome', 'nutrition', 'PhysAct', 'currentSmoker', 'alc']\n",
    "additional_vars = ['age', 'sbp', 'hdl', 'totchol', 'Diabetes']\n",
    "\n",
    "# define the data\n",
    "named_df_list = [('mesa_std', mesa_std)]\n",
    "data_option = \"mesa\" \n",
    "\n",
    "# generate combo\n",
    "formula_combinations = generate_formula(X_vars, M_vars,additional_vars, data_option)"
   ]
  },
  {
   "cell_type": "code",
   "execution_count": null,
   "id": "36d9002f",
   "metadata": {},
   "outputs": [],
   "source": [
    "report_df = pd.DataFrame(columns=['Data','X','other','mean_coef', 'ci_lower','ci_upper' ])\n",
    "iteration = 1000\n",
    "\n",
    "for df_name, df in named_df_list:\n",
    "    \n",
    "    ### iterate on each formula combo ###\n",
    "    for combo in formula_combinations:\n",
    "        X = combo['X']\n",
    "        Z = combo['Z']\n",
    "        formula_ps_no_con = combo['formula_ps_no_con'] \n",
    "        formula_ps_con = combo['formula_ps_con'] \n",
    "        formula_outcome = combo['formula_outcome']\n",
    "        \n",
    "        coef_treatment = []\n",
    "        \n",
    "        for i in range(iteration):\n",
    "            d_star = df.sample(n=df.shape[0], replace=True)\n",
    "\n",
    "            # step 1\n",
    "            denominator = conditional_densities(d_star, formula_ps_no_con,formula_ps_con, use_confounders=True)\n",
    "            numerator = conditional_densities(d_star, formula_ps_no_con,formula_ps_con, use_confounders=False)\n",
    "            generalized_ipw = numerator / denominator\n",
    "\n",
    "            # step 2\n",
    "            with warnings.catch_warnings():\n",
    "                warnings.simplefilter(\"ignore\", category=UserWarning)\n",
    "            model = smf.logit(formula=formula_outcome, data=d_star, weights=generalized_ipw).fit(disp=0)\n",
    "            coef_treatment.append(model.params[1])\n",
    "\n",
    "        # Calculate mean and 95% CI\n",
    "        mean_coef = np.round(np.mean(coef_treatment), 5)\n",
    "        ci_lower = np.round(np.percentile(coef_treatment, q=2.5), 5)\n",
    "        ci_upper = np.round(np.percentile(coef_treatment, q=97.5), 5)\n",
    "\n",
    "        new_df = pd.DataFrame(\n",
    "                    {'Data': df_name,\n",
    "                     'X': X,\n",
    "                     'other': case_when(Z),\n",
    "                     'mean_coef':mean_coef,\n",
    "                     'ci_lower': ci_lower,\n",
    "                     'ci_upper':ci_upper\n",
    "                    })\n",
    "\n",
    "        # append to the complete dataset\n",
    "        report_df = pd.concat([report_df, new_df], ignore_index=True)\n",
    "            \n",
    "        # print(report_df)\n",
    "        print(\"\\n\" + \"=\"*50 + \"\\n\")  \n",
    "\n",
    "\n",
    "export_path = f\"../results/G_IPW_noHF/{df_name}_G_ipw.csv\"\n",
    "report_df.to_csv(export_path)"
   ]
  }
 ],
 "metadata": {
  "kernelspec": {
   "display_name": "Python 3 (ipykernel)",
   "language": "python",
   "name": "python3"
  },
  "language_info": {
   "codemirror_mode": {
    "name": "ipython",
    "version": 3
   },
   "file_extension": ".py",
   "mimetype": "text/x-python",
   "name": "python",
   "nbconvert_exporter": "python",
   "pygments_lexer": "ipython3",
   "version": "3.9.12"
  }
 },
 "nbformat": 4,
 "nbformat_minor": 5
}
