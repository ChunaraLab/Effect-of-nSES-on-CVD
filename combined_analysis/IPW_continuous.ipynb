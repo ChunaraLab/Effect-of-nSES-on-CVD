{
 "cells": [
  {
   "cell_type": "code",
   "execution_count": null,
   "id": "91cde1e6",
   "metadata": {},
   "outputs": [],
   "source": [
    "import numpy as np\n",
    "import pandas as pd\n",
    "import statsmodels.api as sm \n",
    "import statsmodels.formula.api as smf\n",
    "import matplotlib.pyplot as plt\n",
    "from scipy import stats\n",
    "import warnings\n",
    "\n",
    "with warnings.catch_warnings():\n",
    "    warnings.simplefilter(\"ignore\")"
   ]
  },
  {
   "cell_type": "markdown",
   "id": "4e16b4ed",
   "metadata": {},
   "source": [
    "## data"
   ]
  },
  {
   "cell_type": "code",
   "execution_count": null,
   "id": "e96057b6",
   "metadata": {},
   "outputs": [],
   "source": [
    "mesa_std = pd.read_csv('../data_processed/MESA/mesa_std.csv', index_col=False)\n",
    "mesa_std = mesa_std.dropna()\n",
    "\n",
    "analysis_feature = ['Y_10y','nSES','nFavFood','nPhysFac', 'nRS', \n",
    "                    'FamIncome', 'nutrition', 'PhysAct', 'currentSmoker', 'alc',\n",
    "                    'age', 'gender', 'Diabetes', 'hdl', 'totchol', 'sbp',\n",
    "                   'site', 'race']\n",
    "\n",
    "mesa_std = mesa_std[analysis_feature]\n",
    "\n",
    "mesa_bla_std = mesa_std[mesa_std['race'] == 1]\n"
   ]
  },
  {
   "cell_type": "code",
   "execution_count": null,
   "id": "d965a8c9",
   "metadata": {},
   "outputs": [],
   "source": [
    "jhs_std = pd.read_csv('../data_processed/JHS/jhs_std.csv', index_col=False)\n",
    "jhs_std = jhs_std.dropna()\n",
    "\n",
    "analysis_feature = ['Y_10y','nSES','nFavFood','nPhysFac', 'nRS', \n",
    "                    'FamIncome', 'nutrition', 'PhysAct', 'currentSmoker', 'alc',\n",
    "                    'age','gender', 'Diabetes', 'hdl', 'totchol', 'sbp']\n",
    "\n",
    "jhs_std = jhs_std[analysis_feature]"
   ]
  },
  {
   "cell_type": "code",
   "execution_count": null,
   "id": "42f8aa9c",
   "metadata": {},
   "outputs": [],
   "source": [
    "# check nSES distribution\n",
    "\n",
    "jhs_std['nSES'].plot.kde()\n",
    "\n",
    "plt.title('Density Plot for nSES')\n",
    "plt.xlabel('nSES Values')\n",
    "plt.ylabel('Density')\n",
    "\n",
    "plt.show()"
   ]
  },
  {
   "cell_type": "markdown",
   "id": "24e009e0",
   "metadata": {},
   "source": [
    "## Generalized IPW for single estimate"
   ]
  },
  {
   "cell_type": "code",
   "execution_count": null,
   "id": "37a7c4f7",
   "metadata": {},
   "outputs": [],
   "source": [
    "# Step 1: estimate propensity density\n",
    "\n",
    "def conditional_densities(data,formula_ps_no_con,formula_ps_con, use_confounders=True):\n",
    "    \n",
    "    formula = formula_ps_con if use_confounders else formula_ps_no_con\n",
    "        \n",
    "    model = sm.formula.ols(formula, data=data).fit()\n",
    "    density = stats.norm( \n",
    "        loc=model.fittedvalues,\n",
    "        scale=model.resid.std(),\n",
    "    )  # a series of distributions?\n",
    "    densities = density.pdf(data[\"nSES\"])\n",
    "    densities = pd.Series(densities, index=model.fittedvalues.index)\n",
    "    return densities\n"
   ]
  },
  {
   "cell_type": "code",
   "execution_count": null,
   "id": "e824ebf6",
   "metadata": {},
   "outputs": [],
   "source": [
    "# check balance??\n",
    "\n",
    "# love plot displays standardized mean differences, but only works for binary treatment\n"
   ]
  },
  {
   "cell_type": "code",
   "execution_count": null,
   "id": "05a256ec",
   "metadata": {},
   "outputs": [],
   "source": [
    "# Step 2: Weighted Logistic regression \n",
    "\n",
    "formula_outcome = 'Y_10y ~ 1 + nSES'\n",
    "\n",
    "model = smf.logit(formula=formula_outcome, data=data, weights=generalized_ipw).fit()\n",
    "print(model.summary())"
   ]
  },
  {
   "cell_type": "code",
   "execution_count": null,
   "id": "e7fa8b1c",
   "metadata": {},
   "outputs": [],
   "source": [
    "# visualize the predictions\n",
    "\n",
    "dosage = list(range(-10,10))  # hypothesized dosage value for plotting\n",
    "dosage = pd.DataFrame(\n",
    "    data={\"nSES\": dosage},\n",
    "    index=dosage,\n",
    ")\n",
    "response = model.predict(dosage)\n",
    "ax = response.plot(\n",
    "    kind=\"line\",\n",
    "    xlabel=\"nSES value\",\n",
    "    ylabel=\"Prediction of 10-year CVD risk\"\n",
    ")\n"
   ]
  },
  {
   "cell_type": "code",
   "execution_count": null,
   "id": "79fe53df",
   "metadata": {},
   "outputs": [],
   "source": [
    "# check logistic regression assumption \n",
    "\n",
    "import pygam\n",
    "from pygam import LogisticGAM, s\n",
    "\n",
    "X = data['nSES']  # Predictor variables\n",
    "y = data['Y_10y']  # Response variable\n",
    "\n",
    "# Fit a GAM with a spline for each predictor variable\n",
    "gam = LogisticGAM(s(0)).fit(X, y)\n",
    "\n",
    "# Plot the partial dependence for each predictor to inspect linearity\n",
    "for i, term in enumerate(gam.terms):\n",
    "    if term.isintercept:\n",
    "        continue\n",
    "    XX = gam.generate_X_grid(term=i)\n",
    "    pdep, confi = gam.partial_dependence(term=i, X=XX, width=0.95)\n",
    "    plt.figure()\n",
    "    plt.plot(XX[:, i], pdep)\n",
    "    plt.plot(XX[:, i], confi, c='r', ls='--')\n",
    "    plt.title(f'Partial Dependence')\n",
    "    plt.show()\n",
    "\n",
    "## roughly linear, assumption holds"
   ]
  },
  {
   "cell_type": "markdown",
   "id": "128e8d7c",
   "metadata": {},
   "source": [
    "### bootstrap for CI"
   ]
  },
  {
   "cell_type": "code",
   "execution_count": null,
   "id": "d663f960",
   "metadata": {},
   "outputs": [],
   "source": [
    "# return CI for the coefficient of treatment in the outcome function\n",
    "\n",
    "def bootstrap_G_IPW(data, formula_ps_no_con,formula_ps_con, formula_outcome, iteration):\n",
    "    \n",
    "    coef_treatment = []\n",
    "    \n",
    "    for i in range(iteration):\n",
    "        d_star = data.sample(n=data.shape[0], replace=True)\n",
    "        \n",
    "        # step 1\n",
    "        denominator = conditional_densities(d_star, formula_ps_no_con,formula_ps_con, use_confounders=True)\n",
    "        numerator = conditional_densities(d_star, formula_ps_no_con,formula_ps_con, use_confounders=False)\n",
    "        generalized_ipw = numerator / denominator\n",
    "        \n",
    "        # step 2\n",
    "        with warnings.catch_warnings():\n",
    "            warnings.simplefilter(\"ignore\", category=UserWarning)\n",
    "        model = smf.logit(formula=formula_outcome, data=d_star, weights=generalized_ipw).fit(disp=0)\n",
    "        coef_treatment.append(model.params[1])\n",
    "    \n",
    "    # Calculate mean and 95% CI\n",
    "    mean_coef = np.round(np.mean(coef_treatment), 5)\n",
    "    ci = np.round(np.percentile(coef_treatment, q=[2.5, 97.5]), 5)\n",
    "    \n",
    "    result_template = \"Using bootstrap method, the estimated coefficient of treatment \\\n",
    "    in the outcome function is {mean_coef}, and its 95% CI is {ci}.\"\n",
    "    result = result_template.format(mean_coef=mean_coef, ci=ci)\n",
    "    \n",
    "    return result\n"
   ]
  },
  {
   "cell_type": "code",
   "execution_count": null,
   "id": "f6cc73ab",
   "metadata": {},
   "outputs": [],
   "source": [
    "formula_ps_no_con = \"nRS ~ 1\"\n",
    "formula_ps_con = \"nRS ~ 1 + \\\n",
    "        nSES + nFavFood + nPhysFac + \\\n",
    "        C(FamIncome)+C(nutrition)+C(PhysAct)+C(currentSmoker)+C(alc)+ \\\n",
    "        age + sbp + hdl + totchol + C(Diabetes) +\\\n",
    "        C(site)\"\n",
    "\n",
    "formula_outcome = 'Y_10y ~ 1 + nRS'\n",
    "\n",
    "data = mesa_bla_std.copy()"
   ]
  },
  {
   "cell_type": "code",
   "execution_count": null,
   "id": "0e939d32",
   "metadata": {},
   "outputs": [],
   "source": [
    "bootstrap_G_IPW(data, formula_ps_no_con,formula_ps_con, formula_outcome, iteration=1000)"
   ]
  }
 ],
 "metadata": {
  "kernelspec": {
   "display_name": "Python 3 (ipykernel)",
   "language": "python",
   "name": "python3"
  },
  "language_info": {
   "codemirror_mode": {
    "name": "ipython",
    "version": 3
   },
   "file_extension": ".py",
   "mimetype": "text/x-python",
   "name": "python",
   "nbconvert_exporter": "python",
   "pygments_lexer": "ipython3",
   "version": "3.9.12"
  }
 },
 "nbformat": 4,
 "nbformat_minor": 5
}
