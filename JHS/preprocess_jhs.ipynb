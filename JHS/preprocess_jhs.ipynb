{
 "cells": [
  {
   "cell_type": "markdown",
   "id": "e1978543",
   "metadata": {},
   "source": [
    "# Prep data"
   ]
  },
  {
   "cell_type": "code",
   "execution_count": null,
   "id": "3401a3f4",
   "metadata": {},
   "outputs": [],
   "source": [
    "import pandas as pd\n",
    "from collections import defaultdict\n",
    "import matplotlib.pyplot as plt\n",
    "import numpy as np\n",
    "import os\n",
    "from sklearn.preprocessing import StandardScaler\n",
    "import warnings\n",
    "\n",
    "warnings.filterwarnings('ignore')\n",
    "pd.options.display.max_columns = None\n",
    "pd.options.display.max_rows = 100"
   ]
  },
  {
   "cell_type": "markdown",
   "id": "231d5707",
   "metadata": {},
   "source": [
    "## Nb food and physical facility"
   ]
  },
  {
   "cell_type": "code",
   "execution_count": null,
   "id": "635f06f3",
   "metadata": {},
   "outputs": [],
   "source": [
    "filename_ = \"data/raw_data_file/neighborhood/jhs_nets.csv\"\n",
    "nets_data = pd.read_csv(filename_)\n",
    "\n",
    "nets_data = nets_data[['SUBJID', 'exam', 'S1FAV', 'S1PAI']]\n",
    "\n",
    "nets_data = nets_data.rename(columns={\"SUBJID\": \"subjid\", \"exam\":\"visit\"})\n",
    "\n",
    "visit_mapping = {'exam1': 1,'exam2': 2, 'exam3':3}\n",
    "nets_data = nets_data.assign(visit  = nets_data.visit.map(visit_mapping))\n"
   ]
  },
  {
   "cell_type": "markdown",
   "id": "91bfb033",
   "metadata": {},
   "source": [
    "## racial segregation"
   ]
  },
  {
   "cell_type": "code",
   "execution_count": null,
   "id": "446d8436",
   "metadata": {},
   "outputs": [],
   "source": [
    "filename_ = \"data/raw_data_file/neighborhood/jhs_rs.csv\"\n",
    "rs_data = pd.read_csv(filename_)\n",
    "\n",
    "rs_data = rs_data[['SUBJID', 'exam', 'G_bla_rk']]\n",
    "\n",
    "rs_data = rs_data.rename(columns={\"SUBJID\": \"subjid\", \"exam\":\"visit\"})\n",
    "\n",
    "visit_mapping = {'exam1': 1,'exam2': 2}\n",
    "rs_data = rs_data.assign(visit  = rs_data.visit.map(visit_mapping))\n"
   ]
  },
  {
   "cell_type": "markdown",
   "id": "fa198af9",
   "metadata": {},
   "source": [
    "## visit dates and other covariates"
   ]
  },
  {
   "cell_type": "code",
   "execution_count": null,
   "id": "d18f2506",
   "metadata": {},
   "outputs": [],
   "source": [
    "filename_ = \"data/raw_data_file/analysis.csv\"\n",
    "analysis_data = pd.read_csv(filename_)\n",
    "analysis_data = analysis_data[['subjid', 'visit', 'VisitDate',\n",
    "                      'nutrition3cat','PA3cat',\n",
    "                      'fmlyinc','alc']]"
   ]
  },
  {
   "cell_type": "markdown",
   "id": "c53e37d1",
   "metadata": {},
   "source": [
    "## Common dataset"
   ]
  },
  {
   "cell_type": "code",
   "execution_count": null,
   "id": "d15a0337",
   "metadata": {},
   "outputs": [],
   "source": [
    "common_data = pd.read_csv(\"data/processed/common_data_jhs.csv\")\n",
    "\n",
    "common_data = common_data[['subjid','visit',\n",
    "                           'nSES','nbSESpc2score',\n",
    "                           'currentSmoker','Diabetes','sex','age','sbp','hdl','totchol',\n",
    "                          'MIHx','strokeHx','CHDHx','CVDHx']]"
   ]
  },
  {
   "cell_type": "markdown",
   "id": "68e0de55",
   "metadata": {},
   "source": [
    "## merge"
   ]
  },
  {
   "cell_type": "code",
   "execution_count": null,
   "id": "27197211",
   "metadata": {},
   "outputs": [],
   "source": [
    "merge1 = common_data.merge(nets_data, how='left', on=['subjid','visit'])\n",
    "merge2 = merge1.merge(rs_data, how='left', on=['subjid','visit'])\n",
    "merge3 = merge2.merge(analysis_data, how='left', on=['subjid','visit'])\n",
    "merge = merge3"
   ]
  },
  {
   "cell_type": "code",
   "execution_count": null,
   "id": "23821091",
   "metadata": {},
   "outputs": [],
   "source": [
    "## map gender and income\n",
    "\n",
    "gender_mapping = {'Female':0,'Male':1}\n",
    "income_mapping = {'A':1,'B':1,'C':1,\n",
    "                 'D':2,'E':2,'F':2,\n",
    "                 'G':3,'H':3,'I':3,\n",
    "                 'J':4,'K':4}\n",
    "merge = merge.assign(gender = merge['sex'].map(gender_mapping))\n",
    "merge = merge.assign(fmlyinc = merge['fmlyinc'].map(income_mapping))\n",
    "\n",
    "merge_raw = merge.copy()"
   ]
  },
  {
   "cell_type": "code",
   "execution_count": null,
   "id": "d53a0d37",
   "metadata": {},
   "outputs": [],
   "source": [
    "## rename \n",
    "\n",
    "jhs_raw = jhs_raw.rename(columns = {'event': 'Y_10y', \n",
    "                             'nbSESpc2score': 'nSES',\n",
    "                            'S1FAV': 'nFavFood',\n",
    "                            'S1PAI': 'nPhysFac', \n",
    "                            'G_bla_rk': 'nRS', \n",
    "                            'nutrition3cat': 'nutrition', \n",
    "                            'PA3cat': 'PhysAct',\n",
    "                            'fmlyinc': 'FamIncome'})"
   ]
  },
  {
   "cell_type": "markdown",
   "id": "111f3ea0",
   "metadata": {},
   "source": [
    "# preprocess"
   ]
  },
  {
   "cell_type": "markdown",
   "id": "1653035d",
   "metadata": {},
   "source": [
    "## functions"
   ]
  },
  {
   "cell_type": "code",
   "execution_count": null,
   "id": "8d8c8814",
   "metadata": {},
   "outputs": [],
   "source": [
    "def get_outcome(df):\n",
    "    df['y'] = 0\n",
    "    df.loc[\n",
    "       (df['MIHx']==1.0) |\n",
    "       (df['strokeHx']==1.0) |\n",
    "       (df['CHDHx']==1.0)|\n",
    "       (df['CVDHx']==1.0),\n",
    "       'y'] = 1\n",
    "    return df\n",
    "\n",
    "def fillna_cat(df,cat_feat):\n",
    "    for feat in cat_feat:\n",
    "        df[feat].fillna(df[feat].mode()[0], inplace=True)\n",
    "    return df\n",
    "\n",
    "def fillna_cont(df,cont_feat):\n",
    "    df= df.fillna((df[cont_feat].mean()))\n",
    "    return df\n",
    "\n",
    "\n",
    "def quantile_exp(df,con_exp_feat):\n",
    "    for feat in con_exp_feat:\n",
    "        df[feat] = df[feat].transform(lambda x: pd.qcut(x.rank(method='first'), \n",
    "                                                         q = [0, 0.25, 0.5, 0.75, 1], labels = [1,2,3,4]))\n",
    "        df[feat] = pd.to_numeric(df[feat])\n",
    "    return df\n",
    "\n",
    "def standardize(df,con_index):\n",
    "    scaler = StandardScaler()\n",
    "    scaler.fit(df[con_index],) \n",
    "    df[con_index] = scaler.transform(df[con_index], copy = True)\n",
    "    return df\n",
    "\n",
    "\n",
    "\n",
    "## complete pipeline\n",
    "\n",
    "def process(df,cont_feat,cat_feat,con_exp_feat):\n",
    "    df = get_outcome(df)\n",
    "    \n",
    "    df = fillna_cat(df,cat_feat)\n",
    "    \n",
    "    df = fillna_cont(df,cont_feat)\n",
    "    df = standardize(df,cont_feat)\n",
    "        \n",
    "    df = fillna_cont(df,con_exp_feat)\n",
    "    df = quantile_exp(df,con_exp_feat)\n",
    "    \n",
    "    return df\n",
    "\n"
   ]
  },
  {
   "cell_type": "markdown",
   "id": "8c9ae22a",
   "metadata": {},
   "source": [
    "## process by exam "
   ]
  },
  {
   "cell_type": "code",
   "execution_count": null,
   "id": "6f4823fe",
   "metadata": {},
   "outputs": [],
   "source": [
    "dat1 = merge[merge['visit'] == 1]\n",
    "dat2 = merge[merge['visit'] == 2]\n",
    "dat3 = merge[merge['visit'] == 3]"
   ]
  },
  {
   "cell_type": "code",
   "execution_count": null,
   "id": "4231e123",
   "metadata": {},
   "outputs": [],
   "source": [
    "## visit 1\n",
    "\n",
    "con_exp_feat1 = ['nbSESpc2score','S1FAV','S1PAI','G_bla_rk']\n",
    "\n",
    "cont_feat1 = ['sbp', 'hdl', 'totchol']\n",
    "\n",
    "cat_feat1 = ['currentSmoker','Diabetes', 'gender', 'fmlyinc','nutrition3cat','PA3cat','alc']\n",
    "\n",
    "data1_processed = process(dat1,cont_feat1,cat_feat1,con_exp_feat1)"
   ]
  },
  {
   "cell_type": "code",
   "execution_count": null,
   "id": "74f6bbcc",
   "metadata": {},
   "outputs": [],
   "source": [
    "## visit 2\n",
    "\n",
    "con_exp_feat2 = ['S1FAV','S1PAI','G_bla_rk']\n",
    "\n",
    "cont_feat2 = ['sbp']\n",
    "\n",
    "cat_feat2 = ['Diabetes', 'gender']\n",
    "\n",
    "data2_processed = process(dat2,cont_feat2,cat_feat2,con_exp_feat2)"
   ]
  },
  {
   "cell_type": "code",
   "execution_count": null,
   "id": "93cb02a6",
   "metadata": {},
   "outputs": [],
   "source": [
    "## visit 3\n",
    "\n",
    "con_exp_feat3 = []\n",
    "\n",
    "cont_feat3 = ['sbp', 'hdl']\n",
    "\n",
    "cat_feat3 = ['PA3cat','Diabetes', 'gender','alc','fmlyinc']\n",
    "\n",
    "data3_processed = process(dat3,cont_feat3,cat_feat3,con_exp_feat3)"
   ]
  },
  {
   "cell_type": "markdown",
   "id": "4f143cf2",
   "metadata": {},
   "source": [
    "## merge "
   ]
  },
  {
   "cell_type": "code",
   "execution_count": null,
   "id": "c5bfd74a",
   "metadata": {},
   "outputs": [],
   "source": [
    "merged = pd.concat([data1_processed, data2_processed, data3_processed])"
   ]
  },
  {
   "cell_type": "code",
   "execution_count": null,
   "id": "8fe131d6",
   "metadata": {},
   "outputs": [],
   "source": [
    "# exclude subjects with CVD at baseline\n",
    "\n",
    "rows_to_exclude = merged[(merged['visit'] == 1) & (merged['y'] == 1)]['subjid']"
   ]
  },
  {
   "cell_type": "code",
   "execution_count": null,
   "id": "f0c99949",
   "metadata": {},
   "outputs": [],
   "source": [
    "filtered_df = merged[~merged['subjid'].isin(rows_to_exclude)]\n",
    "# filtered_df.to_csv('data/processed/jhs_preprocessed_1103.csv', index = False)"
   ]
  },
  {
   "cell_type": "code",
   "execution_count": null,
   "id": "53d60346",
   "metadata": {},
   "outputs": [],
   "source": [
    "filtered_df_raw = merge_raw[~merge_raw['subjid'].isin(rows_to_exclude)]\n",
    "# filtered_df_raw.to_csv('data/processed/jhs_raw_full.csv', index = False)"
   ]
  },
  {
   "cell_type": "markdown",
   "id": "2798a6b2",
   "metadata": {},
   "source": [
    "## missing imputation only"
   ]
  },
  {
   "cell_type": "code",
   "execution_count": null,
   "id": "9d823194",
   "metadata": {},
   "outputs": [],
   "source": [
    "cat_feat = ['FamIncome', 'nutrition', 'PhysAct',\n",
    "           'currentSmoker','alc','Diabetes']\n",
    "cont_feat = ['nSES','nFavFood','nPhysFac', 'nRS',\n",
    "           'hdl','totchol','sbp']"
   ]
  },
  {
   "cell_type": "code",
   "execution_count": null,
   "id": "dea08f4a",
   "metadata": {},
   "outputs": [],
   "source": [
    "jhs_impute = fillna_cat(jhs_impute,cat_feat)  \n",
    "jhs_impute = fillna_cont(jhs_impute,cont_feat)  "
   ]
  }
 ],
 "metadata": {
  "kernelspec": {
   "display_name": "Python 3 (ipykernel)",
   "language": "python",
   "name": "python3"
  },
  "language_info": {
   "codemirror_mode": {
    "name": "ipython",
    "version": 3
   },
   "file_extension": ".py",
   "mimetype": "text/x-python",
   "name": "python",
   "nbconvert_exporter": "python",
   "pygments_lexer": "ipython3",
   "version": "3.9.12"
  }
 },
 "nbformat": 4,
 "nbformat_minor": 5
}
