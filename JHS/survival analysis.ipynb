{
 "cells": [
  {
   "cell_type": "markdown",
   "id": "ecff8f92",
   "metadata": {},
   "source": [
    "## Prep"
   ]
  },
  {
   "cell_type": "code",
   "execution_count": null,
   "id": "b6486e34",
   "metadata": {},
   "outputs": [],
   "source": [
    "import pandas as pd\n",
    "import numpy as np\n",
    "from lifelines import CoxPHFitter\n",
    "from lifelines.utils import to_long_format\n",
    "from lifelines import KaplanMeierFitter\n",
    "from lifelines import CoxTimeVaryingFitter\n",
    "import random\n",
    "import matplotlib.pyplot as plt\n",
    "import statistics\n",
    "from sklearn import metrics\n",
    "from sklearn.metrics import roc_auc_score, roc_curve, precision_recall_curve, confusion_matrix\n",
    "from sklearn.linear_model import LogisticRegression\n",
    "from lifelines.statistics import logrank_test\n",
    "from scipy import stats\n",
    "from lifelines.utils import median_survival_times\n",
    "from lifelines.statistics import pairwise_logrank_test\n",
    "from scipy.stats import chi2\n",
    "\n",
    "\n",
    "import warnings\n",
    "warnings.filterwarnings('ignore')\n",
    "pd.set_option('max_columns', None)\n",
    "pd.set_option('max_rows', 100)"
   ]
  },
  {
   "cell_type": "code",
   "execution_count": null,
   "id": "c76d9659",
   "metadata": {},
   "outputs": [],
   "source": [
    "dat = pd.read_csv('data/processed/jhs_preprocess_0914.csv')\n",
    "\n",
    "dat['event'] = 0"
   ]
  },
  {
   "cell_type": "markdown",
   "id": "5cd52582",
   "metadata": {},
   "source": [
    "### calculate time"
   ]
  },
  {
   "cell_type": "code",
   "execution_count": null,
   "id": "409d4cba",
   "metadata": {},
   "outputs": [],
   "source": [
    "dat['time'] = ''\n",
    "\n",
    "dat_v1 = dat.loc[dat['visit'] == 1, ['subjid','VisitDate']].rename(columns={'VisitDate': 't1'})\n",
    "dat_v2 = dat.loc[dat['visit'] == 2, ['subjid','VisitDate']].rename(columns={'VisitDate': 't2'})\n",
    "dat_v3 = dat.loc[dat['visit'] == 3, ['subjid','VisitDate']].rename(columns={'VisitDate': 't3'})\n",
    "\n",
    "dat_v1.reset_index(drop=True, inplace=True)\n",
    "dat_v2.reset_index(drop=True, inplace=True)\n",
    "dat_v3.reset_index(drop=True, inplace=True)\n",
    "\n",
    "dat_t12 = pd.concat([dat_v1, dat_v2], axis=1)\n",
    "dat_time = pd.concat([dat_t12, dat_v3], axis=1)"
   ]
  },
  {
   "cell_type": "code",
   "execution_count": null,
   "id": "0ee0da0a",
   "metadata": {},
   "outputs": [],
   "source": [
    "dat_time['t1'] = pd.to_datetime(dat_time['t1'])\n",
    "dat_time['t2'] = pd.to_datetime(dat_time['t2'])\n",
    "dat_time['t3'] = pd.to_datetime(dat_time['t3'])\n",
    "\n",
    "dat_time['time_12'] = dat_time['t2'] - dat_time['t1']\n",
    "dat_time['time_13'] = dat_time['t3'] - dat_time['t1']\n",
    "\n",
    "dat_time = dat_time.iloc[:,[0,-2,-1]]\n",
    "dat_time['time_12'] = (dat_time['time_12'] / pd.Timedelta(days=1)).astype(int)\n",
    "dat_time['time_13'] = (dat_time['time_13'] / pd.Timedelta(days=1)).astype(int)"
   ]
  },
  {
   "cell_type": "code",
   "execution_count": null,
   "id": "123f6007",
   "metadata": {},
   "outputs": [],
   "source": [
    "dat = pd.merge(dat,dat_time, on='subjid')"
   ]
  },
  {
   "cell_type": "markdown",
   "id": "87c66cd4",
   "metadata": {},
   "source": [
    "## Bseline Model"
   ]
  },
  {
   "cell_type": "markdown",
   "id": "dedd66ef",
   "metadata": {},
   "source": [
    "### prep"
   ]
  },
  {
   "cell_type": "code",
   "execution_count": null,
   "id": "c3f9239c",
   "metadata": {},
   "outputs": [],
   "source": [
    "## get all the covariates from V1, combine with outcome from 3 visits\n",
    "dat_v1 = dat[dat['visit'] == 1]\n",
    "#recode ind nutrition3cat\n",
    "dat_v1.loc[dat_v1['nutrition3cat']==2,'nutrition3cat'] = 1\n",
    "\n",
    "dat_v2 = dat.loc[dat['visit'] == 2, ['subjid','y']].rename(columns={'y': 'y2'})\n",
    "dat_v3 = dat.loc[dat['visit'] == 3, ['subjid','y']].rename(columns={'y': 'y3'})\n",
    "\n",
    "merged_df = pd.merge(dat_v1, dat_v2, on='subjid')\n",
    "merged_df = pd.merge(merged_df, dat_v3, on='subjid')\n",
    "\n",
    "merged_df['time'] = merged_df['time_13']  # because most subjects were right censored"
   ]
  },
  {
   "cell_type": "code",
   "execution_count": null,
   "id": "e8882119",
   "metadata": {},
   "outputs": [],
   "source": [
    "dat_base = merged_df\n",
    "\n",
    "## incidence in V1\n",
    "dat_base.loc[dat_base['y'] == 1,'event'] = 1\n",
    "dat_base.loc[dat_base['y'] == 1,'time'] = 0\n",
    "\n",
    "## incidence in V2\n",
    "v2_index = (dat_base['y2'] == 1) & (dat_base['y'] == 0)\n",
    "dat_base.loc[v2_index,'event'] = 1\n",
    "dat_base.loc[v2_index, 'time'] = dat_base.loc[v2_index, 'time_12']\n",
    "\n",
    "## incidence in V1\n",
    "v3_index = (dat_base['y3'] == 1) & (dat_base['y'] == 0) & (dat_base['y2'] == 0)\n",
    "dat_base.loc[v3_index,'event'] = 1\n",
    "dat_base.loc[v3_index, 'time'] = dat_base.loc[v3_index, 'time_13']"
   ]
  },
  {
   "cell_type": "code",
   "execution_count": null,
   "id": "7b6695a3",
   "metadata": {},
   "outputs": [],
   "source": [
    "# convert categorical variables for auto dummy \n",
    "\n",
    "cols_to_convert = ['nbSESpc2score', 'N_UNFAV_CT00','nbK3paFacilities', 'G_bla_rk',\n",
    "                   'PA3cat','nutrition3cat',\n",
    "                   'gender', 'currentSmoker', 'Diabetes','alc','fmlyinc']\n",
    "dat_base[cols_to_convert] = dat_base[cols_to_convert].astype('category')"
   ]
  },
  {
   "cell_type": "code",
   "execution_count": null,
   "id": "29f4d504",
   "metadata": {},
   "outputs": [],
   "source": [
    "# export processed dataset\n",
    "dat_base.to_csv('data/processed/jhs_cox_base.csv', index = False)"
   ]
  },
  {
   "cell_type": "markdown",
   "id": "c36577bd",
   "metadata": {},
   "source": [
    "### fit"
   ]
  },
  {
   "cell_type": "code",
   "execution_count": null,
   "id": "ded7b635",
   "metadata": {},
   "outputs": [],
   "source": [
    "cph_base = CoxPHFitter()\n",
    "cph_base.fit(dat_base, duration_col='time', event_col='event',\n",
    "       formula = \"nbSESpc2score+nbK3paFacilities+N_UNFAV_CT00+G_bla_rk+ \\\n",
    "                 PA3cat+nutrition3cat+\\\n",
    "                 age+gender+currentSmoker+Diabetes+hdl+sbp+totchol+alc+fmlyinc\")\n"
   ]
  },
  {
   "cell_type": "code",
   "execution_count": null,
   "id": "4a748a93",
   "metadata": {
    "scrolled": true
   },
   "outputs": [],
   "source": [
    "cph_base.print_summary()"
   ]
  },
  {
   "cell_type": "markdown",
   "id": "c7c11e21",
   "metadata": {},
   "source": [
    "#### rename and plot"
   ]
  },
  {
   "cell_type": "code",
   "execution_count": null,
   "id": "b825d2c4",
   "metadata": {},
   "outputs": [],
   "source": [
    "dat_plt = dat_base.rename(columns = {'nbSESpc2score': 'nb_SES',\n",
    "                                    'N_UNFAV_CT00': 'nb_Unfavorable_Food_Store', \n",
    "                                     'nbK3paFacilities': 'nb_Physical_Activity_Facilities', \n",
    "                                    'G_bla_rk': 'nb_Racial_Segregation_Black', \n",
    "                                    'nutrition3cat': 'ind_Nutrition_Cate', \n",
    "                                    'PA3cat': 'ind_Physical_Activity_Cate'})"
   ]
  },
  {
   "cell_type": "code",
   "execution_count": null,
   "id": "fe5cb392",
   "metadata": {},
   "outputs": [],
   "source": [
    "cph_base_plt = CoxPHFitter()\n",
    "cph_base_plt.fit(dat_plt, duration_col='time', event_col='event',\n",
    "       formula =  \"nb_SES + nb_Physical_Activity_Facilities+nb_Unfavorable_Food_Store+nb_Racial_Segregation_Black+ \\\n",
    "                 ind_Physical_Activity_Cate + ind_Nutrition_Cate+\\\n",
    "                 age+gender+currentSmoker+Diabetes+hdl+sbp+totchol+alc+fmlyinc\")\n"
   ]
  },
  {
   "cell_type": "code",
   "execution_count": null,
   "id": "27def69b",
   "metadata": {},
   "outputs": [],
   "source": [
    "cph_base_plt.plot()\n",
    "plt.show()"
   ]
  },
  {
   "cell_type": "markdown",
   "id": "e6631ad0",
   "metadata": {},
   "source": [
    "## Time-varying Model"
   ]
  },
  {
   "cell_type": "markdown",
   "id": "42ccfaab",
   "metadata": {},
   "source": [
    "### prep"
   ]
  },
  {
   "cell_type": "code",
   "execution_count": null,
   "id": "b5b063d1",
   "metadata": {},
   "outputs": [],
   "source": [
    "# V1 in long format\n",
    "\n",
    "dat_tv1 = dat[dat['visit'] == 1]\n",
    "#recode ind nutrition3cat\n",
    "dat_tv1.loc[dat_tv1['nutrition3cat']==2,'nutrition3cat'] = 1\n",
    "\n",
    "dat_tv1['time_1'] = 0\n",
    "dat_tv1 = to_long_format(dat_tv1, duration_col=\"time_1\")\n",
    "dat_tv1 = dat_tv1.drop('event', axis=1)\n",
    "dat_tv1 = dat_tv1.rename(columns={'y': 'event'})\n",
    "\n",
    "## exists subjects died on the day of entry. \n",
    "## not allowed in CoxTimeVaryingFitter. \n",
    "## add a small non-zero value to their end \n",
    "dat_tv1.loc[ (dat_tv1['start'] == dat_tv1['stop']) & (dat_tv1['start'] == 0) & dat_tv1['event'], 'stop'] = 1\n",
    "dat_tv1"
   ]
  },
  {
   "cell_type": "code",
   "execution_count": null,
   "id": "a206b1ad",
   "metadata": {},
   "outputs": [],
   "source": [
    "# V2\n",
    "\n",
    "dat_tv2 = dat.loc[dat['visit'] == 2].rename(columns={'y': 'y2'})\n",
    "\n",
    "## get value from V1 if covariates not available at V2\n",
    "dat_tv2 = dat_tv2[['subjid','visit','N_UNFAV_CT00','G_bla_rk','Diabetes','age','sbp','gender','y2','time_12']]\n",
    "covar_from_V1 = dat_tv1[['subjid','nbSESpc2score', 'nbK3paFacilities',\n",
    "                        'PA3cat','nutrition3cat',\n",
    "                        'currentSmoker', 'hdl','totchol','alc','fmlyinc']]\n",
    "dat_tv2 = dat_tv2.merge(covar_from_V1, on = 'subjid', how = 'left', suffixes=(False, False))\n",
    "\n",
    "## manually add \"start\" and \"stop\" col\n",
    "dat_tv2 = dat_tv2.rename(columns={'y2': 'event'})\n",
    "dat_tv2['start'] = 0\n",
    "dat_tv2['stop'] = dat_tv2['time_12']\n"
   ]
  },
  {
   "cell_type": "code",
   "execution_count": null,
   "id": "d23f6297",
   "metadata": {},
   "outputs": [],
   "source": [
    "# V3\n",
    "\n",
    "dat_tv3 = dat.loc[dat['visit'] == 3].rename(columns={'y': 'y3'})\n",
    "\n",
    "## get value from V1 if covariates not available at V2\n",
    "dat_tv3 = dat_tv3[['subjid','visit','y3', 'time_12','time_13',\n",
    "                   'PA3cat',\n",
    "                   'Diabetes','age','sbp','hdl','gender','alc','fmlyinc']]\n",
    "covar_from_V2 = dat_tv2[['subjid','N_UNFAV_CT00','G_bla_rk']]\n",
    "covar_from_V1 = dat_tv1[['subjid','nbSESpc2score', 'nbK3paFacilities',\n",
    "                        'currentSmoker', 'totchol']]\n",
    "dat_tv3 = dat_tv3.merge(covar_from_V2, on = 'subjid', how = 'left', suffixes=(False, False))\n",
    "dat_tv3 = dat_tv3.merge(covar_from_V1, on = 'subjid', how = 'left', suffixes=(False, False))\n",
    "\n",
    "## manually add \"start\" and \"stop\" col\n",
    "dat_tv3 = dat_tv3.rename(columns={'y3': 'event'})\n",
    "dat_tv3['start'] = dat_tv3['time_12']\n",
    "dat_tv3['stop'] = dat_tv3['time_13']"
   ]
  },
  {
   "cell_type": "code",
   "execution_count": null,
   "id": "b1715353",
   "metadata": {},
   "outputs": [],
   "source": [
    "# merge\n",
    "\n",
    "dat_tv12 = pd.concat([dat_tv1, dat_tv2])\n",
    "dat_tv123 = pd.concat([dat_tv12, dat_tv3])\n",
    "dat_tv = dat_tv123.sort_values(by=['subjid'])\n",
    "dat_tv = dat_tv.loc[:,['subjid', 'event','start','stop',\n",
    "                       'nbSESpc2score', 'nbK3paFacilities','N_UNFAV_CT00', 'G_bla_rk',\n",
    "                   'PA3cat','nutrition3cat',\n",
    "                   'age','gender', 'currentSmoker', 'Diabetes','sbp','hdl','totchol','alc','fmlyinc']]\n"
   ]
  },
  {
   "cell_type": "code",
   "execution_count": null,
   "id": "d07340f4",
   "metadata": {},
   "outputs": [],
   "source": [
    "# dummy coding for categorical variables\n",
    "cols_to_convert = ['nbSESpc2score', 'nbK3paFacilities','N_UNFAV_CT00', 'G_bla_rk',\n",
    "                   'PA3cat','nutrition3cat', \n",
    "                   'gender', 'currentSmoker', 'Diabetes','alc','fmlyinc']\n",
    "\n",
    "dat_tv[cols_to_convert] = dat_tv[cols_to_convert].astype('category')\n",
    "\n",
    "dummy_cols = pd.get_dummies(dat_tv[cols_to_convert])\n",
    "dat_tv = dat_tv.drop(cols_to_convert, axis=1)\n",
    "dat_tv = pd.concat([dat_tv, dummy_cols], axis=1)"
   ]
  },
  {
   "cell_type": "code",
   "execution_count": null,
   "id": "1dd5bca5",
   "metadata": {},
   "outputs": [],
   "source": [
    "# export processed dataset\n",
    "dat_tv.to_csv('data/processed/jhs_cox_tv.csv', index = False)"
   ]
  },
  {
   "cell_type": "markdown",
   "id": "a0a9b6c1",
   "metadata": {},
   "source": [
    "### fit"
   ]
  },
  {
   "cell_type": "code",
   "execution_count": null,
   "id": "50d12e3d",
   "metadata": {},
   "outputs": [],
   "source": [
    "ctv = CoxTimeVaryingFitter(penalizer=0.1)\n",
    "ctv.fit(dat_tv, id_col=\"subjid\",event_col=\"event\", start_col=\"start\", stop_col=\"stop\", show_progress=False)\n",
    "ctv.print_summary()"
   ]
  },
  {
   "cell_type": "code",
   "execution_count": null,
   "id": "c67e7811",
   "metadata": {},
   "outputs": [],
   "source": []
  },
  {
   "cell_type": "markdown",
   "id": "58b043a1",
   "metadata": {},
   "source": [
    "## Kaplan-Meier Curve"
   ]
  },
  {
   "cell_type": "code",
   "execution_count": null,
   "id": "090e0eea",
   "metadata": {},
   "outputs": [],
   "source": [
    "dat_base = pd.read_csv('data/processed/jhs_cox_base.csv')\n",
    "dat_base = dat_base.rename(columns = {'nbSESpc2score': 'nb_SES',\n",
    "                                    'N_UNFAV_CT00': 'nb_Unfavorable_Food_Store', \n",
    "                                     'nbK3paFacilities': 'nb_Physical_Activity_Facilities', \n",
    "                                    'G_bla_rk': 'nb_Racial_Segregation_Black', \n",
    "                                    'nutrition3cat': 'ind_Nutrition_Cate', \n",
    "                                    'PA3cat': 'ind_Physical_Activity_Cate'})"
   ]
  },
  {
   "cell_type": "code",
   "execution_count": null,
   "id": "1053a0da",
   "metadata": {},
   "outputs": [],
   "source": [
    "## use the baseline cox model df dat_base\n",
    "\n",
    "time =dat_base['time']\n",
    "event =dat_base['event'].astype(float)\n",
    " \n",
    "kmf = KaplanMeierFitter()\n",
    "kmf.fit(time,event)"
   ]
  },
  {
   "cell_type": "code",
   "execution_count": null,
   "id": "455a9f02",
   "metadata": {},
   "outputs": [],
   "source": [
    "# Helper function for plotting Kaplan-Meier curves at the covariate level\n",
    "def plot_km(col):\n",
    "  ax = plt.subplot(111)\n",
    "  for r in dat_base[col].unique():\n",
    "    index = dat_base[col] == r\n",
    "    kmf.fit(time[index], event[index],label=r)\n",
    "    kmf.plot(ax=ax)\n",
    "    ax.set(title = col)\n",
    "    \n",
    "# Helper function for printing out Log-rank test results\n",
    "def print_logrank(col):\n",
    "  log_rank = pairwise_logrank_test(dat_base['time'], dat_base[col], dat_base['event'])\n",
    "  return log_rank.summary"
   ]
  },
  {
   "cell_type": "code",
   "execution_count": null,
   "id": "16b598fd",
   "metadata": {},
   "outputs": [],
   "source": [
    "# get plot for each variable\n",
    "plot_km('ind_Nutrition_Cate')\n",
    "\n",
    "plt.xticks(fontsize=12)\n",
    "plt.yticks(fontsize=12)\n",
    "plt.xlabel('Time', fontsize=14)\n",
    "plt.ylabel('Survival Probability',fontsize=14)\n",
    "plt.legend(loc='lower left', fontsize=12)\n",
    "plt.show()\n",
    "\n",
    "#print_logrank('nutrition3cat')"
   ]
  },
  {
   "cell_type": "markdown",
   "id": "da2f8ccf",
   "metadata": {},
   "source": [
    "## Check experiment time span"
   ]
  },
  {
   "cell_type": "code",
   "execution_count": null,
   "id": "4d333c2b",
   "metadata": {},
   "outputs": [],
   "source": [
    "dat_base['time_13'].describe()"
   ]
  },
  {
   "cell_type": "markdown",
   "id": "d2232216",
   "metadata": {},
   "source": [
    "## Festure selection using cox"
   ]
  },
  {
   "cell_type": "code",
   "execution_count": null,
   "id": "ad52c2e9",
   "metadata": {},
   "outputs": [],
   "source": [
    "dat_base = pd.read_csv('data/processed/jhs_cox_base.csv')"
   ]
  },
  {
   "cell_type": "code",
   "execution_count": null,
   "id": "2ea5551f",
   "metadata": {},
   "outputs": [],
   "source": [
    "formula1 = \"\\\n",
    "                 C(PA3cat)+C(nutrition3cat)+\\\n",
    "                 age+gender+currentSmoker+Diabetes+hdl+sbp+totchol+alc+fmlyinc\"\n",
    "\n",
    "formula2 = \"C(nbSESpc2score)+C(nbK3paFacilities)+C(N_UNFAV_CT00)+C(G_bla_rk)+ \\\n",
    "                 C(PA3cat)+C(nutrition3cat)+\\\n",
    "                 age+gender+currentSmoker+Diabetes+hdl+sbp+totchol+alc+fmlyinc\"\n",
    "\n",
    "# Fit the first Cox PH model\n",
    "cph1 = CoxPHFitter()\n",
    "cph1.fit(dat_base, duration_col='time', event_col='event', formula=formula1)\n",
    "\n",
    "# Fit the second Cox PH model\n",
    "cph2 = CoxPHFitter()\n",
    "cph2.fit(dat_base, duration_col='time', event_col='event', formula=formula2)\n",
    "\n",
    "\n",
    "# Compute the log-likelihoods for both models\n",
    "log_likelihood1 = cph1.score(dat_base) \n",
    "log_likelihood2 = cph2.score(dat_base) \n",
    "\n",
    "# Calculate the likelihood ratio statistic\n",
    "likelihood_ratio_statistic = -2 * (log_likelihood1 - log_likelihood2)\n",
    "\n",
    "# degrees of freedom (df) for the chi-squared distribution \n",
    "# = len(covariates2) - len(covariates1)\n",
    "df = 4\n",
    "\n",
    "# Perform the LRT and calculate the p-value\n",
    "p_value = 1 - chi2.cdf(likelihood_ratio_statistic, df)\n",
    "\n",
    "# Print the likelihood ratio statistic and p-value\n",
    "print(\"Likelihood Ratio Statistic:\", likelihood_ratio_statistic)\n",
    "print(\"Degrees of Freedom:\", df)\n",
    "print(\"p-value:\", p_value)\n",
    "\n",
    "# Check if the difference in model fit is statistically significant\n",
    "if p_value < 0.2:\n",
    "    print(\"The more complex model is a significant improvement over the simpler model.\")\n",
    "else:\n",
    "    print(\"There is no significant difference in model fit.\")\n"
   ]
  }
 ],
 "metadata": {
  "kernelspec": {
   "display_name": "Python 3",
   "language": "python",
   "name": "python3"
  },
  "language_info": {
   "codemirror_mode": {
    "name": "ipython",
    "version": 3
   },
   "file_extension": ".py",
   "mimetype": "text/x-python",
   "name": "python",
   "nbconvert_exporter": "python",
   "pygments_lexer": "ipython3",
   "version": "3.8.3"
  }
 },
 "nbformat": 4,
 "nbformat_minor": 5
}
