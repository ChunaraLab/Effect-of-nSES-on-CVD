{
 "cells": [
  {
   "cell_type": "markdown",
   "id": "abc14f26",
   "metadata": {},
   "source": [
    "## Prep"
   ]
  },
  {
   "cell_type": "code",
   "execution_count": null,
   "id": "4515afa7",
   "metadata": {},
   "outputs": [],
   "source": [
    "import pandas as pd\n",
    "import numpy as np\n",
    "from lifelines import CoxPHFitter\n",
    "from lifelines.utils import to_long_format\n",
    "from lifelines import KaplanMeierFitter\n",
    "from lifelines import CoxTimeVaryingFitter\n",
    "import random\n",
    "import matplotlib.pyplot as plt\n",
    "import statistics\n",
    "from sklearn import metrics\n",
    "from sklearn.metrics import roc_auc_score, roc_curve, precision_recall_curve, confusion_matrix\n",
    "from sklearn.linear_model import LogisticRegression\n",
    "from lifelines.statistics import logrank_test\n",
    "from scipy import stats\n",
    "from lifelines.utils import median_survival_times\n",
    "from lifelines.statistics import pairwise_logrank_test\n",
    "\n",
    "\n",
    "import warnings\n",
    "warnings.filterwarnings('ignore')\n",
    "pd.set_option('max_columns', None)\n",
    "pd.set_option('max_rows', 100)"
   ]
  },
  {
   "cell_type": "code",
   "execution_count": null,
   "id": "6f2b5821",
   "metadata": {},
   "outputs": [],
   "source": [
    "dat = pd.read_csv('data/jhs_preprocess_0914.csv')\n",
    "\n",
    "dat['event'] = 0"
   ]
  },
  {
   "cell_type": "markdown",
   "id": "ca41ae4a",
   "metadata": {},
   "source": [
    "### calculate time"
   ]
  },
  {
   "cell_type": "code",
   "execution_count": null,
   "id": "fa4bbf62",
   "metadata": {},
   "outputs": [],
   "source": [
    "dat['time'] = ''\n",
    "\n",
    "dat_v1 = dat.loc[dat['visit'] == 1, ['subjid','VisitDate']].rename(columns={'VisitDate': 't1'})\n",
    "dat_v2 = dat.loc[dat['visit'] == 2, ['subjid','VisitDate']].rename(columns={'VisitDate': 't2'})\n",
    "dat_v3 = dat.loc[dat['visit'] == 3, ['subjid','VisitDate']].rename(columns={'VisitDate': 't3'})\n",
    "\n",
    "dat_v1.reset_index(drop=True, inplace=True)\n",
    "dat_v2.reset_index(drop=True, inplace=True)\n",
    "dat_v3.reset_index(drop=True, inplace=True)\n",
    "\n",
    "dat_t12 = pd.concat([dat_v1, dat_v2], axis=1)\n",
    "dat_time = pd.concat([dat_t12, dat_v3], axis=1)"
   ]
  },
  {
   "cell_type": "code",
   "execution_count": null,
   "id": "e5d0ec50",
   "metadata": {},
   "outputs": [],
   "source": [
    "dat_time['t1'] = pd.to_datetime(dat_time['t1'])\n",
    "dat_time['t2'] = pd.to_datetime(dat_time['t2'])\n",
    "dat_time['t3'] = pd.to_datetime(dat_time['t3'])\n",
    "\n",
    "dat_time['time_12'] = dat_time['t2'] - dat_time['t1']\n",
    "dat_time['time_13'] = dat_time['t3'] - dat_time['t1']\n",
    "\n",
    "dat_time = dat_time.iloc[:,[0,-2,-1]]\n",
    "dat_time['time_12'] = (dat_time['time_12'] / pd.Timedelta(days=1)).astype(int)\n",
    "dat_time['time_13'] = (dat_time['time_13'] / pd.Timedelta(days=1)).astype(int)"
   ]
  },
  {
   "cell_type": "code",
   "execution_count": null,
   "id": "4ea0296d",
   "metadata": {},
   "outputs": [],
   "source": [
    "dat = pd.merge(dat,dat_time, on='subjid')"
   ]
  },
  {
   "cell_type": "markdown",
   "id": "b50b197b",
   "metadata": {},
   "source": [
    "## Bseline Model"
   ]
  },
  {
   "cell_type": "markdown",
   "id": "a82a7bd5",
   "metadata": {},
   "source": [
    "### prep"
   ]
  },
  {
   "cell_type": "code",
   "execution_count": null,
   "id": "c0ed4298",
   "metadata": {},
   "outputs": [],
   "source": [
    "## get all the covariates from V1, combine with outcome from 3 visits\n",
    "dat_v1 = dat[dat['visit'] == 1]\n",
    "dat_v2 = dat.loc[dat['visit'] == 2, ['subjid','y']].rename(columns={'y': 'y2'})\n",
    "dat_v3 = dat.loc[dat['visit'] == 3, ['subjid','y']].rename(columns={'y': 'y3'})\n",
    "\n",
    "merged_df = pd.merge(dat_v1, dat_v2, on='subjid')\n",
    "merged_df = pd.merge(merged_df, dat_v3, on='subjid')\n",
    "\n",
    "merged_df['time'] = merged_df['time_13']  # because most subjects were right censored"
   ]
  },
  {
   "cell_type": "code",
   "execution_count": null,
   "id": "e5bc1f51",
   "metadata": {},
   "outputs": [],
   "source": [
    "dat_base = merged_df\n",
    "\n",
    "## incidence in V1\n",
    "dat_base.loc[dat_base['y'] == 1,'event'] = 1\n",
    "dat_base.loc[dat_base['y'] == 1,'time'] = 0\n",
    "\n",
    "## incidence in V2\n",
    "v2_index = (dat_base['y2'] == 1) & (dat_base['y'] == 0)\n",
    "dat_base.loc[v2_index,'event'] = 1\n",
    "dat_base.loc[v2_index, 'time'] = dat_base.loc[v2_index, 'time_12']\n",
    "\n",
    "## incidence in V1\n",
    "v3_index = (dat_base['y3'] == 1) & (dat_base['y'] == 0) & (dat_base['y2'] == 0)\n",
    "dat_base.loc[v3_index,'event'] = 1\n",
    "dat_base.loc[v3_index, 'time'] = dat_base.loc[v3_index, 'time_13']"
   ]
  },
  {
   "cell_type": "code",
   "execution_count": null,
   "id": "2450e23b",
   "metadata": {},
   "outputs": [],
   "source": [
    "# convert categorical variables for auto dummy \n",
    "\n",
    "cols_to_convert = ['nbSESpc2score', 'N_UNFAV_CT00','nbK3paFacilities', 'G_bla_rk',\n",
    "                   'PA3cat','nutrition3cat',\n",
    "                   'gender', 'currentSmoker', 'Diabetes','alc','fmlyinc']\n",
    "dat_base[cols_to_convert] = dat_base[cols_to_convert].astype('category')"
   ]
  },
  {
   "cell_type": "markdown",
   "id": "bc0d64cd",
   "metadata": {},
   "source": [
    "### fit"
   ]
  },
  {
   "cell_type": "code",
   "execution_count": null,
   "id": "3a539caf",
   "metadata": {},
   "outputs": [],
   "source": [
    "cph_base = CoxPHFitter()\n",
    "cph_base.fit(dat_base, duration_col='time', event_col='event',\n",
    "       formula = \"nbSESpc2score+nbK3paFacilities+N_UNFAV_CT00+G_bla_rk+ \\\n",
    "                 PA3cat+nutrition3cat+\\\n",
    "                 age+gender+currentSmoker+Diabetes+hdl+sbp+totchol+alc+fmlyinc\")\n"
   ]
  },
  {
   "cell_type": "code",
   "execution_count": null,
   "id": "ffc81c67",
   "metadata": {},
   "outputs": [],
   "source": [
    "cph_base.print_summary()"
   ]
  },
  {
   "cell_type": "code",
   "execution_count": null,
   "id": "c2100e32",
   "metadata": {},
   "outputs": [],
   "source": [
    "cph_base.plot()\n",
    "plt.show()"
   ]
  },
  {
   "cell_type": "markdown",
   "id": "c68ab5eb",
   "metadata": {},
   "source": [
    "## Time-varying Model"
   ]
  },
  {
   "cell_type": "markdown",
   "id": "4360f379",
   "metadata": {},
   "source": [
    "### prep"
   ]
  },
  {
   "cell_type": "code",
   "execution_count": null,
   "id": "4b761db1",
   "metadata": {},
   "outputs": [],
   "source": [
    "# V1 in long format\n",
    "\n",
    "dat_tv1 = dat[dat['visit'] == 1]\n",
    "dat_tv1['time_1'] = 0\n",
    "dat_tv1 = to_long_format(dat_tv1, duration_col=\"time_1\")\n",
    "dat_tv1 = dat_tv1.drop('event', axis=1)\n",
    "dat_tv1 = dat_tv1.rename(columns={'y': 'event'})\n",
    "\n",
    "## exists subjects died on the day of entry. \n",
    "## not allowed in CoxTimeVaryingFitter. \n",
    "## add a small non-zero value to their end \n",
    "dat_tv1.loc[ (dat_tv1['start'] == dat_tv1['stop']) & (dat_tv1['start'] == 0) & dat_tv1['event'], 'stop'] = 1\n",
    "dat_tv1"
   ]
  },
  {
   "cell_type": "code",
   "execution_count": null,
   "id": "84039b58",
   "metadata": {},
   "outputs": [],
   "source": [
    "# V2\n",
    "\n",
    "dat_tv2 = dat.loc[dat['visit'] == 2].rename(columns={'y': 'y2'})\n",
    "\n",
    "## get value from V1 if covariates not available at V2\n",
    "dat_tv2 = dat_tv2[['subjid','visit','N_UNFAV_CT00','G_bla_rk','Diabetes','age','sbp','gender','y2','time_12']]\n",
    "covar_from_V1 = dat_tv1[['subjid','nbSESpc2score', 'nbK3paFacilities',\n",
    "                        'PA3cat','nutrition3cat',\n",
    "                        'currentSmoker', 'hdl','totchol','alc','fmlyinc']]\n",
    "dat_tv2 = dat_tv2.merge(covar_from_V1, on = 'subjid', how = 'left', suffixes=(False, False))\n",
    "\n",
    "## manually add \"start\" and \"stop\" col\n",
    "dat_tv2 = dat_tv2.rename(columns={'y2': 'event'})\n",
    "dat_tv2['start'] = 0\n",
    "dat_tv2['stop'] = dat_tv2['time_12']\n"
   ]
  },
  {
   "cell_type": "code",
   "execution_count": null,
   "id": "4dcd8e35",
   "metadata": {},
   "outputs": [],
   "source": [
    "# V3\n",
    "\n",
    "dat_tv3 = dat.loc[dat['visit'] == 3].rename(columns={'y': 'y3'})\n",
    "\n",
    "## get value from V1 if covariates not available at V2\n",
    "dat_tv3 = dat_tv3[['subjid','visit','y3', 'time_12','time_13',\n",
    "                   'PA3cat',\n",
    "                   'Diabetes','age','sbp','hdl','gender','alc','fmlyinc']]\n",
    "covar_from_V2 = dat_tv2[['subjid','N_UNFAV_CT00','G_bla_rk']]\n",
    "covar_from_V1 = dat_tv1[['subjid','nbSESpc2score', 'nbK3paFacilities',\n",
    "                        'currentSmoker', 'totchol']]\n",
    "dat_tv3 = dat_tv3.merge(covar_from_V2, on = 'subjid', how = 'left', suffixes=(False, False))\n",
    "dat_tv3 = dat_tv3.merge(covar_from_V1, on = 'subjid', how = 'left', suffixes=(False, False))\n",
    "\n",
    "## manually add \"start\" and \"stop\" col\n",
    "dat_tv3 = dat_tv3.rename(columns={'y3': 'event'})\n",
    "dat_tv3['start'] = dat_tv3['time_12']\n",
    "dat_tv3['stop'] = dat_tv3['time_13']"
   ]
  },
  {
   "cell_type": "code",
   "execution_count": null,
   "id": "59c62f5b",
   "metadata": {},
   "outputs": [],
   "source": [
    "# merge\n",
    "\n",
    "dat_tv12 = pd.concat([dat_tv1, dat_tv2])\n",
    "dat_tv123 = pd.concat([dat_tv12, dat_tv3])\n",
    "dat_tv = dat_tv123.sort_values(by=['subjid'])\n",
    "dat_tv = dat_tv.loc[:,['subjid', 'event','start','stop',\n",
    "                       'nbSESpc2score', 'nbK3paFacilities','N_UNFAV_CT00', 'G_bla_rk',\n",
    "                   'PA3cat','nutrition3cat',\n",
    "                   'age','gender', 'currentSmoker', 'Diabetes','sbp','hdl','totchol','alc','fmlyinc']]\n"
   ]
  },
  {
   "cell_type": "code",
   "execution_count": null,
   "id": "25c63e15",
   "metadata": {},
   "outputs": [],
   "source": [
    "# dummy coding for categorical variables\n",
    "cols_to_convert = ['nbSESpc2score', 'nbK3paFacilities','N_UNFAV_CT00', 'G_bla_rk',\n",
    "                   'PA3cat','nutrition3cat', \n",
    "                   'gender', 'currentSmoker', 'Diabetes','alc','fmlyinc']\n",
    "\n",
    "dat_tv[cols_to_convert] = dat_tv[cols_to_convert].astype('category')\n",
    "\n",
    "dummy_cols = pd.get_dummies(dat_tv[cols_to_convert])\n",
    "dat_tv = dat_tv.drop(cols_to_convert, axis=1)\n",
    "dat_tv = pd.concat([dat_tv, dummy_cols], axis=1)"
   ]
  },
  {
   "cell_type": "markdown",
   "id": "ecf3c1b1",
   "metadata": {},
   "source": [
    "### fit"
   ]
  },
  {
   "cell_type": "code",
   "execution_count": null,
   "id": "638cf5a0",
   "metadata": {},
   "outputs": [],
   "source": [
    "ctv = CoxTimeVaryingFitter(penalizer=0.1)\n",
    "ctv.fit(dat_tv, id_col=\"subjid\",event_col=\"event\", start_col=\"start\", stop_col=\"stop\", show_progress=False)\n",
    "ctv.print_summary()"
   ]
  },
  {
   "cell_type": "code",
   "execution_count": null,
   "id": "913c1f7d",
   "metadata": {},
   "outputs": [],
   "source": []
  },
  {
   "cell_type": "markdown",
   "id": "42ba0d87",
   "metadata": {},
   "source": [
    "## Kaplan-Meier Curve"
   ]
  },
  {
   "cell_type": "code",
   "execution_count": null,
   "id": "02af5212",
   "metadata": {},
   "outputs": [],
   "source": [
    "## use the baseline cox model df dat_base\n",
    "\n",
    "time =dat_base['time']\n",
    "event =dat_base['event'].astype(float)\n",
    " \n",
    "kmf = KaplanMeierFitter()\n",
    "kmf.fit(time,event)"
   ]
  },
  {
   "cell_type": "code",
   "execution_count": null,
   "id": "39027c3c",
   "metadata": {},
   "outputs": [],
   "source": [
    "# Helper function for plotting Kaplan-Meier curves at the covariate level\n",
    "def plot_km(col):\n",
    "  ax = plt.subplot(111)\n",
    "  for r in dat_base[col].unique():\n",
    "    index = dat_base[col] == r\n",
    "    kmf.fit(time[index], event[index],label=r)\n",
    "    kmf.plot(ax=ax)\n",
    "    ax.set(title = col)\n",
    "    \n",
    "# Helper function for printing out Log-rank test results\n",
    "def print_logrank(col):\n",
    "  log_rank = pairwise_logrank_test(dat_base['time'], dat_base[col], dat_base['event'])\n",
    "  return log_rank.summary"
   ]
  },
  {
   "cell_type": "code",
   "execution_count": null,
   "id": "c632abb7",
   "metadata": {},
   "outputs": [],
   "source": [
    "# get plot for each variable\n",
    "plot_km('G_bla_rk')\n",
    "plt.show()\n",
    "\n",
    "print_logrank('G_bla_rk')"
   ]
  }
 ],
 "metadata": {
  "kernelspec": {
   "display_name": "Python 3",
   "language": "python",
   "name": "python3"
  },
  "language_info": {
   "codemirror_mode": {
    "name": "ipython",
    "version": 3
   },
   "file_extension": ".py",
   "mimetype": "text/x-python",
   "name": "python",
   "nbconvert_exporter": "python",
   "pygments_lexer": "ipython3",
   "version": "3.8.3"
  }
 },
 "nbformat": 4,
 "nbformat_minor": 5
}
