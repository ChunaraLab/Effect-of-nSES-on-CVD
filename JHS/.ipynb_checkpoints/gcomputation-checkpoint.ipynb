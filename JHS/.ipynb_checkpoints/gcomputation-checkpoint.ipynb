{
 "cells": [
  {
   "cell_type": "code",
   "execution_count": null,
   "id": "fda845db",
   "metadata": {},
   "outputs": [],
   "source": [
    "%matplotlib inline\n",
    "\n",
    "# Importing libraries \n",
    "import numpy as np\n",
    "import pandas as pd\n",
    "import statsmodels.api as sm\n",
    "import statsmodels.formula.api as smf\n",
    "import matplotlib\n",
    "import matplotlib.pyplot as plt\n",
    "\n",
    "\n",
    "np.random.seed(987)\n",
    "\n",
    "print(\"numpy      \", np.__version__)\n",
    "print(\"pandas     \", pd.__version__)\n",
    "print(\"statsmodels\", sm.__version__)\n",
    "print(\"matplotlib \", matplotlib.__version__)\n"
   ]
  },
  {
   "cell_type": "code",
   "execution_count": null,
   "id": "c8c25c9c",
   "metadata": {},
   "outputs": [],
   "source": [
    "'''\n",
    "Read preprocessed data, no train test split needed.\n",
    "Read the entire data for all individuals after missing value imputation and standardization has been done. \n",
    "'''\n",
    "\n",
    "data = pd.read_csv(\"data/jhs_gcomputation.csv\")\n",
    "data = data.rename(columns={\"y_tot\": \"y\"})\n",
    "data.head()"
   ]
  },
  {
   "cell_type": "code",
   "execution_count": null,
   "id": "798010af",
   "metadata": {},
   "outputs": [],
   "source": [
    "'''\n",
    "Select appropriate columns. If additional columns such as lifestyle changes or behaviors need to be added, update here.\n",
    "For now we can restrict to the columns used in case of logistic regression. \n",
    "'''\n",
    "data = data[['nSES','y','gender','currentSmoker','Diabetes','age','sbp','hdl','totchol']].copy()\n",
    "data.head()"
   ]
  },
  {
   "cell_type": "code",
   "execution_count": null,
   "id": "327774e2",
   "metadata": {},
   "outputs": [],
   "source": [
    "def get_causal_effect(treatment, formula, data):\n",
    "    '''\n",
    "    Input: treatment - column_name\n",
    "           formula - Regression formula\n",
    "           data - dataframe\n",
    "    Output: ate - average causal effect\n",
    "    \n",
    "    The main idea is to have two separate models for those with treatment=1 and treatment =0\n",
    "    According to this we sample our data based on the treatment and fit two models\n",
    "    \n",
    "    We then predict the outcome for the entire data based on our fitted models and\n",
    "    then evaluate the expected difference in the outcome which is our causal effect.\n",
    "    '''\n",
    "    \n",
    "    f = sm.families.family.Binomial()\n",
    "    fm_a1 = smf.glm(formula, \n",
    "                    data.loc[data[treatment] == 1], family=f).fit()\n",
    "    print(fm_a1.summary())\n",
    "    fm_a0 = smf.glm(formula, \n",
    "                data.loc[data[treatment] == 0], family=f).fit()\n",
    "    \n",
    "    print(fm_a0.summary())\n",
    "    y_a1 = fm_a1.predict(data)\n",
    "    y_a0 = fm_a0.predict(data)\n",
    "    ate = np.mean(y_a1 - y_a0)\n",
    "    return ate\n"
   ]
  },
  {
   "cell_type": "code",
   "execution_count": null,
   "id": "11b1abd3",
   "metadata": {},
   "outputs": [],
   "source": [
    "'''\n",
    "This formula is based on the columns selected above. Note that we do not include nSES here as data is subsampled based on nSES in the analysis.\n",
    "'''\n",
    "formula = \"y ~  age + sbp + hdl + totchol + C(currentSmoker) + C(Diabetes) + C(gender)\"\n",
    "treatment = 'nSES'"
   ]
  },
  {
   "cell_type": "code",
   "execution_count": null,
   "id": "e8f98a42",
   "metadata": {},
   "outputs": [],
   "source": [
    "'''\n",
    "Here we obtain the causal effect.\n",
    "'''\n",
    "ate = get_causal_effect(treatment,formula,data)\n",
    "print(\"ATE\", np.round(ate, 10))\n"
   ]
  },
  {
   "cell_type": "code",
   "execution_count": null,
   "id": "6afcf2ad",
   "metadata": {},
   "outputs": [],
   "source": [
    "'''\n",
    "Bootstrapping to get confidence intervals for the causal effect\n",
    "'''\n",
    "def bootstrap_ci(treatment, formula, data, nb, ate):\n",
    "    ate_rs = []\n",
    "    for i in range(nb):  # Drawing nb bootstrapped samples, can simply start with 10 samples\n",
    "        d_star = data.sample(n=data.shape[0], # Same size as input data\n",
    "                             replace=True)  # Draw with replacement\n",
    "        f = sm.families.family.Binomial()\n",
    "        fm_a1 = smf.glm(formula, \n",
    "                        d_star.loc[d_star[treatment] == 1], family=f).fit()\n",
    "        fm_a0 = smf.glm(formula, \n",
    "                    d_star.loc[d_star[treatment] == 0], family=f).fit()\n",
    "        y_a1 = fm_a1.predict(d_star)\n",
    "        y_a0 = fm_a0.predict(d_star)\n",
    "        ate_rs.append(np.mean(y_a1 - y_a0))\n",
    "\n",
    "    print(\"95% Confidence limits for the ATE\")\n",
    "    ci_perc = np.percentile(ate_rs, q=[2.5, 97.5])\n",
    "    ate_se = np.std(ate_rs, ddof=1)\n",
    "    ci_approx = np.round([ate - 1.96*ate_se,\n",
    "                          ate + 1.96*ate_se],6)\n",
    "    return ci_perc, ci_approx"
   ]
  },
  {
   "cell_type": "code",
   "execution_count": null,
   "id": "96044dff",
   "metadata": {},
   "outputs": [],
   "source": [
    "ci_perc, ci_approx = bootstrap_ci(treatment, formula, data, nb=1000, ate=0.0139084256)\n",
    "print(\"Percentile method:   \", ci_perc)\n",
    "print(\"Normal approx method:\", ci_approx)"
   ]
  },
  {
   "cell_type": "code",
   "execution_count": null,
   "id": "69ce2d31",
   "metadata": {},
   "outputs": [],
   "source": []
  },
  {
   "cell_type": "code",
   "execution_count": null,
   "id": "90538063",
   "metadata": {},
   "outputs": [],
   "source": [
    "# more features"
   ]
  },
  {
   "cell_type": "code",
   "execution_count": null,
   "id": "79eab81f",
   "metadata": {},
   "outputs": [],
   "source": [
    "g_data = pd.read_csv(\"data/jhs_gcomputation_more.csv\")\n",
    "g_data = g_data.rename(columns={\"y_tot\": \"y\"})\n",
    "g_data.head()"
   ]
  },
  {
   "cell_type": "code",
   "execution_count": null,
   "id": "339b4609",
   "metadata": {},
   "outputs": [],
   "source": [
    "## PA3cat\n",
    "PA3cat_data = g_data[['PA3cat_0','PA3cat_1','PA3cat_2','nSES','y','gender','currentSmoker','Diabetes','age','sbp','hdl','totchol']].copy()\n",
    "\n",
    "formula = \"y ~  C(PA3cat_0)+C(PA3cat_1)+C(PA3cat_2) +age + sbp + hdl + totchol + C(currentSmoker) + C(Diabetes) + C(gender)\"\n",
    "treatment = 'nSES'\n",
    "\n",
    "ate = get_causal_effect(treatment,formula,PA3cat_data)\n",
    "print(\"ATE\", np.round(ate, 10))\n",
    "\n",
    "ci_perc, ci_approx = bootstrap_ci(treatment, formula, PA3cat_data, nb=1000, ate=ate)\n",
    "print(\"Percentile method:   \", ci_perc)\n",
    "print(\"Normal approx method:\", ci_approx)"
   ]
  },
  {
   "cell_type": "code",
   "execution_count": null,
   "id": "f9c58387",
   "metadata": {},
   "outputs": [],
   "source": []
  },
  {
   "cell_type": "code",
   "execution_count": null,
   "id": "e3258e38",
   "metadata": {},
   "outputs": [],
   "source": [
    "# plot errorbar"
   ]
  },
  {
   "cell_type": "code",
   "execution_count": null,
   "id": "8db475c3",
   "metadata": {},
   "outputs": [],
   "source": [
    "import numpy as np\n",
    "import matplotlib.pyplot as plt\n",
    "\n",
    "x = [0.1, 0.3, 0.5, 0.7]\n",
    "y = [0.01391, 0.01348, 0.00567, -0.00647]\n",
    "\n",
    "errors = [0.03553-0.01391, 0.03571-0.01348,0.02646-0.00567,0.01491+0.00647]\n",
    " \n",
    "plt.errorbar(x, y, yerr=errors, fmt='o')\n",
    "plt.title('Neighborhood Feature Causal Effects')\n",
    "plt.axhline(y = 0, color = 'black', linestyle = '--')\n",
    "plt.xticks((0,0.1, 0.3, 0.5, 0.7, 0.8), ('', 'nSES', 'nFood', 'nFac','nRes','')) \n",
    "plt.show()"
   ]
  },
  {
   "cell_type": "code",
   "execution_count": null,
   "id": "62c4ba5f",
   "metadata": {},
   "outputs": [],
   "source": [
    "lower = [-0.00771, -0.00874, -0.01511, -0.02728]\n",
    "upper = [0.03553, 0.03571, 0.02646, 0.01491]\n",
    "interval = [lower, upper]"
   ]
  }
 ],
 "metadata": {
  "kernelspec": {
   "display_name": "Python 3 (ipykernel)",
   "language": "python",
   "name": "python3"
  },
  "language_info": {
   "codemirror_mode": {
    "name": "ipython",
    "version": 3
   },
   "file_extension": ".py",
   "mimetype": "text/x-python",
   "name": "python",
   "nbconvert_exporter": "python",
   "pygments_lexer": "ipython3",
   "version": "3.9.12"
  }
 },
 "nbformat": 4,
 "nbformat_minor": 5
}
