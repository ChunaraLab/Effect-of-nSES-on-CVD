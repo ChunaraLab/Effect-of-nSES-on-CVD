{
 "cells": [
  {
   "cell_type": "markdown",
   "id": "4658774c",
   "metadata": {},
   "source": [
    "## Stepwise"
   ]
  },
  {
   "cell_type": "code",
   "execution_count": null,
   "id": "3ff19512",
   "metadata": {},
   "outputs": [],
   "source": [
    "import statsmodels.api as sm\n",
    "import pandas as pd\n",
    "\n",
    "import warnings\n",
    "warnings.filterwarnings('ignore')"
   ]
  },
  {
   "cell_type": "markdown",
   "id": "03999b73",
   "metadata": {},
   "source": [
    "### prep data"
   ]
  },
  {
   "cell_type": "code",
   "execution_count": null,
   "id": "0632fe77",
   "metadata": {},
   "outputs": [],
   "source": [
    "dat = pd.read_csv('data/processed/jhs_cox_base.csv')\n",
    "dat = dat[['event', 'y', 'y2', 'y3', 'time_12', 'time_13',\n",
    "           'nbSESpc2score', 'nbK3paFacilities','N_UNFAV_CT00', 'G_bla_rk',\n",
    "           'PA3cat','nutrition3cat', \n",
    "           'age','gender', 'currentSmoker', 'Diabetes','sbp','hdl','totchol','alc','fmlyinc'\n",
    "           ]]\n",
    "dat = dat.rename(columns = {'event':'y_tot', 'y':'y_base'})\n",
    "dat"
   ]
  },
  {
   "cell_type": "code",
   "execution_count": null,
   "id": "055f2b9d",
   "metadata": {},
   "outputs": [],
   "source": [
    "# dummy coding\n",
    "\n",
    "cols_to_convert = ['nbSESpc2score', 'nbK3paFacilities','N_UNFAV_CT00', 'G_bla_rk',\n",
    "                   'PA3cat','nutrition3cat', \n",
    "                  'gender', 'currentSmoker', 'Diabetes','alc','fmlyinc']\n",
    "\n",
    "dat = pd.get_dummies(dat, columns=cols_to_convert, drop_first=True)"
   ]
  },
  {
   "cell_type": "markdown",
   "id": "46b19aae",
   "metadata": {},
   "source": [
    "### outcome at dif time points"
   ]
  },
  {
   "cell_type": "code",
   "execution_count": null,
   "id": "92374920",
   "metadata": {},
   "outputs": [],
   "source": [
    "# Y as outcome during the whole study period\n",
    "\n",
    "dat_tot = dat.drop(columns=['y_base','y2', 'y3', 'time_12', 'time_13'])"
   ]
  },
  {
   "cell_type": "code",
   "execution_count": null,
   "id": "f9ba7eb8",
   "metadata": {},
   "outputs": [],
   "source": [
    "# print(dat['time_12'].describe())\n",
    "# print(dat['time_13'].describe())"
   ]
  },
  {
   "cell_type": "code",
   "execution_count": null,
   "id": "c008a5ed",
   "metadata": {},
   "outputs": [],
   "source": [
    "# Y as outcome within 5 yrs\n",
    "\n",
    "dat_less_5y = dat[dat['time_12'] <= 1825]\n",
    "dat_less_5y = dat_less_5y.drop(columns=['y_tot', 'y_base', 'y3', 'time_12', 'time_13'])"
   ]
  },
  {
   "cell_type": "code",
   "execution_count": null,
   "id": "7428a537",
   "metadata": {},
   "outputs": [],
   "source": [
    "# Y as outcome after 5 yrs\n",
    "\n",
    "dat_over_5y = dat.drop(columns=['y_base','y_tot', 'y2', 'time_12', 'time_13'])"
   ]
  },
  {
   "cell_type": "markdown",
   "id": "a2aca193",
   "metadata": {},
   "source": [
    "### Run stepwise"
   ]
  },
  {
   "cell_type": "code",
   "execution_count": null,
   "id": "bcc8f8e5",
   "metadata": {},
   "outputs": [],
   "source": [
    "def forward_stepwise_selection_with_lock(X, Y, locked_features):\n",
    "    remaining_features = [col for col in X.columns if col not in selected_features]\n",
    "    \n",
    "    while remaining_features:\n",
    "        best_pvalue = 1.0\n",
    "        best_feature = None\n",
    "        \n",
    "        for feature in remaining_features:\n",
    "            model_features = selected_features + [feature]\n",
    "            X_subset = X[model_features]\n",
    "            X_subset = sm.add_constant(X_subset)  # Add a constant for intercept\n",
    "            model = sm.Logit(Y, X_subset).fit(disp=0)\n",
    "            p_value = model.pvalues[feature]\n",
    "            \n",
    "            if p_value < best_pvalue:\n",
    "                best_pvalue = p_value\n",
    "                best_feature = feature\n",
    "        \n",
    "        if best_pvalue < 0.2:  # set a significance level\n",
    "            selected_features.append(best_feature)\n",
    "            remaining_features.remove(best_feature)\n",
    "        else:\n",
    "            break\n",
    "    \n",
    "    return selected_features\n"
   ]
  },
  {
   "cell_type": "code",
   "execution_count": null,
   "id": "3facc91c",
   "metadata": {},
   "outputs": [],
   "source": [
    "# specify model components\n",
    "\n",
    "\n",
    "## X\n",
    "X = dat_over_5y.columns[1:].tolist()\n",
    "\n",
    "## Y\n",
    "Y = ['y3']\n",
    "\n",
    "## locked_features\n",
    "column_names = dat_over_5y.columns.tolist()\n",
    "columns_to_drop = ['y3',\n",
    "                   'nbSESpc2score_2.0','nbK3paFacilities_2.0','N_UNFAV_CT00_2.0', 'G_bla_rk_2.0',\n",
    "                  'nbSESpc2score_3.0','nbK3paFacilities_3.0','N_UNFAV_CT00_3.0', 'G_bla_rk_3.0',\n",
    "                  'nbSESpc2score_4.0','nbK3paFacilities_4.0','N_UNFAV_CT00_4.0', 'G_bla_rk_4.0',\n",
    "                  'PA3cat_1.0','PA3cat_2.0','nutrition3cat_1.0' ]\n",
    "locked_features = [col for col in column_names if col not in columns_to_drop]\n",
    "#locked_features = []\n",
    "\n",
    "## Initialize an empty list to store selected features\n",
    "selected_features = locked_features.copy()"
   ]
  },
  {
   "cell_type": "code",
   "execution_count": null,
   "id": "c364a338",
   "metadata": {},
   "outputs": [],
   "source": [
    "selected_features = forward_stepwise_selection_with_lock(dat_over_5y[X], dat_over_5y[Y], locked_features)\n",
    "print(\"Selected features:\", selected_features)"
   ]
  }
 ],
 "metadata": {
  "kernelspec": {
   "display_name": "Python 3",
   "language": "python",
   "name": "python3"
  },
  "language_info": {
   "codemirror_mode": {
    "name": "ipython",
    "version": 3
   },
   "file_extension": ".py",
   "mimetype": "text/x-python",
   "name": "python",
   "nbconvert_exporter": "python",
   "pygments_lexer": "ipython3",
   "version": "3.8.3"
  }
 },
 "nbformat": 4,
 "nbformat_minor": 5
}
