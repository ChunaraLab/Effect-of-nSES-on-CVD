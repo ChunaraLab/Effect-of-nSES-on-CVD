{
 "cells": [
  {
   "cell_type": "code",
   "execution_count": null,
   "id": "5849fb14",
   "metadata": {},
   "outputs": [],
   "source": [
    "import pandas as pd\n",
    "from collections import defaultdict\n",
    "import matplotlib.pyplot as plt\n",
    "import numpy as np\n",
    "import os\n",
    "import seaborn as sns\n",
    "import matplotlib.pyplot as plt\n",
    "from matplotlib import colors\n",
    "from matplotlib.ticker import PercentFormatter\n",
    "import seaborn as sns\n",
    "from statistics import variance\n",
    "from statistics import mean\n",
    "from sklearn.model_selection import train_test_split\n",
    "from imblearn.over_sampling import SMOTE\n",
    "from sklearn.preprocessing import StandardScaler\n",
    "\n",
    "import warnings\n",
    "warnings.filterwarnings('ignore')\n",
    "\n",
    "# calculate outcome y\n",
    "def get_outcome(df):\n",
    "    df['y'] = 0\n",
    "    df.loc[\n",
    "       (df['MIHx']==1.0) |\n",
    "       (df['strokeHx']==1.0) |\n",
    "       (df['CHDHx']==1.0)|\n",
    "       (df['CVDHx']==1.0),\n",
    "       'y'] = 1\n",
    "    return df\n",
    "\n",
    "pd.set_option('max_columns', None)\n",
    "pd.set_option('max_rows', 100)"
   ]
  },
  {
   "cell_type": "code",
   "execution_count": null,
   "id": "a5ac622a",
   "metadata": {},
   "outputs": [],
   "source": [
    "### JHS ###"
   ]
  },
  {
   "cell_type": "code",
   "execution_count": null,
   "id": "5bc0eab5",
   "metadata": {},
   "outputs": [],
   "source": [
    "### get the complete df with V1 covariates and V1-V3 outcome y"
   ]
  },
  {
   "cell_type": "code",
   "execution_count": null,
   "id": "089e1e80",
   "metadata": {},
   "outputs": [],
   "source": [
    "df = pd.read_csv('data/common_data_jhs.csv')"
   ]
  },
  {
   "cell_type": "code",
   "execution_count": null,
   "id": "4ab3a3da",
   "metadata": {},
   "outputs": [],
   "source": [
    "df.head()"
   ]
  },
  {
   "cell_type": "code",
   "execution_count": null,
   "id": "e695603d",
   "metadata": {
    "scrolled": true
   },
   "outputs": [],
   "source": [
    "# preprocess\n",
    "sex_mapping = {'Female': 0,'Male': 1}\n",
    "df = df.assign(gender  = df.sex.map(sex_mapping))\n",
    "# fix id column\n",
    "df[\"subjid\"] = [float(str(i).replace(\"J\", \"\")) for i in df[\"subjid\"]]\n",
    "\n",
    "df_v1 = df[df[\"visit\"] == 1]\n",
    "df_v1 = get_outcome(df_v1)\n",
    "df_v1 = df_v1[['subjid','nSES','nbSESpc2score','currentSmoker','Diabetes','gender','age','sbp','hdl','totchol','y']]\n",
    "df_v1 = df_v1.rename(columns={\"y\": \"y1\"})\n",
    "\n",
    "df_v2 = df[df[\"visit\"] == 2]\n",
    "df_v2 = get_outcome(df_v2)\n",
    "df_v2 = df_v2[['subjid','y']]\n",
    "df_v2 = df_v2.rename(columns={\"y\": \"y2\"})\n",
    "\n",
    "df_v3 = df[df[\"visit\"] == 3]\n",
    "df_v3 = get_outcome(df_v3)\n",
    "df_v3 = df_v3[['subjid','y']]\n",
    "df_v3 = df_v3.rename(columns={\"y\": \"y3\"})\n",
    "\n",
    "merge1 = pd.merge(df_v1, df_v2)\n",
    "jhs_complete_df = pd.merge(merge1, df_v3)\n",
    "jhs_complete_df['y_tot'] = [1 if x == True else 0 for x in jhs_complete_df[['y1','y2','y3']].any(axis=1).tolist()]\n"
   ]
  },
  {
   "cell_type": "code",
   "execution_count": null,
   "id": "2425e8ad",
   "metadata": {},
   "outputs": [],
   "source": [
    "jhs_complete_df.to_csv('data/jhs_raw_complete.csv', index = False)"
   ]
  },
  {
   "cell_type": "code",
   "execution_count": null,
   "id": "266451a9",
   "metadata": {},
   "outputs": [],
   "source": []
  },
  {
   "cell_type": "code",
   "execution_count": null,
   "id": "d3653917",
   "metadata": {},
   "outputs": [],
   "source": [
    "### split train and test sets"
   ]
  },
  {
   "cell_type": "code",
   "execution_count": null,
   "id": "2523e4c2",
   "metadata": {},
   "outputs": [],
   "source": [
    "jhs_tr,jhs_te = train_test_split(jhs_complete_df, test_size=0.2,random_state=0, stratify=jhs_complete_df[['y_tot']]) "
   ]
  },
  {
   "cell_type": "code",
   "execution_count": null,
   "id": "4c8f5b02",
   "metadata": {},
   "outputs": [],
   "source": [
    "### impute missing values"
   ]
  },
  {
   "cell_type": "code",
   "execution_count": null,
   "id": "ae52641c",
   "metadata": {},
   "outputs": [],
   "source": [
    "#print(jhs_complete_df.isnull().sum())\n",
    "\n",
    "# train set\n",
    "## categorical\n",
    "jhs_tr[['currentSmoker','Diabetes']] = jhs_tr[['currentSmoker','Diabetes']].apply(lambda x: x.fillna(x.value_counts().index[0]))\n",
    "## continuous\n",
    "tr_mean = jhs_tr[['nbSESpc2score', 'sbp', 'hdl', 'totchol']].mean()\n",
    "jhs_tr.fillna(value = tr_mean, inplace = True)\n",
    "\n",
    "\n",
    "# test set\n",
    "## categorical\n",
    "tr_mode = jhs_tr[['currentSmoker','Diabetes']].mode().squeeze()\n",
    "jhs_te.fillna(value = tr_mode, inplace = True)\n",
    "## continuous\n",
    "jhs_te.fillna(value = tr_mean, inplace = True)"
   ]
  },
  {
   "cell_type": "code",
   "execution_count": null,
   "id": "145d6299",
   "metadata": {},
   "outputs": [],
   "source": [
    "# convert to int\n",
    "jhs_tr[['subjid', 'nSES', 'currentSmoker', 'Diabetes', 'gender', 'age']] = jhs_tr[['subjid', 'nSES', 'currentSmoker', 'Diabetes', 'gender', 'age']].astype(int)\n",
    "jhs_te[['subjid', 'nSES', 'currentSmoker', 'Diabetes', 'gender', 'age']] = jhs_te[['subjid', 'nSES', 'currentSmoker', 'Diabetes', 'gender', 'age']].astype(int)\n"
   ]
  },
  {
   "cell_type": "code",
   "execution_count": null,
   "id": "b4d53fdb",
   "metadata": {},
   "outputs": [],
   "source": [
    "### standardize (on continuous covariates)"
   ]
  },
  {
   "cell_type": "code",
   "execution_count": null,
   "id": "770a463b",
   "metadata": {},
   "outputs": [],
   "source": [
    "con_index = ['nbSESpc2score', 'age', 'sbp', 'hdl', 'totchol']\n",
    "\n",
    "jhs_scaler = StandardScaler()\n",
    "jhs_scaler.fit(jhs_tr[con_index],)   ## fit scaler using tr set\n",
    "     \n",
    "jhs_tr[con_index] = jhs_scaler.transform(jhs_tr[con_index], copy = True)\n",
    "jhs_te[con_index] = jhs_scaler.transform(jhs_te[con_index], copy = True)"
   ]
  },
  {
   "cell_type": "code",
   "execution_count": null,
   "id": "582e1e67",
   "metadata": {},
   "outputs": [],
   "source": [
    "### export df"
   ]
  },
  {
   "cell_type": "code",
   "execution_count": null,
   "id": "8cff8220",
   "metadata": {},
   "outputs": [],
   "source": [
    "jhs_tr.to_csv('data/jhs_tr.csv', index = False)  # no smote\n",
    "jhs_te.to_csv('data/jhs_te.csv', index = False)  "
   ]
  },
  {
   "cell_type": "code",
   "execution_count": null,
   "id": "070a21f6",
   "metadata": {},
   "outputs": [],
   "source": [
    "jhs_f = jhs_complete_df.loc[jhs_complete_df['gender'] == 0,:]\n",
    "jhs_m = jhs_complete_df.loc[jhs_complete_df['gender'] == 1,:]"
   ]
  },
  {
   "cell_type": "code",
   "execution_count": null,
   "id": "a76c3a37",
   "metadata": {},
   "outputs": [],
   "source": [
    "class PreProcess:\n",
    "    def __init__(self, dat):\n",
    "        self.dat = dat\n",
    "        \n",
    "        ### split train and test sets\n",
    "        jhs_tr,jhs_te = train_test_split(self.dat, test_size=0.2,random_state=0, stratify=self.dat[['y_tot']]) \n",
    "\n",
    "        ### impute missing values\n",
    "\n",
    "        # train set\n",
    "        ## categorical\n",
    "        jhs_tr[['currentSmoker','Diabetes']] = jhs_tr[['currentSmoker','Diabetes']].apply(lambda x: x.fillna(x.value_counts().index[0]))\n",
    "        ## continuous\n",
    "        tr_mean = jhs_tr[['nbSESpc2score', 'sbp', 'hdl', 'totchol']].mean()\n",
    "        jhs_tr.fillna(value = tr_mean, inplace = True)\n",
    "\n",
    "        # test set\n",
    "        ## categorical\n",
    "        tr_mode = jhs_tr[['currentSmoker','Diabetes']].mode().squeeze()\n",
    "        jhs_te.fillna(value = tr_mode, inplace = True)\n",
    "        ## continuous\n",
    "        jhs_te.fillna(value = tr_mean, inplace = True)\n",
    "        \n",
    "        # convert to int\n",
    "        jhs_tr[['subjid', 'nSES', 'currentSmoker', 'Diabetes', 'gender', 'age']] = jhs_tr[['subjid', 'nSES', 'currentSmoker', 'Diabetes', 'gender', 'age']].astype(int)\n",
    "        jhs_te[['subjid', 'nSES', 'currentSmoker', 'Diabetes', 'gender', 'age']] = jhs_te[['subjid', 'nSES', 'currentSmoker', 'Diabetes', 'gender', 'age']].astype(int)\n",
    "\n",
    "\n",
    "        ### standardize (on continuous covariates)\n",
    "        con_index = ['nbSESpc2score', 'age', 'sbp', 'hdl', 'totchol']\n",
    "        jhs_scaler = StandardScaler()\n",
    "        jhs_scaler.fit(jhs_tr[con_index],)   ## fit scaler using tr set\n",
    "        jhs_tr[con_index] = jhs_scaler.transform(jhs_tr[con_index], copy = True)\n",
    "        jhs_te[con_index] = jhs_scaler.transform(jhs_te[con_index], copy = True)\n",
    "        \n",
    "        ### output\n",
    "        self.jhs_tr = jhs_tr\n",
    "        self.jhs_te = jhs_te\n",
    "\n",
    "        \n",
    "jhs_f_tr = PreProcess(jhs_f).jhs_tr\n",
    "jhs_f_te = PreProcess(jhs_f).jhs_te\n",
    "jhs_m_tr = PreProcess(jhs_m).jhs_tr\n",
    "jhs_m_te = PreProcess(jhs_m).jhs_te\n",
    "\n",
    "### export df\n",
    "jhs_f_tr.to_csv('data/jhs_f_tr.csv', index = False)\n",
    "jhs_f_te.to_csv('data/jhs_f_te.csv', index = False)\n",
    "jhs_m_tr.to_csv('data/jhs_m_tr.csv', index = False)\n",
    "jhs_m_te.to_csv('data/jhs_m_te.csv', index = False)  \n"
   ]
  },
  {
   "cell_type": "code",
   "execution_count": null,
   "id": "1812da0d",
   "metadata": {},
   "outputs": [],
   "source": []
  },
  {
   "cell_type": "code",
   "execution_count": null,
   "id": "beb654b8",
   "metadata": {},
   "outputs": [],
   "source": [
    "### JHS - gcomputation ###"
   ]
  },
  {
   "cell_type": "code",
   "execution_count": null,
   "id": "fd6dcaa1",
   "metadata": {},
   "outputs": [],
   "source": [
    "# nSES\n",
    "\n",
    "## categorical\n",
    "jhs_complete_df[['currentSmoker','Diabetes']] = jhs_complete_df[['currentSmoker','Diabetes']].apply(lambda x: x.fillna(x.value_counts().index[0]))\n",
    "## continuous\n",
    "dat_mean = jhs_complete_df[['nbSESpc2score', 'sbp', 'hdl', 'totchol']].mean()\n",
    "jhs_complete_df.fillna(value = dat_mean, inplace = True)\n",
    "\n",
    "# convert to int\n",
    "jhs_complete_df[['subjid', 'nSES', 'currentSmoker', 'Diabetes', 'gender', 'age']] = jhs_complete_df[['subjid', 'nSES', 'currentSmoker', 'Diabetes', 'gender', 'age']].astype(int)\n",
    "\n",
    "# standardize\n",
    "con_index = ['nbSESpc2score', 'age', 'sbp', 'hdl', 'totchol']\n",
    "\n",
    "jhs_scaler = StandardScaler()\n",
    "jhs_scaler.fit(jhs_complete_df[con_index],) \n",
    "     \n",
    "jhs_complete_df[con_index] = jhs_scaler.transform(jhs_complete_df[con_index], copy = True)\n",
    "\n",
    "jhs_complete_df.to_csv('data/jhs_gcomputation.csv', index = False)\n"
   ]
  },
  {
   "cell_type": "code",
   "execution_count": null,
   "id": "98426534",
   "metadata": {},
   "outputs": [],
   "source": [
    "# more features for gcomputation\n",
    "\n",
    "# preprocess\n",
    "sex_mapping = {'Female': 0,'Male': 1}\n",
    "df = df.assign(gender  = df.sex.map(sex_mapping))\n",
    "# fix id column\n",
    "df[\"subjid\"] = [float(str(i).replace(\"J\", \"\")) for i in df[\"subjid\"]]\n",
    "\n",
    "df_v1 = df[df[\"visit\"] == 1]\n",
    "df_v1 = get_outcome(df_v1)\n",
    "df_v1 = df_v1[['subjid','nSES','PA3cat','nbSESpc2score','nbK3FavorFoodstore','nbK3paFacilities','nbpctResiden1mi','currentSmoker','Diabetes','gender','age','sbp','hdl','totchol','y']]\n",
    "df_v1 = df_v1.rename(columns={\"y\": \"y1\"})\n",
    "\n",
    "df_v2 = df[df[\"visit\"] == 2]\n",
    "df_v2 = get_outcome(df_v2)\n",
    "df_v2 = df_v2[['subjid','y']]\n",
    "df_v2 = df_v2.rename(columns={\"y\": \"y2\"})\n",
    "\n",
    "df_v3 = df[df[\"visit\"] == 3]\n",
    "df_v3 = get_outcome(df_v3)\n",
    "df_v3 = df_v3[['subjid','y']]\n",
    "df_v3 = df_v3.rename(columns={\"y\": \"y3\"})\n",
    "\n",
    "merge1 = pd.merge(df_v1, df_v2)\n",
    "jhs_complete_df = pd.merge(merge1, df_v3)\n",
    "jhs_complete_df['y_tot'] = [1 if x == True else 0 for x in jhs_complete_df[['y1','y2','y3']].any(axis=1).tolist()]\n",
    "\n",
    "## impute nb features with mean\n",
    "nb_dat_mean = jhs_complete_df[['nbK3FavorFoodstore','nbK3paFacilities','nbpctResiden1mi']].mean()\n",
    "jhs_complete_df.fillna(value = nb_dat_mean, inplace = True)\n",
    "\n",
    "## dichotomize nb features\n",
    "food_med = np.nanmedian(jhs_complete_df['nbK3FavorFoodstore'])\n",
    "fac_med = np.nanmedian(jhs_complete_df['nbK3paFacilities'])\n",
    "res_med = np.nanmedian(jhs_complete_df['nbpctResiden1mi'])\n",
    "jhs_complete_df['nFood'] = [1 if x >= food_med else 0 for x in jhs_complete_df['nbK3FavorFoodstore'].tolist()]\n",
    "jhs_complete_df['nFac'] = [1 if x >= fac_med else 0 for x in jhs_complete_df['nbK3paFacilities'].tolist()]\n",
    "jhs_complete_df['nRes'] = [1 if x >= res_med else 0 for x in jhs_complete_df['nbpctResiden1mi'].tolist()]\n",
    "\n",
    "\n",
    "# fill nan\n",
    "## categorical\n",
    "jhs_complete_df[['PA3cat','currentSmoker','Diabetes']] = jhs_complete_df[['PA3cat','currentSmoker','Diabetes']].apply(lambda x: x.fillna(x.value_counts().index[0]))\n",
    "## continuous\n",
    "dat_mean = jhs_complete_df[['nbSESpc2score', 'sbp', 'hdl', 'totchol']].mean()\n",
    "jhs_complete_df.fillna(value = dat_mean, inplace = True)\n",
    "\n",
    "# convert to int\n",
    "jhs_complete_df[['subjid', 'nSES', 'PA3cat','currentSmoker', 'Diabetes', 'gender', 'age','nFood','nFac','nRes']] = jhs_complete_df[['subjid', 'nSES', 'PA3cat','currentSmoker', 'Diabetes', 'gender', 'age','nFood','nFac','nRes']].astype(int)\n",
    "\n",
    "# dummy coding for PA3cat\n",
    "PA3cat_dummy = pd.get_dummies(jhs_complete_df['PA3cat'],  prefix='PA3cat')\n",
    "jhs_complete_df = pd.concat([jhs_complete_df, PA3cat_dummy], axis=1)\n",
    "\n",
    "\n",
    "# standardize\n",
    "con_index = ['nbSESpc2score', 'age', 'sbp', 'hdl', 'totchol']\n",
    "\n",
    "jhs_scaler = StandardScaler()\n",
    "jhs_scaler.fit(jhs_complete_df[con_index],) \n",
    "     \n",
    "jhs_complete_df[con_index] = jhs_scaler.transform(jhs_complete_df[con_index], copy = True)\n",
    "\n",
    "#jhs_complete_df\n",
    "#jhs_complete_df.isnull().sum()\n",
    "\n",
    "jhs_complete_df.to_csv('data/jhs_gcomputation_more.csv', index = False)\n"
   ]
  },
  {
   "cell_type": "code",
   "execution_count": null,
   "id": "0bbdf0e5",
   "metadata": {},
   "outputs": [],
   "source": []
  },
  {
   "cell_type": "code",
   "execution_count": null,
   "id": "a05c809f",
   "metadata": {},
   "outputs": [],
   "source": [
    "### merge mesa and jhs with no SMOTE"
   ]
  },
  {
   "cell_type": "code",
   "execution_count": null,
   "id": "f63fc406",
   "metadata": {},
   "outputs": [],
   "source": [
    "jhs_tr =pd.read_csv(\"data/jhs_tr.csv\")\n",
    "jhs_te =pd.read_csv(\"data/jhs_te.csv\")\n",
    "\n",
    "mesa_tr =pd.read_csv(\"../mesa/code/plan_2/mesa_train_scale_noSMOTE.csv\")\n",
    "mesa_te =pd.read_csv(\"../mesa/code/plan_2/mesa_test_scale_noSMOTE.csv\")"
   ]
  },
  {
   "cell_type": "code",
   "execution_count": null,
   "id": "298bacce",
   "metadata": {},
   "outputs": [],
   "source": [
    "jhs_tr[['y_tot']].value_counts()"
   ]
  },
  {
   "cell_type": "code",
   "execution_count": null,
   "id": "d6401099",
   "metadata": {},
   "outputs": [],
   "source": [
    "jhs_te[['y_tot']].value_counts()"
   ]
  },
  {
   "cell_type": "code",
   "execution_count": null,
   "id": "8216c809",
   "metadata": {},
   "outputs": [],
   "source": [
    "# export \n",
    "merged_tr.to_csv('data/merged_tr_nosmt.csv', index = False)  \n",
    "merged_te.to_csv('data/merged_te_nosmt.csv', index = False)  "
   ]
  },
  {
   "cell_type": "code",
   "execution_count": null,
   "id": "340944aa",
   "metadata": {},
   "outputs": [],
   "source": []
  }
 ],
 "metadata": {
  "kernelspec": {
   "display_name": "Python 3 (ipykernel)",
   "language": "python",
   "name": "python3"
  },
  "language_info": {
   "codemirror_mode": {
    "name": "ipython",
    "version": 3
   },
   "file_extension": ".py",
   "mimetype": "text/x-python",
   "name": "python",
   "nbconvert_exporter": "python",
   "pygments_lexer": "ipython3",
   "version": "3.9.12"
  }
 },
 "nbformat": 4,
 "nbformat_minor": 5
}
