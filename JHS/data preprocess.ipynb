{
 "cells": [
  {
   "cell_type": "markdown",
   "id": "333ae51a",
   "metadata": {},
   "source": [
    "## Prep"
   ]
  },
  {
   "cell_type": "code",
   "execution_count": null,
   "id": "3f86fc51",
   "metadata": {},
   "outputs": [],
   "source": [
    "import pandas as pd\n",
    "from collections import defaultdict\n",
    "import matplotlib.pyplot as plt\n",
    "import numpy as np\n",
    "import os\n",
    "import seaborn as sns\n",
    "import matplotlib.pyplot as plt\n",
    "from matplotlib import colors\n",
    "from matplotlib.ticker import PercentFormatter\n",
    "import seaborn as sns\n",
    "from statistics import variance\n",
    "from statistics import mean\n",
    "from sklearn.model_selection import train_test_split\n",
    "from imblearn.over_sampling import SMOTE\n",
    "from sklearn.preprocessing import StandardScaler\n",
    "\n",
    "import warnings\n",
    "warnings.filterwarnings('ignore')\n",
    "\n",
    "# calculate outcome y\n",
    "def get_outcome(df):\n",
    "    df['y'] = 0\n",
    "    df.loc[\n",
    "       (df['MIHx']==1.0) |\n",
    "       (df['strokeHx']==1.0) |\n",
    "       (df['CHDHx']==1.0)|\n",
    "       (df['CVDHx']==1.0),\n",
    "       'y'] = 1\n",
    "    return df\n",
    "\n",
    "pd.set_option('max_columns', None)\n",
    "pd.set_option('max_rows', 100)"
   ]
  },
  {
   "cell_type": "markdown",
   "id": "895af0ea",
   "metadata": {},
   "source": [
    "## JHS"
   ]
  },
  {
   "cell_type": "code",
   "execution_count": null,
   "id": "230fa790",
   "metadata": {},
   "outputs": [],
   "source": [
    "### get the complete df with V1 covariates and V1-V3 outcome y"
   ]
  },
  {
   "cell_type": "code",
   "execution_count": null,
   "id": "7afb5111",
   "metadata": {
    "scrolled": true
   },
   "outputs": [],
   "source": [
    "df = pd.read_csv('data/common_data_jhs.csv')\n",
    "\n",
    "# preprocess\n",
    "sex_mapping = {'Female': 0,'Male': 1}\n",
    "df = df.assign(gender  = df.sex.map(sex_mapping))\n",
    "# fix id column\n",
    "df[\"subjid\"] = [float(str(i).replace(\"J\", \"\")) for i in df[\"subjid\"]]\n",
    "\n",
    "df_v1 = df[df[\"visit\"] == 1]\n",
    "df_v1 = get_outcome(df_v1)\n",
    "df_v1 = df_v1[['subjid','nSES','nbSESpc2score','currentSmoker','Diabetes','gender','age','sbp','hdl','totchol','y']]\n",
    "df_v1 = df_v1.rename(columns={\"y\": \"y1\"})\n",
    "\n",
    "df_v2 = df[df[\"visit\"] == 2]\n",
    "df_v2 = get_outcome(df_v2)\n",
    "df_v2 = df_v2[['subjid','y']]\n",
    "df_v2 = df_v2.rename(columns={\"y\": \"y2\"})\n",
    "\n",
    "df_v3 = df[df[\"visit\"] == 3]\n",
    "df_v3 = get_outcome(df_v3)\n",
    "df_v3 = df_v3[['subjid','y']]\n",
    "df_v3 = df_v3.rename(columns={\"y\": \"y3\"})\n",
    "\n",
    "merge1 = pd.merge(df_v1, df_v2)\n",
    "jhs_complete_df = pd.merge(merge1, df_v3)\n",
    "jhs_complete_df['y_tot'] = [1 if x == True else 0 for x in jhs_complete_df[['y1','y2','y3']].any(axis=1).tolist()]\n",
    "\n",
    "# jhs_complete_df.to_csv('data/jhs_raw_complete.csv', index = False)"
   ]
  },
  {
   "cell_type": "code",
   "execution_count": null,
   "id": "db37e3cc",
   "metadata": {},
   "outputs": [],
   "source": [
    "### split train and test sets"
   ]
  },
  {
   "cell_type": "code",
   "execution_count": null,
   "id": "201b727f",
   "metadata": {},
   "outputs": [],
   "source": [
    "jhs_tr,jhs_te = train_test_split(jhs_complete_df, test_size=0.2,random_state=0, stratify=jhs_complete_df[['y_tot']]) "
   ]
  },
  {
   "cell_type": "code",
   "execution_count": null,
   "id": "0e64c302",
   "metadata": {},
   "outputs": [],
   "source": [
    "### impute missing values"
   ]
  },
  {
   "cell_type": "code",
   "execution_count": null,
   "id": "5a151678",
   "metadata": {},
   "outputs": [],
   "source": [
    "# train set\n",
    "## categorical\n",
    "jhs_tr[['currentSmoker','Diabetes']] = jhs_tr[['currentSmoker','Diabetes']].apply(lambda x: x.fillna(x.value_counts().index[0]))\n",
    "## continuous\n",
    "tr_mean = jhs_tr[['nbSESpc2score', 'sbp', 'hdl', 'totchol']].mean()\n",
    "jhs_tr.fillna(value = tr_mean, inplace = True)\n",
    "\n",
    "\n",
    "# test set\n",
    "## categorical\n",
    "tr_mode = jhs_tr[['currentSmoker','Diabetes']].mode().squeeze()\n",
    "jhs_te.fillna(value = tr_mode, inplace = True)\n",
    "## continuous\n",
    "jhs_te.fillna(value = tr_mean, inplace = True)"
   ]
  },
  {
   "cell_type": "code",
   "execution_count": null,
   "id": "c99dbdb3",
   "metadata": {},
   "outputs": [],
   "source": [
    "# convert to int\n",
    "jhs_tr[['subjid', 'nSES', 'currentSmoker', 'Diabetes', 'gender', 'age']] = jhs_tr[['subjid', 'nSES', 'currentSmoker', 'Diabetes', 'gender', 'age']].astype(int)\n",
    "jhs_te[['subjid', 'nSES', 'currentSmoker', 'Diabetes', 'gender', 'age']] = jhs_te[['subjid', 'nSES', 'currentSmoker', 'Diabetes', 'gender', 'age']].astype(int)\n"
   ]
  },
  {
   "cell_type": "code",
   "execution_count": null,
   "id": "a3f284d6",
   "metadata": {},
   "outputs": [],
   "source": [
    "### standardize (on continuous covariates)"
   ]
  },
  {
   "cell_type": "code",
   "execution_count": null,
   "id": "83189e9f",
   "metadata": {},
   "outputs": [],
   "source": [
    "con_index = ['nbSESpc2score', 'age', 'sbp', 'hdl', 'totchol']\n",
    "\n",
    "jhs_scaler = StandardScaler()\n",
    "jhs_scaler.fit(jhs_tr[con_index],)   ## fit scaler using tr set\n",
    "     \n",
    "jhs_tr[con_index] = jhs_scaler.transform(jhs_tr[con_index], copy = True)\n",
    "jhs_te[con_index] = jhs_scaler.transform(jhs_te[con_index], copy = True)"
   ]
  },
  {
   "cell_type": "code",
   "execution_count": null,
   "id": "a3cf07fb",
   "metadata": {},
   "outputs": [],
   "source": [
    "### export \n",
    "jhs_tr.to_csv('data/jhs_tr_stratified.csv', index = False)  # stratified; no smote\n",
    "jhs_te.to_csv('data/jhs_te_stratified.csv', index = False)  "
   ]
  },
  {
   "cell_type": "code",
   "execution_count": null,
   "id": "e303a419",
   "metadata": {},
   "outputs": [],
   "source": []
  },
  {
   "cell_type": "markdown",
   "id": "778404fd",
   "metadata": {},
   "source": [
    "### JHS gender df"
   ]
  },
  {
   "cell_type": "code",
   "execution_count": null,
   "id": "a62b33dc",
   "metadata": {},
   "outputs": [],
   "source": [
    "jhs_f = jhs_complete_df.loc[jhs_complete_df['gender'] == 0,:]\n",
    "jhs_m = jhs_complete_df.loc[jhs_complete_df['gender'] == 1,:]"
   ]
  },
  {
   "cell_type": "code",
   "execution_count": null,
   "id": "e0781cc8",
   "metadata": {},
   "outputs": [],
   "source": [
    "class PreProcess:\n",
    "    def __init__(self, dat):\n",
    "        self.dat = dat\n",
    "        \n",
    "        ### split train and test sets\n",
    "        jhs_tr,jhs_te = train_test_split(self.dat, test_size=0.2,random_state=0, stratify=self.dat[['y_tot']]) \n",
    "\n",
    "        ### impute missing values\n",
    "\n",
    "        # train set\n",
    "        ## categorical\n",
    "        jhs_tr[['currentSmoker','Diabetes']] = jhs_tr[['currentSmoker','Diabetes']].apply(lambda x: x.fillna(x.value_counts().index[0]))\n",
    "        ## continuous\n",
    "        tr_mean = jhs_tr[['nbSESpc2score', 'sbp', 'hdl', 'totchol']].mean()\n",
    "        jhs_tr.fillna(value = tr_mean, inplace = True)\n",
    "\n",
    "        # test set\n",
    "        ## categorical\n",
    "        tr_mode = jhs_tr[['currentSmoker','Diabetes']].mode().squeeze()\n",
    "        jhs_te.fillna(value = tr_mode, inplace = True)\n",
    "        ## continuous\n",
    "        jhs_te.fillna(value = tr_mean, inplace = True)\n",
    "        \n",
    "        # convert to int\n",
    "        jhs_tr[['subjid', 'nSES', 'currentSmoker', 'Diabetes', 'gender', 'age']] = jhs_tr[['subjid', 'nSES', 'currentSmoker', 'Diabetes', 'gender', 'age']].astype(int)\n",
    "        jhs_te[['subjid', 'nSES', 'currentSmoker', 'Diabetes', 'gender', 'age']] = jhs_te[['subjid', 'nSES', 'currentSmoker', 'Diabetes', 'gender', 'age']].astype(int)\n",
    "\n",
    "\n",
    "        ### standardize (on continuous covariates)\n",
    "        con_index = ['nbSESpc2score', 'age', 'sbp', 'hdl', 'totchol']\n",
    "        jhs_scaler = StandardScaler()\n",
    "        jhs_scaler.fit(jhs_tr[con_index],)   ## fit scaler using tr set\n",
    "        jhs_tr[con_index] = jhs_scaler.transform(jhs_tr[con_index], copy = True)\n",
    "        jhs_te[con_index] = jhs_scaler.transform(jhs_te[con_index], copy = True)\n",
    "        \n",
    "        ### output\n",
    "        self.jhs_tr = jhs_tr\n",
    "        self.jhs_te = jhs_te\n",
    "\n",
    "        \n",
    "jhs_f_tr = PreProcess(jhs_f).jhs_tr\n",
    "jhs_f_te = PreProcess(jhs_f).jhs_te\n",
    "jhs_m_tr = PreProcess(jhs_m).jhs_tr\n",
    "jhs_m_te = PreProcess(jhs_m).jhs_te\n",
    "\n",
    "### export df\n",
    "jhs_f_tr.to_csv('data/jhs_f_tr.csv', index = False)\n",
    "jhs_f_te.to_csv('data/jhs_f_te.csv', index = False)\n",
    "jhs_m_tr.to_csv('data/jhs_m_tr.csv', index = False)\n",
    "jhs_m_te.to_csv('data/jhs_m_te.csv', index = False)  \n"
   ]
  },
  {
   "cell_type": "code",
   "execution_count": null,
   "id": "54de6f8e",
   "metadata": {},
   "outputs": [],
   "source": []
  },
  {
   "cell_type": "markdown",
   "id": "e3dffa98",
   "metadata": {},
   "source": [
    "### JHS - gcomputation df"
   ]
  },
  {
   "cell_type": "markdown",
   "id": "edc7cb3a",
   "metadata": {},
   "source": [
    "#### nSES"
   ]
  },
  {
   "cell_type": "code",
   "execution_count": null,
   "id": "2386290f",
   "metadata": {},
   "outputs": [],
   "source": [
    "## categorical\n",
    "jhs_complete_df[['currentSmoker','Diabetes']] = jhs_complete_df[['currentSmoker','Diabetes']].apply(lambda x: x.fillna(x.value_counts().index[0]))\n",
    "## continuous\n",
    "dat_mean = jhs_complete_df[['nbSESpc2score', 'sbp', 'hdl', 'totchol']].mean()\n",
    "jhs_complete_df.fillna(value = dat_mean, inplace = True)\n",
    "\n",
    "# convert to int\n",
    "jhs_complete_df[['subjid', 'nSES', 'currentSmoker', 'Diabetes', 'gender', 'age']] = jhs_complete_df[['subjid', 'nSES', 'currentSmoker', 'Diabetes', 'gender', 'age']].astype(int)\n",
    "\n",
    "# standardize\n",
    "con_index = ['nbSESpc2score', 'age', 'sbp', 'hdl', 'totchol']\n",
    "\n",
    "jhs_scaler = StandardScaler()\n",
    "jhs_scaler.fit(jhs_complete_df[con_index],) \n",
    "     \n",
    "jhs_complete_df[con_index] = jhs_scaler.transform(jhs_complete_df[con_index], copy = True)\n",
    "\n",
    "jhs_complete_df.to_csv('data/jhs_gcomputation.csv', index = False)\n"
   ]
  },
  {
   "cell_type": "markdown",
   "id": "7c1ef50d",
   "metadata": {},
   "source": [
    "#### more features for gcomputation"
   ]
  },
  {
   "cell_type": "code",
   "execution_count": null,
   "id": "3273855e",
   "metadata": {},
   "outputs": [],
   "source": [
    "# preprocess\n",
    "sex_mapping = {'Female': 0,'Male': 1}\n",
    "df = df.assign(gender  = df.sex.map(sex_mapping))\n",
    "# fix id column\n",
    "df[\"subjid\"] = [float(str(i).replace(\"J\", \"\")) for i in df[\"subjid\"]]\n",
    "\n",
    "df_v1 = df[df[\"visit\"] == 1]\n",
    "df_v1 = get_outcome(df_v1)\n",
    "df_v1 = df_v1[['subjid','nSES','PA3cat','nbSESpc2score','nbK3FavorFoodstore','nbK3paFacilities','nbpctResiden1mi','currentSmoker','Diabetes','gender','age','sbp','hdl','totchol','y']]\n",
    "df_v1 = df_v1.rename(columns={\"y\": \"y1\"})\n",
    "\n",
    "df_v2 = df[df[\"visit\"] == 2]\n",
    "df_v2 = get_outcome(df_v2)\n",
    "df_v2 = df_v2[['subjid','y']]\n",
    "df_v2 = df_v2.rename(columns={\"y\": \"y2\"})\n",
    "\n",
    "df_v3 = df[df[\"visit\"] == 3]\n",
    "df_v3 = get_outcome(df_v3)\n",
    "df_v3 = df_v3[['subjid','y']]\n",
    "df_v3 = df_v3.rename(columns={\"y\": \"y3\"})\n",
    "\n",
    "merge1 = pd.merge(df_v1, df_v2)\n",
    "jhs_complete_df = pd.merge(merge1, df_v3)\n",
    "jhs_complete_df['y_tot'] = [1 if x == True else 0 for x in jhs_complete_df[['y1','y2','y3']].any(axis=1).tolist()]\n",
    "\n",
    "## impute nb features with mean\n",
    "nb_dat_mean = jhs_complete_df[['nbK3FavorFoodstore','nbK3paFacilities','nbpctResiden1mi']].mean()\n",
    "jhs_complete_df.fillna(value = nb_dat_mean, inplace = True)\n",
    "\n",
    "## dichotomize nb features\n",
    "food_med = np.nanmedian(jhs_complete_df['nbK3FavorFoodstore'])\n",
    "fac_med = np.nanmedian(jhs_complete_df['nbK3paFacilities'])\n",
    "res_med = np.nanmedian(jhs_complete_df['nbpctResiden1mi'])\n",
    "jhs_complete_df['nFood'] = [1 if x >= food_med else 0 for x in jhs_complete_df['nbK3FavorFoodstore'].tolist()]\n",
    "jhs_complete_df['nFac'] = [1 if x >= fac_med else 0 for x in jhs_complete_df['nbK3paFacilities'].tolist()]\n",
    "jhs_complete_df['nRes'] = [1 if x >= res_med else 0 for x in jhs_complete_df['nbpctResiden1mi'].tolist()]\n",
    "\n",
    "\n",
    "# fill nan\n",
    "## categorical\n",
    "jhs_complete_df[['PA3cat','currentSmoker','Diabetes']] = jhs_complete_df[['PA3cat','currentSmoker','Diabetes']].apply(lambda x: x.fillna(x.value_counts().index[0]))\n",
    "## continuous\n",
    "dat_mean = jhs_complete_df[['nbSESpc2score', 'sbp', 'hdl', 'totchol']].mean()\n",
    "jhs_complete_df.fillna(value = dat_mean, inplace = True)\n",
    "\n",
    "# convert to int\n",
    "jhs_complete_df[['subjid', 'nSES', 'PA3cat','currentSmoker', 'Diabetes', 'gender', 'age','nFood','nFac','nRes']] = jhs_complete_df[['subjid', 'nSES', 'PA3cat','currentSmoker', 'Diabetes', 'gender', 'age','nFood','nFac','nRes']].astype(int)\n",
    "\n",
    "# dummy coding for PA3cat\n",
    "PA3cat_dummy = pd.get_dummies(jhs_complete_df['PA3cat'],  prefix='PA3cat')\n",
    "jhs_complete_df = pd.concat([jhs_complete_df, PA3cat_dummy], axis=1)\n",
    "\n",
    "\n",
    "# standardize\n",
    "con_index = ['nbSESpc2score', 'age', 'sbp', 'hdl', 'totchol']\n",
    "\n",
    "jhs_scaler = StandardScaler()\n",
    "jhs_scaler.fit(jhs_complete_df[con_index],) \n",
    "     \n",
    "jhs_complete_df[con_index] = jhs_scaler.transform(jhs_complete_df[con_index], copy = True)\n",
    "\n",
    "#jhs_complete_df\n",
    "#jhs_complete_df.isnull().sum()\n",
    "\n",
    "jhs_complete_df.to_csv('data/jhs_gcomputation_more.csv', index = False)\n"
   ]
  },
  {
   "cell_type": "code",
   "execution_count": null,
   "id": "75465eaa",
   "metadata": {},
   "outputs": [],
   "source": []
  },
  {
   "cell_type": "markdown",
   "id": "47d1ea01",
   "metadata": {},
   "source": [
    "## MESA"
   ]
  },
  {
   "cell_type": "code",
   "execution_count": null,
   "id": "f6bfec36",
   "metadata": {},
   "outputs": [],
   "source": [
    "# SMOTE\n",
    "mesa_tr =pd.read_csv(\"../mesa/code/plan_2/mesa_train_scale.csv\")\n",
    "mesa_te =pd.read_csv(\"../mesa/code/plan_2/mesa_test_scale.csv\")"
   ]
  },
  {
   "cell_type": "code",
   "execution_count": null,
   "id": "53a8c560",
   "metadata": {},
   "outputs": [],
   "source": [
    "### merge JHS and MESA ###"
   ]
  },
  {
   "cell_type": "code",
   "execution_count": null,
   "id": "0f81b832",
   "metadata": {},
   "outputs": [],
   "source": [
    "# train set\n",
    "\n",
    "## add the dif cols\n",
    "mesa_tr[[ 'y1', 'y2', 'y3']] = float('NAN')\n",
    "mesa_tr[['dat']] = \"MESA\"\n",
    "jhs_tr[['race']] = int(1)\n",
    "jhs_tr[['dat']] = \"JHS\"\n",
    "\n",
    "\n",
    "## rename\n",
    "jhs_tr = jhs_tr.rename(columns={\"nbSESpc2score\": \"nSESscore\", \"y_tot\":\"y\"})\n",
    "mesa_tr = mesa_tr.rename(columns={\"idno\":\"subjid\",\"F3_PC2\": \"nSESscore\", \"cig1c\":\"currentSmoker\", \"diabet1\":\"Diabetes\", \n",
    "                                 \"gender1\":\"gender\", \"age1c\":\"age\", \"sbp1c\":\"sbp\", \"hdl1\":\"hdl\", \"chol1\":\"totchol\", \"race_2\":\"race\"})\n",
    "\n",
    "## merge\n",
    "merged_tr = pd.concat([jhs_tr, mesa_tr])\n"
   ]
  },
  {
   "cell_type": "code",
   "execution_count": null,
   "id": "8e6405ed",
   "metadata": {},
   "outputs": [],
   "source": [
    "# test set\n",
    "\n",
    "## add the dif cols\n",
    "mesa_te[['y1', 'y2', 'y3']] = float('NAN')\n",
    "mesa_te[['dat']] = \"MESA\"\n",
    "jhs_te[['race']] = int(1)\n",
    "jhs_te[['dat']] = \"JHS\"\n",
    "\n",
    "\n",
    "## rename\n",
    "jhs_te = jhs_te.rename(columns={\"nbSESpc2score\": \"nSESscore\", \"y_tot\":\"y\"})\n",
    "mesa_te = mesa_te.rename(columns={\"idno\":\"subjid\", \"F3_PC2\": \"nSESscore\", \"cig1c\":\"currentSmoker\", \"diabet1\":\"Diabetes\", \n",
    "                                 \"gender1\":\"gender\", \"age1c\":\"age\", \"sbp1c\":\"sbp\", \"hdl1\":\"hdl\", \"chol1\":\"totchol\", \"race_2\":\"race\"})\n",
    "\n",
    "## merge\n",
    "merged_te = pd.concat([jhs_te, mesa_te])"
   ]
  },
  {
   "cell_type": "code",
   "execution_count": null,
   "id": "939ee36f",
   "metadata": {},
   "outputs": [],
   "source": [
    "# export \n",
    "merged_tr.to_csv('data/merged_tr.csv', index = False)  \n",
    "merged_te.to_csv('data/merged_te.csv', index = False)  "
   ]
  },
  {
   "cell_type": "markdown",
   "id": "c8c5ccd1",
   "metadata": {},
   "source": [
    "## merge mesa and jhs "
   ]
  },
  {
   "cell_type": "code",
   "execution_count": null,
   "id": "6413bc78",
   "metadata": {},
   "outputs": [],
   "source": [
    "jhs_tr =pd.read_csv(\"data/jhs_tr.csv\")\n",
    "jhs_te =pd.read_csv(\"data/jhs_te.csv\")\n",
    "\n",
    "mesa_tr =pd.read_csv(\"../mesa/code/plan_2/mesa_train_scale_noSMOTE.csv\")\n",
    "mesa_te =pd.read_csv(\"../mesa/code/plan_2/mesa_test_scale_noSMOTE.csv\")"
   ]
  },
  {
   "cell_type": "code",
   "execution_count": null,
   "id": "f96afbbe",
   "metadata": {},
   "outputs": [],
   "source": [
    "jhs_tr[['y_tot']].value_counts()"
   ]
  },
  {
   "cell_type": "code",
   "execution_count": null,
   "id": "6b3136f0",
   "metadata": {},
   "outputs": [],
   "source": [
    "jhs_te[['y_tot']].value_counts()"
   ]
  },
  {
   "cell_type": "code",
   "execution_count": null,
   "id": "f851cb10",
   "metadata": {},
   "outputs": [],
   "source": [
    "# export \n",
    "merged_tr.to_csv('data/merged_tr_nosmt.csv', index = False)  \n",
    "merged_te.to_csv('data/merged_te_nosmt.csv', index = False)  "
   ]
  },
  {
   "cell_type": "code",
   "execution_count": null,
   "id": "ec99ac15",
   "metadata": {},
   "outputs": [],
   "source": []
  }
 ],
 "metadata": {
  "kernelspec": {
   "display_name": "Python 3",
   "language": "python",
   "name": "python3"
  },
  "language_info": {
   "codemirror_mode": {
    "name": "ipython",
    "version": 3
   },
   "file_extension": ".py",
   "mimetype": "text/x-python",
   "name": "python",
   "nbconvert_exporter": "python",
   "pygments_lexer": "ipython3",
   "version": "3.8.3"
  }
 },
 "nbformat": 4,
 "nbformat_minor": 5
}
