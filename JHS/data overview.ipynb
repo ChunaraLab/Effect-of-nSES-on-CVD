{
 "cells": [
  {
   "cell_type": "code",
   "execution_count": null,
   "id": "f624909d",
   "metadata": {},
   "outputs": [],
   "source": [
    "import pandas as pd\n",
    "from collections import defaultdict\n",
    "import matplotlib.pyplot as plt\n",
    "import numpy as np\n",
    "import os\n",
    "import seaborn as sns\n",
    "import matplotlib.pyplot as plt\n",
    "from matplotlib import colors\n",
    "from matplotlib.ticker import PercentFormatter\n",
    "import seaborn as sns\n",
    "from statistics import variance\n",
    "from statistics import mean\n",
    "\n",
    "# calculate outcome y\n",
    "def get_outcome(df):\n",
    "    df['y'] = 0\n",
    "    df.loc[\n",
    "       (df['MIHx']==1.0) |\n",
    "       (df['strokeHx']==1.0) |\n",
    "       (df['CHDHx']==1.0)|\n",
    "       (df['CVDHx']==1.0),\n",
    "       'y'] = 1\n",
    "    return df"
   ]
  },
  {
   "cell_type": "code",
   "execution_count": null,
   "id": "4b61fee5",
   "metadata": {},
   "outputs": [],
   "source": [
    "### read in data"
   ]
  },
  {
   "cell_type": "code",
   "execution_count": null,
   "id": "2dc2553f",
   "metadata": {},
   "outputs": [],
   "source": [
    "df = pd.read_csv('data/common_data_jhs.csv')\n",
    "df_raw = pd.read_csv('data/jhs_data.csv')\n",
    "\n",
    "df_v1 = df[df[\"visit\"] == 1]\n",
    "df_v2 = df[df[\"visit\"] == 2]\n",
    "df_v3 = df[df[\"visit\"] == 3]"
   ]
  },
  {
   "cell_type": "code",
   "execution_count": null,
   "id": "2bb480bd",
   "metadata": {},
   "outputs": [],
   "source": [
    "### availability of nses and outcome"
   ]
  },
  {
   "cell_type": "code",
   "execution_count": null,
   "id": "1d167cef",
   "metadata": {},
   "outputs": [],
   "source": [
    "# data of outcome\n",
    "df_y_v1 = df_raw[df_raw[\"visit\"] == 1]\n",
    "df_y_v1 = get_outcome(df_y_v1)\n",
    "df_y_v1 = df_y_v1[['subjid','nbSESpc2score','y']]\n",
    "df_y_v1 = df_y_v1.rename(columns={\"y\": \"y1\"})\n",
    "\n",
    "df_y_v2 = df_raw[df_raw[\"visit\"] == 2]\n",
    "df_y_v2 = get_outcome(df_y_v2)\n",
    "df_y_v2 = df_y_v2[['subjid','y']]\n",
    "df_y_v2 = df_y_v2.rename(columns={\"y\": \"y2\"})\n",
    "\n",
    "df_y_v3 = df_raw[df_raw[\"visit\"] == 3]\n",
    "df_y_v3 = get_outcome(df_y_v3)\n",
    "df_y_v3 = df_y_v3[['subjid','y']]\n",
    "df_y_v3 = df_y_v3.rename(columns={\"y\": \"y3\"})"
   ]
  },
  {
   "cell_type": "code",
   "execution_count": null,
   "id": "65a62d3d",
   "metadata": {},
   "outputs": [],
   "source": [
    "merge1 = pd.merge(df_y_v1, df_y_v2)\n",
    "merged= pd.merge(merge1, df_y_v3)\n",
    "merged"
   ]
  },
  {
   "cell_type": "code",
   "execution_count": null,
   "id": "69b96507",
   "metadata": {},
   "outputs": [],
   "source": []
  },
  {
   "cell_type": "code",
   "execution_count": null,
   "id": "0b92380e",
   "metadata": {},
   "outputs": [],
   "source": [
    "### availability of covariates"
   ]
  },
  {
   "cell_type": "code",
   "execution_count": null,
   "id": "2348f9b1",
   "metadata": {},
   "outputs": [],
   "source": [
    "def CheckCovariate(covariate,df_v1=df_v1, df_v2=df_v2, df_v3=df_v3, iscategorical = True): \n",
    "    print(covariate)\n",
    "    nan_v1 = df_v1[covariate].isnull().sum()\n",
    "    nan_v2 = df_v2[covariate].isnull().sum()\n",
    "    nan_v3 = df_v3[covariate].isnull().sum()\n",
    "    \n",
    "    # categorical covariates\n",
    "    if iscategorical == True:\n",
    "        if nan_v1 < 1000:\n",
    "            print(\"#na in V1 =\",nan_v1,\"\\n\",\n",
    "                  df_v1[covariate].value_counts() / len(df_v1))\n",
    "        else:\n",
    "            print(\"#na in V1 =\",nan_v1,\"not available\")\n",
    "        \n",
    "        if nan_v2 < 1000:\n",
    "            print(\"#na in V2 =\",nan_v2,\"\\n\",\n",
    "                  df_v2[covariate].value_counts() / len(df_v2))\n",
    "        else:\n",
    "            print(\"#na in V2 =\",nan_v2,\"not available\")\n",
    "            \n",
    "        if nan_v3 < 1000:\n",
    "            print(\"#na in V3 =\",nan_v3,\"\\n\",\n",
    "                  df_v3[covariate].value_counts() / len(df_v3),'\\n')\n",
    "        else:\n",
    "            print(\"#na in V3 =\",nan_v3,\"not available\\n\")\n",
    "    \n",
    "    # continuous covariates\n",
    "    if iscategorical == False:\n",
    "        if nan_v1 < 1000:\n",
    "            print(df_v1[covariate].describe())\n",
    "                  \n",
    "        else:\n",
    "            print(\"#na in V1 =\",nan_v1,\"not available\")\n",
    "            \n",
    "        if nan_v2 < 1000:\n",
    "            print(\"#na in V2 =\",nan_v2,\"\\n\",\n",
    "                  \"mean =\", np.nanmean(df_v2[covariate]),\"\\n\",\n",
    "                 \"Variance =\", np.nanvar(df_v2[covariate]))\n",
    "        else:\n",
    "            print(\"#na in V2 =\",nan_v2,\"not available\")\n",
    "            \n",
    "        if nan_v3 < 1000:\n",
    "            print(\"#na in V3 =\",nan_v3,\"\\n\",\n",
    "                  \"mean =\", np.nanmean(df_v3[covariate]),\"\\n\",\n",
    "                 \"Variance =\", np.nanvar(df_v3[covariate]),'\\n')\n",
    "        else:\n",
    "            print(\"#na in V3 =\",nan_v3,\"not available\\n\")\n",
    "        "
   ]
  },
  {
   "cell_type": "code",
   "execution_count": null,
   "id": "6c503f48",
   "metadata": {},
   "outputs": [],
   "source": [
    "# categorical \n",
    "list(map(CheckCovariate, ['nSES','sex','currentSmoker','Diabetes']))"
   ]
  },
  {
   "cell_type": "code",
   "execution_count": null,
   "id": "cca630c5",
   "metadata": {},
   "outputs": [],
   "source": [
    "# continuous\n",
    "print(CheckCovariate('nbSESpc2score', iscategorical = False))\n",
    "print(CheckCovariate('age', iscategorical = False))\n",
    "print(CheckCovariate('sbp', iscategorical = False))\n",
    "print(CheckCovariate('totchol', iscategorical = False))\n",
    "print(CheckCovariate('hdl', iscategorical = False))"
   ]
  },
  {
   "cell_type": "code",
   "execution_count": null,
   "id": "0b90adfb",
   "metadata": {},
   "outputs": [],
   "source": [
    "# continuous nb features\n",
    "print(CheckCovariate('nbK3FavorFoodstore', iscategorical = False))\n",
    "print(CheckCovariate('nbK3paFacilities', iscategorical = False))\n",
    "print(CheckCovariate('nbpctResiden1mi', iscategorical = False))"
   ]
  },
  {
   "cell_type": "code",
   "execution_count": null,
   "id": "7f0daaec",
   "metadata": {},
   "outputs": [],
   "source": []
  },
  {
   "cell_type": "code",
   "execution_count": null,
   "id": "7cd4521d",
   "metadata": {},
   "outputs": [],
   "source": [
    "### plots ###"
   ]
  },
  {
   "cell_type": "code",
   "execution_count": null,
   "id": "96871a76",
   "metadata": {},
   "outputs": [],
   "source": []
  },
  {
   "cell_type": "code",
   "execution_count": null,
   "id": "f097cea8",
   "metadata": {},
   "outputs": [],
   "source": [
    "### thesis plots"
   ]
  },
  {
   "cell_type": "code",
   "execution_count": null,
   "id": "5dfdfb52",
   "metadata": {},
   "outputs": [],
   "source": [
    "df = pd.read_csv('data/jhs_raw_complete.csv')\n",
    "\n",
    "counts = df.groupby(['y_tot','Diabetes'])['subjid'].count()\n",
    "counts"
   ]
  },
  {
   "cell_type": "code",
   "execution_count": null,
   "id": "25d3b2b8",
   "metadata": {
    "scrolled": true
   },
   "outputs": [],
   "source": [
    "outcome = ['noCVD','CVD']\n",
    "no = [2518, 285]\n",
    "yes = [556, 176]\n",
    "\n",
    "plt.rcParams[\"figure.figsize\"] = (5,5)\n",
    "# Set position of bar on X axis\n",
    "barWidth = 0.1\n",
    "r1 = np.arange(len(outcome))\n",
    "r2 = r1+barWidth\n",
    "\n",
    "colors = ['#003F5B',\n",
    "          '#A05195']\n",
    "\n",
    "# Make the plot\n",
    "plt.bar(r1, height=no, color=colors[0], width=barWidth, edgecolor='white',label = 'no')\n",
    "plt.bar(r2, height=yes, color=colors[1], width=barWidth, edgecolor='white',label = 'yes')\n",
    "\n",
    "plt.legend()\n",
    "plt.xticks(r1 + barWidth/2, outcome)  \n",
    "plt.ylabel('frequency')  # 纵坐标轴标题\n",
    "plt.title('Diabetes distribution')\n",
    "\n",
    "\n",
    "plt.show()"
   ]
  },
  {
   "cell_type": "code",
   "execution_count": null,
   "id": "0aa46b24",
   "metadata": {},
   "outputs": [],
   "source": [
    "sns.boxplot(x='y_tot', y='totchol', data=df)\n",
    "plt.show()"
   ]
  },
  {
   "cell_type": "code",
   "execution_count": null,
   "id": "3d9f2d16",
   "metadata": {},
   "outputs": [],
   "source": []
  },
  {
   "cell_type": "code",
   "execution_count": null,
   "id": "216e3105",
   "metadata": {},
   "outputs": [],
   "source": []
  },
  {
   "cell_type": "code",
   "execution_count": null,
   "id": "b7b185ba",
   "metadata": {},
   "outputs": [],
   "source": [
    "# plot for age"
   ]
  },
  {
   "cell_type": "code",
   "execution_count": null,
   "id": "62a27c73",
   "metadata": {},
   "outputs": [],
   "source": [
    "df_v1.groupby('y').age.hist(bins[10, 20, 30, 40,50], bins)\n",
    "plt.show()"
   ]
  },
  {
   "cell_type": "code",
   "execution_count": null,
   "id": "c37a5b14",
   "metadata": {},
   "outputs": [],
   "source": [
    "import matplotlib.pyplot as xyz\n",
    "age_dat = df_v1['age']\n",
    "bins = [15,20,25,30,35,40,45,50,55,60,65,70,75,80,85,90,95]\n",
    "xyz.hist(age_dat, bins, histtype='bar',rwidth=0.9, color = \"skyblue\")\n",
    "counts, edges, bars = xyz.hist(age_dat, bins, histtype='bar',rwidth=0.9)\n",
    "plt.bar_label(bars)\n",
    "xyz.xlabel('age groups')\n",
    "xyz.ylabel('Number of people')\n",
    "xyz.title('JHS age distribution')\n",
    "xyz.show()"
   ]
  },
  {
   "cell_type": "code",
   "execution_count": null,
   "id": "e263a53a",
   "metadata": {},
   "outputs": [],
   "source": []
  },
  {
   "cell_type": "code",
   "execution_count": null,
   "id": "10d790c9",
   "metadata": {},
   "outputs": [],
   "source": [
    "#plot for gender"
   ]
  },
  {
   "cell_type": "code",
   "execution_count": null,
   "id": "4f23b896",
   "metadata": {},
   "outputs": [],
   "source": [
    "df_v1['sex'].value_counts().plot(kind='bar')\n",
    "xyz.xlabel('gender groups')\n",
    "xyz.ylabel('Number of people')\n",
    "xyz.title('JHS genderdistribution')\n",
    "plt.show()"
   ]
  },
  {
   "cell_type": "code",
   "execution_count": null,
   "id": "bbbc534a",
   "metadata": {},
   "outputs": [],
   "source": [
    "plt.bar(0, height=female, color=colors[0], width=barWidth, edgecolor='white',label = 'Feamle')\n",
    "plt.bar(1, height=male, color=colors[1], width=barWidth, edgecolor='white',label = 'Male')\n",
    " \n",
    "plt.ylabel('frequency')  # 纵坐标轴标题\n",
    "plt.title('gender distribution')\n",
    "\n",
    "\n",
    "plt.show()"
   ]
  },
  {
   "cell_type": "code",
   "execution_count": null,
   "id": "d7b8680d",
   "metadata": {},
   "outputs": [],
   "source": [
    "covar_v1 = df[df[\"visit\"] == 1]\n",
    "select_df = covar_v1[['subjid','sex','y']]\n",
    "count_gender=select_df.groupby(['y','sex'])['subjid'].count()\n",
    "count_gender\n"
   ]
  },
  {
   "cell_type": "code",
   "execution_count": null,
   "id": "4652e1e2",
   "metadata": {},
   "outputs": [],
   "source": [
    "outcome = ['noCVD','CVD']\n",
    "female = [2117, 172]\n",
    "male = [1154, 125]\n",
    "\n",
    "plt.rcParams[\"figure.figsize\"] = (5,5)\n",
    "# Set position of bar on X axis\n",
    "barWidth = 0.1\n",
    "r1 = np.arange(len(outcome))\n",
    "r2 = r1+barWidth\n",
    "\n",
    "colors = ['#003F5B',\n",
    "          '#A05195']\n",
    "\n",
    "# Make the plot\n",
    "plt.bar(r1, height=female, color=colors[0], width=barWidth, edgecolor='white',label = 'Feamle')\n",
    "plt.bar(r2, height=male, color=colors[1], width=barWidth, edgecolor='white',label = 'Male')\n",
    "\n",
    "plt.legend()\n",
    "plt.xticks(r1 + barWidth/2, outcome)  \n",
    "plt.ylabel('frequency')  # 纵坐标轴标题\n",
    "plt.title('gender distribution')\n",
    "\n",
    "\n",
    "plt.show()"
   ]
  },
  {
   "cell_type": "code",
   "execution_count": null,
   "id": "e83e6456",
   "metadata": {},
   "outputs": [],
   "source": [
    "select_df = covar_v1[['subjid','currentSmoker','y']]\n",
    "count_smoke=select_df.groupby(['y','currentSmoker'])['subjid'].count()\n",
    "count_smoke\n"
   ]
  },
  {
   "cell_type": "code",
   "execution_count": null,
   "id": "c47d623a",
   "metadata": {},
   "outputs": [],
   "source": [
    "outcome = ['noCVD','CVD']\n",
    "non_smoker = [2896, 252]\n",
    "smoker = [346, 45]\n",
    "\n",
    "#plot for gender\n",
    "\n",
    "plt.rcParams[\"figure.figsize\"] = (20,10)\n",
    "# Set position of bar on X axis\n",
    "barWidth = 0.3\n",
    "r1 = np.arange(len(outcome))\n",
    "r2 = r1+barWidth\n",
    "\n",
    "colors = ['#003F5B',\n",
    "          '#A05195']\n",
    "\n",
    "# Make the plot\n",
    "plt.bar(r1, height=non_smoker, color=colors[0], width=barWidth, edgecolor='white',label = 'non_smoker')\n",
    "plt.bar(r2, height=smoker, color=colors[1], width=barWidth, edgecolor='white',label = 'smoker')\n",
    "\n",
    "plt.legend()\n",
    "plt.xticks(r1 + barWidth/2, outcome)  \n",
    "plt.ylabel('frequency')  # 纵坐标轴标题\n",
    "plt.title('smoker distribution')\n",
    "\n",
    "\n",
    "plt.show()"
   ]
  },
  {
   "cell_type": "code",
   "execution_count": null,
   "id": "70911c13",
   "metadata": {},
   "outputs": [],
   "source": [
    "# Diabetes\n",
    "covar_v1 = df[df[\"visit\"] == 1]\n",
    "select_df = covar_v1[['subjid','Diabetes','y']]\n",
    "count_dbt=select_df.groupby(['y','Diabetes'])['subjid'].count()\n",
    "count_dbt"
   ]
  },
  {
   "cell_type": "code",
   "execution_count": null,
   "id": "ac206303",
   "metadata": {},
   "outputs": [],
   "source": [
    "outcome = ['noCVD','CVD']\n",
    "non_dbt = [2625, 178]\n",
    "dbt = [615, 117]\n",
    "\n",
    "plt.rcParams[\"figure.figsize\"] = (20,10)\n",
    "# Set position of bar on X axis\n",
    "barWidth = 0.3\n",
    "r1 = np.arange(len(outcome))\n",
    "r2 = r1+barWidth\n",
    "\n",
    "colors = ['#003F5B',\n",
    "          '#A05195']\n",
    "\n",
    "# Make the plot\n",
    "plt.bar(r1, height=non_dbt, color=colors[0], width=barWidth, edgecolor='white',label = 'no diabetes')\n",
    "plt.bar(r2, height=dbt, color=colors[1], width=barWidth, edgecolor='white',label = 'diabetes')\n",
    "\n",
    "plt.legend()\n",
    "plt.xticks(r1 + barWidth/2, outcome)  \n",
    "plt.ylabel('frequency')  # 纵坐标轴标题\n",
    "plt.title('diabetes distribution')\n",
    "\n",
    "\n",
    "plt.show()"
   ]
  },
  {
   "cell_type": "code",
   "execution_count": null,
   "id": "1dbe657d",
   "metadata": {},
   "outputs": [],
   "source": [
    "outcome = ['noCVD','CVD']\n",
    "\n",
    "subset = covar_v1[covar_v1['y'] == 1]\n",
    "    \n",
    "sns.distplot(subset['age'], hist = False, kde = True,\n",
    "                 kde_kws = {'linewidth': 3},\n",
    "                 label = 'CVD case')\n",
    "    \n",
    "# Plot formatting\n",
    "plt.legend(prop={'size': 16}, title = '')\n",
    "plt.title('Density Plot with Multiple Airlines')\n",
    "plt.xlabel('Delay (min)')\n",
    "plt.ylabel('Density')"
   ]
  },
  {
   "cell_type": "code",
   "execution_count": null,
   "id": "08f7096d",
   "metadata": {},
   "outputs": [],
   "source": [
    "outcome = ['noCVD','CVD']\n",
    "\n",
    "subset_1 = covar_v1[covar_v1['y'] == 1]\n",
    "subset_0 = covar_v1[covar_v1['y'] == 0]\n",
    "    \n",
    "sns.distplot(subset_1['age'], hist = False, kde = True,\n",
    "                 kde_kws = {'linewidth': 3},\n",
    "                 label = 'CVD case')\n",
    "sns.distplot(subset_0['age'], hist = False, kde = True,\n",
    "                 kde_kws = {'linewidth': 3},\n",
    "                 label = 'no CVD')\n",
    "\n",
    "plt.legend(prop={'size': 16}, title = '')\n",
    "\n",
    "plt.show()"
   ]
  },
  {
   "cell_type": "code",
   "execution_count": null,
   "id": "465c95a4",
   "metadata": {},
   "outputs": [],
   "source": [
    "sns.distplot(subset_1['sbp'], hist = False, kde = True,\n",
    "                 kde_kws = {'linewidth': 3},\n",
    "                 label = 'CVD case')\n",
    "sns.distplot(subset_0['sbp'], hist = False, kde = True,\n",
    "                 kde_kws = {'linewidth': 3},\n",
    "                 label = 'no CVD')\n",
    "\n",
    "plt.legend(prop={'size': 16}, title = '')\n",
    "\n",
    "plt.show()"
   ]
  },
  {
   "cell_type": "code",
   "execution_count": null,
   "id": "18f4a0ab",
   "metadata": {},
   "outputs": [],
   "source": [
    "sns.distplot(subset_1['hdl'], hist = False, kde = True,\n",
    "                 kde_kws = {'linewidth': 3},\n",
    "                 label = 'CVD case')\n",
    "sns.distplot(subset_0['hdl'], hist = False, kde = True,\n",
    "                 kde_kws = {'linewidth': 3},\n",
    "                 label = 'no CVD')\n",
    "\n",
    "plt.legend(prop={'size': 16}, title = '')\n",
    "\n",
    "plt.show()"
   ]
  },
  {
   "cell_type": "code",
   "execution_count": null,
   "id": "629f251e",
   "metadata": {},
   "outputs": [],
   "source": [
    "# totchol\n",
    "sns.distplot(subset_1['totchol'], hist = False, kde = True,\n",
    "                 kde_kws = {'linewidth': 3},\n",
    "                 label = 'CVD case')\n",
    "sns.distplot(subset_0['totchol'], hist = False, kde = True,\n",
    "                 kde_kws = {'linewidth': 3},\n",
    "                 label = 'no CVD')\n",
    "\n",
    "plt.legend(prop={'size': 16}, title = '')\n",
    "\n",
    "plt.show()"
   ]
  },
  {
   "cell_type": "code",
   "execution_count": null,
   "id": "531dad81",
   "metadata": {},
   "outputs": [],
   "source": [
    "# alcohol consumption\n",
    "df = pd.read_csv('data/common_data_jhs.csv')\n",
    "v1 = df[df[\"visit\"] == 1]\n",
    "print(v1)"
   ]
  },
  {
   "cell_type": "code",
   "execution_count": null,
   "id": "f0b3a05f",
   "metadata": {},
   "outputs": [],
   "source": [
    "alc_v1 = v1[['subjid','alc', 'alcw', 'nSES']]\n",
    "alc_v1.isna().sum()\n",
    "alc_low_nses = alc_v1[alc_v1[\"nSES\"] == 0]\n",
    "alc_high_nses = alc_v1[alc_v1[\"nSES\"] == 1]\n",
    "alc_low_nses"
   ]
  },
  {
   "cell_type": "code",
   "execution_count": null,
   "id": "0a41ed40",
   "metadata": {},
   "outputs": [],
   "source": [
    "# alc info missing in each subgroup\n",
    "alc_low_nses.isnull().sum()\n",
    "alc_high_nses.isnull().sum()"
   ]
  },
  {
   "cell_type": "code",
   "execution_count": null,
   "id": "e4aefd4d",
   "metadata": {},
   "outputs": [],
   "source": [
    "# replace na with 2\n",
    "alc_v1['alc'].fillna(value=2, inplace=True)"
   ]
  },
  {
   "cell_type": "code",
   "execution_count": null,
   "id": "e0efa5ca",
   "metadata": {},
   "outputs": [],
   "source": [
    "# alc\n",
    "na_alc = v1[v1.isnull()['alc']]\n",
    "\n",
    "select_df = alc_v1[['subjid','alc','nSES']]\n",
    "count_alc=select_df.groupby(['nSES','alc'])['subjid'].count()\n",
    "print(count_alc)\n"
   ]
  },
  {
   "cell_type": "code",
   "execution_count": null,
   "id": "514068ec",
   "metadata": {},
   "outputs": [],
   "source": [
    "subgroup = ['low_nSES','high_nSES']\n",
    "alc_na = [8, 7]\n",
    "alc_response = [1981, 1572]\n",
    "\n",
    "plt.rcParams[\"figure.figsize\"] = (20,10)\n",
    "# Set position of bar on X axis\n",
    "barWidth = 0.3\n",
    "r1 = np.arange(len(subgroup))\n",
    "r2 = r1+barWidth\n",
    "\n",
    "colors = ['#003F5B',\n",
    "          '#A05195']\n",
    "\n",
    "# Make the plot\n",
    "plt.bar(r1, height=alc_na, color=colors[0], width=barWidth, edgecolor='white',label = 'alc missing')\n",
    "plt.bar(r2, height=alc_response, color=colors[1], width=barWidth, edgecolor='white',label = 'alc response')\n",
    "\n",
    "plt.legend()\n",
    "plt.xticks(r1 + barWidth/2, subgroup)  \n",
    "plt.ylabel('frequency')  # 纵坐标轴标题\n",
    "plt.title('distribution of alcohol info missing')\n",
    "\n",
    "\n",
    "plt.show()"
   ]
  },
  {
   "cell_type": "code",
   "execution_count": null,
   "id": "e48ee7e4",
   "metadata": {},
   "outputs": [],
   "source": [
    "# raw data\n",
    "df.raw = pd.read_csv('data/jhs_data.csv')\n",
    "v1_raw = df.raw[df.raw[\"visit\"] == 1]"
   ]
  },
  {
   "cell_type": "code",
   "execution_count": null,
   "id": "4dac6418",
   "metadata": {},
   "outputs": [],
   "source": [
    "alc_v1 = v1_raw[['subjid','alc', 'alcw', 'nSES']]\n",
    "alc_v1.isna().sum()\n",
    "alc_low_nses = alc_v1[alc_v1[\"nSES\"] == 0]\n",
    "alc_high_nses = alc_v1[alc_v1[\"nSES\"] == 1]\n",
    "alc_low_nses"
   ]
  },
  {
   "cell_type": "code",
   "execution_count": null,
   "id": "5c7d89c0",
   "metadata": {},
   "outputs": [],
   "source": [
    "# alc info missing in each subgroup\n",
    "alc_low_nses.isnull().sum()\n",
    "alc_high_nses.isnull().sum()"
   ]
  },
  {
   "cell_type": "code",
   "execution_count": null,
   "id": "5b72fcf5",
   "metadata": {},
   "outputs": [],
   "source": [
    "# check which covariates are available across several visits\n",
    "\n",
    "## visit 2\n",
    "covar_v2 = df[df[\"visit\"] == 2]"
   ]
  },
  {
   "cell_type": "code",
   "execution_count": null,
   "id": "6577bd25",
   "metadata": {},
   "outputs": [],
   "source": [
    "covar_v2"
   ]
  },
  {
   "cell_type": "code",
   "execution_count": null,
   "id": "0e66cabb",
   "metadata": {},
   "outputs": [],
   "source": [
    "covar_v2 = covar_v2[['age', 'currentSmoker', 'sbp', 'Diabetes', 'hdl', 'totchol']]"
   ]
  },
  {
   "cell_type": "code",
   "execution_count": null,
   "id": "dbea0f3f",
   "metadata": {},
   "outputs": [],
   "source": [
    "covar_v2.isnull().sum()"
   ]
  },
  {
   "cell_type": "code",
   "execution_count": null,
   "id": "2d8fca4f",
   "metadata": {},
   "outputs": [],
   "source": [
    "## visit 2\n",
    "covar_v3 = df[df[\"visit\"] == 3]\n",
    "covar_v3 = covar_v3[['age',  'currentSmoker', 'sbp', 'Diabetes', 'hdl', 'totchol']]\n",
    "covar_v3"
   ]
  },
  {
   "cell_type": "code",
   "execution_count": null,
   "id": "f40d0466",
   "metadata": {},
   "outputs": [],
   "source": [
    "covar_v3.isnull().sum()"
   ]
  },
  {
   "cell_type": "code",
   "execution_count": null,
   "id": "8d8f30e3",
   "metadata": {},
   "outputs": [],
   "source": []
  },
  {
   "cell_type": "code",
   "execution_count": null,
   "id": "b564e876",
   "metadata": {},
   "outputs": [],
   "source": []
  },
  {
   "cell_type": "code",
   "execution_count": null,
   "id": "00301739",
   "metadata": {},
   "outputs": [],
   "source": [
    "### plot for nb features"
   ]
  },
  {
   "cell_type": "code",
   "execution_count": null,
   "id": "c520a27b",
   "metadata": {},
   "outputs": [],
   "source": [
    "## nbK3FavorFoodstore\n",
    "\n",
    "subset_1 = covar_v1[covar_v1['nSES'] == 1]\n",
    "subset_0 = covar_v1[covar_v1['nSES'] == 0]\n",
    "    \n",
    "sns.distplot(subset_1['nbK3FavorFoodstore'], hist = False, kde = True,\n",
    "                 kde_kws = {'linewidth': 3},\n",
    "                 label = 'high nSES')\n",
    "sns.distplot(subset_0['nbK3FavorFoodstore'], hist = False, kde = True,\n",
    "                 kde_kws = {'linewidth': 3},\n",
    "                 label = 'low nSES')\n",
    "\n",
    "plt.legend(prop={'size': 16}, title = '')\n",
    "plt.xlabel(\"Favorable Food Stores\", size=20)\n",
    "plt.ylabel(\"Density\", size=20)\n",
    "plt.tick_params(axis='both', which='major', labelsize=16)\n",
    "\n",
    "plt.show()"
   ]
  },
  {
   "cell_type": "code",
   "execution_count": null,
   "id": "f40fbada",
   "metadata": {},
   "outputs": [],
   "source": [
    "## nbK3paFacilities\n",
    "\n",
    "subset_1 = covar_v1[covar_v1['nSES'] == 1]\n",
    "subset_0 = covar_v1[covar_v1['nSES'] == 0]\n",
    "    \n",
    "sns.distplot(subset_1['nbK3paFacilities'], hist = False, kde = True,\n",
    "                 kde_kws = {'linewidth': 3},\n",
    "                 label = 'high nSES')\n",
    "sns.distplot(subset_0['nbK3paFacilities'], hist = False, kde = True,\n",
    "                 kde_kws = {'linewidth': 3},\n",
    "                 label = 'low nSES')\n",
    "\n",
    "plt.legend(prop={'size': 16}, title = '')\n",
    "plt.xlabel(\"Physical Activity Facilities \", size=20)\n",
    "plt.ylabel(\"Density\", size=20)\n",
    "plt.tick_params(axis='both', which='major', labelsize=16)\n",
    "\n",
    "plt.show()"
   ]
  },
  {
   "cell_type": "code",
   "execution_count": null,
   "id": "5e26442e",
   "metadata": {},
   "outputs": [],
   "source": [
    "## nbpctResiden1mi\n",
    "\n",
    "subset_1 = covar_v1[covar_v1['nSES'] == 1]\n",
    "subset_0 = covar_v1[covar_v1['nSES'] == 0]\n",
    "    \n",
    "sns.distplot(subset_1['nbpctResiden1mi'], hist = False, kde = True,\n",
    "                 kde_kws = {'linewidth': 3},\n",
    "                 label = 'high nSES')\n",
    "sns.distplot(subset_0['nbpctResiden1mi'], hist = False, kde = True,\n",
    "                 kde_kws = {'linewidth': 3},\n",
    "                 label = 'low nSES')\n",
    "\n",
    "plt.legend(prop={'size': 16}, title = '')\n",
    "plt.xlabel(\"Percent Residential Land Use (per Square Mile)\", size=20)\n",
    "plt.ylabel(\"Density\", size=20)\n",
    "plt.tick_params(axis='both', which='major', labelsize=16)\n",
    "\n",
    "plt.show()"
   ]
  },
  {
   "cell_type": "code",
   "execution_count": null,
   "id": "1cf98609",
   "metadata": {},
   "outputs": [],
   "source": [
    "nb_df = pd.read_csv('data/jhs_nb_gcomputation.csv')"
   ]
  },
  {
   "cell_type": "code",
   "execution_count": null,
   "id": "ba3076dd",
   "metadata": {},
   "outputs": [],
   "source": [
    "select_df = nb_df[['subjid','nSES','nFood','nFac','nRes']]\n",
    "count_food=select_df.groupby(['nSES','nFood'])['subjid'].count()\n",
    "print(count_food)\n",
    "\n",
    "count_fac=select_df.groupby(['nSES','nFac'])['subjid'].count()\n",
    "print(count_fac)\n",
    "\n",
    "count_res=select_df.groupby(['nSES','nRes'])['subjid'].count()\n",
    "print(count_res)"
   ]
  },
  {
   "cell_type": "code",
   "execution_count": null,
   "id": "73fdfc4f",
   "metadata": {},
   "outputs": [],
   "source": [
    "outcome = ['low nSES','high nSES']\n",
    "low_res = [746, 777]\n",
    "high_res = [1243, 802]\n",
    "\n",
    "plt.rcParams[\"figure.figsize\"] = (5,5)\n",
    "# Set position of bar on X axis\n",
    "barWidth = 0.1\n",
    "r1 = np.arange(len(outcome))\n",
    "r2 = r1+barWidth\n",
    "\n",
    "colors = ['#003F5B',\n",
    "          '#A05195']\n",
    "\n",
    "# Make the plot\n",
    "plt.bar(r1, height=low_res, color=colors[0], width=barWidth, edgecolor='white',label = 'low_res')\n",
    "plt.bar(r2, height=high_res, color=colors[1], width=barWidth, edgecolor='white',label = 'high_res')\n",
    "\n",
    "plt.legend()\n",
    "plt.xticks(r1 + barWidth/2, outcome)  \n",
    "plt.ylabel('frequency')  # 纵坐标轴标题\n",
    "plt.title('nRes distribution by nSES')\n",
    "\n",
    "\n",
    "plt.show()"
   ]
  }
 ],
 "metadata": {
  "kernelspec": {
   "display_name": "Python 3",
   "language": "python",
   "name": "python3"
  },
  "language_info": {
   "codemirror_mode": {
    "name": "ipython",
    "version": 3
   },
   "file_extension": ".py",
   "mimetype": "text/x-python",
   "name": "python",
   "nbconvert_exporter": "python",
   "pygments_lexer": "ipython3",
   "version": "3.8.3"
  }
 },
 "nbformat": 4,
 "nbformat_minor": 5
}
