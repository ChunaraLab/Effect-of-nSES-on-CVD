{
 "cells": [
  {
   "cell_type": "markdown",
   "id": "25df1f34",
   "metadata": {},
   "source": [
    "## Prep"
   ]
  },
  {
   "cell_type": "code",
   "execution_count": null,
   "id": "fd23eb08",
   "metadata": {},
   "outputs": [],
   "source": [
    "import pandas as pd\n",
    "from collections import defaultdict\n",
    "import matplotlib.pyplot as plt\n",
    "import numpy as np\n",
    "import os\n",
    "from sklearn.preprocessing import StandardScaler\n",
    "import warnings\n",
    "import seaborn as sns\n",
    "\n",
    "\n",
    "warnings.filterwarnings('ignore')\n",
    "pd.options.display.max_columns = None\n",
    "pd.options.display.max_rows = None"
   ]
  },
  {
   "cell_type": "code",
   "execution_count": null,
   "id": "c6108e94",
   "metadata": {},
   "outputs": [],
   "source": [
    "dat = pd.read_csv(\"data/processed/jhs_preprocess_0914.csv\")"
   ]
  },
  {
   "cell_type": "code",
   "execution_count": null,
   "id": "131c7571",
   "metadata": {},
   "outputs": [],
   "source": [
    "# recode outcome Y\n",
    "\n",
    "dat_v1 = dat[dat['visit'] == 1]\n",
    "dat_v2 = dat.loc[dat['visit'] == 2, ['subjid','y']].rename(columns={'y': 'y2'})\n",
    "dat_v3 = dat.loc[dat['visit'] == 3, ['subjid','y']].rename(columns={'y': 'y3'})\n",
    "\n",
    "merged_df = pd.merge(dat_v1, dat_v2, on='subjid')\n",
    "merged_df = pd.merge(merged_df, dat_v3, on='subjid')\n",
    "\n",
    "merged_df['y_tot'] = (merged_df['y'] | merged_df['y2'] | merged_df['y3']).astype(int)"
   ]
  },
  {
   "cell_type": "code",
   "execution_count": null,
   "id": "abe91021",
   "metadata": {},
   "outputs": [],
   "source": [
    "# rename variables\n",
    "\n",
    "dat_plt = merged_df[['y_tot', 'nbSESpc2score', 'N_UNFAV_CT00', 'nbK3paFacilities', 'G_bla_rk', 'nutrition3cat', 'PA3cat']]\n",
    "dat_plt = dat_plt.rename(columns = {'y_tot': 'Y  ', \n",
    "                                    'nbSESpc2score': 'Nb SES',\n",
    "                                    'N_UNFAV_CT00': 'Nb unf food store', \n",
    "                                    'nbK3paFacilities': 'Nb phys act fac', \n",
    "                                    'G_bla_rk': 'Nb rac seg (Black)', \n",
    "                                    'nutrition3cat': 'Ind nut categ', \n",
    "                                    'PA3cat': 'Ind phys act categ'})"
   ]
  },
  {
   "cell_type": "code",
   "execution_count": null,
   "id": "4982bf5e",
   "metadata": {},
   "outputs": [],
   "source": []
  },
  {
   "cell_type": "markdown",
   "id": "5f5013b9",
   "metadata": {},
   "source": [
    "## Plot"
   ]
  },
  {
   "cell_type": "markdown",
   "id": "1098ce17",
   "metadata": {},
   "source": [
    "### as continuous variables"
   ]
  },
  {
   "cell_type": "code",
   "execution_count": null,
   "id": "0e2f26c7",
   "metadata": {},
   "outputs": [],
   "source": [
    "from scipy.stats import pearsonr\n",
    "df = dat_plt.copy()"
   ]
  },
  {
   "cell_type": "code",
   "execution_count": null,
   "id": "e3645f9e",
   "metadata": {},
   "outputs": [],
   "source": [
    "correlation_matrix = df.corr(method = 'pearson')\n",
    "p_values = pd.DataFrame(index=df.columns, columns=df.columns, dtype=float)\n",
    "\n",
    "for col1 in df.columns:\n",
    "    for col2 in df.columns:\n",
    "        if col1 != col2:\n",
    "            r, p = pearsonr(df[col1], df[col2])\n",
    "            p_values.loc[col1, col2] = p\n",
    "\n",
    "# Create a heatmap of the correlation matrix\n",
    "plt.figure(figsize=(80, 60))\n",
    "sns.set(font_scale=14)  # Adjust font size for better visibility\n",
    "sns.heatmap(correlation_matrix, annot=False, fmt=\".2f\", cmap=\"Greens\", cbar=True,\n",
    "            xticklabels=correlation_matrix.columns, yticklabels=correlation_matrix.columns)\n",
    "\n",
    "# Annotate the heatmap with p-values\n",
    "for i in range(len(correlation_matrix.columns)):\n",
    "    for j in range(len(correlation_matrix.columns)):\n",
    "        if i != j:\n",
    "            if p_values.iloc[i, j] < 0.05:\n",
    "                text = f\"*\"  \n",
    "            else:\n",
    "                text = f\"\" #p={p_values.iloc[i, j]:.2f}\n",
    "                \n",
    "            plt.text(j + 0.5, i + 0.5, text, ha=\"center\", va=\"center\", fontsize=115)\n",
    "\n",
    "plt.show()\n",
    "\n",
    " "
   ]
  },
  {
   "cell_type": "code",
   "execution_count": null,
   "id": "96310259",
   "metadata": {},
   "outputs": [],
   "source": [
    "# another version\n",
    "corr_matrix = df.corr(method='pearson')\n",
    "plt.figure(figsize=(8, 6))\n",
    "sns.heatmap(corr_matrix, annot=True, cmap='coolwarm', fmt=\".2f\", linewidths=0.5)\n",
    "plt.title(\"pearson's Correlation Matrix\")\n",
    "plt.show()"
   ]
  },
  {
   "cell_type": "code",
   "execution_count": null,
   "id": "85237ddd",
   "metadata": {},
   "outputs": [],
   "source": []
  },
  {
   "cell_type": "markdown",
   "id": "069e8060",
   "metadata": {},
   "source": [
    "### as ordinal categorical variables"
   ]
  },
  {
   "cell_type": "code",
   "execution_count": null,
   "id": "4f620101",
   "metadata": {},
   "outputs": [],
   "source": [
    "df_ordinal = dat_plt.iloc[:, 1:5].copy().astype(int)\n",
    "df_ordinal.dtypes"
   ]
  },
  {
   "cell_type": "code",
   "execution_count": null,
   "id": "0f280cd3",
   "metadata": {},
   "outputs": [],
   "source": [
    "corr_matrix = df_ordinal.corr(method='spearman')\n",
    "plt.figure(figsize=(8, 6))\n",
    "sns.heatmap(corr_matrix, annot=True, cmap='coolwarm', fmt=\".2f\", linewidths=0.5)\n",
    "plt.title(\"Spearman's Rank-Order Correlation Matrix\")\n",
    "plt.show()"
   ]
  },
  {
   "cell_type": "code",
   "execution_count": null,
   "id": "9afd5a9c",
   "metadata": {},
   "outputs": [],
   "source": [
    "# converting to categorical doesn't work for df.corr\n",
    "\n",
    "cols_to_convert = ['Nb SES', 'Nb unf food store','Nb phys act fac', 'Nb rac seg (Black)',\n",
    "                   'Ind nut categ','Ind phys act categ']\n",
    "df_ordinal[cols_to_convert] = df_ordinal[cols_to_convert].astype('category')\n"
   ]
  }
 ],
 "metadata": {
  "kernelspec": {
   "display_name": "Python 3",
   "language": "python",
   "name": "python3"
  },
  "language_info": {
   "codemirror_mode": {
    "name": "ipython",
    "version": 3
   },
   "file_extension": ".py",
   "mimetype": "text/x-python",
   "name": "python",
   "nbconvert_exporter": "python",
   "pygments_lexer": "ipython3",
   "version": "3.8.3"
  }
 },
 "nbformat": 4,
 "nbformat_minor": 5
}
