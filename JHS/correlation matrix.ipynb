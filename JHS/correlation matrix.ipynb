{
 "cells": [
  {
   "cell_type": "markdown",
   "id": "073d3deb",
   "metadata": {},
   "source": [
    "## Prep"
   ]
  },
  {
   "cell_type": "code",
   "execution_count": null,
   "id": "dfd02c98",
   "metadata": {},
   "outputs": [],
   "source": [
    "import pandas as pd\n",
    "from collections import defaultdict\n",
    "import matplotlib.pyplot as plt\n",
    "import numpy as np\n",
    "import os\n",
    "from sklearn.preprocessing import StandardScaler\n",
    "import warnings\n",
    "import seaborn as sns\n",
    "\n",
    "\n",
    "warnings.filterwarnings('ignore')\n",
    "pd.options.display.max_columns = None\n",
    "pd.options.display.max_rows = None"
   ]
  },
  {
   "cell_type": "code",
   "execution_count": null,
   "id": "8a7211b9",
   "metadata": {},
   "outputs": [],
   "source": [
    "dat_v1 = dat[dat['visit'] == 1]\n",
    "dat_v2 = dat.loc[dat['visit'] == 2, ['subjid','y']].rename(columns={'y': 'y2'})\n",
    "dat_v3 = dat.loc[dat['visit'] == 3, ['subjid','y']].rename(columns={'y': 'y3'})\n",
    "\n",
    "merged_df = pd.merge(dat_v1, dat_v2, on='subjid')\n",
    "merged_df = pd.merge(merged_df, dat_v3, on='subjid')\n",
    "\n",
    "merged_df['y_tot'] = (merged_df['y'] | merged_df['y2'] | merged_df['y3']).astype(int)\n",
    "\n",
    "dat_plt = merged_df[['y_tot', 'nbSESpc2score', 'N_UNFAV_CT00', 'nbK3paFacilities', 'G_bla_rk', 'nutrition3cat', 'PA3cat']]\n",
    "dat_plt = dat_plt.rename(columns = {'y_tot': 'Y', \n",
    "                                    'nbSESpc2score': 'nb SES',\n",
    "                                    'N_UNFAV_CT00': 'nb Unfavorable Food Store', \n",
    "                                    'nbK3paFacilities': 'nb Physical Activity Facilities', \n",
    "                                    'G_bla_rk': 'nb Racial Segregation (Black)', \n",
    "                                    'nutrition3cat': 'ind Nutrition Cate', \n",
    "                                    'PA3cat': 'ind Physical Activity Cate'})\n"
   ]
  },
  {
   "cell_type": "markdown",
   "id": "1498a0ba",
   "metadata": {},
   "source": [
    "## Plot"
   ]
  },
  {
   "cell_type": "code",
   "execution_count": null,
   "id": "75290095",
   "metadata": {},
   "outputs": [],
   "source": [
    "correlation_matrix = dat_plt.corr()\n",
    "\n",
    "plt.figure(figsize=(8, 6))  \n",
    "\n",
    "sns.heatmap(correlation_matrix, cmap=\"Greens\", square=True, xticklabels=True)\n",
    "\n",
    "plt.title('Correlation Matrix')\n",
    "plt.show()"
   ]
  }
 ],
 "metadata": {
  "kernelspec": {
   "display_name": "Python 3",
   "language": "python",
   "name": "python3"
  },
  "language_info": {
   "codemirror_mode": {
    "name": "ipython",
    "version": 3
   },
   "file_extension": ".py",
   "mimetype": "text/x-python",
   "name": "python",
   "nbconvert_exporter": "python",
   "pygments_lexer": "ipython3",
   "version": "3.8.3"
  }
 },
 "nbformat": 4,
 "nbformat_minor": 5
}
