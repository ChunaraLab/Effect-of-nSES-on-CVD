{
 "cells": [
  {
   "cell_type": "markdown",
   "id": "0770d8cb",
   "metadata": {},
   "source": [
    "## Prep"
   ]
  },
  {
   "cell_type": "code",
   "execution_count": null,
   "id": "f7f69875",
   "metadata": {},
   "outputs": [],
   "source": [
    "import pandas as pd\n",
    "from collections import defaultdict\n",
    "import matplotlib.pyplot as plt\n",
    "import numpy as np\n",
    "import os\n",
    "from sklearn.preprocessing import StandardScaler\n",
    "import warnings\n",
    "import seaborn as sns\n",
    "\n",
    "\n",
    "warnings.filterwarnings('ignore')\n",
    "pd.options.display.max_columns = None\n",
    "pd.options.display.max_rows = None"
   ]
  },
  {
   "cell_type": "code",
   "execution_count": null,
   "id": "4540e89a",
   "metadata": {},
   "outputs": [],
   "source": [
    "dat = pd.read_csv(\"data/processed/jhs_preprocess_0914.csv\")\n",
    "\n",
    "dat_v1 = dat[dat['visit'] == 1]\n",
    "dat_v2 = dat.loc[dat['visit'] == 2, ['subjid','y']].rename(columns={'y': 'y2'})\n",
    "dat_v3 = dat.loc[dat['visit'] == 3, ['subjid','y']].rename(columns={'y': 'y3'})\n",
    "\n",
    "merged_df = pd.merge(dat_v1, dat_v2, on='subjid')\n",
    "merged_df = pd.merge(merged_df, dat_v3, on='subjid')\n",
    "\n",
    "merged_df['y_tot'] = (merged_df['y'] | merged_df['y2'] | merged_df['y3']).astype(int)\n",
    "\n",
    "dat_plt = merged_df[['y_tot', 'nbSESpc2score', 'N_UNFAV_CT00', 'nbK3paFacilities', 'G_bla_rk', 'nutrition3cat', 'PA3cat']]\n",
    "dat_plt = dat_plt.rename(columns = {'y_tot': 'Y  ', \n",
    "                                    'nbSESpc2score': 'Nb SES',\n",
    "                                    'N_UNFAV_CT00': 'Nb unf food store', \n",
    "                                    'nbK3paFacilities': 'Nb phys act fac', \n",
    "                                    'G_bla_rk': 'Nb rac seg (Black)', \n",
    "                                    'nutrition3cat': 'Ind nut categ', \n",
    "                                    'PA3cat': 'Ind phys act categ'})\n"
   ]
  },
  {
   "cell_type": "markdown",
   "id": "2c92bddf",
   "metadata": {},
   "source": [
    "## Plot"
   ]
  },
  {
   "cell_type": "code",
   "execution_count": null,
   "id": "f34c7d94",
   "metadata": {},
   "outputs": [],
   "source": [
    "from scipy.stats import pearsonr\n",
    "df = dat_plt.copy()\n",
    "\n",
    "correlation_matrix = df.corr()\n",
    "p_values = pd.DataFrame(index=df.columns, columns=df.columns, dtype=float)\n",
    "\n",
    "for col1 in df.columns:\n",
    "    for col2 in df.columns:\n",
    "        if col1 != col2:\n",
    "            r, p = pearsonr(df[col1], df[col2])\n",
    "            p_values.loc[col1, col2] = p\n",
    "\n",
    "# Create a heatmap of the correlation matrix\n",
    "plt.figure(figsize=(80, 60))\n",
    "sns.set(font_scale=14)  # Adjust font size for better visibility\n",
    "sns.heatmap(correlation_matrix, annot=False, fmt=\".2f\", cmap=\"Greens\", cbar=True,\n",
    "            xticklabels=correlation_matrix.columns, yticklabels=correlation_matrix.columns)\n",
    "\n",
    "# Annotate the heatmap with p-values\n",
    "for i in range(len(correlation_matrix.columns)):\n",
    "    for j in range(len(correlation_matrix.columns)):\n",
    "        if i != j:\n",
    "            if p_values.iloc[i, j] < 0.05:\n",
    "                text = f\"p={p_values.iloc[i, j]:.2f}*\"  \n",
    "            else:\n",
    "                text = f\"p={p_values.iloc[i, j]:.2f}\" #\n",
    "                \n",
    "            plt.text(j + 0.5, i + 0.5, text, ha=\"center\", va=\"center\", fontsize=115)\n",
    "\n",
    "plt.show()\n",
    "\n",
    " "
   ]
  }
 ],
 "metadata": {
  "kernelspec": {
   "display_name": "Python 3",
   "language": "python",
   "name": "python3"
  },
  "language_info": {
   "codemirror_mode": {
    "name": "ipython",
    "version": 3
   },
   "file_extension": ".py",
   "mimetype": "text/x-python",
   "name": "python",
   "nbconvert_exporter": "python",
   "pygments_lexer": "ipython3",
   "version": "3.8.3"
  }
 },
 "nbformat": 4,
 "nbformat_minor": 5
}
