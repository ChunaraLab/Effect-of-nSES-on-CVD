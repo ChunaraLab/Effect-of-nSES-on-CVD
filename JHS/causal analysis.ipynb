{
 "cells": [
  {
   "cell_type": "markdown",
   "id": "16332857",
   "metadata": {},
   "source": [
    "## Prep"
   ]
  },
  {
   "cell_type": "code",
   "execution_count": null,
   "id": "0ae186f3",
   "metadata": {},
   "outputs": [],
   "source": [
    "%matplotlib inline\n",
    "\n",
    "# Importing libraries \n",
    "import numpy as np\n",
    "import pandas as pd\n",
    "import statsmodels.api as sm\n",
    "import statsmodels.formula.api as smf\n",
    "import matplotlib\n",
    "import matplotlib.pyplot as plt\n",
    "\n",
    "\n",
    "np.random.seed(987)\n",
    "\n",
    "print(\"numpy      \", np.__version__)\n",
    "print(\"pandas     \", pd.__version__)\n",
    "print(\"statsmodels\", sm.__version__)\n",
    "print(\"matplotlib \", matplotlib.__version__)\n",
    "import warnings\n",
    "warnings.filterwarnings('ignore')"
   ]
  },
  {
   "cell_type": "code",
   "execution_count": null,
   "id": "b1edfeef",
   "metadata": {},
   "outputs": [],
   "source": [
    "## Read preprocessed data\n",
    "\n",
    "dat = pd.read_csv(\"data/jhs_complete_processed.csv\")\n",
    "dat_v1 = dat[dat['visit'] == 1]\n",
    "dat_v2 = dat.loc[dat['visit'] == 2, ['subjid','y']].rename(columns={'y': 'y2'})\n",
    "dat_v3 = dat.loc[dat['visit'] == 3, ['subjid','y']].rename(columns={'y': 'y3'})\n",
    "\n",
    "merged_df = pd.merge(dat_v1, dat_v2, on='subjid')\n",
    "merged_df = pd.merge(merged_df, dat_v3, on='subjid')\n",
    "\n",
    "# calculate Y\n",
    "def get_Y_tot(df):\n",
    "    df['y_tot'] = 0\n",
    "    df.loc[\n",
    "       (df['y']==1) |\n",
    "       (df['y2']==1) |\n",
    "       (df['y3']==1),\n",
    "       'y_tot'] = 1\n",
    "    return df\n",
    "merged_df = get_Y_tot(merged_df)\n",
    "\n",
    "data = merged_df"
   ]
  },
  {
   "cell_type": "code",
   "execution_count": null,
   "id": "0616e6e0",
   "metadata": {},
   "outputs": [],
   "source": [
    "## Select appropriate columns. \n",
    "data = data[['y_tot','nbSESpc2score', 'nbK3paFacilities','N_UNFAV_CT00', \n",
    "                   'sportIndex','hyIndex','activeIndex','darkgrnVeg', 'eggs','fish', \n",
    "                   'age','gender', 'currentSmoker', 'Diabetes','sbp','hdl','totchol']].copy()\n",
    "data = data.rename(columns={\"y_tot\": \"y\"})\n",
    "data.head()"
   ]
  },
  {
   "cell_type": "code",
   "execution_count": null,
   "id": "a30ed7c0",
   "metadata": {},
   "outputs": [],
   "source": [
    "## combine nb effects?\n",
    "\n",
    "## check sample size n\n",
    "dis_sesfood = len(data.loc[(data['nbSESpc2score'] == 4.0) & (data['N_UNFAV_CT00'] == 4.0)]) \n",
    "ad_sesfood = len(data.loc[(data['nbSESpc2score'] == 1.0) & (data['N_UNFAV_CT00'] == 1.0)])\n",
    "dis_sesfac = len(data.loc[(data['nbSESpc2score'] == 4.0) & (data['nbK3paFacilities'] == 1.0)]) \n",
    "ad_sesfac = len(data.loc[(data['nbSESpc2score'] == 1.0) & (data['nbK3paFacilities'] == 4.0)])\n",
    "\n",
    "print(\"Sample size of nb SES&Food is {} for disadvantaged nb, {} for advantaged nb\".format(dis_sesfood,ad_sesfood),\"\\n\"\n",
    "     \"Sample size of nb SES&Fac is {} for disadvantaged nb, {} for advantaged nb\".format(dis_sesfac,ad_sesfac))\n",
    "\n",
    "combination_counts = data.groupby(['nbSESpc2score', 'nbK3paFacilities']).size().reset_index(name='Count')\n",
    "print(combination_counts)"
   ]
  },
  {
   "cell_type": "code",
   "execution_count": null,
   "id": "525a313d",
   "metadata": {},
   "outputs": [],
   "source": [
    "## CI function\n",
    "\n",
    "def bootstrap_ci(treatment, formula_ps, formula_outcome, data, nb, ate, method,multilevel):\n",
    "    '''\n",
    "    Input: \n",
    "    treatment - column_name\n",
    "    formula_ps - Regression formula for the propensity score model\n",
    "    formula_outcome - Regression formula for the outcome model\n",
    "    data - dataframe\n",
    "    nb - number of bootstrapped samples\n",
    "    ate -  ate obtained prioring to obtaining the confidence intervals\n",
    "    method - \"ipw\" or \"gcomputation\"\n",
    "    Output: ate - average causal effect\n",
    "    \n",
    "    We first obtain the propensity of the each instance to receive the treatment.\n",
    "    Following this we fit the outcome model and weight the outcomes based on their propensity weights\n",
    "    '''\n",
    "    ate_rs = []\n",
    "    for i in range(nb):  # Drawing nb bootstrapped samples, can simply start with 10 samples\n",
    "        d_star = data.sample(n=data.shape[0], # Same size as input data\n",
    "                             replace=True)  # Draw with replacement\n",
    "\n",
    "        if method == \"gcomputation\":\n",
    "            ate_ci = get_causal_effect_gcomputation(treatment,formula_outcome,d_star,multilevel)\n",
    "            ate_rs.append(ate_ci)\n",
    "\n",
    "        elif method == \"ipw\":\n",
    "            ate_ci = get_causal_effect_ipw(treatment,d_star,formula_ps,formula_outcome,multilevel)\n",
    "            ate_rs.append(ate_ci)\n",
    "\n",
    "    ci_perc = np.percentile(ate_rs, q=[2.5, 97.5])\n",
    "    return ci_perc\n"
   ]
  },
  {
   "cell_type": "markdown",
   "id": "4f2fcc85",
   "metadata": {},
   "source": [
    "## G-computation"
   ]
  },
  {
   "cell_type": "code",
   "execution_count": null,
   "id": "5092e0d0",
   "metadata": {},
   "outputs": [],
   "source": [
    "def get_causal_effect_gcomputation(treatment, formula, data,multilevel=False):\n",
    "    '''\n",
    "    Input: treatment - column_name\n",
    "           formula - Regression formula\n",
    "           data - dataframe\n",
    "           multilevel - specify if to use multilevel model for gcomputation\n",
    "    Output: ate - average causal effect\n",
    "    \n",
    "    The main idea is to have two separate models for those with treatment=1 and treatment =0\n",
    "    According to this we sample our data based on the treatment and fit two models\n",
    "    \n",
    "    We then predict the outcome for the entire data based on our fitted models and\n",
    "    then evaluate the expected difference in the outcome which is our causal effect.\n",
    "    '''\n",
    "    if multilevel:\n",
    "        fm_a4 = smf.mixedlm(formula, \n",
    "                        data.loc[data[treatment] == 4],groups = data.loc[data[treatment]==4]['gender']).fit()\n",
    "        fm_a1 = smf.mixedlm(formula, \n",
    "                    data.loc[data[treatment] == 1], groups = data.loc[data[treatment]==1]['gender']).fit()\n",
    "\n",
    "    else:\n",
    "        f = sm.families.family.Binomial()\n",
    "        fm_a4 = smf.glm(formula, \n",
    "                        data.loc[data[treatment] == 4], family=f).fit()\n",
    "        fm_a1 = smf.glm(formula, \n",
    "                    data.loc[data[treatment] == 1], family=f).fit()\n",
    "\n",
    "    y_a4 = fm_a4.predict(data)\n",
    "    y_a1 = fm_a1.predict(data)\n",
    "    ate = np.mean(y_a4 - y_a1)\n",
    "    return ate"
   ]
  },
  {
   "cell_type": "code",
   "execution_count": null,
   "id": "ed6dbbba",
   "metadata": {},
   "outputs": [],
   "source": [
    "print(\"Obtaining causal effect using gcomputation multilevel\")\n",
    "\n",
    "treatment = \"nbK3paFacilities\"\n",
    "formula_g = \"y ~ C(nbSESpc2score)+C(N_UNFAV_CT00)+\\\n",
    "                C(sportIndex)+C(hyIndex)+C(activeIndex)+ C(darkgrnVeg)+C(eggs)+C(fish)+\\\n",
    "                age + sbp + hdl + totchol + C(currentSmoker) + C(Diabetes)\"\n",
    "formula_ps = \"nbSESpc2score~ C(nbK3paFacilities)+C(N_UNFAV_CT00)+\\\n",
    "                C(sportIndex)+C(hyIndex)+C(activeIndex)+ C(darkgrnVeg)+C(eggs)+C(fish)+\\\n",
    "                age + sbp + hdl + totchol + C(currentSmoker) + C(Diabetes)\"\n",
    "\n",
    "effect_g= get_causal_effect_gcomputation(treatment,formula_g,data,multilevel=True)\n",
    "ci_g = bootstrap_ci(treatment,formula_ps,formula_g,data,100,effect_g,\"gcomputation\",multilevel=True)\n",
    "print(\"ATE from Gcomputation is {} with confidence interval {}\".format(np.round(effect_g,10),ci_g))\n"
   ]
  },
  {
   "cell_type": "markdown",
   "id": "a6845861",
   "metadata": {},
   "source": [
    "## IPW"
   ]
  },
  {
   "cell_type": "code",
   "execution_count": null,
   "id": "7c283b73",
   "metadata": {},
   "outputs": [],
   "source": [
    "def get_causal_effect_ipw(treatment,data,formula_ps,formula_outcome,multilevel=False):\n",
    "    '''\n",
    "    Input: \n",
    "    treatment - column_name\n",
    "    data - dataframe\n",
    "    formula_ps - Regression formula for the propensity score model\n",
    "    formula_outcome - Regression formula for the outcome model\n",
    "    multilevel - specify if to use a multilevel model for estimating propensity scores\n",
    "    Output: ate - average causal effect\n",
    "    \n",
    "    We first obtain the propensity of the each instance to receive the treatment.\n",
    "    Following this we fit the outcome model and weight the outcomes based on their propensity weights\n",
    "    '''\n",
    "    data['gender'] = pd.to_numeric(data['gender'])\n",
    "    f = sm.families.family.Binomial()\n",
    "    if multilevel:\n",
    "        ps_model = smf.mixedlm(formula_ps, \n",
    "                        data,groups = data['gender']).fit()\n",
    "    else:\n",
    "        ps_model = smf.glm(formula_ps,data,family=f).fit()\n",
    "    \n",
    "    ps_scores = ps_model.predict(data)\n",
    "        \n",
    "    outcome_model = smf.glm(formula_outcome,data,family=f).fit()\n",
    "    predicted_outcomes = outcome_model.predict(data)\n",
    "    \n",
    "    treatment_4 = np.where(data[treatment] == 4, 1, 0)\n",
    "    treatment_1 = np.where(data[treatment] == 1, 1, 0)\n",
    "    \n",
    "    potential_outcome4 = treatment_4*predicted_outcomes/ps_scores / sum(data[treatment]/ps_scores)\n",
    "    potential_outcome1 = treatment_1*predicted_outcomes/(1-ps_scores) / sum((1-data[treatment])/(1-ps_scores))\n",
    "    ate = potential_outcome4.sum() - potential_outcome1.sum()\n",
    "    return ate"
   ]
  },
  {
   "cell_type": "code",
   "execution_count": null,
   "id": "a24b6c2c",
   "metadata": {
    "scrolled": true
   },
   "outputs": [],
   "source": [
    "treatment = 'N_UNFAV_CT00'\n",
    "outcome = 'y'\n",
    "formula_outcome = \"y ~ 1+ C(N_UNFAV_CT00)\"\n",
    "formula_ps = \"N_UNFAV_CT00 ~ C(nbSESpc2score)+C(nbK3paFacilities)+\\\n",
    "                C(sportIndex)+C(hyIndex)+C(activeIndex)+ C(darkgrnVeg)+C(eggs)+C(fish)+\\\n",
    "                age + sbp + hdl + totchol + C(currentSmoker) + C(Diabetes)\"\n",
    "\n",
    "\n",
    "print(\"Obtaining causal effect using IPW multilevel\")\n",
    "effect_ipw= get_causal_effect_ipw(treatment,data,formula_ps,formula_outcome,multilevel=True)\n",
    "ci_ipw = bootstrap_ci(treatment,formula_ps,formula_outcome,data,100,effect_ipw,\"ipw\",multilevel=True)\n",
    "print(\"ATE from multilevel IPW is {} with confidence interval {}\".format(np.round(effect_ipw,10),ci_ipw))"
   ]
  },
  {
   "cell_type": "markdown",
   "id": "5903ee07",
   "metadata": {},
   "source": [
    "## Summary"
   ]
  },
  {
   "cell_type": "code",
   "execution_count": null,
   "id": "e05a09b7",
   "metadata": {},
   "outputs": [],
   "source": []
  },
  {
   "cell_type": "code",
   "execution_count": null,
   "id": "03c21e4d",
   "metadata": {},
   "outputs": [],
   "source": []
  },
  {
   "cell_type": "code",
   "execution_count": null,
   "id": "ef86112c",
   "metadata": {},
   "outputs": [],
   "source": []
  }
 ],
 "metadata": {
  "kernelspec": {
   "display_name": "Python 3",
   "language": "python",
   "name": "python3"
  },
  "language_info": {
   "codemirror_mode": {
    "name": "ipython",
    "version": 3
   },
   "file_extension": ".py",
   "mimetype": "text/x-python",
   "name": "python",
   "nbconvert_exporter": "python",
   "pygments_lexer": "ipython3",
   "version": "3.8.3"
  }
 },
 "nbformat": 4,
 "nbformat_minor": 5
}
