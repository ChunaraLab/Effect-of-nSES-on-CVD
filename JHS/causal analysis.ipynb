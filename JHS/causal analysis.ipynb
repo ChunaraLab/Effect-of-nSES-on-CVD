{
 "cells": [
  {
   "cell_type": "markdown",
   "id": "cc965f06",
   "metadata": {},
   "source": [
    "## Prep"
   ]
  },
  {
   "cell_type": "markdown",
   "id": "3bea34d9",
   "metadata": {},
   "source": [
    "### import and function"
   ]
  },
  {
   "cell_type": "code",
   "execution_count": null,
   "id": "2f0cf38f",
   "metadata": {},
   "outputs": [],
   "source": [
    "%matplotlib inline\n",
    "\n",
    "# Importing libraries \n",
    "import numpy as np\n",
    "import pandas as pd\n",
    "import statsmodels.api as sm\n",
    "import statsmodels.formula.api as smf\n",
    "import matplotlib\n",
    "import matplotlib.pyplot as plt\n",
    "import seaborn as sns\n",
    "\n",
    "np.random.seed(987)\n",
    "\n",
    "print(\"numpy      \", np.__version__)\n",
    "print(\"pandas     \", pd.__version__)\n",
    "print(\"statsmodels\", sm.__version__)\n",
    "print(\"matplotlib \", matplotlib.__version__)\n",
    "import warnings\n",
    "warnings.filterwarnings('ignore')"
   ]
  },
  {
   "cell_type": "code",
   "execution_count": null,
   "id": "f3d49345",
   "metadata": {},
   "outputs": [],
   "source": [
    "## CI function\n",
    "\n",
    "def bootstrap_ci(treatment, formula_ps, formula_outcome, data, nb, ate, method,multilevel):\n",
    "    '''\n",
    "    Input: \n",
    "    treatment - column_name\n",
    "    formula_ps - Regression formula for the propensity score model\n",
    "    formula_outcome - Regression formula for the outcome model\n",
    "    data - dataframe\n",
    "    nb - number of bootstrapped samples\n",
    "    ate -  ate obtained prioring to obtaining the confidence intervals\n",
    "    method - \"ipw\" or \"gcomputation\"\n",
    "    Output: ate - average causal effect\n",
    "    \n",
    "    We first obtain the propensity of the each instance to receive the treatment.\n",
    "    Following this we fit the outcome model and weight the outcomes based on their propensity weights\n",
    "    '''\n",
    "    ate_rs = []\n",
    "    for i in range(nb):  # Drawing nb bootstrapped samples, can simply start with 10 samples\n",
    "        d_star = data.sample(n=data.shape[0], # Same size as input data\n",
    "                             replace=True)  # Draw with replacement\n",
    "\n",
    "        if method == \"gcomputation\":\n",
    "            ate_ci = get_causal_effect_gcomputation(treatment,formula_outcome,d_star,multilevel)\n",
    "            ate_rs.append(ate_ci)\n",
    "\n",
    "        elif method == \"ipw\":\n",
    "            ate_ci = get_causal_effect_ipw(treatment,d_star,formula_ps,formula_outcome,multilevel)\n",
    "            ate_rs.append(ate_ci)\n",
    "\n",
    "    ci_perc = np.percentile(ate_rs, q=[2.5, 97.5])\n",
    "    return ci_perc"
   ]
  },
  {
   "cell_type": "markdown",
   "id": "caa4a218",
   "metadata": {},
   "source": [
    "### data prep"
   ]
  },
  {
   "cell_type": "code",
   "execution_count": null,
   "id": "4ef97604",
   "metadata": {},
   "outputs": [],
   "source": [
    "## Read preprocessed data\n",
    "\n",
    "dat = pd.read_csv(\"data/jhs_complete_0718.csv\")\n",
    "dat_v1 = dat[dat['visit'] == 1]\n",
    "dat_v2 = dat.loc[dat['visit'] == 2, ['subjid','y']].rename(columns={'y': 'y2'})\n",
    "dat_v3 = dat.loc[dat['visit'] == 3, ['subjid','y']].rename(columns={'y': 'y3'})\n",
    "\n",
    "merged_df = pd.merge(dat_v1, dat_v2, on='subjid')\n",
    "merged_df = pd.merge(merged_df, dat_v3, on='subjid')\n",
    "\n",
    "# calculate Y\n",
    "def get_Y_tot(df):\n",
    "    df['y_tot'] = 0\n",
    "    df.loc[\n",
    "       (df['y']==1) |\n",
    "       (df['y2']==1) |\n",
    "       (df['y3']==1),\n",
    "       'y_tot'] = 1\n",
    "    return df\n",
    "merged_df = get_Y_tot(merged_df)\n",
    "\n",
    "data = merged_df"
   ]
  },
  {
   "cell_type": "code",
   "execution_count": null,
   "id": "2f580c9e",
   "metadata": {},
   "outputs": [],
   "source": [
    "## Select appropriate columns. \n",
    "data = data[['y_tot','nbSESpc2score', 'nbK3paFacilities','N_UNFAV_CT00','G_bla_rk', \n",
    "                   'sportIndex','hyIndex','activeIndex','darkgrnVeg', 'eggs','fish', \n",
    "                   'age','gender', 'currentSmoker', 'Diabetes','sbp','hdl','totchol']].copy()\n",
    "data = data.rename(columns={\"y_tot\": \"y\"})"
   ]
  },
  {
   "cell_type": "markdown",
   "id": "2158c0f4",
   "metadata": {},
   "source": [
    "#### combine nb effects"
   ]
  },
  {
   "cell_type": "code",
   "execution_count": null,
   "id": "0df80430",
   "metadata": {},
   "outputs": [],
   "source": [
    "## check sample size n\n",
    "dis_sesfood = len(data.loc[(data['nbSESpc2score'] == 4.0) & (data['N_UNFAV_CT00'] == 4.0)]) \n",
    "ad_sesfood = len(data.loc[(data['nbSESpc2score'] == 1.0) & (data['N_UNFAV_CT00'] == 1.0)])\n",
    "dis_sesfac = len(data.loc[(data['nbSESpc2score'] == 4.0) & (data['nbK3paFacilities'] == 1.0)]) \n",
    "ad_sesfac = len(data.loc[(data['nbSESpc2score'] == 1.0) & (data['nbK3paFacilities'] == 4.0)])\n",
    "\n",
    "print(\"Sample size of nb SES&Food is {} for disadvantaged nb, {} for advantaged nb\".format(dis_sesfood,ad_sesfood),\"\\n\"\n",
    "     \"Sample size of nb SES&Fac is {} for disadvantaged nb, {} for advantaged nb\".format(dis_sesfac,ad_sesfac))\n",
    "\n",
    "combination_counts = data.groupby(['nbSESpc2score', 'nbK3paFacilities']).size().reset_index(name='Count')\n",
    "#print(combination_counts)"
   ]
  },
  {
   "cell_type": "code",
   "execution_count": null,
   "id": "6b19d1c2",
   "metadata": {},
   "outputs": [],
   "source": [
    "## combine binary exposure\n",
    "\n",
    "dat_nb = data\n",
    "\n",
    "dat_nb['nSESFood'] = np.where(dat_nb['nbSESpc2score'].isin([3.0, 4.0]) & dat_nb['N_UNFAV_CT00'].isin([3.0, 4.0]), 4.0, 2.5)\n",
    "dat_nb.loc[dat_nb['nbSESpc2score'].isin([1.0, 2.0]) & dat_nb['N_UNFAV_CT00'].isin([1.0, 2.0]),'nSESFood'] = 1.0\n",
    "\n",
    "dat_nb['nSESFac'] = np.where(dat_nb['nbSESpc2score'].isin([3.0, 4.0]) & dat_nb['nbK3paFacilities'].isin([1.0, 2.0]), 4.0, 2.5)\n",
    "dat_nb.loc[dat_nb['nbSESpc2score'].isin([1.0, 2.0]) & dat_nb['nbK3paFacilities'].isin([3.0, 4.0]),'nSESFac'] = 1.0\n",
    "\n",
    "## try excluding 2.5 samples\n",
    "dat_nsesfood = dat_nb.loc[dat_nb['nSESFood'] != 2.5]\n",
    "dat_nsesfac = dat_nb.loc[dat_nb['nSESFac'] != 2.5]"
   ]
  },
  {
   "cell_type": "markdown",
   "id": "aea415d2",
   "metadata": {},
   "source": [
    "## G-computation"
   ]
  },
  {
   "cell_type": "code",
   "execution_count": null,
   "id": "341eaf36",
   "metadata": {},
   "outputs": [],
   "source": [
    "def get_causal_effect_gcomputation(treatment, formula, data,multilevel=False, outcome_dis=False):\n",
    "    '''\n",
    "    Input: treatment - column_name\n",
    "           formula - Regression formula\n",
    "           data - dataframe\n",
    "           multilevel - specify if to use multilevel model for gcomputation\n",
    "    Output: ate - average causal effect\n",
    "    \n",
    "    The main idea is to have two separate models for those with treatment=1 and treatment =0\n",
    "    According to this we sample our data based on the treatment and fit two models\n",
    "    \n",
    "    We then predict the outcome for the entire data based on our fitted models and\n",
    "    then evaluate the expected difference in the outcome which is our causal effect.\n",
    "    '''\n",
    "    if multilevel:\n",
    "        fm_a4 = smf.mixedlm(formula, \n",
    "                        data.loc[data[treatment] == 4],groups = data.loc[data[treatment]==4]['gender']).fit()\n",
    "        fm_a1 = smf.mixedlm(formula, \n",
    "                    data.loc[data[treatment] == 1], groups = data.loc[data[treatment]==1]['gender']).fit()\n",
    "\n",
    "    else:\n",
    "        f = sm.families.family.Binomial()\n",
    "        fm_a4 = smf.glm(formula, \n",
    "                        data.loc[data[treatment] == 4], family=f).fit()\n",
    "        fm_a1 = smf.glm(formula, \n",
    "                    data.loc[data[treatment] == 1], family=f).fit()\n",
    "\n",
    "    y_a4 = fm_a4.predict(data)\n",
    "    y_a1 = fm_a1.predict(data)\n",
    "    ate = np.mean(y_a4 - y_a1)\n",
    "    \n",
    "    if outcome_dis:\n",
    "        plt_data = {'Group': np.concatenate([['Exp_4']*len(y_a4), ['Exp_1']*len(y_a1)]),\n",
    "                'Value': np.concatenate([y_a4, y_a1]) }\n",
    "        plt_df = pd.DataFrame(plt_data)\n",
    "        sns.kdeplot(data=plt_df, x='Value', hue='Group', fill=True, common_norm=False)\n",
    "        plt.xlabel('Value')\n",
    "        plt.ylabel('Density')\n",
    "        plt.title(f\"Outcome distribution for exposure {treatment}\")\n",
    "        return ate,plt\n",
    "    \n",
    "    else: \n",
    "        return ate"
   ]
  },
  {
   "cell_type": "code",
   "execution_count": null,
   "id": "9ba0e9b1",
   "metadata": {},
   "outputs": [],
   "source": [
    "treatment = \"nbK3paFacilities\"\n",
    "formula_g = \"y ~ C(G_bla_rk)+C(nbSESpc2score)+C(N_UNFAV_CT00)+\\\n",
    "                C(sportIndex)+C(hyIndex)+C(activeIndex)+ C(darkgrnVeg)+C(eggs)+C(fish)+\\\n",
    "                age + sbp + hdl + totchol + C(currentSmoker) + C(Diabetes)\"\n",
    "formula_ps = \"nbSESpc2score~ C(nbK3paFacilities)+C(N_UNFAV_CT00)+\\\n",
    "                C(sportIndex)+C(hyIndex)+C(activeIndex)+ C(darkgrnVeg)+C(eggs)+C(fish)+\\\n",
    "                age + sbp + hdl + totchol + C(currentSmoker) + C(Diabetes)\""
   ]
  },
  {
   "cell_type": "markdown",
   "id": "91182252",
   "metadata": {},
   "source": [
    "### single exposure"
   ]
  },
  {
   "cell_type": "code",
   "execution_count": null,
   "id": "6417b4bf",
   "metadata": {},
   "outputs": [],
   "source": [
    "print(\"Obtaining causal effect using gcomputation multilevel\")\n",
    "\n",
    "effect_g = get_causal_effect_gcomputation(treatment,formula_g,data,multilevel=True, outcome_dis=False)\n",
    "ci_g = bootstrap_ci(treatment,formula_ps,formula_g,data,100,effect_g,\"gcomputation\",multilevel=True)\n",
    "print(\"ATE from Gcomputation is {} with confidence interval {}\".format(np.round(effect_g,10),ci_g))\n"
   ]
  },
  {
   "cell_type": "code",
   "execution_count": null,
   "id": "3d33b2ea",
   "metadata": {},
   "outputs": [],
   "source": [
    "print(\"Obtaining outcome distribution\")\n",
    "\n",
    "ate_g, plt_g = get_causal_effect_gcomputation(treatment,formula_g,data,multilevel=True, outcome_dis=True)\n",
    "plt_g\n"
   ]
  },
  {
   "cell_type": "markdown",
   "id": "0880eaf9",
   "metadata": {},
   "source": [
    "### combined neighborhood effects"
   ]
  },
  {
   "cell_type": "code",
   "execution_count": null,
   "id": "7aed3035",
   "metadata": {},
   "outputs": [],
   "source": [
    "# dat_nb (n=3568), dat_nsesfood, dat_nsesfac\n",
    "\n",
    "print(\"Obtaining causal effect of combined nb features using gcomputation multilevel\")\n",
    "\n",
    "effect_g= get_causal_effect_gcomputation(treatment,formula_g,dat_nsesfac,multilevel=True, outcome_dis=False)\n",
    "ci_g = bootstrap_ci(treatment,formula_ps,formula_g,dat_nsesfac,100,effect_g,\"gcomputation\",multilevel=True)\n",
    "print(\"ATE from Gcomputation is {} with confidence interval {}\".format(np.round(effect_g,10),ci_g))\n"
   ]
  },
  {
   "cell_type": "code",
   "execution_count": null,
   "id": "b7f1211f",
   "metadata": {},
   "outputs": [],
   "source": [
    "print(\"Obtaining outcome distribution for combined effects\")\n",
    "\n",
    "ate_g, plt_g = get_causal_effect_gcomputation(treatment,formula_g,dat_nsesfac,multilevel=True, outcome_dis=True)\n",
    "plt_g"
   ]
  },
  {
   "cell_type": "markdown",
   "id": "8b1e55a2",
   "metadata": {},
   "source": [
    "## IPW"
   ]
  },
  {
   "cell_type": "code",
   "execution_count": null,
   "id": "3b99aa27",
   "metadata": {},
   "outputs": [],
   "source": [
    "def get_causal_effect_ipw(treatment,data,formula_ps,formula_outcome,multilevel=False, outcome_dis=False):\n",
    "    '''\n",
    "    Input: \n",
    "    treatment - column_name\n",
    "    data - dataframe\n",
    "    formula_ps - Regression formula for the propensity score model\n",
    "    formula_outcome - Regression formula for the outcome model\n",
    "    multilevel - specify if to use a multilevel model for estimating propensity scores\n",
    "    Output: ate - average causal effect\n",
    "    \n",
    "    We first obtain the propensity of the each instance to receive the treatment.\n",
    "    Following this we fit the outcome model and weight the outcomes based on their propensity weights\n",
    "    '''\n",
    "    data['gender'] = pd.to_numeric(data['gender'])\n",
    "    f = sm.families.family.Binomial()\n",
    "    if multilevel:\n",
    "        ps_model = smf.mixedlm(formula_ps, \n",
    "                        data,groups = data['gender']).fit()\n",
    "    else:\n",
    "        ps_model = smf.glm(formula_ps,data,family=f).fit()\n",
    "    \n",
    "    ps_scores = ps_model.predict(data)\n",
    "        \n",
    "    outcome_model = smf.glm(formula_outcome,data,family=f).fit()\n",
    "    predicted_outcomes = outcome_model.predict(data)\n",
    "    \n",
    "    treatment_4 = np.where(data[treatment] == 4, 1, 0)\n",
    "    treatment_1 = np.where(data[treatment] == 1, 1, 0)\n",
    "    \n",
    "    potential_outcome4 = treatment_4*predicted_outcomes/ps_scores / sum(data[treatment]/ps_scores)\n",
    "    potential_outcome1 = treatment_1*predicted_outcomes/(1-ps_scores) / sum((1-data[treatment])/(1-ps_scores))\n",
    "    ate = potential_outcome4.sum() - potential_outcome1.sum()\n",
    "    \n",
    "    if outcome_dis:\n",
    "        plt_data = {'Group': np.concatenate([['Exp_4']*len(potential_outcome4), ['Exp_1']*len(potential_outcome1)]),\n",
    "                    'Value': np.concatenate([potential_outcome4, potential_outcome1]) }\n",
    "        plt_df = pd.DataFrame(plt_data)\n",
    "        sns.kdeplot(data=plt_df, x='Value', hue='Group', fill=True, common_norm=False)\n",
    "        plt.xlabel('Value')\n",
    "        plt.ylabel('Density')\n",
    "        plt.title(f\"Outcome distribution for exposure {treatment}\")\n",
    "        return ate,plt\n",
    "    \n",
    "    else: \n",
    "        return ate"
   ]
  },
  {
   "cell_type": "code",
   "execution_count": null,
   "id": "d59e72c4",
   "metadata": {},
   "outputs": [],
   "source": [
    "treatment = 'nbK3paFacilities'\n",
    "outcome = 'y'\n",
    "formula_outcome = \"y ~ 1+ C(nbK3paFacilities)\"\n",
    "formula_ps = \"nbK3paFacilities ~ C(N_UNFAV_CT00)+C(nbSESpc2score)+\\\n",
    "                C(sportIndex)+C(hyIndex)+C(activeIndex)+ C(darkgrnVeg)+C(eggs)+C(fish)+\\\n",
    "                age + sbp + hdl + totchol + C(currentSmoker) + C(Diabetes)\""
   ]
  },
  {
   "cell_type": "markdown",
   "id": "c26fc097",
   "metadata": {},
   "source": [
    "### single exposure"
   ]
  },
  {
   "cell_type": "code",
   "execution_count": null,
   "id": "ec174d51",
   "metadata": {
    "scrolled": true
   },
   "outputs": [],
   "source": [
    "print(\"Obtaining causal effect using IPW multilevel\")\n",
    "effect_ipw= get_causal_effect_ipw(treatment,data,formula_ps,formula_outcome,multilevel=True, outcome_dis=False)\n",
    "ci_ipw = bootstrap_ci(treatment,formula_ps,formula_outcome,data,100,effect_ipw,\"ipw\",multilevel=True)\n",
    "print(\"ATE from multilevel IPW is {} with confidence interval {}\".format(np.round(effect_ipw,10),ci_ipw))"
   ]
  },
  {
   "cell_type": "code",
   "execution_count": null,
   "id": "f349d444",
   "metadata": {},
   "outputs": [],
   "source": [
    "print(\"Obtaining outcome distribution for combined effects\")\n",
    "\n",
    "ate_ipw, plt_ipw = get_causal_effect_ipw(treatment,data,formula_ps,formula_outcome,multilevel=True, outcome_dis=True)\n",
    "plt_ipw"
   ]
  },
  {
   "cell_type": "markdown",
   "id": "76ecff9a",
   "metadata": {},
   "source": [
    "### combined neighborhood effects"
   ]
  },
  {
   "cell_type": "code",
   "execution_count": null,
   "id": "403b3670",
   "metadata": {},
   "outputs": [],
   "source": [
    "# dat_nb (n=3568), dat_nsesfood, dat_nsesfac\n",
    "\n",
    "print(\"Obtaining causal effect using IPW multilevel\")\n",
    "effect_ipw= get_causal_effect_ipw(treatment,dat_nb,formula_ps,formula_outcome,multilevel=True)\n",
    "ci_ipw = bootstrap_ci(treatment,formula_ps,formula_outcome,dat_nb,100,effect_ipw,\"ipw\",multilevel=True)\n",
    "print(\"ATE from multilevel IPW is {} with confidence interval {}\".format(np.round(effect_ipw,10),ci_ipw))"
   ]
  },
  {
   "cell_type": "code",
   "execution_count": null,
   "id": "a7d6bf79",
   "metadata": {},
   "outputs": [],
   "source": [
    "print(\"Obtaining outcome distribution for combined effects\")\n",
    "\n",
    "ate_ipw, plt_ipw = get_causal_effect_ipw(treatment,data,formula_ps,formula_outcome,multilevel=True, outcome_dis=True)\n",
    "plt_ipw"
   ]
  },
  {
   "cell_type": "code",
   "execution_count": null,
   "id": "8341137f",
   "metadata": {},
   "outputs": [],
   "source": []
  },
  {
   "cell_type": "markdown",
   "id": "b86f7ab0",
   "metadata": {},
   "source": [
    "## others"
   ]
  },
  {
   "cell_type": "markdown",
   "id": "524f82a5",
   "metadata": {},
   "source": [
    "### debug for ipw rs"
   ]
  },
  {
   "cell_type": "code",
   "execution_count": null,
   "id": "48a42836",
   "metadata": {},
   "outputs": [],
   "source": [
    "# data = data.sample(n=data.shape[0], replace=True)\n",
    "\n",
    "data['gender'] = pd.to_numeric(data['gender'])\n",
    "f = sm.families.family.Binomial()\n",
    "formula_ps = \"G_bla_rk ~ C(nbSESpc2score)+C(N_UNFAV_CT00)+C(nbK3paFacilities)+\\\n",
    "                C(sportIndex)+C(hyIndex)+C(activeIndex)+ C(darkgrnVeg)+C(eggs)+C(fish)+\\\n",
    "                age + sbp + hdl + totchol + C(currentSmoker) + C(Diabetes)\"\n",
    "ps_model = smf.mixedlm(formula_ps, data,groups = data['gender']).fit()\n",
    "\n",
    "ps_scores = ps_model.predict(data)\n",
    "\n",
    "formula_outcome = \"y ~ 1+ C(G_bla_rk)\"\n",
    "outcome_model = smf.glm(formula_outcome,data,family=f).fit()\n",
    "predicted_outcomes = outcome_model.predict(data)\n",
    "\n",
    "treatment = 'G_bla_rk' \n",
    "treatment_4 = np.where(data[treatment] == 4, 1, 0)\n",
    "treatment_1 = np.where(data[treatment] == 1, 1, 0)\n",
    "    \n",
    "potential_outcome4 = treatment_4*predicted_outcomes/ps_scores / sum(data[treatment]/ps_scores)\n",
    "potential_outcome1 = treatment_1*predicted_outcomes/(1-ps_scores) / sum((1-data[treatment])/(1-ps_scores))\n",
    "ate = potential_outcome4.sum() - potential_outcome1.sum()\n",
    "ate"
   ]
  },
  {
   "cell_type": "code",
   "execution_count": null,
   "id": "686ce16a",
   "metadata": {},
   "outputs": [],
   "source": [
    "def check_extreme(data_array):\n",
    "\n",
    "    # Check for extreme values based on threshold\n",
    "    z_scores = (data_array - np.mean(data_array)) / np.std(data_array)\n",
    "    threshold = 3\n",
    "    extreme_value_index = np.where(abs(z_scores) > threshold)[0]\n",
    "    sorted_array = np.sort(data_array)\n",
    "    rank = np.searchsorted(sorted_array, data_array[extreme_value_index[0]])\n",
    "    \n",
    "    \n",
    "    # Plot box plot\n",
    "    plt.boxplot(data_array)\n",
    "    plt.title('Box Plot')\n",
    "    plt.show()\n",
    "\n",
    "    # Plot histogram\n",
    "    plt.hist(data_array, bins=10)\n",
    "    plt.title('Histogram')\n",
    "    plt.show()\n",
    "\n",
    "    print(\"Extreme Value:\", data_array[extreme_value_index[0]])\n",
    "    print(\"Rank:\", rank)\n",
    "\n",
    "\n",
    "check_extreme(potential_outcome1)\n"
   ]
  }
 ],
 "metadata": {
  "kernelspec": {
   "display_name": "Python 3",
   "language": "python",
   "name": "python3"
  },
  "language_info": {
   "codemirror_mode": {
    "name": "ipython",
    "version": 3
   },
   "file_extension": ".py",
   "mimetype": "text/x-python",
   "name": "python",
   "nbconvert_exporter": "python",
   "pygments_lexer": "ipython3",
   "version": "3.8.3"
  }
 },
 "nbformat": 4,
 "nbformat_minor": 5
}
