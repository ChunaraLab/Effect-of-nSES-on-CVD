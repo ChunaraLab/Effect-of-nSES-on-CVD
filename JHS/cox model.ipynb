{
 "cells": [
  {
   "cell_type": "markdown",
   "id": "43bed191",
   "metadata": {},
   "source": [
    "## prep"
   ]
  },
  {
   "cell_type": "code",
   "execution_count": null,
   "id": "7460e4f5",
   "metadata": {},
   "outputs": [],
   "source": [
    "import pandas as pd\n",
    "import numpy as np\n",
    "from lifelines import CoxPHFitter\n",
    "from lifelines import KaplanMeierFitter\n",
    "import random\n",
    "import matplotlib.pyplot as plt\n",
    "import statistics\n",
    "from sklearn import metrics\n",
    "from sklearn.metrics import roc_auc_score, roc_curve, precision_recall_curve, confusion_matrix\n",
    "from sklearn.linear_model import LogisticRegression\n",
    "from lifelines.statistics import logrank_test\n",
    "from scipy import stats\n",
    "\n",
    "import warnings\n",
    "warnings.filterwarnings('ignore')\n",
    "pd.set_option('max_columns', None)\n",
    "pd.set_option('max_rows', 100)"
   ]
  },
  {
   "cell_type": "code",
   "execution_count": null,
   "id": "6bf139ec",
   "metadata": {},
   "outputs": [],
   "source": [
    "dat = pd.read_csv('data/jhs_complete_processed.csv')\n",
    "\n",
    "dat['event'] = 0\n",
    "dat['time'] = 3  # because most records were censored"
   ]
  },
  {
   "cell_type": "markdown",
   "id": "de61d012",
   "metadata": {},
   "source": [
    "## baseline model"
   ]
  },
  {
   "cell_type": "markdown",
   "id": "84c7c553",
   "metadata": {},
   "source": [
    "### prep"
   ]
  },
  {
   "cell_type": "code",
   "execution_count": null,
   "id": "0657d149",
   "metadata": {},
   "outputs": [],
   "source": [
    "dat_v1 = dat[dat['visit'] == 1]\n",
    "dat_v2 = dat.loc[dat['visit'] == 2, ['subjid','y']].rename(columns={'y': 'y2'})\n",
    "dat_v3 = dat.loc[dat['visit'] == 3, ['subjid','y']].rename(columns={'y': 'y3'})\n",
    "\n",
    "merged_df = pd.merge(dat_v1, dat_v2, on='subjid')\n",
    "merged_df = pd.merge(merged_df, dat_v3, on='subjid')"
   ]
  },
  {
   "cell_type": "code",
   "execution_count": null,
   "id": "61932e8a",
   "metadata": {},
   "outputs": [],
   "source": [
    "dat_base = merged_df\n",
    "\n",
    "## incidence in V1\n",
    "dat_base.loc[dat_base['y'] == 1,'event'] = 1\n",
    "dat_base.loc[dat_base['y'] == 1,'time'] = 1\n",
    "\n",
    "## incidence in V2\n",
    "v2_index = (dat_base['y2'] == 1) & (dat_base['y'] == 0)\n",
    "dat_base.loc[v2_index,'event'] = 1\n",
    "dat_base.loc[v2_index,'time'] = 2\n",
    "\n",
    "## incidence in V1\n",
    "v3_index = (dat_base['y3'] == 1) & (dat_base['y'] == 0) & (dat_base['y2'] == 0)\n",
    "dat_base.loc[v3_index,'event'] = 1"
   ]
  },
  {
   "cell_type": "code",
   "execution_count": null,
   "id": "c600f801",
   "metadata": {},
   "outputs": [],
   "source": [
    "dat_base = dat_base.astype({'nbSESpc2score': 'category', 'nbK3paFacilities': 'category',\n",
    "                           'N_UNFAV_CT00': 'category', 'sportIndex': 'category',\n",
    "                           'hyIndex': 'category', 'activeIndex': 'category',\n",
    "                           'darkgrnVeg': 'category', 'eggs': 'category',\n",
    "                           'fish': 'category', 'gender': 'int',\n",
    "                           'currentSmoker': 'int', 'Diabetes': 'int'})"
   ]
  },
  {
   "cell_type": "markdown",
   "id": "6e259448",
   "metadata": {},
   "source": [
    "### fit"
   ]
  },
  {
   "cell_type": "code",
   "execution_count": null,
   "id": "1b91169a",
   "metadata": {},
   "outputs": [],
   "source": [
    "cph_base = CoxPHFitter()\n",
    "cph_base.fit(dat_base, duration_col='time', event_col='event',\n",
    "       formula = \"nbSESpc2score+nbK3paFacilities+N_UNFAV_CT00+sportIndex+hyIndex+activeIndex+darkgrnVeg+eggs+fish+age+gender+currentSmoker+Diabetes+hdl+sbp+totchol\")\n"
   ]
  },
  {
   "cell_type": "code",
   "execution_count": null,
   "id": "a1e342e8",
   "metadata": {},
   "outputs": [],
   "source": [
    "cph_base.print_summary()\n",
    "\n",
    "cph_base.plot()\n",
    "plt.show()"
   ]
  },
  {
   "cell_type": "code",
   "execution_count": null,
   "id": "8409aa92",
   "metadata": {},
   "outputs": [],
   "source": []
  },
  {
   "cell_type": "markdown",
   "id": "e62ce589",
   "metadata": {},
   "source": [
    "## time-varying covariates"
   ]
  },
  {
   "cell_type": "code",
   "execution_count": null,
   "id": "ba25bfb8",
   "metadata": {},
   "outputs": [],
   "source": []
  }
 ],
 "metadata": {
  "kernelspec": {
   "display_name": "Python 3",
   "language": "python",
   "name": "python3"
  },
  "language_info": {
   "codemirror_mode": {
    "name": "ipython",
    "version": 3
   },
   "file_extension": ".py",
   "mimetype": "text/x-python",
   "name": "python",
   "nbconvert_exporter": "python",
   "pygments_lexer": "ipython3",
   "version": "3.8.3"
  }
 },
 "nbformat": 4,
 "nbformat_minor": 5
}
