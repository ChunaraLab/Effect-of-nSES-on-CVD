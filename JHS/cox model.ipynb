{
 "cells": [
  {
   "cell_type": "markdown",
   "id": "d757badf",
   "metadata": {},
   "source": [
    "## prep"
   ]
  },
  {
   "cell_type": "code",
   "execution_count": null,
   "id": "f205aaf9",
   "metadata": {},
   "outputs": [],
   "source": [
    "import pandas as pd\n",
    "import numpy as np\n",
    "from lifelines import CoxPHFitter\n",
    "from lifelines.utils import to_long_format\n",
    "from lifelines import KaplanMeierFitter\n",
    "from lifelines import CoxTimeVaryingFitter\n",
    "import random\n",
    "import matplotlib.pyplot as plt\n",
    "import statistics\n",
    "from sklearn import metrics\n",
    "from sklearn.metrics import roc_auc_score, roc_curve, precision_recall_curve, confusion_matrix\n",
    "from sklearn.linear_model import LogisticRegression\n",
    "from lifelines.statistics import logrank_test\n",
    "from scipy import stats\n",
    "\n",
    "import warnings\n",
    "warnings.filterwarnings('ignore')\n",
    "pd.set_option('max_columns', None)\n",
    "pd.set_option('max_rows', 100)"
   ]
  },
  {
   "cell_type": "code",
   "execution_count": null,
   "id": "9f5b73ce",
   "metadata": {},
   "outputs": [],
   "source": [
    "dat = pd.read_csv('data/jhs_complete_0718.csv')\n",
    "\n",
    "dat['event'] = 0\n",
    "dat['time'] = 3  # because most records were censored"
   ]
  },
  {
   "cell_type": "markdown",
   "id": "13bfc86b",
   "metadata": {},
   "source": [
    "## baseline model"
   ]
  },
  {
   "cell_type": "markdown",
   "id": "1022dcc7",
   "metadata": {},
   "source": [
    "### prep"
   ]
  },
  {
   "cell_type": "code",
   "execution_count": null,
   "id": "354f5cd1",
   "metadata": {},
   "outputs": [],
   "source": [
    "dat_v1 = dat[dat['visit'] == 1]\n",
    "dat_v2 = dat.loc[dat['visit'] == 2, ['subjid','y']].rename(columns={'y': 'y2'})\n",
    "dat_v3 = dat.loc[dat['visit'] == 3, ['subjid','y']].rename(columns={'y': 'y3'})\n",
    "\n",
    "merged_df = pd.merge(dat_v1, dat_v2, on='subjid')\n",
    "merged_df = pd.merge(merged_df, dat_v3, on='subjid')"
   ]
  },
  {
   "cell_type": "code",
   "execution_count": null,
   "id": "03d09a48",
   "metadata": {},
   "outputs": [],
   "source": [
    "dat_base = merged_df\n",
    "\n",
    "## incidence in V1\n",
    "dat_base.loc[dat_base['y'] == 1,'event'] = 1\n",
    "dat_base.loc[dat_base['y'] == 1,'time'] = 1\n",
    "\n",
    "## incidence in V2\n",
    "v2_index = (dat_base['y2'] == 1) & (dat_base['y'] == 0)\n",
    "dat_base.loc[v2_index,'event'] = 1\n",
    "dat_base.loc[v2_index,'time'] = 2\n",
    "\n",
    "## incidence in V1\n",
    "v3_index = (dat_base['y3'] == 1) & (dat_base['y'] == 0) & (dat_base['y2'] == 0)\n",
    "dat_base.loc[v3_index,'event'] = 1"
   ]
  },
  {
   "cell_type": "code",
   "execution_count": null,
   "id": "f23082a0",
   "metadata": {},
   "outputs": [],
   "source": [
    "cols_to_convert = ['nbSESpc2score', 'nbK3paFacilities','N_UNFAV_CT00', 'nSES','G_bla_rk',\n",
    "                   'sportIndex','hyIndex','activeIndex','darkgrnVeg', 'eggs','fish', \n",
    "                   'gender', 'currentSmoker', 'Diabetes']\n",
    "dat_base[cols_to_convert] = dat_base[cols_to_convert].astype('category')"
   ]
  },
  {
   "cell_type": "markdown",
   "id": "3d44406d",
   "metadata": {},
   "source": [
    "### fit"
   ]
  },
  {
   "cell_type": "code",
   "execution_count": null,
   "id": "a2c16da8",
   "metadata": {},
   "outputs": [],
   "source": [
    "cph_base = CoxPHFitter()\n",
    "cph_base.fit(dat_base, duration_col='time', event_col='event',\n",
    "       formula = \"nbSESpc2score+nbK3paFacilities+N_UNFAV_CT00+G_bla_rk+sportIndex+hyIndex+activeIndex+darkgrnVeg+eggs+fish+age+gender+currentSmoker+Diabetes+hdl+sbp+totchol\")\n"
   ]
  },
  {
   "cell_type": "code",
   "execution_count": null,
   "id": "a2f2caeb",
   "metadata": {},
   "outputs": [],
   "source": [
    "cph_base.print_summary()"
   ]
  },
  {
   "cell_type": "code",
   "execution_count": null,
   "id": "db2cb4ba",
   "metadata": {},
   "outputs": [],
   "source": [
    "cph_base.plot()\n",
    "plt.show()"
   ]
  },
  {
   "cell_type": "markdown",
   "id": "8756656a",
   "metadata": {},
   "source": [
    "## time-varying covariates"
   ]
  },
  {
   "cell_type": "markdown",
   "id": "ac9c2c98",
   "metadata": {},
   "source": [
    "### prep"
   ]
  },
  {
   "cell_type": "code",
   "execution_count": null,
   "id": "4f45387b",
   "metadata": {},
   "outputs": [],
   "source": [
    "# V1 in long format\n",
    "\n",
    "dat_tv1 = dat[dat['visit'] == 1]\n",
    "\n",
    "dat_tv1 = to_long_format(dat_tv1, duration_col=\"visit\")\n",
    "dat_tv1 = dat_tv1.drop('event', axis=1)\n",
    "dat_tv1 = dat_tv1.rename(columns={'y': 'event'})"
   ]
  },
  {
   "cell_type": "code",
   "execution_count": null,
   "id": "711f5d38",
   "metadata": {},
   "outputs": [],
   "source": [
    "# V2\n",
    "\n",
    "dat_tv2 = dat.loc[dat['visit'] == 2].rename(columns={'y': 'y2'})\n",
    "\n",
    "## get value from V1 if covariates not available at V2\n",
    "dat_tv2 = dat_tv2[['subjid','visit','Diabetes','age','sbp','N_UNFAV_CT00','G_bla_rk','gender','y2']]\n",
    "covar_from_V1 = dat_tv1[['subjid','nbSESpc2score', 'nbK3paFacilities',\n",
    "                        'sportIndex','hyIndex','activeIndex','darkgrnVeg', 'eggs','fish',\n",
    "                        'currentSmoker', 'hdl','totchol']]\n",
    "dat_tv2 = dat_tv2.merge(covar_from_V1, on = 'subjid', how = 'left', suffixes=(False, False))\n",
    "\n",
    "## manually add \"start\" and \"stop\" col\n",
    "dat_tv2 = dat_tv2.rename(columns={'y2': 'event', 'visit':'stop'})\n",
    "dat_tv2['start'] = 1"
   ]
  },
  {
   "cell_type": "code",
   "execution_count": null,
   "id": "7a6e7fb4",
   "metadata": {},
   "outputs": [],
   "source": [
    "# V3\n",
    "\n",
    "dat_tv3 = dat.loc[dat['visit'] == 3].rename(columns={'y': 'y3'})\n",
    "\n",
    "## get value from V1 if covariates not available at V2\n",
    "dat_tv3 = dat_tv3[['subjid','visit','y3',\n",
    "                   'sportIndex','hyIndex','activeIndex',\n",
    "                   'Diabetes','age','sbp','hdl','gender']]\n",
    "covar_from_V2 = dat_tv2[['subjid','N_UNFAV_CT00','G_bla_rk']]\n",
    "covar_from_V1 = dat_tv1[['subjid','nbSESpc2score', 'nbK3paFacilities',\n",
    "                        'darkgrnVeg', 'eggs','fish',\n",
    "                        'currentSmoker', 'totchol']]\n",
    "dat_tv3 = dat_tv3.merge(covar_from_V2, on = 'subjid', how = 'left', suffixes=(False, False))\n",
    "dat_tv3 = dat_tv3.merge(covar_from_V1, on = 'subjid', how = 'left', suffixes=(False, False))\n",
    "\n",
    "## manually add \"start\" and \"stop\" col\n",
    "dat_tv3 = dat_tv3.rename(columns={'y3': 'event', 'visit':'stop'})\n",
    "dat_tv3['start'] = 2"
   ]
  },
  {
   "cell_type": "code",
   "execution_count": null,
   "id": "85dc77a2",
   "metadata": {},
   "outputs": [],
   "source": [
    "# merge\n",
    "\n",
    "dat_tv12 = pd.concat([dat_tv1, dat_tv2])\n",
    "dat_tv123 = pd.concat([dat_tv12, dat_tv3])\n",
    "dat_tv = dat_tv123.sort_values(by=['subjid'])\n",
    "dat_tv = dat_tv.loc[:,['subjid', 'event','start','stop',\n",
    "                       'nbSESpc2score', 'nbK3paFacilities','N_UNFAV_CT00', 'G_bla_rk',\n",
    "                   'sportIndex','hyIndex','activeIndex','darkgrnVeg', 'eggs','fish', \n",
    "                   'age','gender', 'currentSmoker', 'Diabetes','sbp','hdl','totchol']]\n"
   ]
  },
  {
   "cell_type": "code",
   "execution_count": null,
   "id": "b1a8774f",
   "metadata": {},
   "outputs": [],
   "source": [
    "# dummy coding\n",
    "cols_to_convert = ['nbSESpc2score', 'nbK3paFacilities','N_UNFAV_CT00', 'G_bla_rk',\n",
    "                   'sportIndex','hyIndex','activeIndex','darkgrnVeg', 'eggs','fish', \n",
    "                   'gender', 'currentSmoker', 'Diabetes']\n",
    "\n",
    "dat_tv[cols_to_convert] = dat_tv[cols_to_convert].astype('category')\n",
    "\n",
    "dummy_cols = pd.get_dummies(dat_tv[cols_to_convert])\n",
    "dat_tv = dat_tv.drop(cols_to_convert, axis=1)\n",
    "dat_tv = pd.concat([dat_tv, dummy_cols], axis=1)\n",
    "dat_tv"
   ]
  },
  {
   "cell_type": "markdown",
   "id": "3af79f60",
   "metadata": {},
   "source": [
    "### fit"
   ]
  },
  {
   "cell_type": "code",
   "execution_count": null,
   "id": "77a16473",
   "metadata": {},
   "outputs": [],
   "source": [
    "ctv = CoxTimeVaryingFitter(penalizer=0.1)\n",
    "ctv.fit(dat_tv, id_col=\"subjid\",event_col=\"event\", start_col=\"start\", stop_col=\"stop\", show_progress=False)\n",
    "ctv.print_summary()"
   ]
  },
  {
   "cell_type": "code",
   "execution_count": null,
   "id": "3c3df284",
   "metadata": {},
   "outputs": [],
   "source": []
  }
 ],
 "metadata": {
  "kernelspec": {
   "display_name": "Python 3",
   "language": "python",
   "name": "python3"
  },
  "language_info": {
   "codemirror_mode": {
    "name": "ipython",
    "version": 3
   },
   "file_extension": ".py",
   "mimetype": "text/x-python",
   "name": "python",
   "nbconvert_exporter": "python",
   "pygments_lexer": "ipython3",
   "version": "3.8.3"
  }
 },
 "nbformat": 4,
 "nbformat_minor": 5
}
