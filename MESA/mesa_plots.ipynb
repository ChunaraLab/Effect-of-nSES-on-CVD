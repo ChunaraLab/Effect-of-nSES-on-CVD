{
 "cells": [
  {
   "cell_type": "code",
   "execution_count": null,
   "id": "5e334923",
   "metadata": {},
   "outputs": [],
   "source": [
    "# Import libraries\n",
    "import pandas as pd\n",
    "import seaborn as sns\n",
    "import numpy as np\n",
    "import matplotlib.pyplot as plt\n",
    "import os\n",
    "\n",
    "from lifelines.fitters.coxph_fitter import CoxPHFitter\n",
    "from lifelines.statistics import proportional_hazard_test\n",
    "from lifelines import KaplanMeierFitter\n",
    "\n",
    "import statsmodels.api as sm\n",
    "import statsmodels.formula.api as smf"
   ]
  },
  {
   "cell_type": "code",
   "execution_count": null,
   "id": "5725aa33",
   "metadata": {},
   "outputs": [],
   "source": [
    "mesa_ori=pd.read_csv(\"../../data/exam_1_with_outcome_nses.csv\")\n",
    "mesa=pd.read_csv(\"../../code/thesis_code/mesa_preprocess_entire.csv\")"
   ]
  },
  {
   "cell_type": "markdown",
   "id": "a28fe37c",
   "metadata": {},
   "source": [
    "## Descriptive Statistics"
   ]
  },
  {
   "cell_type": "markdown",
   "id": "39616f72",
   "metadata": {},
   "source": [
    "### Gender"
   ]
  },
  {
   "cell_type": "code",
   "execution_count": null,
   "id": "ee29e8cf",
   "metadata": {},
   "outputs": [],
   "source": [
    "select_exam_1=mesa_ori[['idno','site1c','gender1','race1c','age1c','cig1c','chol1','hdl1','sbp1c','diabet1','nSES','y']]\n",
    "select_exam_1['race_2']=np.where(select_exam_1['race1c']==3,1,0)\n",
    "\n",
    "select_exam_gender=select_exam_1[['idno','site1c','gender1','y']]\n",
    "list_gender=select_exam_gender.groupby(['site1c','y','gender1'])['idno'].count().to_list()\n"
   ]
  },
  {
   "cell_type": "code",
   "execution_count": null,
   "id": "7b136b8e",
   "metadata": {},
   "outputs": [],
   "source": [
    "#plot for gender\n",
    "\n",
    "plt.rcParams[\"figure.figsize\"] = (20,10)\n",
    "# Set position of bar on X axis\n",
    "barWidth = 0.45\n",
    "r1 = np.array([1,2,5,6,9,10,13,14,17,18,21,22])\n",
    "r2 = [x + barWidth for x in r1]\n",
    "\n",
    "colors = ['#003F5B',\n",
    "          '#A05195']\n",
    "\n",
    "# Make the plot\n",
    "plt.bar(r1, height=list_gender[0:24:2], color=colors[0], width=barWidth, edgecolor='white',label = 'gender=0 Feamle')\n",
    "plt.bar(r2, height=list_gender[1:24:2], color=colors[1], width=barWidth, edgecolor='white',label = 'gender=1 Male')\n",
    "plt.xticks([r + barWidth*0.5 for r in r1], ['y=0', 'y=1\\nWake Forest University            \\nsite 3                ','y=0', 'y=1\\nColumbia University             \\nsite 4                ','y=0', 'y=1\\nJohns Hopkins University            \\nsite 5                ','y=0', 'y=1\\nUniversity of Minnesota           \\nsite 6                ','y=0', 'y=1\\nNorthwestern University            \\nsite 7                ','y=0', 'y=1\\nUCLA               \\nsite 8              '],fontsize=10)\n",
    "plt.yticks(fontsize=16)\n",
    "# Create legend & Show graphic\n",
    "plt.xlabel('Control (y=0) and Incident (y=1) Group')\n",
    "plt.ylabel('Count')\n",
    "plt.title('Gender Distribution of different sites')\n",
    "plt.legend(fontsize=13)\n",
    "plt.show()"
   ]
  },
  {
   "cell_type": "code",
   "execution_count": null,
   "id": "7ca54c27",
   "metadata": {},
   "outputs": [],
   "source": [
    "select_exam_gender2=select_exam_1[['idno','gender1','y']]\n",
    "list_gender2=select_exam_gender2.groupby(['y','gender1'])['idno'].count().to_list()"
   ]
  },
  {
   "cell_type": "code",
   "execution_count": null,
   "id": "2555d771",
   "metadata": {},
   "outputs": [],
   "source": [
    "#plot for gender\n",
    "\n",
    "plt.rcParams[\"figure.figsize\"] = (20,10)\n",
    "# Set position of bar on X axis\n",
    "barWidth = 0.45\n",
    "r1 = np.array([1,3])\n",
    "r2 = [x + barWidth for x in r1]\n",
    "\n",
    "colors = ['#003F5B',\n",
    "          '#A05195']\n",
    "\n",
    "# Make the plot\n",
    "plt.bar(r1, height=list_gender2[0:4:2], color=colors[0], width=barWidth, edgecolor='white',label = 'gender=0 Feamle')\n",
    "plt.bar(r2, height=list_gender2[1:4:2], color=colors[1], width=barWidth, edgecolor='white',label = 'gender=1 Male')\n",
    "plt.xticks([r + barWidth*0.5 for r in r1], ['y=0', 'y=1'],fontsize=10)\n",
    "plt.yticks(fontsize=16)\n",
    "# Create legend & Show graphic\n",
    "plt.xlabel('Control (y=0) and Incident (y=1) Group')\n",
    "plt.ylabel('Count')\n",
    "plt.title('Gender Distribution')\n",
    "plt.text(0.95, 2850, \"2826\",fontsize=13)\n",
    "plt.text(1.4, 2350, \"2331\",fontsize=13)\n",
    "plt.text(2.95, 430, \"419\",fontsize=13)\n",
    "plt.text(3.4, 620, \"613\",fontsize=13)\n",
    "plt.legend(fontsize=13)\n",
    "plt.show()"
   ]
  },
  {
   "cell_type": "markdown",
   "id": "d1b68ec5",
   "metadata": {},
   "source": [
    "### Race"
   ]
  },
  {
   "cell_type": "code",
   "execution_count": null,
   "id": "aaba88a3",
   "metadata": {},
   "outputs": [],
   "source": [
    "race1c_exam_1=select_exam_1[['idno','site1c','race1c','y']]\n",
    "count_race1c=race1c_exam_1.groupby(['site1c','y','race1c']).count()\n",
    "\n",
    "#new data frame\n",
    "a=np.array([3,4,5,6,7,8])\n",
    "df = pd.DataFrame(columns=[\"site1c\", \"y\", \"race1c\"])\n",
    "df['site1c']=a.repeat(8)\n",
    "df['y']=[0,0,0,0,1,1,1,1]*6\n",
    "df['race1c']=[1,2,3,4]*12\n",
    "\n",
    "\n",
    "join_race=pd.merge(df,count_race1c, how=\"left\",on=['site1c','y','race1c'])\n",
    "join_race=join_race.fillna(value=0)"
   ]
  },
  {
   "cell_type": "code",
   "execution_count": null,
   "id": "2cbbeb39",
   "metadata": {},
   "outputs": [],
   "source": [
    "\n",
    "#plot for race1c\n",
    "\n",
    "plt.rcParams[\"figure.figsize\"] = (20,10)\n",
    "# Set position of bar on X axis\n",
    "barWidth = 0.2\n",
    "r1 = np.array([1,2,4,5,7,8,10,11,13,14,16,17])\n",
    "r2 = [x + barWidth for x in r1]\n",
    "r3 = [x + barWidth for x in r2]\n",
    "r4 = [x + barWidth for x in r3]\n",
    "\n",
    "colors = ['#003F5B',\n",
    "          '#A05195',\n",
    "          '#DDA0DD',\n",
    "          '#D8BFD8']\n",
    "\n",
    "# Make the plot\n",
    "plt.bar(r1, height=join_race['idno'].to_list()[0:48:4], color=colors[0], width=barWidth, edgecolor='white',label = '1: White, Caucasian')\n",
    "plt.bar(r2, height=join_race['idno'].to_list()[1:48:4], color=colors[1], width=barWidth, edgecolor='white',label = '2: Chinese American')\n",
    "plt.bar(r3, height=join_race['idno'].to_list()[2:48:4], color=colors[2], width=barWidth, edgecolor='white',label = '3: Black, African-American')\n",
    "plt.bar(r4, height=join_race['idno'].to_list()[3:48:4], color=colors[3], width=barWidth, edgecolor='white',label = '4: Hispanic')\n",
    "plt.xticks([r + barWidth*1.5 for r in r1], ['y=0', 'y=1\\nWake Forest University            \\nsite 3                ','y=0', 'y=1\\nColumbia University             \\nsite 4                ','y=0', 'y=1\\nJohns Hopkins University            \\nsite 5                ','y=0', 'y=1\\nUniversity of Minnesota           \\nsite 6                ','y=0', 'y=1\\nNorthwestern University            \\nsite 7                ','y=0', 'y=1\\nUCLA               \\nsite 8              '],fontsize=10)\n",
    "plt.yticks(fontsize=16)\n",
    "# Create legend & Show graphic\n",
    "plt.xlabel('Control (y=0) and Incident (y=1) Group',fontsize=12)\n",
    "plt.ylabel('Count',fontsize=12)\n",
    "plt.title('Race Distribution of different sites',fontsize=12)\n",
    "plt.legend(fontsize=13)\n",
    "plt.show()"
   ]
  },
  {
   "cell_type": "code",
   "execution_count": null,
   "id": "7ef36e37",
   "metadata": {},
   "outputs": [],
   "source": [
    "race1c_exam_1_2=select_exam_1[['idno','race1c','y']]\n",
    "list_race1c2=race1c_exam_1_2.groupby(['y','race1c'])['idno'].count().to_list()"
   ]
  },
  {
   "cell_type": "code",
   "execution_count": null,
   "id": "96732f87",
   "metadata": {},
   "outputs": [],
   "source": [
    "#plot for race1c\n",
    "\n",
    "plt.rcParams[\"figure.figsize\"] = (20,10)\n",
    "# Set position of bar on X axis\n",
    "barWidth = 0.2\n",
    "r1 = np.array([1,3])\n",
    "r2 = [x + barWidth for x in r1]\n",
    "r3 = [x + barWidth for x in r2]\n",
    "r4 = [x + barWidth for x in r3]\n",
    "\n",
    "colors = ['#003F5B',\n",
    "          '#A05195',\n",
    "          '#DDA0DD',\n",
    "          '#D8BFD8']\n",
    "\n",
    "# Make the plot\n",
    "plt.bar(r1, height=list_race1c2[0:8:4], color=colors[0], width=barWidth, edgecolor='white',label = '1: White, Caucasian')\n",
    "plt.bar(r2, height=list_race1c2[1:8:4], color=colors[1], width=barWidth, edgecolor='white',label = '2: Chinese American')\n",
    "plt.bar(r3, height=list_race1c2[2:8:4], color=colors[2], width=barWidth, edgecolor='white',label = '3: Black, African-American')\n",
    "plt.bar(r4, height=list_race1c2[3:8:4], color=colors[3], width=barWidth, edgecolor='white',label = '4: Hispanic')\n",
    "plt.xticks([r + barWidth*1.5 for r in r1], ['y=0', 'y=1'],fontsize=13)\n",
    "plt.yticks(fontsize=16)\n",
    "# Create legend & Show graphic\n",
    "plt.xlabel('Control (y=0) and Incident (y=1) Group',fontsize=12)\n",
    "plt.ylabel('Count',fontsize=12)\n",
    "plt.title('Race Distribution',fontsize=12)\n",
    "plt.text(0.95, 2015, \"2004\",fontsize=13)\n",
    "plt.text(1.15, 643, \"624\",fontsize=13)\n",
    "plt.text(1.35, 1435, \"1430\",fontsize=13)\n",
    "plt.text(1.55, 1103, \"1099\",fontsize=13)\n",
    "plt.text(2.95, 440, \"427\",fontsize=13)\n",
    "plt.text(3.17, 110, \"105\",fontsize=13)\n",
    "plt.text(3.35, 265, \"263\",fontsize=13)\n",
    "plt.text(3.55, 250, \"237\",fontsize=13)\n",
    "plt.legend(fontsize=13)\n",
    "plt.show()"
   ]
  },
  {
   "cell_type": "markdown",
   "id": "f52df6d1",
   "metadata": {},
   "source": [
    "### Race recoded"
   ]
  },
  {
   "cell_type": "code",
   "execution_count": null,
   "id": "1641404a",
   "metadata": {},
   "outputs": [],
   "source": [
    "race1c_exam_1_3=select_exam_1[['idno','site1c','race_2','y']]\n",
    "list_race1c3=race1c_exam_1_3.groupby(['y','race_2'])['idno'].count().to_list()"
   ]
  },
  {
   "cell_type": "code",
   "execution_count": null,
   "id": "632012c4",
   "metadata": {},
   "outputs": [],
   "source": [
    "#plot for recode race\n",
    "\n",
    "plt.rcParams[\"figure.figsize\"] = (20,10)\n",
    "# Set position of bar on X axis\n",
    "barWidth = 0.45\n",
    "r1 = np.array([1,3])\n",
    "r2 = [x + barWidth for x in r1]\n",
    "\n",
    "colors = ['#003F5B',\n",
    "          '#A05195']\n",
    "\n",
    "# Make the plot\n",
    "plt.bar(r1, height=list_race1c3[0:4:2], color=colors[0], width=barWidth, edgecolor='white',label = 'gender=0 Others')\n",
    "plt.bar(r2, height=list_race1c3[1:4:2], color=colors[1], width=barWidth, edgecolor='white',label = 'gender=1 Black Racial Group')\n",
    "plt.xticks([r + barWidth*0.5 for r in r1], ['y=0', 'y=1'],fontsize=10)\n",
    "plt.yticks(fontsize=16)\n",
    "# Create legend & Show graphic\n",
    "plt.xlabel('Control (y=0) and Incident (y=1) Group')\n",
    "plt.ylabel('Count')\n",
    "plt.title('Race Distribution')\n",
    "plt.text(0.95, 3750, \"3727\",fontsize=13)\n",
    "plt.text(1.4, 1440, \"1430\",fontsize=13)\n",
    "plt.text(2.95, 780, \"769\",fontsize=13)\n",
    "plt.text(3.4, 270, \"263\",fontsize=13)\n",
    "plt.legend(fontsize=13)\n",
    "plt.show()"
   ]
  },
  {
   "cell_type": "code",
   "execution_count": null,
   "id": "08f13462",
   "metadata": {},
   "outputs": [],
   "source": [
    "count_race1c4=race1c_exam_1_3.groupby(['site1c','y','race_2']).count()\n",
    "\n",
    "#new data frame\n",
    "a=np.array([3,4,5,6,7,8])\n",
    "df = pd.DataFrame(columns=[\"site1c\", \"y\", \"race_2\"])\n",
    "df['site1c']=a.repeat(4)\n",
    "df['y']=[0,0,1,1]*6\n",
    "df['race_2']=[0,1]*12\n",
    "\n",
    "\n",
    "join_race2=pd.merge(df,count_race1c4, how=\"left\",on=['site1c','y','race_2'])\n",
    "join_race2=join_race2.fillna(value=0)"
   ]
  },
  {
   "cell_type": "code",
   "execution_count": null,
   "id": "c9a6ac21",
   "metadata": {},
   "outputs": [],
   "source": [
    "#plot for race1c_recoded\n",
    "\n",
    "plt.rcParams[\"figure.figsize\"] = (20,10)\n",
    "# Set position of bar on X axis\n",
    "barWidth = 0.45\n",
    "r1 = np.array([1,2,5,6,9,10,13,14,17,18,21,22])\n",
    "r2 = [x + barWidth for x in r1]\n",
    "\n",
    "colors = ['#003F5B',\n",
    "          '#A05195']\n",
    "\n",
    "# Make the plot\n",
    "plt.bar(r1, height=join_race2['idno'].to_list()[0:24:2], color=colors[0], width=barWidth, edgecolor='white',label = '0: Other')\n",
    "plt.bar(r2, height=join_race2['idno'].to_list()[1:24:2], color=colors[1], width=barWidth, edgecolor='white',label = '1: Black, African-American')\n",
    " \n",
    "# Add xticks on the middle of the group bars\n",
    "# plt.xlabel('group', fontweight='bold')\n",
    "#plt.xticks([r + barWidth*0.5 for r in r1], ['y=0', 'y=1\\nsite3:WFU           ','y=0', 'y=1\\nsite4:COL            ','y=0', 'y=1\\nsite5:JHU           ','y=0', 'y=1\\nsite6:UMN           ','y=0', 'y=1\\nsite7:NWU            ','y=0', 'y=1\\nsite8:UCLA           '],fontsize=10)\n",
    "#plt.xticks([r + barWidth*0.5 for r in r1], ['y=0', 'y=1\\nWake Forest University            ','y=0', 'y=1\\nColumbia University             ','y=0', 'y=1\\nJohns Hopkins University            ','y=0', 'y=1\\nUniversity of Minnesota           ','y=0', 'y=1\\nNorthwestern University            ','y=0', 'y=1\\nUCLA               '],fontsize=10)\n",
    "plt.xticks([r + barWidth*0.5 for r in r1], ['y=0', 'y=1\\nWake Forest University            \\nsite 3                ','y=0', 'y=1\\nColumbia University             \\nsite 4                ','y=0', 'y=1\\nJohns Hopkins University            \\nsite 5                ','y=0', 'y=1\\nUniversity of Minnesota           \\nsite 6                ','y=0', 'y=1\\nNorthwestern University            \\nsite 7                ','y=0', 'y=1\\nUCLA               \\nsite 8              '],fontsize=10)\n",
    "plt.yticks(fontsize=16)\n",
    "# Create legend & Show graphic\n",
    "plt.xlabel('Control (y=0) and Incident (y=1) Group')\n",
    "plt.ylabel('Count')\n",
    "plt.title('Race Distribution of different sites')\n",
    "plt.legend(fontsize=13)\n",
    "plt.show()"
   ]
  },
  {
   "cell_type": "markdown",
   "id": "e13db70f",
   "metadata": {},
   "source": [
    "### Age"
   ]
  },
  {
   "cell_type": "code",
   "execution_count": null,
   "id": "d7a7ddae",
   "metadata": {},
   "outputs": [],
   "source": [
    "age_0 = select_exam_1[select_exam_1['y'] == 0]\n",
    "age_1 = select_exam_1[select_exam_1['y'] == 1] "
   ]
  },
  {
   "cell_type": "code",
   "execution_count": null,
   "id": "9c35eb4a",
   "metadata": {},
   "outputs": [],
   "source": [
    "sns.kdeplot(age_0['age1c'], shade=True, label = 'no CVD')\n",
    "sns.kdeplot(age_1['age1c'], shade=True, label = 'CVD')\n",
    "plt.xlabel('Age \\n Control (y=0,no CVD) and Incident (y=1,CVD) Group',fontsize=12)\n",
    "plt.ylabel('Density',fontsize=12)\n",
    "plt.title('Age Distribution',fontsize=12)\n",
    "plt.legend(fontsize=12)\n",
    "plt.show()"
   ]
  },
  {
   "cell_type": "markdown",
   "id": "8e66a502",
   "metadata": {},
   "source": [
    "### Chol1"
   ]
  },
  {
   "cell_type": "code",
   "execution_count": null,
   "id": "0c5264d6",
   "metadata": {},
   "outputs": [],
   "source": [
    "chol_0 = select_exam_1[select_exam_1['y'] == 0]\n",
    "chol_1 = select_exam_1[select_exam_1['y'] == 1]"
   ]
  },
  {
   "cell_type": "code",
   "execution_count": null,
   "id": "77a885e3",
   "metadata": {},
   "outputs": [],
   "source": [
    "sns.kdeplot(chol_0['chol1'], shade=True, label = 'no CVD')\n",
    "sns.kdeplot(chol_1['chol1'], shade=True, label = 'CVD')\n",
    "plt.xlabel('Total Lipoprotein Cholesterol \\n Control (y=0,no CVD) and Incident (y=1,CVD) Group',fontsize=12)\n",
    "plt.ylabel('Density',fontsize=12)\n",
    "plt.title('Total Lipoprotein Cholesterol Distribution',fontsize=12)\n",
    "plt.legend(fontsize=12)\n",
    "plt.show()"
   ]
  },
  {
   "cell_type": "markdown",
   "id": "1b54ac52",
   "metadata": {},
   "source": [
    "## hdl1"
   ]
  },
  {
   "cell_type": "code",
   "execution_count": null,
   "id": "1560457d",
   "metadata": {},
   "outputs": [],
   "source": [
    "hdl_0 = select_exam_1[select_exam_1['y'] == 0]\n",
    "hdl_1 = select_exam_1[select_exam_1['y'] == 1] "
   ]
  },
  {
   "cell_type": "code",
   "execution_count": null,
   "id": "e91c7341",
   "metadata": {},
   "outputs": [],
   "source": [
    "sns.kdeplot(hdl_0['hdl1'], shade=True, label = 'no CVD')\n",
    "sns.kdeplot(hdl_1['hdl1'], shade=True, label = 'CVD')\n",
    "plt.xlabel('High-Density Lipoprotein Cholesterol  \\n Control (y=0,no CVD) and Incident (y=1,CVD) Group',fontsize=12)\n",
    "plt.ylabel('Density',fontsize=12)\n",
    "plt.title('High-Density Lipoprotein Cholesterol  Distribution',fontsize=12)\n",
    "plt.legend(fontsize=12)\n",
    "plt.show()"
   ]
  },
  {
   "cell_type": "markdown",
   "id": "54a84c03",
   "metadata": {},
   "source": [
    "### sbp1c"
   ]
  },
  {
   "cell_type": "code",
   "execution_count": null,
   "id": "a29d04e6",
   "metadata": {},
   "outputs": [],
   "source": [
    "sbp_0 = select_exam_1[select_exam_1['y'] == 0]\n",
    "sbp_1 = select_exam_1[select_exam_1['y'] == 1] "
   ]
  },
  {
   "cell_type": "code",
   "execution_count": null,
   "id": "849eca2c",
   "metadata": {},
   "outputs": [],
   "source": [
    "sns.kdeplot(sbp_0['sbp1c'], shade=True, label = 'no CVD')\n",
    "sns.kdeplot(sbp_1['sbp1c'], shade=True, label = 'CVD')\n",
    "plt.xlabel('Treated or Untreated Systolic Blood Pressure  \\n Control (y=0,no CVD) and Incident (y=1,CVD) Group',fontsize=12)\n",
    "plt.ylabel('Density',fontsize=12)\n",
    "plt.title('Treated or Untreated Systolic Blood Pressure  Distribution',fontsize=12)\n",
    "plt.legend(fontsize=12)\n",
    "plt.show()"
   ]
  },
  {
   "cell_type": "markdown",
   "id": "cafa4c9c",
   "metadata": {},
   "source": [
    "### cig1c"
   ]
  },
  {
   "cell_type": "code",
   "execution_count": null,
   "id": "f0136d06",
   "metadata": {},
   "outputs": [],
   "source": [
    "cig1c_exam_1=select_exam_1[['idno','site1c','cig1c','y']]\n",
    "list_cig1c=cig1c_exam_1.groupby(['site1c','y','cig1c'])['idno'].count().to_list()"
   ]
  },
  {
   "cell_type": "code",
   "execution_count": null,
   "id": "2091e993",
   "metadata": {},
   "outputs": [],
   "source": [
    "#plot for cig1c\n",
    "\n",
    "plt.rcParams[\"figure.figsize\"] = (20,10)\n",
    "# Set position of bar on X axis\n",
    "barWidth = 0.28\n",
    "r1 = np.array([1,2,4,5,7,8,10,11,13,14,16,17])\n",
    "r2 = [x + barWidth for x in r1]\n",
    "r3 = [x + barWidth for x in r2]\n",
    "\n",
    "colors = ['#003F5B',\n",
    "          '#A05195',\n",
    "          '#DDA0DD']\n",
    "\n",
    "# Make the plot\n",
    "plt.bar(r1, height=list_cig1c[0:36:3], color=colors[0], width=barWidth, edgecolor='white',label = 'cig1c=0 Never')\n",
    "plt.bar(r2, height=list_cig1c[1:36:3], color=colors[1], width=barWidth, edgecolor='white',label = 'cig1c=1 Former')\n",
    "plt.bar(r3, height=list_cig1c[2:36:3], color=colors[2], width=barWidth, edgecolor='white',label = 'cig1c=2 Current')\n",
    "plt.xticks([r + barWidth*1 for r in r1], ['y=0', 'y=1\\nWake Forest University            \\nsite 3                ','y=0', 'y=1\\nColumbia University             \\nsite 4                ','y=0', 'y=1\\nJohns Hopkins University            \\nsite 5                ','y=0', 'y=1\\nUniversity of Minnesota           \\nsite 6                ','y=0', 'y=1\\nNorthwestern University            \\nsite 7                ','y=0', 'y=1\\nUCLA               \\nsite 8              '],fontsize=10)\n",
    "plt.yticks(fontsize=16)\n",
    "# Create legend & Show graphic\n",
    "plt.xlabel('Control (y=0) and Incident (y=1) Group',fontsize=12)\n",
    "plt.ylabel('Count',fontsize=12)\n",
    "plt.title('Cigarette Smoking Status Distribution of different sites',fontsize=12)\n",
    "plt.legend(fontsize=13)\n",
    "plt.show()"
   ]
  },
  {
   "cell_type": "markdown",
   "id": "13194290",
   "metadata": {},
   "source": [
    "### cig1c recoded"
   ]
  },
  {
   "cell_type": "code",
   "execution_count": null,
   "id": "5da2c8f9",
   "metadata": {},
   "outputs": [],
   "source": [
    "cig1c_exam_1['cig1c'] = cig1c_exam_1['cig1c'].replace(2,1)\n",
    "cig1c_exam_1['cig1c'] = cig1c_exam_1['cig1c'].fillna(value=0)\n",
    "list_cig1c=cig1c_exam_1.groupby(['site1c','y','cig1c'])['idno'].count().to_list()"
   ]
  },
  {
   "cell_type": "code",
   "execution_count": null,
   "id": "0f46388b",
   "metadata": {},
   "outputs": [],
   "source": [
    "#plot for cig1c_recode\n",
    "\n",
    "plt.rcParams[\"figure.figsize\"] = (20,10)\n",
    "# Set position of bar on X axis\n",
    "barWidth = 0.45\n",
    "r1 = np.array([1,2,5,6,9,10,13,14,17,18,21,22])\n",
    "r2 = [x + barWidth for x in r1]\n",
    "\n",
    "colors = ['#003F5B',\n",
    "          '#A05195']\n",
    "\n",
    "# Make the plot\n",
    "plt.bar(r1, height=list_cig1c[0:24:2], color=colors[0], width=barWidth, edgecolor='white',label = '0: Other')\n",
    "plt.bar(r2, height=list_cig1c[1:24:2], color=colors[1], width=barWidth, edgecolor='white',label = '1: ever or currently smokes')\n",
    "plt.xticks([r + barWidth*0.5 for r in r1], ['y=0', 'y=1\\nWake Forest University            \\nsite 3                ','y=0', 'y=1\\nColumbia University             \\nsite 4                ','y=0', 'y=1\\nJohns Hopkins University            \\nsite 5                ','y=0', 'y=1\\nUniversity of Minnesota           \\nsite 6                ','y=0', 'y=1\\nNorthwestern University            \\nsite 7                ','y=0', 'y=1\\nUCLA               \\nsite 8              '],fontsize=10)\n",
    "plt.yticks(fontsize=16)\n",
    "# Create legend & Show graphic\n",
    "plt.xlabel('Control (y=0) and Incident (y=1) Group')\n",
    "plt.ylabel('Count')\n",
    "plt.title('Cigarette Smoking Status recoded Distribution of different sites')\n",
    "plt.legend(fontsize=13)\n",
    "plt.show()"
   ]
  },
  {
   "cell_type": "markdown",
   "id": "8a7cdff0",
   "metadata": {},
   "source": [
    "### Diabete"
   ]
  },
  {
   "cell_type": "code",
   "execution_count": null,
   "id": "c8a9de60",
   "metadata": {},
   "outputs": [],
   "source": [
    "diabet1_exam_1=select_exam_1[['idno','site1c','diabet1','y']]\n",
    "count_diabet1=diabet1_exam_1.groupby(['site1c','y','diabet1']).count()"
   ]
  },
  {
   "cell_type": "code",
   "execution_count": null,
   "id": "de271c35",
   "metadata": {},
   "outputs": [],
   "source": [
    "#new data frame\n",
    "a=np.array([3,4,5,6,7,8])\n",
    "df_d = pd.DataFrame(columns=[\"site1c\", \"y\", \"diabet1\"])\n",
    "df_d['site1c']=a.repeat(6)\n",
    "df_d['y']=[0,0,0,1,1,1]*6\n",
    "df_d['diabet1']=[0,1,9]*12\n",
    "\n",
    "\n",
    "join_diabet1=pd.merge(df_d,count_diabet1, how=\"left\",on=['site1c','y','diabet1'])\n",
    "join_diabet1=join_diabet1.fillna(value=0)\n"
   ]
  },
  {
   "cell_type": "code",
   "execution_count": null,
   "id": "fdfcd34b",
   "metadata": {},
   "outputs": [],
   "source": [
    "#plot for diabete\n",
    "\n",
    "plt.rcParams[\"figure.figsize\"] = (20,10)\n",
    "# Set position of bar on X axis\n",
    "barWidth = 0.28\n",
    "r1 = np.array([1,2,4,5,7,8,10,11,13,14,16,17])\n",
    "r2 = [x + barWidth for x in r1]\n",
    "r3 = [x + barWidth for x in r2]\n",
    "\n",
    "\n",
    "colors = ['#003F5B',\n",
    "          '#A05195',\n",
    "          '#DDA0DD']\n",
    "\n",
    "# Make the plot\n",
    "plt.bar(r1, height=join_diabet1['idno'].to_list()[0:36:3], color=colors[0], width=barWidth, edgecolor='white',label = '0:No')\n",
    "plt.bar(r2, height=join_diabet1['idno'].to_list()[1:36:3], color=colors[1], width=barWidth, edgecolor='white',label = '1:Yes')\n",
    "plt.bar(r3, height=join_diabet1['idno'].to_list()[2:36:3], color=colors[2], width=barWidth, edgecolor='white',label = '9:Do not Know')\n",
    "plt.xticks([r + barWidth*0.5 for r in r1], ['y=0', 'y=1\\nWake Forest University            \\nsite 3                ','y=0', 'y=1\\nColumbia University             \\nsite 4                ','y=0', 'y=1\\nJohns Hopkins University            \\nsite 5                ','y=0', 'y=1\\nUniversity of Minnesota           \\nsite 6                ','y=0', 'y=1\\nNorthwestern University            \\nsite 7                ','y=0', 'y=1\\nUCLA               \\nsite 8              '],fontsize=10)\n",
    "plt.yticks(fontsize=16)\n",
    "# Create legend & Show graphic\n",
    "plt.xlabel('Control (y=0) and Incident (y=1) Group',fontsize=12)\n",
    "plt.ylabel('Count',fontsize=12)\n",
    "plt.title('Diabetes Distribution of different sites',fontsize=12)\n",
    "plt.legend(fontsize=13)\n",
    "plt.show()"
   ]
  },
  {
   "cell_type": "code",
   "execution_count": null,
   "id": "f8ab6d56",
   "metadata": {},
   "outputs": [],
   "source": [
    "diabet1_exam_1_2=select_exam_1[['idno','site1c','diabet1','y']]\n",
    "diabet1_exam_1_2['diabet1'] = diabet1_exam_1_2['diabet1'].replace(9,0) #fill DK as 0\n",
    "diabet1_exam_1_2['diabet1'] = diabet1_exam_1_2['diabet1'].fillna(value=0)\n",
    "list_diabet12=diabet1_exam_1_2.groupby(['site1c','y','diabet1'])['idno'].count().to_list()\n"
   ]
  },
  {
   "cell_type": "code",
   "execution_count": null,
   "id": "360217b9",
   "metadata": {},
   "outputs": [],
   "source": [
    "#plot for diabete recoded\n",
    "\n",
    "plt.rcParams[\"figure.figsize\"] = (20,10)\n",
    "# Set position of bar on X axis\n",
    "barWidth = 0.45\n",
    "r1 = np.array([1,2,5,6,9,10,13,14,17,18,21,22])\n",
    "r2 = [x + barWidth for x in r1]\n",
    "\n",
    "colors = ['#003F5B',\n",
    "          '#A05195']\n",
    "\n",
    "# Make the plot\n",
    "plt.bar(r1, height=list_diabet12[0:24:2], color=colors[0], width=barWidth, edgecolor='white',label = 'nSES=0 Low nSES Group')\n",
    "plt.bar(r2, height=list_diabet12[1:24:2], color=colors[1], width=barWidth, edgecolor='white',label = 'nSES=1 High nSES Group')\n",
    "plt.xticks([r + barWidth*0.5 for r in r1], ['y=0', 'y=1\\nWake Forest University            \\nsite 3                ','y=0', 'y=1\\nColumbia University             \\nsite 4                ','y=0', 'y=1\\nJohns Hopkins University            \\nsite 5                ','y=0', 'y=1\\nUniversity of Minnesota           \\nsite 6                ','y=0', 'y=1\\nNorthwestern University            \\nsite 7                ','y=0', 'y=1\\nUCLA               \\nsite 8              '],fontsize=10)\n",
    "plt.yticks(fontsize=16)\n",
    "# Create legend & Show graphic\n",
    "plt.xlabel('Control (y=0) and Incident (y=1) Group')\n",
    "plt.ylabel('Count')\n",
    "plt.title('diabete recoded Distribution of different sites')\n",
    "plt.legend(fontsize=13)\n",
    "plt.show()"
   ]
  },
  {
   "cell_type": "markdown",
   "id": "737e43be",
   "metadata": {},
   "source": [
    "### nSES"
   ]
  },
  {
   "cell_type": "code",
   "execution_count": null,
   "id": "df43800e",
   "metadata": {},
   "outputs": [],
   "source": [
    "select_exam_nses=select_exam_1[['idno','site1c','nSES','y']]\n",
    "list_nses=select_exam_nses.groupby(['site1c','y','nSES'])['idno'].count().to_list()"
   ]
  },
  {
   "cell_type": "code",
   "execution_count": null,
   "id": "caf92f7e",
   "metadata": {},
   "outputs": [],
   "source": [
    "#plot for nSES\n",
    "\n",
    "plt.rcParams[\"figure.figsize\"] = (20,10)\n",
    "# Set position of bar on X axis\n",
    "barWidth = 0.45\n",
    "r1 = np.array([1,2,5,6,9,10,13,14,17,18,21,22])\n",
    "r2 = [x + barWidth for x in r1]\n",
    "\n",
    "colors = ['#003F5B',\n",
    "          '#A05195']\n",
    "\n",
    "# Make the plot\n",
    "plt.bar(r1, height=list_nses[0:24:2], color=colors[0], width=barWidth, edgecolor='white',label = 'nSES=0 Low nSES Group')\n",
    "plt.bar(r2, height=list_nses[1:24:2], color=colors[1], width=barWidth, edgecolor='white',label = 'nSES=1 High nSES Group')\n",
    "plt.xticks([r + barWidth*0.5 for r in r1], ['y=0', 'y=1\\nWake Forest University            \\nsite 3                ','y=0', 'y=1\\nColumbia University             \\nsite 4                ','y=0', 'y=1\\nJohns Hopkins University            \\nsite 5                ','y=0', 'y=1\\nUniversity of Minnesota           \\nsite 6                ','y=0', 'y=1\\nNorthwestern University            \\nsite 7                ','y=0', 'y=1\\nUCLA               \\nsite 8              '],fontsize=10)\n",
    "plt.yticks(fontsize=16)\n",
    "# Create legend & Show graphic\n",
    "plt.xlabel('Control (y=0) and Incident (y=1) Group')\n",
    "plt.ylabel('Count')\n",
    "plt.title('nSES Distribution of different sites')\n",
    "plt.legend(fontsize=13)\n",
    "plt.show()"
   ]
  },
  {
   "cell_type": "code",
   "execution_count": null,
   "id": "5106250f",
   "metadata": {},
   "outputs": [],
   "source": [
    "list_nses2=select_exam_nses.groupby(['y','nSES'])['idno'].count().to_list()"
   ]
  },
  {
   "cell_type": "code",
   "execution_count": null,
   "id": "e5905f01",
   "metadata": {
    "scrolled": false
   },
   "outputs": [],
   "source": [
    "#plot for nSES\n",
    "\n",
    "plt.rcParams[\"figure.figsize\"] = (20,10)\n",
    "# Set position of bar on X axis\n",
    "barWidth = 0.45\n",
    "r1 = np.array([1,3])\n",
    "r2 = [x + barWidth for x in r1]\n",
    "\n",
    "colors = ['#003F5B',\n",
    "          '#A05195']\n",
    "\n",
    "# Make the plot\n",
    "plt.bar(r1, height=list_nses2[0:4:2], color=colors[0], width=barWidth, edgecolor='white',label = 'nSES=0 Low nSES Group')\n",
    "plt.bar(r2, height=list_nses2[1:4:2], color=colors[1], width=barWidth, edgecolor='white',label = 'nSES=1 High nSES Group')\n",
    " \n",
    "# Add xticks on the middle of the group bars\n",
    "# plt.xlabel('group', fontweight='bold')\n",
    "#plt.xticks([r + barWidth*0.5 for r in r1], ['y=0', 'y=1\\nsite3:WFU           ','y=0', 'y=1\\nsite4:COL            ','y=0', 'y=1\\nsite5:JHU           ','y=0', 'y=1\\nsite6:UMN           ','y=0', 'y=1\\nsite7:NWU            ','y=0', 'y=1\\nsite8:UCLA           '],fontsize=10)\n",
    "plt.xticks([r + barWidth*0.5 for r in r1], ['y=0', 'y=1'],fontsize=10)\n",
    "plt.yticks(fontsize=16)\n",
    "# Create legend & Show graphic\n",
    "plt.xlabel('Control (y=0) and Incident (y=1) Group')\n",
    "plt.ylabel('Count')\n",
    "plt.title('nSES Distribution')\n",
    "plt.text(0.95, 2620, \"2600\",fontsize=13)\n",
    "plt.text(1.4, 2580, \"2557\",fontsize=13)\n",
    "plt.text(2.95, 540, \"515\",fontsize=13)\n",
    "plt.text(3.4, 540, \"517\",fontsize=13)\n",
    "plt.legend(fontsize=13)\n",
    "plt.show()"
   ]
  },
  {
   "cell_type": "code",
   "execution_count": null,
   "id": "6de5a5bd",
   "metadata": {
    "scrolled": false
   },
   "outputs": [],
   "source": [
    "plt.subplot(4, 1, 1)\n",
    "\n",
    "#plot for gender\n",
    "\n",
    "plt.rcParams[\"figure.figsize\"] = (58,66)\n",
    "# Set position of bar on X axis\n",
    "barWidth = 0.45\n",
    "r1 = np.array([1,2,5,6,9,10,13,14,17,18,21,22])\n",
    "r2 = [x + barWidth for x in r1]\n",
    "\n",
    "colors = ['#003F5B',\n",
    "          '#A05195']\n",
    "\n",
    "# Make the plot\n",
    "plt.bar(r1, height=list_gender[0:24:2], color=colors[0], width=barWidth, edgecolor='white',label = 'gender=0 Feamle')\n",
    "plt.bar(r2, height=list_gender[1:24:2], color=colors[1], width=barWidth, edgecolor='white',label = 'gender=1 Male')\n",
    "plt.xticks([r + barWidth*0.5 for r in r1], ['y=0', 'y=1\\nWake Forest University            \\nsite 3                ','y=0', 'y=1\\nColumbia University             \\nsite 4                ','y=0', 'y=1\\nJohns Hopkins University            \\nsite 5                ','y=0', 'y=1\\nUniversity of Minnesota           \\nsite 6                ','y=0', 'y=1\\nNorthwestern University            \\nsite 7                ','y=0', 'y=1\\nUCLA               \\nsite 8              '],fontsize=24,fontweight='bold')\n",
    "plt.yticks(fontsize=18)\n",
    "# Create legend & Show graphic\n",
    "plt.xlabel('Control (y=0) and Incident (y=1) Group',fontsize=20,fontweight='bold')\n",
    "plt.ylabel('Count')\n",
    "title1 = plt.title('Plot 1: Gender Distribution of different sites',fontsize=32)\n",
    "title1.set_weight('bold')\n",
    "plt.legend(fontsize=22)\n",
    "\n",
    "\n",
    "\n",
    "plt.subplot(4, 1, 2)\n",
    "\n",
    "#plot for race1c_recoded\n",
    "\n",
    "plt.rcParams[\"figure.figsize\"] = (58,66)\n",
    "# Set position of bar on X axis\n",
    "barWidth = 0.45\n",
    "r1 = np.array([1,2,5,6,9,10,13,14,17,18,21,22])\n",
    "r2 = [x + barWidth for x in r1]\n",
    "\n",
    "colors = ['#003F5B',\n",
    "          '#A05195']\n",
    "\n",
    "# Make the plot\n",
    "plt.bar(r1, height=join_race2['idno'].to_list()[0:24:2], color=colors[0], width=barWidth, edgecolor='white',label = '0: Other')\n",
    "plt.bar(r2, height=join_race2['idno'].to_list()[1:24:2], color=colors[1], width=barWidth, edgecolor='white',label = '1: Black, African-American')\n",
    "plt.xticks([r + barWidth*0.5 for r in r1], ['y=0', 'y=1\\nWake Forest University            \\nsite 3                ','y=0', 'y=1\\nColumbia University             \\nsite 4                ','y=0', 'y=1\\nJohns Hopkins University            \\nsite 5                ','y=0', 'y=1\\nUniversity of Minnesota           \\nsite 6                ','y=0', 'y=1\\nNorthwestern University            \\nsite 7                ','y=0', 'y=1\\nUCLA               \\nsite 8              '],fontsize=24,fontweight='bold')\n",
    "plt.yticks(fontsize=18)\n",
    "# Create legend & Show graphic\n",
    "plt.xlabel('Control (y=0) and Incident (y=1) Group',fontsize=20,fontweight='bold')\n",
    "plt.ylabel('Count')\n",
    "title2 = plt.title('Plot 2: Race Distribution of different sites',fontsize=32)\n",
    "title2.set_weight('bold')\n",
    "plt.legend(fontsize=22)\n",
    "\n",
    "\n",
    "\n",
    "plt.subplot(4, 1, 3)\n",
    "\n",
    "#plot for cig1c_recode\n",
    "\n",
    "plt.rcParams[\"figure.figsize\"] = (58,66)\n",
    "# Set position of bar on X axis\n",
    "barWidth = 0.45\n",
    "r1 = np.array([1,2,5,6,9,10,13,14,17,18,21,22])\n",
    "r2 = [x + barWidth for x in r1]\n",
    "\n",
    "colors = ['#003F5B',\n",
    "          '#A05195']\n",
    "\n",
    "# Make the plot\n",
    "plt.bar(r1, height=list_cig1c[0:24:2], color=colors[0], width=barWidth, edgecolor='white',label = '0: Other')\n",
    "plt.bar(r2, height=list_cig1c[1:24:2], color=colors[1], width=barWidth, edgecolor='white',label = '1: ever or currently smokes')\n",
    "plt.xticks([r + barWidth*0.5 for r in r1], ['y=0', 'y=1\\nWake Forest University            \\nsite 3                ','y=0', 'y=1\\nColumbia University             \\nsite 4                ','y=0', 'y=1\\nJohns Hopkins University            \\nsite 5                ','y=0', 'y=1\\nUniversity of Minnesota           \\nsite 6                ','y=0', 'y=1\\nNorthwestern University            \\nsite 7                ','y=0', 'y=1\\nUCLA               \\nsite 8              '],fontsize=24,fontweight='bold')\n",
    "plt.yticks(fontsize=18)\n",
    "# Create legend & Show graphic\n",
    "plt.xlabel('Control (y=0) and Incident (y=1) Group',fontsize=20,fontweight='bold')\n",
    "plt.ylabel('Count')\n",
    "title3 = plt.title('Plot 3: Cigarette Smoking Status Distribution of different sites',fontsize=32)\n",
    "title3.set_weight('bold')\n",
    "plt.legend(fontsize=22)\n",
    "\n",
    "\n",
    "\n",
    "plt.subplot(4, 1, 4)\n",
    "#plot for diabete\n",
    "\n",
    "plt.rcParams[\"figure.figsize\"] = (58,66)\n",
    "# Set position of bar on X axis\n",
    "barWidth = 0.45\n",
    "r1 = np.array([1,2,5,6,9,10,13,14,17,18,21,22])\n",
    "r2 = [x + barWidth for x in r1]\n",
    "\n",
    "colors = ['#003F5B',\n",
    "          '#A05195']\n",
    "\n",
    "# Make the plot\n",
    "plt.bar(r1, height=list_diabet12[0:24:2], color=colors[0], width=barWidth, edgecolor='white',label = 'nSES=0 Low nSES Group')\n",
    "plt.bar(r2, height=list_diabet12[1:24:2], color=colors[1], width=barWidth, edgecolor='white',label = 'nSES=1 High nSES Group')\n",
    "plt.xticks([r + barWidth*0.5 for r in r1], ['y=0', 'y=1\\nWake Forest University            \\nsite 3                ','y=0', 'y=1\\nColumbia University             \\nsite 4                ','y=0', 'y=1\\nJohns Hopkins University            \\nsite 5                ','y=0', 'y=1\\nUniversity of Minnesota           \\nsite 6                ','y=0', 'y=1\\nNorthwestern University            \\nsite 7                ','y=0', 'y=1\\nUCLA               \\nsite 8              '],fontsize=24,fontweight='bold')\n",
    "plt.yticks(fontsize=16)\n",
    "# Create legend & Show graphic\n",
    "plt.xlabel('Control (y=0) and Incident (y=1) Group',fontsize=20,fontweight='bold')\n",
    "plt.ylabel('Count',fontsize=12)\n",
    "title4 = plt.title('Plot 4: Diabetes Recoded Distribution of different sites',fontsize=32)\n",
    "title4.set_weight('bold')\n",
    "plt.legend(fontsize=22)\n",
    "\n",
    "plt.show()"
   ]
  },
  {
   "cell_type": "markdown",
   "id": "2faa644a",
   "metadata": {},
   "source": [
    "## Cox Proportional Hazards Model Plots - Hazard Ratio Plots"
   ]
  },
  {
   "cell_type": "code",
   "execution_count": null,
   "id": "83ec7abf",
   "metadata": {},
   "outputs": [],
   "source": [
    "cox1 = mesa[['gender1','cig1c','diabet1','race_2','age1c','chol1','hdl1','sbp1c','fuptt','y']]\n",
    "cph1 = CoxPHFitter(alpha=0.05)\n",
    "cph1.fit(cox1, 'fuptt', 'y')\n",
    "\n",
    "cox1_nSES = mesa[['gender1','cig1c','diabet1','race_2','age1c','nSES','chol1','hdl1','sbp1c','fuptt','y']]\n",
    "cph2 = CoxPHFitter(alpha=0.05)\n",
    "cph2.fit(cox1_nSES, 'fuptt', 'y')\n",
    "\n",
    "cox1_in = mesa[['gender1','cig1c','diabet1','race_2','age1c','chol1','hdl1','sbp1c','fuptt','gender_race','y']]\n",
    "cph3 = CoxPHFitter(alpha=0.05)\n",
    "cph3.fit(cox1_in, 'fuptt', 'y')\n",
    "\n",
    "cox1_in_nSES = mesa[['gender1','cig1c','diabet1','race_2','age1c','chol1','hdl1','nSES','sbp1c','fuptt','gender_race','y']]\n",
    "cph4 = CoxPHFitter(alpha=0.05)\n",
    "cph4.fit(cox1_in_nSES, 'fuptt', 'y')"
   ]
  },
  {
   "cell_type": "code",
   "execution_count": null,
   "id": "27663f99",
   "metadata": {},
   "outputs": [],
   "source": [
    "plt.subplot(2, 2, 1)\n",
    "plt.rcParams[\"figure.figsize\"] = (20,15)\n",
    "cph1.plot(hazard_ratios=True)\n",
    "title1 = plt.title('Plot 1: Model 1 Hazards Ratio',fontsize=18)\n",
    "title1.set_weight('bold')\n",
    "\n",
    "plt.subplot(2, 2, 2)\n",
    "plt.rcParams[\"figure.figsize\"] = (20,15)\n",
    "cph2.plot(hazard_ratios=True)\n",
    "title2 = plt.title('Plot 2: Model 2 Hazards Ratio',fontsize=18)\n",
    "title2.set_weight('bold')\n",
    "\n",
    "plt.subplot(2, 2, 3)\n",
    "plt.rcParams[\"figure.figsize\"] = (20,15)\n",
    "cph3.plot(hazard_ratios=True)\n",
    "title3 = plt.title('Plot 3: Model 3 Hazards Ratio',fontsize=18)\n",
    "title3.set_weight('bold')\n",
    "\n",
    "plt.subplot(2, 2, 4)\n",
    "plt.rcParams[\"figure.figsize\"] = (20,15)\n",
    "cph4.plot(hazard_ratios=True)\n",
    "title4 = plt.title('Plot 4: Model 4 Hazards Ratio',fontsize=18)\n",
    "title4.set_weight('bold')\n",
    "\n",
    "\n",
    "title = plt.suptitle(\"Cox proportional hazards models results Comparison\",fontsize=24)\n",
    "title.set_weight('bold')\n",
    "plt.show()"
   ]
  },
  {
   "cell_type": "markdown",
   "id": "a0bbda39",
   "metadata": {},
   "source": [
    "## Kaplan-Meier Curve"
   ]
  },
  {
   "cell_type": "code",
   "execution_count": null,
   "id": "8fc63260",
   "metadata": {},
   "outputs": [],
   "source": [
    "#generate the km estimate curve and print the km estimate for each model\n",
    "\n",
    "plt.subplot(2, 2, 1)\n",
    "plt.rcParams[\"figure.figsize\"] = (20,15)\n",
    "\n",
    "# model 1: no interaction no nSES\n",
    "T = cox1['fuptt']\n",
    "E = cox1['y']\n",
    "kmf = KaplanMeierFitter()\n",
    "kmf.fit(T, event_observed=E)\n",
    "kmf.survival_function_\n",
    "kmf.plot_survival_function()\n",
    "title1 = plt.title('Plot 1: Model 1 Kaplan-Meier Curve',fontsize=18)\n",
    "title1.set_weight('bold')\n",
    "\n",
    "\n",
    "\n",
    "plt.subplot(2, 2, 2)\n",
    "plt.rcParams[\"figure.figsize\"] = (20,15)\n",
    "\n",
    "# model 2: no interaction with nSES\n",
    "T = cox1_nSES['fuptt']\n",
    "E = cox1_nSES['y']\n",
    "kmf = KaplanMeierFitter()\n",
    "kmf.fit(T, event_observed=E)\n",
    "kmf.survival_function_\n",
    "kmf.plot_survival_function()\n",
    "title1 = plt.title('Plot 2: Model 2 Kaplan-Meier Curve',fontsize=18)\n",
    "title1.set_weight('bold')\n",
    "\n",
    "\n",
    "\n",
    "plt.subplot(2, 2, 3)\n",
    "plt.rcParams[\"figure.figsize\"] = (20,15)\n",
    "\n",
    "# model 3: with interaction no nSES\n",
    "T = cox1_in['fuptt']\n",
    "E = cox1_in['y']\n",
    "\n",
    "kmf = KaplanMeierFitter()\n",
    "kmf.fit(T, event_observed=E)\n",
    "kmf.survival_function_\n",
    "kmf.plot_survival_function()\n",
    "title1 = plt.title('Plot 3: Model 3 Kaplan-Meier Curve',fontsize=18)\n",
    "title1.set_weight('bold')\n",
    "\n",
    "\n",
    "\n",
    "plt.subplot(2, 2, 4)\n",
    "plt.rcParams[\"figure.figsize\"] = (20,15)\n",
    "\n",
    "# model 4: with interaction with nSES\n",
    "T = cox1_in_nSES['fuptt']\n",
    "E = cox1_in_nSES['y']\n",
    "kmf = KaplanMeierFitter()\n",
    "kmf.fit(T, event_observed=E)\n",
    "kmf.survival_function_\n",
    "kmf.plot_survival_function()\n",
    "title1 = plt.title('Plot 4: Model 4 Kaplan-Meier Curve',fontsize=18)\n",
    "title1.set_weight('bold')\n",
    "\n",
    "\n",
    "title = plt.suptitle(\"Kaplan-Meier Curve Comparison\",fontsize=24)\n",
    "title.set_weight('bold')\n",
    "plt.show()"
   ]
  },
  {
   "cell_type": "markdown",
   "id": "fbd00ce3",
   "metadata": {},
   "source": [
    "## G-Computation Error Bar"
   ]
  },
  {
   "cell_type": "code",
   "execution_count": null,
   "id": "0daf32e9",
   "metadata": {},
   "outputs": [],
   "source": [
    "def get_causal_effect(treatment, formula, data):\n",
    "    '''\n",
    "    Input: treatment - column_name\n",
    "           formula - Regression formula\n",
    "           data - dataframe\n",
    "    Output: ate - average causal effect\n",
    "    \n",
    "    The main idea is to have two separate models for those with treatment=1 and treatment =0\n",
    "    According to this we sample our data based on the treatment and fit two models\n",
    "    \n",
    "    We then predict the outcome for the entire data based on our fitted models and\n",
    "    then evaluate the expected difference in the outcome which is our causal effect.\n",
    "    '''\n",
    "    \n",
    "    f = sm.families.family.Binomial()\n",
    "    fm_a1 = smf.glm(formula, \n",
    "                    data.loc[data[treatment] == 1], family=f).fit()\n",
    "    #print(fm_a1.summary())\n",
    "    fm_a0 = smf.glm(formula, \n",
    "                data.loc[data[treatment] == 0], family=f).fit()\n",
    "    \n",
    "    #print(fm_a0.summary())\n",
    "    y_a1 = fm_a1.predict(data)\n",
    "    y_a0 = fm_a0.predict(data)\n",
    "    ate = np.mean(y_a1 - y_a0)\n",
    "    return ate"
   ]
  },
  {
   "cell_type": "code",
   "execution_count": null,
   "id": "51564d52",
   "metadata": {},
   "outputs": [],
   "source": [
    "'''\n",
    "Bootstrapping to get confidence intervals for the causal effect\n",
    "'''\n",
    "def bootstrap_ci(treatment, formula, data, nb, ate):\n",
    "    ate_rs = []\n",
    "    for i in range(nb):  # Drawing nb bootstrapped samples, can simply start with 10 samples\n",
    "        d_star = data.sample(n=data.shape[0], # Same size as input data\n",
    "                             replace=True, random_state = 29*i)  # Draw with replacement\n",
    "        f = sm.families.family.Binomial()\n",
    "        fm_a1 = smf.glm(formula, \n",
    "                        d_star.loc[d_star[treatment] == 1], family=f).fit()\n",
    "        fm_a0 = smf.glm(formula, \n",
    "                    d_star.loc[d_star[treatment] == 0], family=f).fit()\n",
    "        y_a1 = fm_a1.predict(d_star)\n",
    "        y_a0 = fm_a0.predict(d_star)\n",
    "        ate_rs.append(np.mean(y_a1 - y_a0))\n",
    "\n",
    "    #print(\"95% Confidence limits for the ATE\")\n",
    "    ci_perc = np.percentile(ate_rs, q=[2.5, 97.5])\n",
    "    ate_se = np.std(ate_rs, ddof=1)\n",
    "    ci_approx = np.round([ate - 1.96*ate_se,\n",
    "                          ate + 1.96*ate_se],6)\n",
    "    return ci_perc, ci_approx"
   ]
  },
  {
   "cell_type": "code",
   "execution_count": null,
   "id": "5b5377a1",
   "metadata": {},
   "outputs": [],
   "source": [
    "data = mesa[['nSES','y','cig1c','diabet1','age1c','sbp1c','hdl1','chol1','gender1','race_2']].copy()\n",
    "formula = \"y ~  age1c + sbp1c + hdl1 + chol1 + C(cig1c) + C(diabet1) + C(gender1) + C(race_2)\"\n",
    "treatment = 'nSES'\n",
    "\n",
    "ate = get_causal_effect(treatment,formula,data)\n",
    "ci_perc, ci_approx = bootstrap_ci(treatment, formula, data, 1000, ate)"
   ]
  },
  {
   "cell_type": "code",
   "execution_count": null,
   "id": "e86121ea",
   "metadata": {},
   "outputs": [],
   "source": [
    "select_exam_2 = mesa.loc[(mesa['site1c'] == 3)]\n",
    "data = select_exam_2[['nSES','y','cig1c','diabet1','age1c','sbp1c','hdl1','chol1','gender1','race_2']].copy()\n",
    "formula = \"y ~  age1c + sbp1c + hdl1 + chol1 + C(cig1c) + C(diabet1) + C(gender1) + C(race_2)\"\n",
    "treatment = 'nSES'\n",
    "\n",
    "ate3 = get_causal_effect(treatment,formula,data)\n",
    "ci_perc_3, ci_approx_3 = bootstrap_ci(treatment, formula, data, 1000, ate3)"
   ]
  },
  {
   "cell_type": "code",
   "execution_count": null,
   "id": "0c79bd5d",
   "metadata": {},
   "outputs": [],
   "source": [
    "select_exam_2 = mesa.loc[(mesa['site1c'] == 4)]\n",
    "data = select_exam_2[['nSES','y','cig1c','diabet1','age1c','sbp1c','hdl1','chol1','gender1','race_2']].copy()\n",
    "formula = \"y ~  age1c + sbp1c + hdl1 + chol1 + C(cig1c) + C(diabet1) + C(gender1) + C(race_2)\"\n",
    "treatment = 'nSES'\n",
    "\n",
    "ate4 = get_causal_effect(treatment,formula,data)\n",
    "ci_perc_4, ci_approx_4 = bootstrap_ci(treatment, formula, data, 1000, ate4)"
   ]
  },
  {
   "cell_type": "code",
   "execution_count": null,
   "id": "c5de7709",
   "metadata": {},
   "outputs": [],
   "source": [
    "select_exam_2 = mesa.loc[(mesa['site1c'] == 5)]\n",
    "data = select_exam_2[['nSES','y','cig1c','diabet1','age1c','sbp1c','hdl1','chol1','gender1','race_2']].copy()\n",
    "formula = \"y ~  age1c + sbp1c + hdl1 + chol1 + C(cig1c) + C(diabet1) + C(gender1) + C(race_2)\"\n",
    "treatment = 'nSES'\n",
    "\n",
    "ate5 = get_causal_effect(treatment,formula,data)\n",
    "ci_perc_5, ci_approx_5 = bootstrap_ci(treatment, formula, data, 1000, ate5)"
   ]
  },
  {
   "cell_type": "code",
   "execution_count": null,
   "id": "66203a0b",
   "metadata": {},
   "outputs": [],
   "source": [
    "select_exam_2 = mesa.loc[(mesa['site1c'] == 7)]\n",
    "data = select_exam_2[['nSES','y','cig1c','diabet1','age1c','sbp1c','hdl1','chol1','gender1','race_2']].copy()\n",
    "formula = \"y ~  age1c + sbp1c + hdl1 + chol1 + C(cig1c) + C(diabet1) + C(gender1) + C(race_2)\"\n",
    "treatment = 'nSES'\n",
    "\n",
    "ate7 = get_causal_effect(treatment,formula,data)\n",
    "ci_perc_7, ci_approx_7 = bootstrap_ci(treatment, formula, data, 1000, ate7)"
   ]
  },
  {
   "cell_type": "code",
   "execution_count": null,
   "id": "eaa59e5b",
   "metadata": {},
   "outputs": [],
   "source": [
    "select_exam_2 = mesa.loc[(mesa['site1c'] == 8)]\n",
    "data = select_exam_2[['nSES','y','cig1c','diabet1','age1c','sbp1c','hdl1','chol1','gender1','race_2']].copy()\n",
    "formula = \"y ~  age1c + sbp1c + hdl1 + chol1 + C(cig1c) + C(diabet1) + C(gender1) + C(race_2)\"\n",
    "treatment = 'nSES'\n",
    "\n",
    "ate8 = get_causal_effect(treatment,formula,data)\n",
    "ci_perc_8, ci_approx_8 = bootstrap_ci(treatment, formula, data, 1000, ate8)"
   ]
  },
  {
   "cell_type": "code",
   "execution_count": null,
   "id": "f3c3a587",
   "metadata": {},
   "outputs": [],
   "source": [
    "plt.rcParams[\"figure.figsize\"] = (10,6)\n",
    "\n",
    "error_all = ci_perc[1]-ci_perc[0]\n",
    "error_3 = ci_perc_3[1]-ci_perc_3[0]\n",
    "error_4 = ci_perc_4[1]-ci_perc_4[0]\n",
    "error_5 = ci_perc_5[1]-ci_perc_5[0]\n",
    "error_7 = ci_perc_7[1]-ci_perc_7[0]\n",
    "error_8 = ci_perc_8[1]-ci_perc_8[0]\n",
    "\n",
    "errors = [error_all, error_3, error_4, error_5, error_7, error_8]\n",
    "\n",
    "x = [1, 3, 5, 7, 9, 11]\n",
    "y = [ate, ate3, ate4, ate5, ate7, ate8]\n",
    "\n",
    "plt.figure()\n",
    "plt.errorbar(x, y, yerr=errors, fmt = 'o', color = 'k')\n",
    "plt.xticks((1, 3, 5, 7, 9, 11), ('Overall', 'site3', 'site4', 'site5', 'site7', 'site8')) \n",
    "plt.show()"
   ]
  },
  {
   "cell_type": "code",
   "execution_count": null,
   "id": "5756fcd4",
   "metadata": {},
   "outputs": [],
   "source": [
    "plt.rcParams[\"figure.figsize\"] = (10,6)\n",
    "\n",
    "error_all = ci_approx[1]-ci_approx[0]\n",
    "error_3 = ci_approx_3[1]-ci_approx_3[0]\n",
    "error_4 = ci_approx_4[1]-ci_approx_4[0]\n",
    "error_5 = ci_approx_5[1]-ci_approx_5[0]\n",
    "error_7 = ci_approx_7[1]-ci_approx_7[0]\n",
    "error_8 = ci_approx_8[1]-ci_approx_8[0]\n",
    "\n",
    "errors = [error_all, error_3, error_4, error_5, error_7, error_8]\n",
    "\n",
    "x = [1, 3, 5, 7, 9, 11]\n",
    "y = [ate, ate3, ate4, ate5, ate7, ate8]\n",
    "\n",
    "plt.figure()\n",
    "plt.errorbar(x, y, yerr=errors, fmt = 'o', color = 'k')\n",
    "plt.xticks((1, 3, 5, 7, 9, 11), ('Overall', 'site3', 'site4', 'site5', 'site7', 'site8')) \n",
    "plt.show()"
   ]
  },
  {
   "cell_type": "code",
   "execution_count": null,
   "id": "8fb9dd6c",
   "metadata": {},
   "outputs": [],
   "source": []
  }
 ],
 "metadata": {
  "kernelspec": {
   "display_name": "Python 3",
   "language": "python",
   "name": "python3"
  },
  "language_info": {
   "codemirror_mode": {
    "name": "ipython",
    "version": 3
   },
   "file_extension": ".py",
   "mimetype": "text/x-python",
   "name": "python",
   "nbconvert_exporter": "python",
   "pygments_lexer": "ipython3",
   "version": "3.8.3"
  }
 },
 "nbformat": 4,
 "nbformat_minor": 5
}
