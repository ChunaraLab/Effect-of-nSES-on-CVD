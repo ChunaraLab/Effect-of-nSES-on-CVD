{
 "cells": [
  {
   "cell_type": "code",
   "execution_count": null,
   "id": "8ae203e4",
   "metadata": {},
   "outputs": [],
   "source": [
    "import numpy as np\n",
    "import pandas as pd\n",
    "from sklearn.preprocessing import StandardScaler\n",
    "\n",
    "pd.options.display.max_rows = 100\n",
    "pd.options.display.max_columns = None"
   ]
  },
  {
   "cell_type": "markdown",
   "id": "7a107a8f",
   "metadata": {},
   "source": [
    "## Read in data"
   ]
  },
  {
   "cell_type": "markdown",
   "id": "e39ff005",
   "metadata": {},
   "source": [
    "### outcome (short)"
   ]
  },
  {
   "cell_type": "code",
   "execution_count": null,
   "id": "b937bc0a",
   "metadata": {},
   "outputs": [],
   "source": [
    "outcome = pd.read_csv('../Data/MESA/outcomes/event.csv')\n",
    "outcome = outcome[['idno','cvda', 'cvdatt']]\n",
    "outcome = outcome.dropna()"
   ]
  },
  {
   "cell_type": "code",
   "execution_count": null,
   "id": "2cba03e2",
   "metadata": {},
   "outputs": [],
   "source": [
    "# create 10-year CVD outcome\n",
    "outcome['cvd_10y'] = ((outcome['cvda'] == 1) & (outcome['cvdatt'] <= 3650)).astype(int)"
   ]
  },
  {
   "cell_type": "markdown",
   "id": "7953e9f4",
   "metadata": {},
   "source": [
    "### nb features (long)"
   ]
  },
  {
   "cell_type": "code",
   "execution_count": null,
   "id": "7f9ec40b",
   "metadata": {
    "scrolled": true
   },
   "outputs": [],
   "source": [
    "## nSES \n",
    "nSES = pd.read_csv('../Data/MESA/neighborhood_data/neighborhood_census_tract_SES.csv')\n",
    "nSES = nSES[['idno', 'EXAM', 'F1_PC2']]\n",
    "\n",
    "## G_bla_rk'\n",
    "rs = pd.read_csv('../Data/MESA/neighborhood_data/neighborhood_racial_seg.csv')\n",
    "rs = rs[['idno', 'EXAM', 'G_bla_rk']]\n",
    "\n",
    "## 'S1FAV', 'S1PAI'\n",
    "nb_env = pd.read_csv('../Data/MESA/neighborhood_data/neighborhood_builtenv.csv')   ## error in first few rows\n",
    "nb_env = nb_env[['idno', 'EXAM','S1FAV', 'S1PAI']]\n",
    "\n",
    "\n",
    "## merge\n",
    "nb_feature = pd.merge(nSES, rs, on=[\"idno\", \"EXAM\"], how=\"inner\")\n",
    "nb_feature = pd.merge(nb_feature, nb_env, on=[\"idno\", \"EXAM\"], how=\"inner\")\n"
   ]
  },
  {
   "cell_type": "markdown",
   "id": "f132a245",
   "metadata": {},
   "source": [
    "### ind exposures and covariates (long)"
   ]
  },
  {
   "cell_type": "code",
   "execution_count": null,
   "id": "2f794d60",
   "metadata": {
    "scrolled": true
   },
   "outputs": [],
   "source": [
    "v1 = pd.read_csv('../Data/MESA/exam_1/final_label_1.csv')\n",
    "v1 = v1[['idno','site1c',\n",
    "        'income1', 'chdiet1c', 'chphysact1c',\n",
    "        'age1c', 'race1c', 'gender1', 'cig1c', 'curalc1', 'diabet1', 'hdl1','chol1','sbp1c']]\n",
    "v1['EXAM'] = 1.0\n",
    "\n",
    "v1.rename(columns={'site1c':'site','income1': 'income', 'chdiet1c': 'chdiet', 'chphysact1c':'chphysact',\n",
    "                   'age1c':'age', 'race1c':'race', 'gender1':'gender', 'cig1c':'cig', \n",
    "                   'curalc1':'cural', 'diabet1':'diabet', 'hdl1':'hdl','chol1':'chol','sbp1c':'sbp'}, \n",
    "          inplace=True)\n",
    "\n",
    "v1['diabet'] = np.where(v1['diabet'] == 9, np.nan, v1['diabet'])"
   ]
  },
  {
   "cell_type": "markdown",
   "id": "51a6a5ba",
   "metadata": {},
   "source": [
    "### Merge"
   ]
  },
  {
   "cell_type": "code",
   "execution_count": null,
   "id": "cd5a0639",
   "metadata": {},
   "outputs": [],
   "source": [
    "# Outcome and baseline X\n",
    "\n",
    "covar = nb_feature[nb_feature['EXAM']==1].merge(v1, how='right', on=['idno','EXAM'])  \n",
    "merged = outcome.merge(covar, how='left', on=['idno']) "
   ]
  },
  {
   "cell_type": "code",
   "execution_count": null,
   "id": "ff0112f1",
   "metadata": {},
   "outputs": [],
   "source": [
    "#merged.to_csv('../processed_data/MESA/Y_BaselineX_raw_full.csv', index = False)\n",
    "\n",
    "#merged[merged['race'] == 3].to_csv('../processed_data/MESA/Y_BaselineX_raw_bla.csv', index = False)"
   ]
  },
  {
   "cell_type": "markdown",
   "id": "1c97f926",
   "metadata": {},
   "source": [
    "## Preprocess"
   ]
  },
  {
   "cell_type": "code",
   "execution_count": null,
   "id": "0f5bb6c9",
   "metadata": {},
   "outputs": [],
   "source": [
    "# covariates with no missing values:\n",
    "# A_S1FAV, A_S1PAI, site, age, race, gender"
   ]
  },
  {
   "cell_type": "markdown",
   "id": "41114204",
   "metadata": {},
   "source": [
    "### pipeline"
   ]
  },
  {
   "cell_type": "code",
   "execution_count": null,
   "id": "40dfaf34",
   "metadata": {},
   "outputs": [],
   "source": [
    "def fillna_cat(df,cat_feat):\n",
    "    for feat in cat_feat:\n",
    "        df[feat].fillna(df[feat].mode()[0], inplace=True)\n",
    "    return df\n",
    "\n",
    "def fillna_cont(df,cont_feat):\n",
    "    df= df.fillna((df[cont_feat].mean()))\n",
    "    return df\n",
    "\n",
    "\n",
    "def quantile_exp(df,con_exp_feat):\n",
    "    for feat in con_exp_feat:\n",
    "        df[feat] = df[feat].transform(lambda x: pd.qcut(x.rank(method='first'), \n",
    "                                                         q = [0, 0.25, 0.5, 0.75, 1], labels = [1,2,3,4]))\n",
    "        df[feat] = pd.to_numeric(df[feat])\n",
    "    return df\n",
    "\n",
    "def standardize(df,con_index):\n",
    "    scaler = StandardScaler()\n",
    "    scaler.fit(df[con_index],) \n",
    "    df[con_index] = scaler.transform(df[con_index], copy = True)\n",
    "    return df\n",
    "\n",
    "income_mapping = {1:1,2:1,3:1,\n",
    "                 4:2,5:2,6:2,\n",
    "                 7:3,8:3,9:3,10:3, 11:3,\n",
    "                 12:4,13:4}\n",
    "def map_income(df):\n",
    "    df['income'] = df['income'].replace(income_mapping)\n",
    "    return df\n",
    "\n",
    "\n",
    "## complete pipeline\n",
    "\n",
    "def process(df,cont_feat,cat_feat,con_exp_feat):\n",
    "    \n",
    "    df = fillna_cat(df,cat_feat)\n",
    "    df = map_income(df)\n",
    "    \n",
    "    df = fillna_cont(df,cont_feat)\n",
    "    df = standardize(df,cont_feat)\n",
    "        \n",
    "    df = fillna_cont(df,con_exp_feat)\n",
    "    df = quantile_exp(df,con_exp_feat)\n",
    "    \n",
    "    return df"
   ]
  },
  {
   "cell_type": "markdown",
   "id": "f37dc8b9",
   "metadata": {},
   "source": [
    "### preprocess baseline df"
   ]
  },
  {
   "cell_type": "code",
   "execution_count": null,
   "id": "3e16c6f5",
   "metadata": {},
   "outputs": [],
   "source": [
    "con_exp_feat = ['F1_PC2','S1FAV','S1PAI','G_bla_rk']\n",
    "\n",
    "cont_feat = ['sbp', 'hdl', 'chol']\n",
    "\n",
    "cat_feat = ['site','age','chdiet','chphysact','cig','diabet', 'gender', 'race', 'income','cural']\n",
    "\n",
    "dat_base_processed = process(merged,cont_feat,cat_feat,con_exp_feat)"
   ]
  },
  {
   "cell_type": "code",
   "execution_count": null,
   "id": "c4d7978f",
   "metadata": {},
   "outputs": [],
   "source": [
    "#dat_base_processed.to_csv('../processed_data/MESA/Y_BaselineX_processed_full.csv', index = False)\n",
    "\n",
    "#dat_base_processed[dat_base_processed['race']==3].to_csv('../processed_data/MESA/Y_BaselineX_processed_bla.csv', index = False)"
   ]
  },
  {
   "cell_type": "markdown",
   "id": "82c9375b",
   "metadata": {},
   "source": [
    "### missing imputation only"
   ]
  },
  {
   "cell_type": "code",
   "execution_count": null,
   "id": "e48a11b9",
   "metadata": {},
   "outputs": [],
   "source": [
    "cat_feat = ['income', 'chdiet', 'chphysact',\n",
    "           'cig','cural','diabet']\n",
    "\n",
    "cont_feat = ['F1_PC2','S1FAV','S1PAI','G_bla_rk', \n",
    "             'hdl','chol','sbp']"
   ]
  },
  {
   "cell_type": "code",
   "execution_count": null,
   "id": "3f67de9f",
   "metadata": {},
   "outputs": [],
   "source": [
    "imputed = fillna_cat(merged,cat_feat)  \n",
    "imputed = fillna_cont(merged,cont_feat)  "
   ]
  },
  {
   "cell_type": "code",
   "execution_count": null,
   "id": "10586a63",
   "metadata": {},
   "outputs": [],
   "source": [
    "#imputed.to_csv('../processed_data/MESA/Y_BaselineX_imputed_full.csv', index = False)\n",
    "\n",
    "#imputed[imputed['race']==3].to_csv('../processed_data/MESA/Y_BaselineX_imputed_bla.csv', index = False)"
   ]
  }
 ],
 "metadata": {
  "kernelspec": {
   "display_name": "Python 3 (ipykernel)",
   "language": "python",
   "name": "python3"
  },
  "language_info": {
   "codemirror_mode": {
    "name": "ipython",
    "version": 3
   },
   "file_extension": ".py",
   "mimetype": "text/x-python",
   "name": "python",
   "nbconvert_exporter": "python",
   "pygments_lexer": "ipython3",
   "version": "3.9.12"
  }
 },
 "nbformat": 4,
 "nbformat_minor": 5
}
