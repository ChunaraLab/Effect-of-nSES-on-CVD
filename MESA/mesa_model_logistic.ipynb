{
 "cells": [
  {
   "cell_type": "code",
   "execution_count": null,
   "id": "e894de18",
   "metadata": {},
   "outputs": [],
   "source": [
    "# Import libraries\n",
    "\n",
    "import pandas as pd\n",
    "from collections import defaultdict\n",
    "import numpy as np\n",
    "import os\n",
    "\n",
    "from sklearn.metrics import classification_report, confusion_matrix, roc_auc_score, roc_curve\n",
    "from sklearn.model_selection import train_test_split\n",
    "import statsmodels.api as sm"
   ]
  },
  {
   "cell_type": "markdown",
   "id": "50d31841",
   "metadata": {},
   "source": [
    "## Functions"
   ]
  },
  {
   "cell_type": "markdown",
   "id": "609d4406",
   "metadata": {},
   "source": [
    "### Calibration Slope"
   ]
  },
  {
   "cell_type": "code",
   "execution_count": null,
   "id": "b0d38c33",
   "metadata": {},
   "outputs": [],
   "source": [
    "def logit(p):\n",
    "    return np.log(p/(1-p))\n",
    "\n",
    "def calibration_slope(ground_truth, probabilities):\n",
    "    probabilities = np.array(probabilities)\n",
    "    logit_probabilities = logit(probabilities).reshape(-1,1)\n",
    "    lr = LogisticRegression(penalty='none', fit_intercept=True).fit(logit_probabilities, ground_truth)\n",
    "    return lr.coef_.item()"
   ]
  },
  {
   "cell_type": "markdown",
   "id": "4a46acc8",
   "metadata": {},
   "source": [
    "### Logistic Regression Model"
   ]
  },
  {
   "cell_type": "code",
   "execution_count": null,
   "id": "0d70b1b8",
   "metadata": {},
   "outputs": [],
   "source": [
    "def model_logistic(data_train_X, data_train_y, variable_name):\n",
    "   \n",
    "    X_1_train = data_train_X[variable_name]\n",
    "    y_1_train = data_train_y\n",
    "        \n",
    "    #fit the model by statsmodels\n",
    "    X_train_const1 = sm.add_constant(X_1_train)\n",
    "    model_11 = sm.Logit(y_1_train, X_train_const1)\n",
    "    results_11 = model_11.fit()\n",
    "    print(results_11.summary())\n",
    "\n",
    "    #output the probability\n",
    "    y_train_score1 = results_11.predict(X_train_const1)\n",
    "\n",
    "    #find the optimized classification threshold by maximum tpr-fpr\n",
    "    fpr1, tpr1, thresholds1 = roc_curve(y_1_train, y_train_score1)\n",
    "    optimal_idx1 = np.argmax(tpr1 - fpr1)\n",
    "    print('threshold is:',thresholds1[optimal_idx1])\n",
    "    op_value = tpr1[optimal_idx1] - fpr1[optimal_idx1]\n",
    "    print('max tpr-fpr is:',op_value)\n",
    "    \n",
    "    return results_11, thresholds1[optimal_idx1] #output the model and the threshold value by train set\n",
    "    \n",
    "    "
   ]
  },
  {
   "cell_type": "markdown",
   "id": "d23b5139",
   "metadata": {},
   "source": [
    "### Model Evaluation"
   ]
  },
  {
   "cell_type": "code",
   "execution_count": null,
   "id": "335fb6c0",
   "metadata": {},
   "outputs": [],
   "source": [
    "def model_evaluation(data_test_X_site, data_test_y_site, results_11, thresholds1, variable_name):\n",
    "\n",
    "    \n",
    "    #data subgroups\n",
    "    \n",
    "    X_1_test = data_test_X_site\n",
    "    y_1_test = data_test_y_site\n",
    "\n",
    "    X_1_test_other = X_1_test[(X_1_test['race_2']==0)]\n",
    "    X_1_test_black = X_1_test[(X_1_test['race_2']==1)]\n",
    "    y_1_test_other = y_1_test[X_1_test[\"race_2\"] == 0]\n",
    "    y_1_test_black = y_1_test[X_1_test[\"race_2\"] == 1]\n",
    "    \n",
    "    X_1_test_l = X_1_test[(X_1_test['nSES']==0)]\n",
    "    X_1_test_h = X_1_test[(X_1_test['nSES']==1)]\n",
    "    y_1_test_l = y_1_test[X_1_test[\"nSES\"] == 0]\n",
    "    y_1_test_h = y_1_test[X_1_test[\"nSES\"] == 1]\n",
    "    \n",
    "    \n",
    "    X_1_test = X_1_test[variable_name]\n",
    "    X_1_test_other = X_1_test_other[variable_name]\n",
    "    X_1_test_black = X_1_test_black[variable_name]\n",
    "    X_1_test_l = X_1_test_l[variable_name]\n",
    "    X_1_test_h = X_1_test_h[variable_name]\n",
    "    \n",
    "    \n",
    "    \n",
    "    #model prediction probability\n",
    "\n",
    "    X_test_const1 = sm.add_constant(X_1_test,has_constant='add')\n",
    "    X_test_const1_blc = sm.add_constant(X_1_test_black,has_constant='add')\n",
    "    X_test_const1_oth = sm.add_constant(X_1_test_other,has_constant='add')\n",
    "    X_test_const1_low = sm.add_constant(X_1_test_l,has_constant='add')\n",
    "    X_test_const1_high = sm.add_constant(X_1_test_h,has_constant='add')\n",
    "\n",
    "    y_test_score1 = results_11.predict(X_test_const1)\n",
    "    y_test_score1_blc = results_11.predict(X_test_const1_blc)\n",
    "    y_test_score1_oth = results_11.predict(X_test_const1_oth)\n",
    "    y_test_score1_low = results_11.predict(X_test_const1_low)\n",
    "    y_test_score1_high = results_11.predict(X_test_const1_high)\n",
    "    \n",
    "    \n",
    "    \n",
    "    #model prediction label\n",
    "    \n",
    "    y_test_pred_cat1 = (results_11.predict(X_test_const1) > thresholds1).astype(int)\n",
    "    y_test_pred_cat_blc = (results_11.predict(X_test_const1_blc) > thresholds1).astype(int)\n",
    "    y_test_pred_cat_oth = (results_11.predict(X_test_const1_oth) > thresholds1).astype(int)\n",
    "    y_test_pred_cat1_low = (results_11.predict(X_test_const1_low) > thresholds1).astype(int)\n",
    "    y_test_pred_cat1_hig = (results_11.predict(X_test_const1_high) > thresholds1).astype(int)\n",
    "    \n",
    "    print()\n",
    "    \n",
    "    \n",
    "    #evaluation metrics calclulation\n",
    "    \n",
    "    #overall data\n",
    "    print(\"All Samples\")\n",
    "    cm_1=confusion_matrix(y_1_test, y_test_pred_cat1)\n",
    "    print(cm_1)\n",
    "\n",
    "    TPR_1 = cm_1[1,1]/(cm_1[1,1]+cm_1[1,0])\n",
    "    print('TPR is:',TPR_1)\n",
    "    FPR_1 = cm_1[0,1]/(cm_1[0,1]+cm_1[0,0])\n",
    "    print('FPR is:',FPR_1)\n",
    "\n",
    "    Accuracy_1=sum(np.diag(cm_1))/sum(cm_1.sum(axis=0))\n",
    "    print('Accuracy is:',Accuracy_1)\n",
    "    auc_score_1_pro = roc_auc_score(y_1_test,y_test_score1)\n",
    "    print('AUC is:',auc_score_1_pro)\n",
    "    cl_1 = calibration_slope(y_1_test,y_test_score1)\n",
    "    print('CL is:',cl_1)\n",
    "    \n",
    "    print()\n",
    "    \n",
    "    #black racial group\n",
    "    print(\"Black Racial Group\")\n",
    "    cm_1_blc=confusion_matrix(y_1_test_black, y_test_pred_cat_blc)\n",
    "    print(cm_1_blc)\n",
    "\n",
    "    TPR_1_blc = cm_1_blc[1,1]/(cm_1_blc[1,1]+cm_1_blc[1,0])\n",
    "    print('TPR is:',TPR_1_blc)\n",
    "    FPR_1_blc = cm_1_blc[0,1]/(cm_1_blc[0,1]+cm_1_blc[0,0])\n",
    "    print('FPR is:',FPR_1_blc)\n",
    "\n",
    "    Accuracy_1_blc=sum(np.diag(cm_1_blc))/sum(cm_1_blc.sum(axis=0))\n",
    "    print('Accuracy is:',Accuracy_1_blc)\n",
    "    auc_score_1_pro_blc = roc_auc_score(y_1_test_black,y_test_score1_blc)\n",
    "    print('AUC is:',auc_score_1_pro_blc)\n",
    "    cl_1_blc = calibration_slope(y_1_test_black,y_test_score1_blc)\n",
    "    print('CL is:',cl_1_blc)\n",
    "    \n",
    "    print()\n",
    "    \n",
    "    #other racial group\n",
    "    print(\"Others Racial Group\")\n",
    "    cm_1_oth=confusion_matrix(y_1_test_other, y_test_pred_cat_oth)\n",
    "    print(cm_1_oth)\n",
    "\n",
    "    TPR_1_oth = cm_1_oth[1,1]/(cm_1_oth[1,1]+cm_1_oth[1,0])\n",
    "    print('TPR is:',TPR_1_oth)\n",
    "    FPR_1_oth = cm_1_oth[0,1]/(cm_1_oth[0,1]+cm_1_oth[0,0])\n",
    "    print('FPR is:',FPR_1_oth)\n",
    "\n",
    "    Accuracy_1_oth=sum(np.diag(cm_1_oth))/sum(cm_1_oth.sum(axis=0))\n",
    "    print('Accuracy is:',Accuracy_1_oth)\n",
    "    auc_score_1_pro_oth = roc_auc_score(y_1_test_other,y_test_score1_oth)\n",
    "    print('AUC is:',auc_score_1_pro_oth)\n",
    "    cl_1_oth = calibration_slope(y_1_test_other,y_test_score1_oth)\n",
    "    print('CL is:',cl_1_oth)\n",
    "    \n",
    "    print()\n",
    "    \n",
    "    #disparity of racial groups \n",
    "    print(\"disparity of race\")\n",
    "    dis_TPR1 = TPR_1_blc - TPR_1_oth\n",
    "    dis_FPR1 = FPR_1_blc - FPR_1_oth\n",
    "    dis_AUC1 = auc_score_1_pro_blc - auc_score_1_pro_oth\n",
    "    dis_cl1 = cl_1_blc - cl_1_oth\n",
    "    print('disparity TPR is:',dis_TPR1)\n",
    "    print('disparity FPR is:',dis_FPR1)\n",
    "    print('disparity AUC is:',dis_AUC1)\n",
    "    print('disparity CL is:',dis_cl1)\n",
    "    \n",
    "    print()\n",
    "    \n",
    "    #low nSES group\n",
    "    print(\"low nSES Group\")\n",
    "    cm_1_low=confusion_matrix(y_1_test_l, y_test_pred_cat1_low)\n",
    "    print(cm_1_low)\n",
    "\n",
    "    TPR_1_low = cm_1_low[1,1]/(cm_1_low[1,1]+cm_1_low[1,0])\n",
    "    print('TPR is:',TPR_1_low)\n",
    "    FPR_1_low = cm_1_low[0,1]/(cm_1_low[0,1]+cm_1_low[0,0])\n",
    "    print('FPR is:',FPR_1_low)\n",
    "\n",
    "    Accuracy_1_low=sum(np.diag(cm_1_low))/sum(cm_1_low.sum(axis=0))\n",
    "    print('Accuracy is:',Accuracy_1_low)\n",
    "    auc_score_1_pro_low = roc_auc_score(y_1_test_l, y_test_score1_low)\n",
    "    print('AUC is:',auc_score_1_pro_low)\n",
    "    cl_1_low = calibration_slope(y_1_test_l, y_test_score1_low)\n",
    "    print('CL is:',cl_1_low)\n",
    "    \n",
    "    print()\n",
    "    \n",
    "    #high nSES group\n",
    "    print(\"high nSES Group\")\n",
    "    cm_1_hig=confusion_matrix(y_1_test_h, y_test_pred_cat1_hig)\n",
    "    print(cm_1_hig)\n",
    "\n",
    "    TPR_1_hig = cm_1_hig[1,1]/(cm_1_hig[1,1]+cm_1_hig[1,0])\n",
    "    print('TPR is:',TPR_1_hig)\n",
    "    FPR_1_hig = cm_1_hig[0,1]/(cm_1_hig[0,1]+cm_1_hig[0,0])\n",
    "    print('FPR is:',FPR_1_hig)\n",
    "\n",
    "    Accuracy_1_hig=sum(np.diag(cm_1_hig))/sum(cm_1_hig.sum(axis=0))\n",
    "    print('Accuracy is:',Accuracy_1_hig)\n",
    "    auc_score_1_pro_hig = roc_auc_score(y_1_test_h,y_test_score1_high)\n",
    "    print('AUC is:',auc_score_1_pro_hig)\n",
    "    cl_1_hig = calibration_slope(y_1_test_h,y_test_score1_high)\n",
    "    print('CL is:',cl_1_hig)\n",
    "    \n",
    "    print()\n",
    "    \n",
    "    #disparity of nSES Group\n",
    "    print(\"disparity of nSES Group\")\n",
    "    dis_TPR2 = TPR_1_low - TPR_1_hig\n",
    "    dis_FPR2 = FPR_1_low - FPR_1_hig\n",
    "    dis_AUC2 = auc_score_1_pro_low - auc_score_1_pro_hig\n",
    "    dis_cl2 = cl_1_low - cl_1_hig\n",
    "    print('disparity TPR is:',dis_TPR2)\n",
    "    print('disparity FPR is:',dis_FPR2)\n",
    "    print('disparity AUC is:',dis_AUC2)\n",
    "    print('disparity CL is:',dis_cl2)\n",
    "\n",
    "      "
   ]
  },
  {
   "cell_type": "markdown",
   "id": "a532fa92",
   "metadata": {},
   "source": [
    "## Data Subgroups"
   ]
  },
  {
   "cell_type": "code",
   "execution_count": null,
   "id": "a5b59fdd",
   "metadata": {},
   "outputs": [],
   "source": [
    "data_train=pd.read_csv(\"../../code/thesis_code/mesa_preprocess_train.csv\")\n",
    "data_test=pd.read_csv(\"../../code/thesis_code/mesa_preprocess_test.csv\")\n",
    "\n",
    "\n",
    "data_train = data_train.astype({'site1c':'int'})\n",
    "data_train = data_train.astype({'site1c':'str'})\n",
    "train_set_1 = pd.get_dummies(data_train)\n",
    "train_set_1 = train_set_1.drop([\"site1c_3\"], axis = 1)\n",
    "\n",
    "\n",
    "data_test = data_test.astype({'site1c':'int'})\n",
    "data_test = data_test.astype({'site1c':'str'})\n",
    "test_set_1 = pd.get_dummies(data_test)\n",
    "test_set_1 = test_set_1.drop([\"site1c_3\"], axis = 1)\n"
   ]
  },
  {
   "cell_type": "markdown",
   "id": "9c008886",
   "metadata": {},
   "source": [
    "### Overall Train and Test Set"
   ]
  },
  {
   "cell_type": "code",
   "execution_count": null,
   "id": "bd3688ed",
   "metadata": {},
   "outputs": [],
   "source": [
    "#Overall train and test with dummy variables\n",
    "data_train_X = train_set_1[['gender1','site1c_4','site1c_5','site1c_6','site1c_7','site1c_8','race_2','cig1c','diabet1','nSES','age1c','chol1','hdl1','sbp1c','F3_PC2','gender_race']]\n",
    "data_train_y = train_set_1[['y']]\n",
    "data_test_X = test_set_1[['gender1','site1c_4','site1c_5','site1c_6','site1c_7','site1c_8','race_2','cig1c','diabet1','nSES','age1c','chol1','hdl1','sbp1c','F3_PC2','gender_race']]\n",
    "data_test_y = test_set_1[['y']]\n"
   ]
  },
  {
   "cell_type": "markdown",
   "id": "3e0ad8f5",
   "metadata": {},
   "source": [
    "### Test Set - Site Subgroups"
   ]
  },
  {
   "cell_type": "code",
   "execution_count": null,
   "id": "cb2c2119",
   "metadata": {},
   "outputs": [],
   "source": [
    "def data_site_groups(train_set_1, test_set_1, site_group):\n",
    "    train_set_1 = train_set_1.loc[(train_set_1['site1c_4'] == site_group[0])&(train_set_1['site1c_5'] == site_group[1])&(train_set_1['site1c_6'] == site_group[2])&(train_set_1['site1c_7'] == site_group[3])&(train_set_1['site1c_8'] == site_group[4])]\n",
    "    test_set_1 = test_set_1.loc[(test_set_1['site1c_4'] == site_group[0])&(test_set_1['site1c_5'] == site_group[1])&(test_set_1['site1c_6'] == site_group[2])&(test_set_1['site1c_7'] == site_group[3])&(test_set_1['site1c_8'] == site_group[4])]\n",
    "    \n",
    "    data_test_site_X = test_set_1[['gender1','site1c_4','site1c_5','site1c_6','site1c_7','site1c_8','race_2','cig1c','diabet1','nSES','age1c','chol1','hdl1','sbp1c','F3_PC2','gender_race']]\n",
    "    data_test_site_y = test_set_1[['y']]\n",
    "    \n",
    "    return data_test_site_X, data_test_site_y \n",
    "      "
   ]
  },
  {
   "cell_type": "markdown",
   "id": "4da0619a",
   "metadata": {},
   "source": [
    "## Logistic Regression Model Results\n",
    "\n",
    "* **Model 1 - No Interaction - No nSES** \n",
    "    * Model Training: Based on the overall train set\n",
    "    * Overall Samples Evaluation: Based on the overall test set\n",
    "    * Site 3 Evaluation: Based on the site 3 subgroups in the test set\n",
    "    * Site 4 Evaluation: Based on the site 4 subgroups in the test set\n",
    "    * Site 5 Evaluation: Based on the site 5 subgroups in the test set\n",
    "    * Site 7 Evaluation: Based on the site 7 subgroups in the test set\n",
    "    * Site 8 Evaluation: Based on the site 8 subgroups in the test set\n",
    "    \n",
    "* **Model 2 - No Interaction - With nSES**\n",
    "    * Model Training\n",
    "    * Overall Samples Evaluation\n",
    "    * Site 3 Evaluation\n",
    "    * Site 4 Evaluation\n",
    "    * Site 5 Evaluation\n",
    "    * Site 7 Evaluation\n",
    "    * Site 8 Evaluation  \n",
    "    \n",
    "* **Model 3 - With Interaction - No nSES**\n",
    "    * Model Training\n",
    "    * Overall Samples Evaluation\n",
    "    * Site 3 Evaluation\n",
    "    * Site 4 Evaluation\n",
    "    * Site 5 Evaluation\n",
    "    * Site 7 Evaluation\n",
    "    * Site 8 Evaluation  \n",
    "    \n",
    "* **Model 4 - With Interaction - With nSES**\n",
    "    * Model Training\n",
    "    * Overall Samples Evaluation\n",
    "    * Site 3 Evaluation\n",
    "    * Site 4 Evaluation\n",
    "    * Site 5 Evaluation\n",
    "    * Site 7 Evaluation\n",
    "    * Site 8 Evaluation  \n",
    "    \n",
    "\n",
    "### Model 1 - No Interaction - No nSES"
   ]
  },
  {
   "cell_type": "markdown",
   "id": "226727ee",
   "metadata": {},
   "source": [
    "#### Model 1 Model Training"
   ]
  },
  {
   "cell_type": "code",
   "execution_count": null,
   "id": "7b77d7c5",
   "metadata": {},
   "outputs": [],
   "source": [
    "#Model Training: \n",
    "variable_name = ['gender1','site1c_4','site1c_5','site1c_6','site1c_7','site1c_8','race_2','cig1c','diabet1','age1c','chol1','hdl1','sbp1c']\n",
    "model = model_logistic(data_train_X, data_train_y, variable_name)\n"
   ]
  },
  {
   "cell_type": "markdown",
   "id": "b82ad73f",
   "metadata": {},
   "source": [
    "#### Model 1: Overall dataset evaluation: "
   ]
  },
  {
   "cell_type": "code",
   "execution_count": null,
   "id": "21ff6145",
   "metadata": {},
   "outputs": [],
   "source": [
    "#Overall dataset evaluation: \n",
    "model_evaluation(data_test_X, data_test_y, model[0], model[1], variable_name)"
   ]
  },
  {
   "cell_type": "markdown",
   "id": "da9e123b",
   "metadata": {},
   "source": [
    "#### Model 1: Site 3 Evaluation: "
   ]
  },
  {
   "cell_type": "code",
   "execution_count": null,
   "id": "8f7eac00",
   "metadata": {},
   "outputs": [],
   "source": [
    "# site 3\n",
    "site_group = [0,0,0,0,0] #site 3\n",
    "data_site_X, data_site_y = data_site_groups(train_set_1, test_set_1, site_group)\n",
    "model_evaluation(data_site_X, data_site_y, model[0], model[1], variable_name)"
   ]
  },
  {
   "cell_type": "markdown",
   "id": "4fc4f4da",
   "metadata": {},
   "source": [
    "#### Model 1: Site 4 Evaluation: "
   ]
  },
  {
   "cell_type": "code",
   "execution_count": null,
   "id": "8ed19322",
   "metadata": {
    "scrolled": false
   },
   "outputs": [],
   "source": [
    "# site 4\n",
    "site_group = [1,0,0,0,0] #site 4\n",
    "data_site_X, data_site_y = data_site_groups(train_set_1, test_set_1, site_group)\n",
    "model_evaluation(data_site_X, data_site_y, model[0], model[1], variable_name)"
   ]
  },
  {
   "cell_type": "markdown",
   "id": "45672c90",
   "metadata": {},
   "source": [
    "#### Model 1: Site 5 Evaluation: "
   ]
  },
  {
   "cell_type": "code",
   "execution_count": null,
   "id": "a3b156d0",
   "metadata": {},
   "outputs": [],
   "source": [
    "# site 5\n",
    "site_group = [0,1,0,0,0] #site 5\n",
    "data_site_X, data_site_y = data_site_groups(train_set_1, test_set_1, site_group)\n",
    "model_evaluation(data_site_X, data_site_y, model[0], model[1], variable_name)"
   ]
  },
  {
   "cell_type": "markdown",
   "id": "05dccdbb",
   "metadata": {},
   "source": [
    "#### Model 1: Site 7 Evaluation: "
   ]
  },
  {
   "cell_type": "code",
   "execution_count": null,
   "id": "87627639",
   "metadata": {},
   "outputs": [],
   "source": [
    "# site 7\n",
    "site_group = [0,0,0,1,0] #site 7\n",
    "data_site_X, data_site_y = data_site_groups(train_set_1, test_set_1, site_group)\n",
    "model_evaluation(data_site_X, data_site_y, model[0], model[1], variable_name)"
   ]
  },
  {
   "cell_type": "markdown",
   "id": "c5c67bd3",
   "metadata": {},
   "source": [
    "#### Model 1: Site 8 Evaluation: "
   ]
  },
  {
   "cell_type": "code",
   "execution_count": null,
   "id": "86f99766",
   "metadata": {},
   "outputs": [],
   "source": [
    "# site 8\n",
    "site_group = [0,0,0,0,1] #site 8\n",
    "data_site_X, data_site_y = data_site_groups(train_set_1, test_set_1, site_group)\n",
    "model_evaluation(data_site_X, data_site_y, model[0], model[1], variable_name)"
   ]
  },
  {
   "cell_type": "markdown",
   "id": "c9c0decb",
   "metadata": {},
   "source": [
    "### Model 2 - No Interaction - With nSES"
   ]
  },
  {
   "cell_type": "markdown",
   "id": "65df9c6e",
   "metadata": {},
   "source": [
    "#### Model 2 Model Training: "
   ]
  },
  {
   "cell_type": "code",
   "execution_count": null,
   "id": "7d50c273",
   "metadata": {},
   "outputs": [],
   "source": [
    "#Model Training: \n",
    "variable_name = ['gender1','site1c_4','site1c_5','site1c_6','site1c_7','site1c_8','race_2','nSES','cig1c','diabet1','age1c','chol1','hdl1','sbp1c']\n",
    "model = model_logistic(data_train_X, data_train_y, variable_name)\n"
   ]
  },
  {
   "cell_type": "markdown",
   "id": "183697a6",
   "metadata": {},
   "source": [
    "#### Model 2: Overall dataset evaluation:  "
   ]
  },
  {
   "cell_type": "code",
   "execution_count": null,
   "id": "3b7e0799",
   "metadata": {},
   "outputs": [],
   "source": [
    "#Overall dataset evaluation: \n",
    "model_evaluation(data_test_X, data_test_y, model[0], model[1], variable_name)"
   ]
  },
  {
   "cell_type": "markdown",
   "id": "47f2fb27",
   "metadata": {},
   "source": [
    "#### Model 2: Site 3 Evaluation: "
   ]
  },
  {
   "cell_type": "code",
   "execution_count": null,
   "id": "8bdb75db",
   "metadata": {},
   "outputs": [],
   "source": [
    "# site 3\n",
    "site_group = [0,0,0,0,0] #site 3\n",
    "data_site_X, data_site_y = data_site_groups(train_set_1, test_set_1, site_group)\n",
    "model_evaluation(data_site_X, data_site_y, model[0], model[1], variable_name)"
   ]
  },
  {
   "cell_type": "markdown",
   "id": "b0d0dff8",
   "metadata": {},
   "source": [
    "#### Model 2: Site 4 Evaluation: "
   ]
  },
  {
   "cell_type": "code",
   "execution_count": null,
   "id": "a000be51",
   "metadata": {},
   "outputs": [],
   "source": [
    "# site 4\n",
    "site_group = [1,0,0,0,0] #site 4\n",
    "data_site_X, data_site_y = data_site_groups(train_set_1, test_set_1, site_group)\n",
    "model_evaluation(data_site_X, data_site_y, model[0], model[1], variable_name)"
   ]
  },
  {
   "cell_type": "markdown",
   "id": "adc553ca",
   "metadata": {},
   "source": [
    "#### Model 2: Site 5 Evaluation: "
   ]
  },
  {
   "cell_type": "code",
   "execution_count": null,
   "id": "dfe9dc18",
   "metadata": {},
   "outputs": [],
   "source": [
    "# site 5\n",
    "site_group = [0,1,0,0,0] #site 5\n",
    "data_site_X, data_site_y = data_site_groups(train_set_1, test_set_1, site_group)\n",
    "model_evaluation(data_site_X, data_site_y, model[0], model[1], variable_name)"
   ]
  },
  {
   "cell_type": "markdown",
   "id": "1b072d99",
   "metadata": {},
   "source": [
    "#### Model 2: Site 7 Evaluation: "
   ]
  },
  {
   "cell_type": "code",
   "execution_count": null,
   "id": "b38d0188",
   "metadata": {},
   "outputs": [],
   "source": [
    "# site 7\n",
    "site_group = [0,0,0,1,0] #site 7\n",
    "data_site_X, data_site_y = data_site_groups(train_set_1, test_set_1, site_group)\n",
    "model_evaluation(data_site_X, data_site_y, model[0], model[1], variable_name)"
   ]
  },
  {
   "cell_type": "markdown",
   "id": "ab3856fb",
   "metadata": {},
   "source": [
    "#### Model 2: Site 8 Evaluation: "
   ]
  },
  {
   "cell_type": "code",
   "execution_count": null,
   "id": "cd9d5d05",
   "metadata": {},
   "outputs": [],
   "source": [
    "# site 8\n",
    "site_group = [0,0,0,0,1] #site 8\n",
    "data_site_X, data_site_y = data_site_groups(train_set_1, test_set_1, site_group)\n",
    "model_evaluation(data_site_X, data_site_y, model[0], model[1], variable_name)"
   ]
  },
  {
   "cell_type": "markdown",
   "id": "3d0bb020",
   "metadata": {},
   "source": [
    "### Model 3 - With Interaction - No nSES"
   ]
  },
  {
   "cell_type": "markdown",
   "id": "c48834d8",
   "metadata": {},
   "source": [
    "#### Model 3 Model Training"
   ]
  },
  {
   "cell_type": "code",
   "execution_count": null,
   "id": "8030a331",
   "metadata": {},
   "outputs": [],
   "source": [
    "#Model Training: \n",
    "variable_name = ['gender1','site1c_4','site1c_5','site1c_6','site1c_7','site1c_8','race_2','cig1c','diabet1','age1c','chol1','hdl1','sbp1c','gender_race']\n",
    "model = model_logistic(data_train_X, data_train_y, variable_name)"
   ]
  },
  {
   "cell_type": "markdown",
   "id": "db5d79ff",
   "metadata": {},
   "source": [
    "#### Model 3: Overall dataset evaluation: "
   ]
  },
  {
   "cell_type": "code",
   "execution_count": null,
   "id": "b365a44d",
   "metadata": {},
   "outputs": [],
   "source": [
    "#Overall dataset evaluation: \n",
    "model_evaluation(data_test_X, data_test_y, model[0], model[1], variable_name)"
   ]
  },
  {
   "cell_type": "markdown",
   "id": "2d6e7dc5",
   "metadata": {},
   "source": [
    "#### Model 3: Site 3 Evaluation: "
   ]
  },
  {
   "cell_type": "code",
   "execution_count": null,
   "id": "642c2db4",
   "metadata": {},
   "outputs": [],
   "source": [
    "# site 3\n",
    "site_group = [0,0,0,0,0] #site 3\n",
    "data_site_X, data_site_y = data_site_groups(train_set_1, test_set_1, site_group)\n",
    "model_evaluation(data_site_X, data_site_y, model[0], model[1], variable_name)"
   ]
  },
  {
   "cell_type": "markdown",
   "id": "e9d4cdb8",
   "metadata": {},
   "source": [
    "#### Model 3: Site 4 Evaluation: "
   ]
  },
  {
   "cell_type": "code",
   "execution_count": null,
   "id": "3e520902",
   "metadata": {},
   "outputs": [],
   "source": [
    "# site 4\n",
    "site_group = [1,0,0,0,0] #site 4\n",
    "data_site_X, data_site_y = data_site_groups(train_set_1, test_set_1, site_group)\n",
    "model_evaluation(data_site_X, data_site_y, model[0], model[1], variable_name)"
   ]
  },
  {
   "cell_type": "markdown",
   "id": "74c26b73",
   "metadata": {},
   "source": [
    "#### Model 3: Site 5 Evaluation: "
   ]
  },
  {
   "cell_type": "code",
   "execution_count": null,
   "id": "c1a98b70",
   "metadata": {},
   "outputs": [],
   "source": [
    "# site 5\n",
    "site_group = [0,1,0,0,0] #site 5\n",
    "data_site_X, data_site_y = data_site_groups(train_set_1, test_set_1, site_group)\n",
    "model_evaluation(data_site_X, data_site_y, model[0], model[1], variable_name)"
   ]
  },
  {
   "cell_type": "markdown",
   "id": "99eecd32",
   "metadata": {},
   "source": [
    "#### Model 3: Site 7 Evaluation: "
   ]
  },
  {
   "cell_type": "code",
   "execution_count": null,
   "id": "63f37e85",
   "metadata": {},
   "outputs": [],
   "source": [
    "# site 7\n",
    "site_group = [0,0,0,1,0] #site 7\n",
    "data_site_X, data_site_y = data_site_groups(train_set_1, test_set_1, site_group)\n",
    "model_evaluation(data_site_X, data_site_y, model[0], model[1], variable_name)"
   ]
  },
  {
   "cell_type": "markdown",
   "id": "c2429abd",
   "metadata": {},
   "source": [
    "#### Model 3: Site 8 Evaluation: "
   ]
  },
  {
   "cell_type": "code",
   "execution_count": null,
   "id": "c9eb6819",
   "metadata": {},
   "outputs": [],
   "source": [
    "# site 8\n",
    "site_group = [0,0,0,0,1] #site 8\n",
    "data_site_X, data_site_y = data_site_groups(train_set_1, test_set_1, site_group)\n",
    "model_evaluation(data_site_X, data_site_y, model[0], model[1], variable_name)"
   ]
  },
  {
   "cell_type": "markdown",
   "id": "d4cb0c8c",
   "metadata": {},
   "source": [
    "### Model 4 - With Interaction - With nSES"
   ]
  },
  {
   "cell_type": "code",
   "execution_count": null,
   "id": "f61495c7",
   "metadata": {},
   "outputs": [],
   "source": [
    "#Model Training: \n",
    "variable_name = ['gender1','site1c_4','site1c_5','site1c_6','site1c_7','site1c_8','race_2','nSES','cig1c','diabet1','age1c','chol1','hdl1','sbp1c','gender_race']\n",
    "model = model_logistic(data_train_X, data_train_y, variable_name)"
   ]
  },
  {
   "cell_type": "markdown",
   "id": "76ddb342",
   "metadata": {},
   "source": [
    "#### Model 4: Overall dataset evaluation: "
   ]
  },
  {
   "cell_type": "code",
   "execution_count": null,
   "id": "7c6a6936",
   "metadata": {},
   "outputs": [],
   "source": [
    "#Overall dataset evaluation: \n",
    "model_evaluation(data_test_X, data_test_y, model[0], model[1], variable_name)"
   ]
  },
  {
   "cell_type": "markdown",
   "id": "5ddd13ab",
   "metadata": {},
   "source": [
    "#### Model 4: Site 3 Evaluation: "
   ]
  },
  {
   "cell_type": "code",
   "execution_count": null,
   "id": "d505244b",
   "metadata": {},
   "outputs": [],
   "source": [
    "# site 3\n",
    "site_group = [0,0,0,0,0] #site 3\n",
    "data_site_X, data_site_y = data_site_groups(train_set_1, test_set_1, site_group)\n",
    "model_evaluation(data_site_X, data_site_y, model[0], model[1], variable_name)"
   ]
  },
  {
   "cell_type": "markdown",
   "id": "e1e96b21",
   "metadata": {},
   "source": [
    "#### Model 4: Site 4 Evaluation: "
   ]
  },
  {
   "cell_type": "code",
   "execution_count": null,
   "id": "3fa5290d",
   "metadata": {},
   "outputs": [],
   "source": [
    "# site 4\n",
    "site_group = [1,0,0,0,0] #site 4\n",
    "data_site_X, data_site_y = data_site_groups(train_set_1, test_set_1, site_group)\n",
    "model_evaluation(data_site_X, data_site_y, model[0], model[1], variable_name)"
   ]
  },
  {
   "cell_type": "markdown",
   "id": "51c859d9",
   "metadata": {},
   "source": [
    "#### Model 4: Site 5 Evaluation: "
   ]
  },
  {
   "cell_type": "code",
   "execution_count": null,
   "id": "caeb8c7b",
   "metadata": {},
   "outputs": [],
   "source": [
    "# site 5\n",
    "site_group = [0,1,0,0,0] #site 5\n",
    "data_site_X, data_site_y = data_site_groups(train_set_1, test_set_1, site_group)\n",
    "model_evaluation(data_site_X, data_site_y, model[0], model[1], variable_name)"
   ]
  },
  {
   "cell_type": "markdown",
   "id": "b95b83b2",
   "metadata": {},
   "source": [
    "#### Model 4: Site 7 Evaluation: "
   ]
  },
  {
   "cell_type": "code",
   "execution_count": null,
   "id": "ed82cb12",
   "metadata": {},
   "outputs": [],
   "source": [
    "# site 7\n",
    "site_group = [0,0,0,1,0] #site 7\n",
    "data_site_X, data_site_y = data_site_groups(train_set_1, test_set_1, site_group)\n",
    "model_evaluation(data_site_X, data_site_y, model[0], model[1], variable_name)"
   ]
  },
  {
   "cell_type": "markdown",
   "id": "5f1e8429",
   "metadata": {},
   "source": [
    "#### Model 4: Site 8 Evaluation: "
   ]
  },
  {
   "cell_type": "code",
   "execution_count": null,
   "id": "dca28cd9",
   "metadata": {},
   "outputs": [],
   "source": [
    "# site 8\n",
    "site_group = [0,0,0,0,1] #site 8\n",
    "data_site_X, data_site_y = data_site_groups(train_set_1, test_set_1, site_group)\n",
    "model_evaluation(data_site_X, data_site_y, model[0], model[1], variable_name)"
   ]
  },
  {
   "cell_type": "code",
   "execution_count": null,
   "id": "26fa872f",
   "metadata": {},
   "outputs": [],
   "source": []
  },
  {
   "cell_type": "code",
   "execution_count": null,
   "id": "cb57381e",
   "metadata": {},
   "outputs": [],
   "source": []
  }
 ],
 "metadata": {
  "kernelspec": {
   "display_name": "Python 3",
   "language": "python",
   "name": "python3"
  },
  "language_info": {
   "codemirror_mode": {
    "name": "ipython",
    "version": 3
   },
   "file_extension": ".py",
   "mimetype": "text/x-python",
   "name": "python",
   "nbconvert_exporter": "python",
   "pygments_lexer": "ipython3",
   "version": "3.8.3"
  }
 },
 "nbformat": 4,
 "nbformat_minor": 5
}
