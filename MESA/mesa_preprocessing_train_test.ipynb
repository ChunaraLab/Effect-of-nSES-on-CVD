{
 "cells": [
  {
   "cell_type": "code",
   "execution_count": null,
   "id": "4e23a62b",
   "metadata": {},
   "outputs": [],
   "source": [
    "# Import libraries\n",
    "import pandas as pd\n",
    "import numpy as np\n",
    "import os\n",
    "from sklearn.model_selection import train_test_split\n",
    "\n",
    "from sklearn.preprocessing import StandardScaler\n",
    "scaler = StandardScaler()"
   ]
  },
  {
   "cell_type": "code",
   "execution_count": null,
   "id": "1165a059",
   "metadata": {},
   "outputs": [],
   "source": [
    "#import the dataset and selected the useful variables\n",
    "\n",
    "data=pd.read_csv(\"../../data/exam_1_with_outcome_nses.csv\")\n",
    "select_exam_1=data[['idno','site1c','gender1','race1c','age1c','cig1c','chol1','hdl1','sbp1c','diabet1','nSES','F3_PC2','y']]\n",
    "select_exam_1['race_2']=np.where(select_exam_1['race1c']==3,1,0)\n",
    "\n",
    "#join the dataset with diagnosis day \"fuptt\"\n",
    "data_event=pd.read_csv(\"../../data/outcomes/event.csv\")\n",
    "select_data_event=data_event[['idno','fuptt']]\n",
    "\n",
    "event_exam_1=pd.merge(select_exam_1,select_data_event, how=\"left\",on=['idno'])\n",
    "event_exam_1.count()"
   ]
  },
  {
   "cell_type": "code",
   "execution_count": null,
   "id": "63849829",
   "metadata": {},
   "outputs": [],
   "source": [
    "#step1: split the dataset to train and test (80/20) with stratified option\n",
    "\n",
    "train_set_1, test_set_1=train_test_split(event_exam_1, \n",
    "                                         test_size=0.2, stratify=select_exam_1[['y','race_2','site1c']], random_state=1)\n",
    "print(train_set_1.count())\n",
    "print(test_set_1.count())"
   ]
  },
  {
   "cell_type": "code",
   "execution_count": null,
   "id": "8c5ab2eb",
   "metadata": {},
   "outputs": [],
   "source": [
    "#step2: filling in the missing data in train set\n",
    "\n",
    "train_set_1['diabet1'] = train_set_1['diabet1'].replace(9,0)\n",
    "train_set_1['diabet1'] = train_set_1['diabet1'].fillna(value=0)\n",
    "\n",
    "train_set_1['cig1c'] = train_set_1['cig1c'].replace(2,1)\n",
    "train_set_1['cig1c'] = train_set_1['cig1c'].fillna(value=0)\n",
    "\n",
    "\n",
    "\n",
    "ave_hdl1 = train_set_1.mean()['hdl1']\n",
    "train_set_1.loc[pd.isna(train_set_1['hdl1']),'hdl1'] = ave_hdl1\n",
    "\n",
    "ave_chol1 = train_set_1.mean()['chol1']\n",
    "train_set_1.loc[pd.isna(train_set_1['chol1']),'chol1'] = ave_chol1\n",
    "\n",
    "ave_sbp1c = train_set_1.mean()['sbp1c']\n",
    "train_set_1.loc[pd.isna(train_set_1['sbp1c']),'sbp1c'] = ave_sbp1c\n",
    "\n",
    "ave_fuptt = train_set_1.mean()['fuptt']\n",
    "train_set_1.loc[pd.isna(train_set_1['fuptt']),'fuptt'] = ave_fuptt\n",
    "\n",
    "\n",
    "train_set_1 = train_set_1.drop([\"race1c\"], axis = 1)\n",
    "print(train_set_1.count())\n",
    "\n",
    "\n",
    "#filling in the missing data in test set using the average value calculated in train set\n",
    "test_set_1['diabet1'] = test_set_1['diabet1'].replace(9,0)\n",
    "test_set_1['diabet1'] = test_set_1['diabet1'].fillna(value=0)\n",
    "\n",
    "test_set_1['cig1c'] = test_set_1['cig1c'].replace(2,1)\n",
    "test_set_1['cig1c'] = test_set_1['cig1c'].fillna(value=0)\n",
    "\n",
    "test_set_1.loc[pd.isna(test_set_1['hdl1']),'hdl1'] = ave_hdl1\n",
    "test_set_1.loc[pd.isna(test_set_1['chol1']),'chol1'] = ave_chol1\n",
    "test_set_1.loc[pd.isna(test_set_1['sbp1c']),'sbp1c'] = ave_sbp1c\n",
    "test_set_1.loc[pd.isna(test_set_1['fuptt']),'fuptt'] = ave_fuptt\n",
    "\n",
    "\n",
    "test_set_1 = test_set_1.drop([\"race1c\"], axis = 1)\n",
    "print(test_set_1.count())\n"
   ]
  },
  {
   "cell_type": "code",
   "execution_count": null,
   "id": "c2f82d91",
   "metadata": {},
   "outputs": [],
   "source": [
    "#add interaction term to the dataset\n",
    "train_set_1['gender_race'] = train_set_1['gender1']*train_set_1['race_2'] \n",
    "test_set_1['gender_race'] = test_set_1['gender1']*test_set_1['race_2'] \n",
    "print(train_set_1.count())\n",
    "print(test_set_1.count())"
   ]
  },
  {
   "cell_type": "code",
   "execution_count": null,
   "id": "f4a70445",
   "metadata": {},
   "outputs": [],
   "source": [
    "#standiazed\n",
    "\n",
    "scaler_index = scaler.fit(train_set_1[['age1c','chol1','hdl1','sbp1c','F3_PC2']],)\n",
    "scaler_index\n",
    "\n",
    "df_index_tr = train_set_1[['age1c','chol1','hdl1','sbp1c','F3_PC2']].index\n",
    "df_index_te = test_set_1[['age1c','chol1','hdl1','sbp1c','F3_PC2']].index\n",
    "df_cols = train_set_1[['age1c','chol1','hdl1','sbp1c','F3_PC2']].columns\n",
    "\n",
    "X_tr_con = scaler_index.transform(train_set_1[['age1c','chol1','hdl1','sbp1c','F3_PC2']], copy = True)\n",
    "X_tr_con = pd.DataFrame(X_tr_con, index=df_index_tr, columns=df_cols)\n",
    "X_te_con = scaler_index.transform(test_set_1[['age1c','chol1','hdl1','sbp1c','F3_PC2']], copy = True)\n",
    "X_te_con = pd.DataFrame(X_te_con, index=df_index_te, columns=df_cols)\n",
    "\n",
    "X_tr_cate = train_set_1.loc[:,~train_set_1.columns.isin(df_cols)]\n",
    "X_te_cate = test_set_1.loc[:,~test_set_1.columns.isin(df_cols)]\n",
    "X_train_scale = X_tr_cate.join(X_tr_con)\n",
    "X_test_scale = X_te_cate.join(X_te_con)"
   ]
  },
  {
   "cell_type": "code",
   "execution_count": null,
   "id": "700a83a2",
   "metadata": {},
   "outputs": [],
   "source": [
    "mesa_train_scale=pd.DataFrame(data=X_train_scale)\n",
    "mesa_train_scale.to_csv(\"mesa_preprocess_train.csv\",index=False,sep=',')\n",
    "mesa_test_scale=pd.DataFrame(data=X_test_scale)\n",
    "mesa_test_scale.to_csv(\"mesa_preprocess_test.csv\",index=False,sep=',')"
   ]
  },
  {
   "cell_type": "code",
   "execution_count": null,
   "id": "9fb07d70",
   "metadata": {},
   "outputs": [],
   "source": []
  },
  {
   "cell_type": "code",
   "execution_count": null,
   "id": "95271a3f",
   "metadata": {},
   "outputs": [],
   "source": []
  }
 ],
 "metadata": {
  "kernelspec": {
   "display_name": "Python 3",
   "language": "python",
   "name": "python3"
  },
  "language_info": {
   "codemirror_mode": {
    "name": "ipython",
    "version": 3
   },
   "file_extension": ".py",
   "mimetype": "text/x-python",
   "name": "python",
   "nbconvert_exporter": "python",
   "pygments_lexer": "ipython3",
   "version": "3.8.3"
  }
 },
 "nbformat": 4,
 "nbformat_minor": 5
}
