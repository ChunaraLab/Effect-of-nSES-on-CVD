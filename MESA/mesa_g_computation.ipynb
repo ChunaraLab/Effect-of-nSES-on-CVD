{
 "cells": [
  {
   "cell_type": "code",
   "execution_count": null,
   "id": "d0d01b11",
   "metadata": {},
   "outputs": [],
   "source": [
    "%matplotlib inline\n",
    "\n",
    "# Importing libraries \n",
    "import numpy as np\n",
    "import pandas as pd\n",
    "import statsmodels.api as sm\n",
    "import statsmodels.formula.api as smf\n",
    "import matplotlib\n",
    "import matplotlib.pyplot as plt\n",
    "\n",
    "\n",
    "np.random.seed(987)\n",
    "\n",
    "print(\"numpy      \", np.__version__)\n",
    "print(\"pandas     \", pd.__version__)\n",
    "print(\"statsmodels\", sm.__version__)\n",
    "print(\"matplotlib \", matplotlib.__version__)"
   ]
  },
  {
   "cell_type": "code",
   "execution_count": null,
   "id": "8a0f74e7",
   "metadata": {},
   "outputs": [],
   "source": [
    "def get_causal_effect(treatment, formula, data):\n",
    "    '''\n",
    "    Input: treatment - column_name\n",
    "           formula - Regression formula\n",
    "           data - dataframe\n",
    "    Output: ate - average causal effect\n",
    "    \n",
    "    The main idea is to have two separate models for those with treatment=1 and treatment =0\n",
    "    According to this we sample our data based on the treatment and fit two models\n",
    "    \n",
    "    We then predict the outcome for the entire data based on our fitted models and\n",
    "    then evaluate the expected difference in the outcome which is our causal effect.\n",
    "    '''\n",
    "    \n",
    "    f = sm.families.family.Binomial()\n",
    "    fm_a1 = smf.glm(formula, \n",
    "                    data.loc[data[treatment] == 1], family=f).fit()\n",
    "    print(fm_a1.summary())\n",
    "    fm_a0 = smf.glm(formula, \n",
    "                data.loc[data[treatment] == 0], family=f).fit()\n",
    "    \n",
    "    print(fm_a0.summary())\n",
    "    y_a1 = fm_a1.predict(data)\n",
    "    y_a0 = fm_a0.predict(data)\n",
    "    ate = np.mean(y_a1 - y_a0)\n",
    "    return ate"
   ]
  },
  {
   "cell_type": "code",
   "execution_count": null,
   "id": "35ef5894",
   "metadata": {},
   "outputs": [],
   "source": [
    "'''\n",
    "Bootstrapping to get confidence intervals for the causal effect\n",
    "'''\n",
    "def bootstrap_ci(treatment, formula, data, nb, ate):\n",
    "    ate_rs = []\n",
    "    for i in range(nb):  # Drawing nb bootstrapped samples, can simply start with 10 samples\n",
    "        d_star = data.sample(n=data.shape[0], # Same size as input data\n",
    "                             replace=True)  # Draw with replacement\n",
    "        f = sm.families.family.Binomial()\n",
    "        fm_a1 = smf.glm(formula, \n",
    "                        d_star.loc[d_star[treatment] == 1], family=f).fit()\n",
    "        fm_a0 = smf.glm(formula, \n",
    "                    d_star.loc[d_star[treatment] == 0], family=f).fit()\n",
    "        y_a1 = fm_a1.predict(d_star)\n",
    "        y_a0 = fm_a0.predict(d_star)\n",
    "        ate_rs.append(np.mean(y_a1 - y_a0))\n",
    "\n",
    "    print(\"95% Confidence limits for the ATE\")\n",
    "    ci_perc = np.percentile(ate_rs, q=[2.5, 97.5])\n",
    "    ate_se = np.std(ate_rs, ddof=1)\n",
    "    ci_approx = np.round([ate - 1.96*ate_se,\n",
    "                          ate + 1.96*ate_se],6)\n",
    "    return ci_perc, ci_approx"
   ]
  },
  {
   "cell_type": "code",
   "execution_count": null,
   "id": "df8583ad",
   "metadata": {},
   "outputs": [],
   "source": [
    "mesa=pd.read_csv(\"../../code/thesis_code/mesa_preprocess_entire.csv\")\n",
    "\n",
    "'''\n",
    "Select appropriate columns. If additional columns such as lifestyle changes or behaviors need to be added, update here.\n",
    "For now we can restrict to the columns used in case of logistic regression. \n",
    "'''\n",
    "data = mesa[['nSES','y','cig1c','diabet1','age1c','sbp1c','hdl1','chol1','gender1','race_2']].copy()\n",
    "data.head()"
   ]
  },
  {
   "cell_type": "code",
   "execution_count": null,
   "id": "6d7cc28b",
   "metadata": {},
   "outputs": [],
   "source": [
    "'''\n",
    "This formula is based on the columns selected above. Note that we do not include nSES here as data is subsampled based on nSES in the analysis.\n",
    "'''\n",
    "formula = \"y ~  age1c + sbp1c + hdl1 + chol1 + C(cig1c) + C(diabet1) + C(gender1) + C(race_2)\"\n",
    "treatment = 'nSES'"
   ]
  },
  {
   "cell_type": "markdown",
   "id": "326f4cd7",
   "metadata": {},
   "source": [
    "## Overall"
   ]
  },
  {
   "cell_type": "code",
   "execution_count": null,
   "id": "dc2cb297",
   "metadata": {},
   "outputs": [],
   "source": [
    "'''\n",
    "Here we obtain the causal effect.\n",
    "'''\n",
    "ate = get_causal_effect(treatment,formula,data)\n",
    "print(\"ATE\", np.round(ate, 10))"
   ]
  },
  {
   "cell_type": "code",
   "execution_count": null,
   "id": "6459dea8",
   "metadata": {},
   "outputs": [],
   "source": [
    "ci_perc, ci_approx = bootstrap_ci(treatment, formula, data, 1000, ate)\n",
    "print(\"Percentile method:   \", ci_perc)\n",
    "print(\"Normal approx method:\", ci_approx)"
   ]
  },
  {
   "cell_type": "markdown",
   "id": "47a4a8de",
   "metadata": {},
   "source": [
    "## Site 3"
   ]
  },
  {
   "cell_type": "code",
   "execution_count": null,
   "id": "85f15651",
   "metadata": {},
   "outputs": [],
   "source": [
    "select_exam_2 = mesa.loc[(mesa['site1c'] == 3)]\n",
    "data = select_exam_2[['nSES','y','cig1c','diabet1','age1c','sbp1c','hdl1','chol1','gender1','race_2']].copy()\n",
    "\n",
    "formula = \"y ~  age1c + sbp1c + hdl1 + chol1 + C(cig1c) + C(diabet1) + C(gender1) + C(race_2)\"\n",
    "treatment = 'nSES'\n",
    "\n",
    "'''\n",
    "Here we obtain the causal effect.\n",
    "'''\n",
    "ate3 = get_causal_effect(treatment,formula,data)\n",
    "print(\"ATE\", np.round(ate3, 10))"
   ]
  },
  {
   "cell_type": "code",
   "execution_count": null,
   "id": "dd9dab8d",
   "metadata": {},
   "outputs": [],
   "source": [
    "ci_perc_3, ci_approx_3 = bootstrap_ci(treatment, formula, data, 1000, ate3)\n",
    "print(\"Percentile method:   \", ci_perc_3)\n",
    "print(\"Normal approx method:\", ci_approx_3)"
   ]
  },
  {
   "cell_type": "markdown",
   "id": "ef1eea70",
   "metadata": {},
   "source": [
    "## Site 4"
   ]
  },
  {
   "cell_type": "code",
   "execution_count": null,
   "id": "1a77dc37",
   "metadata": {},
   "outputs": [],
   "source": [
    "select_exam_2 = mesa.loc[(mesa['site1c'] == 4)]\n",
    "data = select_exam_2[['nSES','y','cig1c','diabet1','age1c','sbp1c','hdl1','chol1','gender1','race_2']].copy()\n",
    "\n",
    "formula = \"y ~  age1c + sbp1c + hdl1 + chol1 + C(cig1c) + C(diabet1) + C(gender1) + C(race_2)\"\n",
    "treatment = 'nSES'\n",
    "\n",
    "'''\n",
    "Here we obtain the causal effect.\n",
    "'''\n",
    "ate4 = get_causal_effect(treatment,formula,data)\n",
    "print(\"ATE\", np.round(ate4, 10))"
   ]
  },
  {
   "cell_type": "code",
   "execution_count": null,
   "id": "e1a4dd3f",
   "metadata": {},
   "outputs": [],
   "source": [
    "ci_perc_4, ci_approx_4 = bootstrap_ci(treatment, formula, data, 1000, ate4)\n",
    "print(\"Percentile method:   \", ci_perc_4)\n",
    "print(\"Normal approx method:\", ci_approx_4)"
   ]
  },
  {
   "cell_type": "markdown",
   "id": "06b6f7b2",
   "metadata": {},
   "source": [
    "## Site 5"
   ]
  },
  {
   "cell_type": "code",
   "execution_count": null,
   "id": "647a9d36",
   "metadata": {},
   "outputs": [],
   "source": [
    "select_exam_2 = mesa.loc[(mesa['site1c'] == 5)]\n",
    "data = select_exam_2[['nSES','y','cig1c','diabet1','age1c','sbp1c','hdl1','chol1','gender1','race_2']].copy()\n",
    "\n",
    "formula = \"y ~  age1c + sbp1c + hdl1 + chol1 + C(cig1c) + C(diabet1) + C(gender1) + C(race_2)\"\n",
    "treatment = 'nSES'\n",
    "\n",
    "'''\n",
    "Here we obtain the causal effect.\n",
    "'''\n",
    "ate5 = get_causal_effect(treatment,formula,data)\n",
    "print(\"ATE\", np.round(ate5, 10))"
   ]
  },
  {
   "cell_type": "code",
   "execution_count": null,
   "id": "86310063",
   "metadata": {},
   "outputs": [],
   "source": [
    "ci_perc_5, ci_approx_5 = bootstrap_ci(treatment, formula, data, 1000, ate5)\n",
    "print(\"Percentile method:   \", ci_perc_5)\n",
    "print(\"Normal approx method:\", ci_approx_5)"
   ]
  },
  {
   "cell_type": "markdown",
   "id": "31982d3b",
   "metadata": {},
   "source": [
    "## Site 7"
   ]
  },
  {
   "cell_type": "code",
   "execution_count": null,
   "id": "9306e6e9",
   "metadata": {},
   "outputs": [],
   "source": [
    "select_exam_2 = mesa.loc[(mesa['site1c'] == 7)]\n",
    "data = select_exam_2[['nSES','y','cig1c','diabet1','age1c','sbp1c','hdl1','chol1','gender1','race_2']].copy()\n",
    "\n",
    "formula = \"y ~  age1c + sbp1c + hdl1 + chol1 + C(cig1c) + C(diabet1) + C(gender1) + C(race_2)\"\n",
    "treatment = 'nSES'\n",
    "\n",
    "'''\n",
    "Here we obtain the causal effect.\n",
    "'''\n",
    "ate7 = get_causal_effect(treatment,formula,data)\n",
    "print(\"ATE\", np.round(ate7, 10))"
   ]
  },
  {
   "cell_type": "code",
   "execution_count": null,
   "id": "2b14eb88",
   "metadata": {},
   "outputs": [],
   "source": [
    "ci_perc_7, ci_approx_7 = bootstrap_ci(treatment, formula, data, 1000, ate7)\n",
    "print(\"Percentile method:   \", ci_perc_7)\n",
    "print(\"Normal approx method:\", ci_approx_7)"
   ]
  },
  {
   "cell_type": "markdown",
   "id": "6a79b626",
   "metadata": {},
   "source": [
    "## Site 8"
   ]
  },
  {
   "cell_type": "code",
   "execution_count": null,
   "id": "2dcb02df",
   "metadata": {},
   "outputs": [],
   "source": [
    "select_exam_2 = mesa.loc[(mesa['site1c'] == 8)]\n",
    "data = select_exam_2[['nSES','y','cig1c','diabet1','age1c','sbp1c','hdl1','chol1','gender1','race_2']].copy()\n",
    "\n",
    "formula = \"y ~  age1c + sbp1c + hdl1 + chol1 + C(cig1c) + C(diabet1) + C(gender1) + C(race_2)\"\n",
    "treatment = 'nSES'\n",
    "\n",
    "'''\n",
    "Here we obtain the causal effect.\n",
    "'''\n",
    "ate8 = get_causal_effect(treatment,formula,data)\n",
    "print(\"ATE\", np.round(ate8, 10))"
   ]
  },
  {
   "cell_type": "code",
   "execution_count": null,
   "id": "31e69458",
   "metadata": {},
   "outputs": [],
   "source": [
    "ci_perc_8, ci_approx_8 = bootstrap_ci(treatment, formula, data, 1000, ate8)\n",
    "print(\"Percentile method:   \", ci_perc_8)\n",
    "print(\"Normal approx method:\", ci_approx_8)"
   ]
  },
  {
   "cell_type": "code",
   "execution_count": null,
   "id": "c35e4f80",
   "metadata": {},
   "outputs": [],
   "source": []
  }
 ],
 "metadata": {
  "kernelspec": {
   "display_name": "Python 3",
   "language": "python",
   "name": "python3"
  },
  "language_info": {
   "codemirror_mode": {
    "name": "ipython",
    "version": 3
   },
   "file_extension": ".py",
   "mimetype": "text/x-python",
   "name": "python",
   "nbconvert_exporter": "python",
   "pygments_lexer": "ipython3",
   "version": "3.8.3"
  }
 },
 "nbformat": 4,
 "nbformat_minor": 5
}
