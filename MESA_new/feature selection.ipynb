{
 "cells": [
  {
   "cell_type": "markdown",
   "id": "00c1f54d",
   "metadata": {},
   "source": [
    "## Prep"
   ]
  },
  {
   "cell_type": "code",
   "execution_count": null,
   "id": "b1288180",
   "metadata": {},
   "outputs": [],
   "source": [
    "import statsmodels.api as sm\n",
    "import pandas as pd\n",
    "from sklearn.model_selection import train_test_split\n",
    "from sklearn.ensemble import GradientBoostingClassifier\n",
    "import numpy as np\n",
    "\n",
    "import warnings\n",
    "warnings.filterwarnings('ignore')\n",
    "pd.options.display.max_columns = None"
   ]
  },
  {
   "cell_type": "code",
   "execution_count": null,
   "id": "0a036b23",
   "metadata": {},
   "outputs": [],
   "source": [
    "dat = pd.read_csv('../data_processed/Y_BaselineX_processed_full.csv')\n",
    "dat = dat.drop(columns=['idno','EXAM'])"
   ]
  },
  {
   "cell_type": "markdown",
   "id": "96156c81",
   "metadata": {},
   "source": [
    "### dummy coding"
   ]
  },
  {
   "cell_type": "code",
   "execution_count": null,
   "id": "5e698a5c",
   "metadata": {},
   "outputs": [],
   "source": [
    "cols_to_convert = ['F1_PC2','A_S1FAV','A_S1PAI','G_bla_rk',\n",
    "                   'chdiet','chphysact', 'income',\n",
    "                  'site','race','gender', 'cig', 'diabet','cural']\n",
    "\n",
    "dat = pd.get_dummies(dat, columns=cols_to_convert, drop_first=True)"
   ]
  },
  {
   "cell_type": "markdown",
   "id": "8ebc6b7e",
   "metadata": {},
   "source": [
    "### outcome "
   ]
  },
  {
   "cell_type": "code",
   "execution_count": null,
   "id": "1c9573de",
   "metadata": {},
   "outputs": [],
   "source": [
    "# check outcome distribution\n",
    "\n",
    "outcome_dis = dat[['idno','cvda', 'cvdatt']].copy()\n",
    "outcome_dis['10y'] = (outcome_dis['cvdatt'] < 3650).astype(int)\n",
    "outcome_dis['15y'] = (outcome_dis['cvdatt'] < 365*15).astype(int)\n",
    "\n",
    "print(\"y within 10 years =\",outcome_dis.loc[outcome_dis['10y'] == 1, 'cvda'].sum(),\"\\n\"\n",
    "     \"y within 15 years =\",outcome_dis.loc[outcome_dis['15y'] == 1, 'cvda'].sum(),\"\\n\"\n",
    "     \"tot Y (up to 18.5 yrs) =\",outcome_dis['cvda'].sum())"
   ]
  },
  {
   "cell_type": "code",
   "execution_count": null,
   "id": "099c58b9",
   "metadata": {},
   "outputs": [],
   "source": [
    "df_less_10 = outcome_dis[outcome_dis['cvdatt'] < 3650]\n",
    "df_between_10_and_15 = outcome_dis[(outcome_dis['cvdatt'] >= 3650) & (outcome_dis['cvdatt'] < 365 * 15)]\n",
    "df_greater_than_15 = outcome_dis[outcome_dis['cvdatt'] >= 365 * 15]\n",
    "print(\"df_10y has {} rows and {} rows w CVD outcome\\n\".format(df_less_10.shape[0], df_less_10['cvda'].sum()),\n",
    "     \"df_10to15y has {} rows and {} rows w CVD outcome\\n\".format(df_between_10_and_15.shape[0], \n",
    "                                                                 df_between_10_and_15['cvda'].sum()),\n",
    "    \"df_over_15y has {} rows and {} rows w CVD outcome\\n\".format(df_greater_than_15.shape[0], \n",
    "                                                                 df_greater_than_15['cvda'].sum()))\n"
   ]
  },
  {
   "cell_type": "code",
   "execution_count": null,
   "id": "841b2e9d",
   "metadata": {},
   "outputs": [],
   "source": [
    "# Y for dif periods\n",
    "\n",
    "dat_tot = dat.copy().drop(columns=['cvdatt'])\n",
    "\n",
    "dat_10y = dat.copy()\n",
    "dat_10y['event_10y'] = np.where((dat_10y['cvda'] == 1) & (dat_10y['cvdatt'] <= 3650), 1, 0)\n",
    "dat_10y = dat_10y.drop(columns = ['cvda','cvdatt'])\n",
    "\n",
    "dat_over_10y = dat.copy()\n",
    "dat_over_10y = dat_over_10y[dat_over_10y['cvdatt'] > 3650]\n",
    "dat_over_10y = dat_over_10y.rename(columns={'cvda': 'event_over_10y'})\n",
    "dat_over_10y = dat_over_10y.drop(columns = ['cvdatt'])"
   ]
  },
  {
   "cell_type": "code",
   "execution_count": null,
   "id": "3c4503e4",
   "metadata": {},
   "outputs": [],
   "source": []
  },
  {
   "cell_type": "markdown",
   "id": "7065f251",
   "metadata": {},
   "source": [
    "## Logit Stepwise"
   ]
  },
  {
   "cell_type": "code",
   "execution_count": null,
   "id": "233c46f2",
   "metadata": {},
   "outputs": [],
   "source": [
    "def forward_stepwise_selection_with_lock(X, Y, locked_features):\n",
    "    remaining_features = [col for col in X.columns if col not in selected_features]\n",
    "    \n",
    "    while remaining_features:\n",
    "        best_pvalue = 1.0\n",
    "        best_feature = None\n",
    "        \n",
    "        for feature in remaining_features:\n",
    "            model_features = selected_features + [feature]\n",
    "            X_subset = X[model_features]\n",
    "            X_subset = sm.add_constant(X_subset)  # Add a constant for intercept\n",
    "            model = sm.Logit(Y, X_subset).fit(disp=0)\n",
    "            p_value = model.pvalues[feature]\n",
    "            \n",
    "            if p_value < best_pvalue:\n",
    "                best_pvalue = p_value\n",
    "                best_feature = feature\n",
    "        \n",
    "        if best_pvalue < 0.2:  # set a significance level\n",
    "            selected_features.append(best_feature)\n",
    "            remaining_features.remove(best_feature)\n",
    "        else:\n",
    "            break\n",
    "    \n",
    "    return selected_features"
   ]
  },
  {
   "cell_type": "code",
   "execution_count": null,
   "id": "4839f739",
   "metadata": {},
   "outputs": [],
   "source": [
    "# specify model components\n",
    "# dat_tot - cvda; dat_10y - event_10y; dat_over_10y - event_over_10y\n",
    "\n",
    "## X\n",
    "X = dat_tot.drop(columns=['cvda']).columns.tolist()\n",
    "\n",
    "## Y\n",
    "\n",
    "Y = dat_tot['cvda']\n",
    "\n",
    "## locked_features\n",
    "column_names = dat_tot.columns.tolist()\n",
    "columns_to_drop = ['cvda',\n",
    "                   'F1_PC2_2.0','N_UNFAV_CT00_2.0', 'G_bla_rk_2.0',\n",
    "                  'F1_PC2_3.0','N_UNFAV_CT00_3.0', 'G_bla_rk_3.0',\n",
    "                  'F1_PC2_4.0','N_UNFAV_CT00_4.0', 'G_bla_rk_4.0']\n",
    "#locked_features = [col for col in column_names if col not in columns_to_drop]\n",
    "locked_features = []\n",
    "\n",
    "## Initialize an empty list to store selected features\n",
    "selected_features = locked_features.copy()"
   ]
  },
  {
   "cell_type": "code",
   "execution_count": null,
   "id": "1305cf29",
   "metadata": {
    "scrolled": true
   },
   "outputs": [],
   "source": [
    "selected_features = forward_stepwise_selection_with_lock(dat_tot[X], Y, locked_features)\n",
    "print(\"Selected features:\", selected_features)"
   ]
  },
  {
   "cell_type": "code",
   "execution_count": null,
   "id": "d1043bfc",
   "metadata": {},
   "outputs": [],
   "source": [
    "# check logit model result \n",
    "X_subset = dat_tot.drop(columns = ['cvda'])\n",
    "X_subset = sm.add_constant(X_subset)  # Add a constant for intercept\n",
    "model = sm.Logit(Y, X_subset).fit(disp=0)\n",
    "model.summary()"
   ]
  }
 ],
 "metadata": {
  "kernelspec": {
   "display_name": "Python 3",
   "language": "python",
   "name": "python3"
  },
  "language_info": {
   "codemirror_mode": {
    "name": "ipython",
    "version": 3
   },
   "file_extension": ".py",
   "mimetype": "text/x-python",
   "name": "python",
   "nbconvert_exporter": "python",
   "pygments_lexer": "ipython3",
   "version": "3.8.3"
  }
 },
 "nbformat": 4,
 "nbformat_minor": 5
}
