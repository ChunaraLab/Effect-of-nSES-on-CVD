{
 "cells": [
  {
   "cell_type": "markdown",
   "id": "89e4d05d",
   "metadata": {},
   "source": [
    "## Prep"
   ]
  },
  {
   "cell_type": "code",
   "execution_count": null,
   "id": "14cc968e",
   "metadata": {},
   "outputs": [],
   "source": [
    "import statsmodels.api as sm\n",
    "import pandas as pd\n",
    "from sklearn.model_selection import train_test_split\n",
    "from sklearn.ensemble import GradientBoostingClassifier\n",
    "\n",
    "import warnings\n",
    "warnings.filterwarnings('ignore')\n",
    "pd.options.display.max_columns = None"
   ]
  },
  {
   "cell_type": "code",
   "execution_count": null,
   "id": "9ec3c75a",
   "metadata": {},
   "outputs": [],
   "source": [
    "dat = pd.read_csv('../data_processed/Y_BaselineX_processed_full.csv')\n",
    "dat = dat.drop(columns=['idno','EXAM','cvdatt'])"
   ]
  },
  {
   "cell_type": "code",
   "execution_count": null,
   "id": "ded13a01",
   "metadata": {},
   "outputs": [],
   "source": [
    "# dummy coding\n",
    "\n",
    "cols_to_convert = ['F1_PC2','A_S1FAV','A_S1PAI','G_bla_rk',\n",
    "                   'chdiet','chphysact', 'income',\n",
    "                  'site','race','gender', 'cig', 'diabet','cural']\n",
    "\n",
    "dat = pd.get_dummies(dat, columns=cols_to_convert, drop_first=True)"
   ]
  },
  {
   "cell_type": "code",
   "execution_count": null,
   "id": "b0a23f4a",
   "metadata": {},
   "outputs": [],
   "source": []
  },
  {
   "cell_type": "markdown",
   "id": "7623f5c2",
   "metadata": {},
   "source": [
    "## Logit Stepwise"
   ]
  },
  {
   "cell_type": "code",
   "execution_count": null,
   "id": "f7ccd3e9",
   "metadata": {},
   "outputs": [],
   "source": [
    "def forward_stepwise_selection_with_lock(X, Y, locked_features):\n",
    "    remaining_features = [col for col in X.columns if col not in selected_features]\n",
    "    \n",
    "    while remaining_features:\n",
    "        best_pvalue = 1.0\n",
    "        best_feature = None\n",
    "        \n",
    "        for feature in remaining_features:\n",
    "            model_features = selected_features + [feature]\n",
    "            X_subset = X[model_features]\n",
    "            X_subset = sm.add_constant(X_subset)  # Add a constant for intercept\n",
    "            model = sm.Logit(Y, X_subset).fit(disp=0)\n",
    "            p_value = model.pvalues[feature]\n",
    "            \n",
    "            if p_value < best_pvalue:\n",
    "                best_pvalue = p_value\n",
    "                best_feature = feature\n",
    "        \n",
    "        if best_pvalue < 0.2:  # set a significance level\n",
    "            selected_features.append(best_feature)\n",
    "            remaining_features.remove(best_feature)\n",
    "        else:\n",
    "            break\n",
    "    \n",
    "    return selected_features"
   ]
  },
  {
   "cell_type": "code",
   "execution_count": null,
   "id": "2beab2af",
   "metadata": {},
   "outputs": [],
   "source": [
    "# specify model components\n",
    "# dat_tot - y_tot; dat_less_5y - y2; dat_over_5y - y3\n",
    "\n",
    "## X\n",
    "X = dat.drop(columns=['cvda']).columns.tolist()\n",
    "\n",
    "## Y\n",
    "\n",
    "Y = dat['cvda']\n",
    "\n",
    "## locked_features\n",
    "column_names = dat.columns.tolist()\n",
    "columns_to_drop = ['cvda',\n",
    "                   'F1_PC2_2.0','N_UNFAV_CT00_2.0', 'G_bla_rk_2.0',\n",
    "                  'F1_PC2_3.0','N_UNFAV_CT00_3.0', 'G_bla_rk_3.0',\n",
    "                  'F1_PC2_4.0','N_UNFAV_CT00_4.0', 'G_bla_rk_4.0']\n",
    "#locked_features = [col for col in column_names if col not in columns_to_drop]\n",
    "locked_features = []\n",
    "\n",
    "## Initialize an empty list to store selected features\n",
    "selected_features = locked_features.copy()"
   ]
  },
  {
   "cell_type": "code",
   "execution_count": null,
   "id": "1c5151c7",
   "metadata": {
    "scrolled": true
   },
   "outputs": [],
   "source": [
    "selected_features = forward_stepwise_selection_with_lock(dat[X], Y, locked_features)\n",
    "print(\"Selected features:\", selected_features)"
   ]
  },
  {
   "cell_type": "code",
   "execution_count": null,
   "id": "a7aaac41",
   "metadata": {},
   "outputs": [],
   "source": [
    "# check logit model result \n",
    "X_subset = dat.drop(columns = ['cvda'])\n",
    "X_subset = sm.add_constant(X_subset)  # Add a constant for intercept\n",
    "model = sm.Logit(Y, X_subset).fit(disp=0)\n",
    "model.summary()"
   ]
  }
 ],
 "metadata": {
  "kernelspec": {
   "display_name": "Python 3",
   "language": "python",
   "name": "python3"
  },
  "language_info": {
   "codemirror_mode": {
    "name": "ipython",
    "version": 3
   },
   "file_extension": ".py",
   "mimetype": "text/x-python",
   "name": "python",
   "nbconvert_exporter": "python",
   "pygments_lexer": "ipython3",
   "version": "3.8.3"
  }
 },
 "nbformat": 4,
 "nbformat_minor": 5
}
