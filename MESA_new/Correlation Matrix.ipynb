{
 "cells": [
  {
   "cell_type": "markdown",
   "id": "3c9afaef",
   "metadata": {},
   "source": [
    "## Prep"
   ]
  },
  {
   "cell_type": "code",
   "execution_count": null,
   "id": "b2148a2d",
   "metadata": {},
   "outputs": [],
   "source": [
    "import pandas as pd\n",
    "from collections import defaultdict\n",
    "import matplotlib.pyplot as plt\n",
    "import numpy as np\n",
    "import os\n",
    "from sklearn.preprocessing import StandardScaler\n",
    "import warnings\n",
    "import seaborn as sns\n",
    "from scipy.stats import pearsonr\n",
    "\n",
    "\n",
    "warnings.filterwarnings('ignore')\n",
    "pd.options.display.max_columns = None\n",
    "pd.options.display.max_rows = None"
   ]
  },
  {
   "cell_type": "code",
   "execution_count": null,
   "id": "2ae2a906",
   "metadata": {},
   "outputs": [],
   "source": [
    "dat = pd.read_csv(\"../data_processed/Y_BaselineX_processed_full.csv\")"
   ]
  },
  {
   "cell_type": "code",
   "execution_count": null,
   "id": "72e4eb0b",
   "metadata": {},
   "outputs": [],
   "source": [
    "# rename variables\n",
    "\n",
    "dat_plt = dat[['cvda', 'F1_PC2', 'A_S1FAV', 'A_S1PAI', 'G_bla_rk', \n",
    "               'chdiet', 'chphysact','income',\n",
    "              'site', 'race']]\n",
    "dat_plt = dat_plt.rename(columns = {'cvda': 'Y  ', \n",
    "                                    'F1_PC2': 'Nb SES',\n",
    "                                    'A_S1FAV': 'Nb unf food store', \n",
    "                                    'A_S1PAI': 'Nb phys act fac', \n",
    "                                    'G_bla_rk': 'Nb rac seg (Black)', \n",
    "                                    'chdiet': 'Ind nut categ', \n",
    "                                    'chphysact': 'Ind phys act categ',\n",
    "                                   'income': 'Family income'})"
   ]
  },
  {
   "cell_type": "markdown",
   "id": "b0271ab2",
   "metadata": {},
   "source": [
    "## Plot"
   ]
  },
  {
   "cell_type": "code",
   "execution_count": null,
   "id": "767ebde2",
   "metadata": {},
   "outputs": [],
   "source": [
    "df_ordinal = dat_plt.astype(int)\n",
    "df_ordinal.dtypes"
   ]
  },
  {
   "cell_type": "code",
   "execution_count": null,
   "id": "2edb1650",
   "metadata": {},
   "outputs": [],
   "source": [
    "corr_matrix = dat_plt.corr(method='spearman')\n",
    "plt.figure(figsize=(8, 6))\n",
    "sns.heatmap(corr_matrix, annot=True, cmap='coolwarm', fmt=\".2f\", linewidths=0.5)\n",
    "plt.title(\"Spearman's Rank-Order Correlation Matrix\")\n",
    "plt.show()"
   ]
  },
  {
   "cell_type": "code",
   "execution_count": null,
   "id": "b69c4678",
   "metadata": {},
   "outputs": [],
   "source": [
    "correlation_matrix = dat_plt.corr(method='spearman')\n",
    "p_values = pd.DataFrame(index=dat_plt.columns, columns=dat_plt.columns, dtype=float)\n",
    "\n",
    "for col1 in dat_plt.columns:\n",
    "    for col2 in dat_plt.columns:\n",
    "        if col1 != col2:\n",
    "            r, p = pearsonr(dat_plt[col1], dat_plt[col2])\n",
    "            p_values.loc[col1, col2] = p\n",
    "\n",
    "# Create a heatmap of the correlation matrix\n",
    "plt.figure(figsize=(80, 60))\n",
    "sns.set(font_scale=14)  # Adjust font size for better visibility\n",
    "sns.heatmap(correlation_matrix, annot=False, fmt=\".2f\", cmap=\"Greens\", cbar=True,\n",
    "            xticklabels=correlation_matrix.columns, yticklabels=correlation_matrix.columns)\n",
    "\n",
    "# Annotate the heatmap with p-values\n",
    "for i in range(len(correlation_matrix.columns)):\n",
    "    for j in range(len(correlation_matrix.columns)):\n",
    "        if i != j:\n",
    "            if p_values.iloc[i, j] < 0.05:\n",
    "                text = f\"*\"  \n",
    "            else:\n",
    "                text = f\"\" #p={p_values.iloc[i, j]:.2f}\n",
    "                \n",
    "            plt.text(j + 0.5, i + 0.5, text, ha=\"center\", va=\"center\", fontsize=115)\n",
    "\n",
    "plt.show()\n"
   ]
  }
 ],
 "metadata": {
  "kernelspec": {
   "display_name": "Python 3",
   "language": "python",
   "name": "python3"
  },
  "language_info": {
   "codemirror_mode": {
    "name": "ipython",
    "version": 3
   },
   "file_extension": ".py",
   "mimetype": "text/x-python",
   "name": "python",
   "nbconvert_exporter": "python",
   "pygments_lexer": "ipython3",
   "version": "3.8.3"
  }
 },
 "nbformat": 4,
 "nbformat_minor": 5
}
