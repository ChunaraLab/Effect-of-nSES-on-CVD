{
 "cells": [
  {
   "cell_type": "code",
   "execution_count": null,
   "id": "a577dccf",
   "metadata": {},
   "outputs": [],
   "source": [
    "import numpy as np\n",
    "import pandas as pd\n",
    "\n",
    "pd.options.display.max_rows = 100\n",
    "pd.options.display.max_columns = None"
   ]
  },
  {
   "cell_type": "markdown",
   "id": "37966060",
   "metadata": {},
   "source": [
    "## Read in data"
   ]
  },
  {
   "cell_type": "markdown",
   "id": "14294e8d",
   "metadata": {},
   "source": [
    "### outcome (short)"
   ]
  },
  {
   "cell_type": "code",
   "execution_count": null,
   "id": "114cdf14",
   "metadata": {},
   "outputs": [],
   "source": [
    "outcome = pd.read_csv('../data/outcomes/event.csv')\n",
    "outcome = outcome[['idno','cvda', 'cvdatt']]"
   ]
  },
  {
   "cell_type": "markdown",
   "id": "27853e63",
   "metadata": {},
   "source": [
    "### nb features (long)"
   ]
  },
  {
   "cell_type": "code",
   "execution_count": null,
   "id": "84089312",
   "metadata": {
    "scrolled": true
   },
   "outputs": [],
   "source": [
    "## nSES \n",
    "nSES = pd.read_csv('../data/neighborhood_data/neighborhood_census_tract_SES.csv')\n",
    "nSES = nSES[['idno', 'EXAM', 'F1_PC2']]\n",
    "\n",
    "## G_bla_rk'\n",
    "rs = pd.read_csv('../data/neighborhood_data/neighborhood_racial_seg.csv')\n",
    "rs = rs[['idno', 'EXAM', 'G_bla_rk']]\n",
    "\n",
    "## 'A_S1FAV', 'A_S1PAI'\n",
    "nb_env = pd.read_csv('../data/neighborhood_data/neighborhood_builtenv.csv')   ## error in first few rows\n",
    "nb_env = nb_env[['idno', 'EXAM','A_S1FAV', 'A_S1PAI']]\n",
    "\n",
    "\n",
    "## merge\n",
    "nb_feature = pd.merge(nSES, rs, on=[\"idno\", \"EXAM\"], how=\"inner\")\n",
    "nb_feature = pd.merge(nb_feature, nb_env, on=[\"idno\", \"EXAM\"], how=\"inner\")\n"
   ]
  },
  {
   "cell_type": "markdown",
   "id": "c4f2ccb3",
   "metadata": {},
   "source": [
    "### ind exposures and covariates "
   ]
  },
  {
   "cell_type": "code",
   "execution_count": null,
   "id": "26d080d3",
   "metadata": {
    "scrolled": true
   },
   "outputs": [],
   "source": [
    "v1 = pd.read_csv('../data/exam_1/final_label_1.csv')\n",
    "v1 = v1[['idno','site1c',\n",
    "        'income1', 'chdiet1c', 'chphysact1c',\n",
    "        'age1c', 'race1c', 'gender1', 'cig1c', 'curalc1', 'diabet1', 'hdl1','chol1','sbp1c']]\n",
    "v1['EXAM'] = 1.0\n",
    "\n",
    "v1.rename(columns={'site1c':'site','income1': 'income', 'chdiet1c': 'chdiet', 'chphysact1c':'chphysact',\n",
    "                   'age1c':'age', 'race1c':'race', 'gender1':'gender', 'cig1c':'cig', \n",
    "                   'curalc1':'cural', 'diabet1':'diabet', 'hdl1':'hdl','chol1':'chol','sbp1c':'sbp'}, \n",
    "          inplace=True)"
   ]
  },
  {
   "cell_type": "code",
   "execution_count": null,
   "id": "77b5184d",
   "metadata": {},
   "outputs": [],
   "source": [
    "v2 = pd.read_csv('../data/exam_2/final_label_2.csv')\n",
    "v2 = v2[['idno','site1c',\n",
    "        'income2', \n",
    "        'age2c',  'race1c', 'gender1','cig2c', 'curalc2', 'hdl2','chol2','sbp2c']]\n",
    "v2['EXAM'] = 2.0\n",
    "\n",
    "v2.rename(columns={'site1c':'site', 'income2': 'income', \n",
    "                   'age2c':'age', 'race1c':'race', 'gender1':'gender', 'cig2c':'cig', \n",
    "                   'curalc2':'cural', 'hdl2':'hdl','chol2':'chol','sbp2c':'sbp'}, \n",
    "          inplace=True)\n",
    "\n",
    "v2 = v2.assign(chphysact=np.nan, chdiet=np.nan)"
   ]
  },
  {
   "cell_type": "code",
   "execution_count": null,
   "id": "8c6fd4e0",
   "metadata": {},
   "outputs": [],
   "source": [
    "v3 = pd.read_csv('../data/exam_3/final_label_3.csv')\n",
    "v3 = v3[['idno','site3c',\n",
    "        'income3',\n",
    "        'age3c', 'race1c', 'gender1','cig3c', 'curalc3','hdl3','chol3','sbp3c']]\n",
    "v3['EXAM'] = 3.0\n",
    "\n",
    "v3.rename(columns={'site3c':'site', 'income3': 'income', \n",
    "                   'age3c':'age', 'race1c':'race', 'gender1':'gender', 'cig3c':'cig', \n",
    "                   'curalc3':'cural', 'hdl3':'hdl','chol3':'chol','sbp3c':'sbp'}, \n",
    "          inplace=True)\n",
    "\n",
    "v3 = v3.assign(chphysact=np.nan, chdiet=np.nan)"
   ]
  },
  {
   "cell_type": "code",
   "execution_count": null,
   "id": "13426a71",
   "metadata": {},
   "outputs": [],
   "source": [
    "v4 = pd.read_csv('../data/exam_4/final_label_4.csv')\n",
    "v4 = v4[['idno','site4c',\n",
    "        'age4c', 'race1c', 'gender1','cig4c', 'curalc4','hdl4','chol4','sbp4c']]\n",
    "v4['EXAM'] = 4.0\n",
    "\n",
    "v4.rename(columns={'site4c':'site', \n",
    "                   'age4c':'age', 'race1c':'race', 'gender1':'gender', 'cig4c':'cig', \n",
    "                   'curalc4':'cural', 'hdl4':'hdl','chol4':'chol','sbp4c':'sbp'}, \n",
    "          inplace=True)\n",
    "\n",
    "v4 = v4.assign(income=np.nan, chphysact=np.nan, chdiet=np.nan)"
   ]
  },
  {
   "cell_type": "code",
   "execution_count": null,
   "id": "e50d32f3",
   "metadata": {},
   "outputs": [],
   "source": [
    "v5 = pd.read_csv('../data/exam_5/final_label_5.csv')\n",
    "v5 = v5[['idno','site5c',\n",
    "        'income5',\n",
    "        'age5c', 'race1c', 'gender1','cig5c', 'curalc5','hdl5','chol5','sbp5c']]\n",
    "v5['EXAM'] = 5.0\n",
    "\n",
    "v5.rename(columns={'site5c':'site', 'income5': 'income', \n",
    "                   'age5c':'age', 'race1c':'race', 'gender1':'gender', 'cig5c':'cig', \n",
    "                   'curalc5':'cural', 'hdl5':'hdl','chol5':'chol','sbp5c':'sbp'}, \n",
    "          inplace=True)\n",
    "\n",
    "v5 = v5.assign(chphysact=np.nan, chdiet=np.nan)"
   ]
  },
  {
   "cell_type": "code",
   "execution_count": null,
   "id": "ef4482c8",
   "metadata": {},
   "outputs": [],
   "source": [
    "# merge data\n",
    "covar_merged = pd.concat([v1, v2, v3,v4,v5], ignore_index=True)"
   ]
  },
  {
   "cell_type": "markdown",
   "id": "83b83a34",
   "metadata": {},
   "source": [
    "### Merge "
   ]
  },
  {
   "cell_type": "code",
   "execution_count": null,
   "id": "18a4012b",
   "metadata": {},
   "outputs": [],
   "source": [
    "# covariates for all 5 visits\n",
    "merged_x = nb_feature.merge(covar_merged, how='left', on=['idno','EXAM'])  ## long\n",
    "merged_x.to_csv('../data_processed/covariate_raw_common.csv', index = False)"
   ]
  },
  {
   "cell_type": "code",
   "execution_count": null,
   "id": "de43d207",
   "metadata": {},
   "outputs": [],
   "source": [
    "# Y + baseline X\n",
    "\n",
    "covar = nb_feature[nb_feature['EXAM']==1].merge(v1, how='left', on=['idno','EXAM'])  \n",
    "merged = covar.merge(outcome, how='left', on=['idno']) \n",
    "merged.to_csv('../data_processed/Y_BaselineX_raw_full.csv', index = False)"
   ]
  },
  {
   "cell_type": "code",
   "execution_count": null,
   "id": "3f7d8354",
   "metadata": {},
   "outputs": [],
   "source": []
  },
  {
   "cell_type": "markdown",
   "id": "de6f69a6",
   "metadata": {},
   "source": [
    "## Preprocess"
   ]
  },
  {
   "cell_type": "code",
   "execution_count": null,
   "id": "e05f22fb",
   "metadata": {},
   "outputs": [],
   "source": [
    "# covariates with no missing values:\n",
    "# A_S1FAV, A_S1PAI, site, age, race, gender"
   ]
  },
  {
   "cell_type": "markdown",
   "id": "f46e570f",
   "metadata": {},
   "source": [
    "### pipeline"
   ]
  },
  {
   "cell_type": "code",
   "execution_count": null,
   "id": "54d8540d",
   "metadata": {},
   "outputs": [],
   "source": [
    "def fillna_cat(df,cat_feat):\n",
    "    for feat in cat_feat:\n",
    "        df[feat].fillna(df[feat].mode()[0], inplace=True)\n",
    "    return df\n",
    "\n",
    "def fillna_cont(df,cont_feat):\n",
    "    df= df.fillna((df[cont_feat].mean()))\n",
    "    return df\n",
    "\n",
    "\n",
    "def quantile_exp(df,con_exp_feat):\n",
    "    for feat in con_exp_feat:\n",
    "        df[feat] = df[feat].transform(lambda x: pd.qcut(x.rank(method='first'), \n",
    "                                                         q = [0, 0.25, 0.5, 0.75, 1], labels = [1,2,3,4]))\n",
    "        df[feat] = pd.to_numeric(df[feat])\n",
    "    return df\n",
    "\n",
    "def standardize(df,con_index):\n",
    "    scaler = StandardScaler()\n",
    "    scaler.fit(df[con_index],) \n",
    "    df[con_index] = scaler.transform(df[con_index], copy = True)\n",
    "    return df\n",
    "\n",
    "\n",
    "\n",
    "## complete pipeline\n",
    "\n",
    "def process(df,cont_feat,cat_feat,con_exp_feat):\n",
    "    df = get_outcome(df)\n",
    "    \n",
    "    df = fillna_cat(df,cat_feat)\n",
    "    \n",
    "    df = fillna_cont(df,cont_feat)\n",
    "    df = standardize(df,cont_feat)\n",
    "        \n",
    "    df = fillna_cont(df,con_exp_feat)\n",
    "    df = quantile_exp(df,con_exp_feat)\n",
    "    \n",
    "    return df"
   ]
  },
  {
   "cell_type": "markdown",
   "id": "1f2e35bb",
   "metadata": {},
   "source": [
    "### preprocess by exam"
   ]
  }
 ],
 "metadata": {
  "kernelspec": {
   "display_name": "Python 3",
   "language": "python",
   "name": "python3"
  },
  "language_info": {
   "codemirror_mode": {
    "name": "ipython",
    "version": 3
   },
   "file_extension": ".py",
   "mimetype": "text/x-python",
   "name": "python",
   "nbconvert_exporter": "python",
   "pygments_lexer": "ipython3",
   "version": "3.8.3"
  }
 },
 "nbformat": 4,
 "nbformat_minor": 5
}
