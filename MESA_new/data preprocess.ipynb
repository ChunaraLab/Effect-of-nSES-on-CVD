{
 "cells": [
  {
   "cell_type": "markdown",
   "id": "4fb57021",
   "metadata": {},
   "source": [
    "## Prep"
   ]
  },
  {
   "cell_type": "code",
   "execution_count": null,
   "id": "f68f54ae",
   "metadata": {},
   "outputs": [],
   "source": [
    "import numpy as np\n",
    "import pandas as pd\n",
    "\n",
    "pd.options.display.max_rows = 100"
   ]
  },
  {
   "cell_type": "markdown",
   "id": "d01dc364",
   "metadata": {},
   "source": [
    "### Read in data"
   ]
  },
  {
   "cell_type": "code",
   "execution_count": null,
   "id": "161c9456",
   "metadata": {},
   "outputs": [],
   "source": [
    "# outcome (short)\n",
    "\n",
    "outcome = pd.read_csv('../data/outcomes/event.csv')\n",
    "outcome = outcome[['idno','cvda', 'cvdatt']]"
   ]
  },
  {
   "cell_type": "code",
   "execution_count": null,
   "id": "0767c4da",
   "metadata": {
    "scrolled": true
   },
   "outputs": [],
   "source": [
    "# nb features (long)\n",
    "\n",
    "## nSES (common dataset)\n",
    "nSES = pd.read_csv('../data/neighborhood_data/common_neighborhood_data.csv')\n",
    "nSES = nSES[['idno', 'EXAM', 'F1_PC2']]\n",
    "\n",
    "## G_bla_rk'\n",
    "rs = pd.read_csv('../data/neighborhood_data/neighborhood_racial_seg.csv')\n",
    "rs = rs[['idno', 'EXAM', 'G_bla_rk']]\n",
    "\n",
    "## 'A_S1FAV', 'A_S1PAI'\n",
    "nb_env = pd.read_csv('../data/neighborhood_data/neighborhood_builtenv.csv')   ## error in first few rows\n",
    "nb_env = nb_env[['idno', 'EXAM','A_S1FAV', 'A_S1PAI']]\n",
    "\n",
    "\n",
    "## merge\n",
    "nb_feature = pd.merge(nSES, rs, on=[\"idno\", \"EXAM\"], how=\"inner\")\n",
    "nb_feature = pd.merge(nb_feature, nb_env, on=[\"idno\", \"EXAM\"], how=\"inner\")"
   ]
  },
  {
   "cell_type": "code",
   "execution_count": null,
   "id": "c542c69a",
   "metadata": {},
   "outputs": [],
   "source": [
    "# ind exposures and covariates "
   ]
  },
  {
   "cell_type": "code",
   "execution_count": null,
   "id": "0e83ccf9",
   "metadata": {
    "scrolled": true
   },
   "outputs": [],
   "source": [
    "v1 = pd.read_csv('../data/exam_1/final_label_1.csv')\n",
    "v1 = v1[['idno',\n",
    "        'income1', 'chdiet1c', 'chphysact1c',\n",
    "        'age1c', 'race1c', 'gender1', 'cig1c', 'curalc1', 'diabet1', 'hdl1','chol1','sbp1c']]\n",
    "v1['EXAM'] = 1.0"
   ]
  },
  {
   "cell_type": "code",
   "execution_count": null,
   "id": "0b3d134c",
   "metadata": {},
   "outputs": [],
   "source": [
    "v2 = pd.read_csv('../data/exam_2/final_label_2.csv')\n",
    "v2 = v2[['idno',\n",
    "        'income2', 'chdiet2c', 'chphysact2c',\n",
    "        'age2c', 'race2c', 'cig2c', 'curalc2', 'diabet2', 'hdl2','chol2','sbp2c']]\n",
    "v2['EXAM'] = 2.0"
   ]
  },
  {
   "cell_type": "code",
   "execution_count": null,
   "id": "5137aaec",
   "metadata": {},
   "outputs": [],
   "source": [
    "# merge data\n",
    "\n"
   ]
  }
 ],
 "metadata": {
  "kernelspec": {
   "display_name": "Python 3",
   "language": "python",
   "name": "python3"
  },
  "language_info": {
   "codemirror_mode": {
    "name": "ipython",
    "version": 3
   },
   "file_extension": ".py",
   "mimetype": "text/x-python",
   "name": "python",
   "nbconvert_exporter": "python",
   "pygments_lexer": "ipython3",
   "version": "3.8.3"
  }
 },
 "nbformat": 4,
 "nbformat_minor": 5
}
